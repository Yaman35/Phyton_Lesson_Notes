{
  "nbformat": 4,
  "nbformat_minor": 0,
  "metadata": {
    "colab": {
      "name": "Phyton-5.ipynb",
      "provenance": [],
      "collapsed_sections": []
    },
    "kernelspec": {
      "name": "python3",
      "display_name": "Python 3"
    },
    "language_info": {
      "name": "python"
    }
  },
  "cells": [
    {
      "cell_type": "markdown",
      "metadata": {
        "id": "Zjn-0gGugXbs"
      },
      "source": [
        "**Negative Indexing & Slicing in Lists**"
      ]
    },
    {
      "cell_type": "code",
      "metadata": {
        "colab": {
          "base_uri": "https://localhost:8080/"
        },
        "id": "oTYwTIYQYy8x",
        "outputId": "23052320-1305-4440-8b47-ff5c9a6cdfbe"
      },
      "source": [
        "city = ['New York', 'London', 'Istanbul', 'Seoul', 'Sydney']\n",
        "print(city[-4]) # Negatif indexlemede -1 den başlar, hatırlayacak olursak pozitif indexlemede 0 dan başlıyordu"
      ],
      "execution_count": null,
      "outputs": [
        {
          "output_type": "stream",
          "text": [
            "London\n"
          ],
          "name": "stdout"
        }
      ]
    },
    {
      "cell_type": "code",
      "metadata": {
        "colab": {
          "base_uri": "https://localhost:8080/"
        },
        "id": "q8mn4oQmZPNF",
        "outputId": "15215f3c-7d01-4929-cb0d-df62fd0b3c25"
      },
      "source": [
        "reef = ['swordfish', 'shark', 'whale', 'jellyfish', 'lobster', 'squid', 'octopus']\n",
        "print(reef[-3:]) # index[-3] ve sonrasını yazdır demektir"
      ],
      "execution_count": null,
      "outputs": [
        {
          "output_type": "stream",
          "text": [
            "['lobster', 'squid', 'octopus']\n"
          ],
          "name": "stdout"
        }
      ]
    },
    {
      "cell_type": "code",
      "metadata": {
        "colab": {
          "base_uri": "https://localhost:8080/"
        },
        "id": "FdUtPsv-ZTj0",
        "outputId": "28ea064e-a566-40f4-81d6-6c307bbe5019"
      },
      "source": [
        "reef = ['swordfish', 'shark', 'whale', 'jellyfish', 'lobster', 'squid', 'octopus']\n",
        "print(reef[:-3]) # index[-3] e kadar olanları baştan başlayarak yazdır demektir, index[-3] dahil değil !"
      ],
      "execution_count": null,
      "outputs": [
        {
          "output_type": "stream",
          "text": [
            "['swordfish', 'shark', 'whale', 'jellyfish']\n"
          ],
          "name": "stdout"
        }
      ]
    },
    {
      "cell_type": "code",
      "metadata": {
        "colab": {
          "base_uri": "https://localhost:8080/"
        },
        "id": "lkOg8K-nZYbN",
        "outputId": "78f66b0a-8535-4abe-f2bb-f409ac7abb51"
      },
      "source": [
        "reef = ['swordfish', 'shark', 'whale', 'jellyfish', 'lobster', 'squid', 'octopus']\n",
        "print(reef[::-1])  # Step \"-\" olduğundan sondan başlayarak sola doğru 1 er atlayarak git demektir, aslında o da listeleri tersten yazdırma anlamına gelir"
      ],
      "execution_count": null,
      "outputs": [
        {
          "output_type": "stream",
          "text": [
            "['octopus', 'squid', 'lobster', 'jellyfish', 'whale', 'shark', 'swordfish']\n"
          ],
          "name": "stdout"
        }
      ]
    },
    {
      "cell_type": "code",
      "metadata": {
        "colab": {
          "base_uri": "https://localhost:8080/"
        },
        "id": "u-Pg-PzqZa9j",
        "outputId": "52f17081-5115-469a-8582-bb5bb79cf78c"
      },
      "source": [
        "reef = ['swordfish', 'shark', 'whale', 'jellyfish', 'lobster', 'squid', 'octopus']\n",
        "print(reef[::-2]) # Step \"-\" olduğundan sondan başlayarak sola doğru 2 şer atlayarak git demektir"
      ],
      "execution_count": null,
      "outputs": [
        {
          "output_type": "stream",
          "text": [
            "['octopus', 'lobster', 'whale', 'swordfish']\n"
          ],
          "name": "stdout"
        }
      ]
    },
    {
      "cell_type": "code",
      "metadata": {
        "colab": {
          "base_uri": "https://localhost:8080/"
        },
        "id": "UwuaqHAsZdsq",
        "outputId": "5f3e9976-8f32-47ed-be08-6d5ba173fede"
      },
      "source": [
        "odd_no = [1, 2, 3, 4, 5, 6, 7, 8, 9, 10]\n",
        "\n",
        "print(odd_no[7:3:-1]) # Step - olduğundan index[7] den başlayarak sola doğru 1 er atlayarak index[3] e kadar yazdır demektir, index[3] dahil değil !\n",
        "print(odd_no[2:6:-1]) # Step - olduğundan index[2] den başlayarak sola doğru 1 er atlayarak yazdır demektir, lakin index[2] nin soluna doğru gidildiğinde index[6] olmadığı için bu şekilde boş liste verir"
      ],
      "execution_count": null,
      "outputs": [
        {
          "output_type": "stream",
          "text": [
            "[8, 7, 6, 5]\n",
            "[]\n"
          ],
          "name": "stdout"
        }
      ]
    },
    {
      "cell_type": "code",
      "metadata": {
        "colab": {
          "base_uri": "https://localhost:8080/"
        },
        "id": "xNriOlPzYZoR",
        "outputId": "d7382a36-3970-483d-d423-dbcb855c681f"
      },
      "source": [
        "harfler = \"a b c d e f g h i j\".split() # split fonksiyonu ile kolayca liste yapabiliriz, içerisindeki karaktere göre böler \n",
        "print(harfler) # Aslında burada boşluklardan ayırarak liste yaptı\n",
        "\n",
        "harfler = \"a,b,c,d,e,f,g,h,i,j\".split(\",\") # split fonksiyonu ile kolayca liste yapabiliriz, içerisindeki karaktere göre böler \n",
        "print(harfler) # Aslında burada da virgüllerden ayırarak liste yaptı, fakat her ikisinin çıktısı da aynı olur çünkü listede elemanlar virgüllerle ayrılır"
      ],
      "execution_count": null,
      "outputs": [
        {
          "output_type": "stream",
          "text": [
            "['a', 'b', 'c', 'd', 'e', 'f', 'g', 'h', 'i', 'j']\n",
            "['a', 'b', 'c', 'd', 'e', 'f', 'g', 'h', 'i', 'j']\n"
          ],
          "name": "stdout"
        }
      ]
    },
    {
      "cell_type": "code",
      "metadata": {
        "colab": {
          "base_uri": "https://localhost:8080/"
        },
        "id": "2pLsB3Mfanf-",
        "outputId": "2d58df5d-a5e1-438d-a563-572079b9f493"
      },
      "source": [
        "names = [\"ahmet\", \"mehmet\", \"hasan\", \"hüseyin\"]\n",
        "result = sorted(names) # sorted() fonksiyonu alfabetik sıralamaya göre sıralar\n",
        "print(result)\n"
      ],
      "execution_count": null,
      "outputs": [
        {
          "output_type": "stream",
          "text": [
            "['ahmet', 'hasan', 'hüseyin', 'mehmet']\n"
          ],
          "name": "stdout"
        }
      ]
    },
    {
      "cell_type": "code",
      "metadata": {
        "colab": {
          "base_uri": "https://localhost:8080/"
        },
        "id": "uxkUiFM8bPu3",
        "outputId": "2b49fd8e-57e8-4067-aae3-233a07dae456"
      },
      "source": [
        "cities = [\"Addis Ababa\", \"Tokyo\", \"Rome\", \"İstanbul\", \"Rio\"]\n",
        "print(sorted(cities)) # Alfabetik sıraya göre sıraladık\n",
        "print(sorted(cities, key=len)) # Şehirlerin uzunluklarına göre sıraladık.(ör: sorted()) üzerine gelince gözükür fonkiyonların parametreleri)\n",
        "                               # key parameteresine yazılacak olan fonksiyonun işlevine göre sıralar, burada len() fonksiyonu kullanıldı\n",
        "print(sorted(cities, key=len, reverse=True)) # Burada da sorted() fonksiyon parametrelerinden reverse default olarak False gelir onu True yaparak listeyi tersten yazdırabildik\n",
        "print(cities) # Görüleceği üzere orjinal liste aynı kaldı "
      ],
      "execution_count": null,
      "outputs": [
        {
          "output_type": "stream",
          "text": [
            "['Addis Ababa', 'Rio', 'Rome', 'Tokyo', 'İstanbul']\n",
            "['Rio', 'Rome', 'Tokyo', 'İstanbul', 'Addis Ababa']\n",
            "['Addis Ababa', 'İstanbul', 'Tokyo', 'Rome', 'Rio']\n",
            "['Addis Ababa', 'Tokyo', 'Rome', 'İstanbul', 'Rio']\n"
          ],
          "name": "stdout"
        }
      ]
    },
    {
      "cell_type": "code",
      "metadata": {
        "colab": {
          "base_uri": "https://localhost:8080/"
        },
        "id": "pcREeeI1iNAM",
        "outputId": "5ae51757-f63b-4d7d-e641-d5dc29978aee"
      },
      "source": [
        "cities = [\"Addis Ababa\", \"Tokyo\", \"Rome\", \"İstanbul\", \"Rio\"]\n",
        "cities.sort(key = len, reverse = False ) # Bu şekilde de yapılabilir. sort() fonksiyonu kullanımı. Fakat burada sort() fonksiyonu ile listeyi kalıcı olarak değiştiriyoruz\n",
        "print(cities)"
      ],
      "execution_count": null,
      "outputs": [
        {
          "output_type": "stream",
          "text": [
            "['Rio', 'Rome', 'Tokyo', 'İstanbul', 'Addis Ababa']\n"
          ],
          "name": "stdout"
        }
      ]
    },
    {
      "cell_type": "code",
      "metadata": {
        "colab": {
          "base_uri": "https://localhost:8080/"
        },
        "id": "feT81ZIO4511",
        "outputId": "f613c197-72ec-4844-9534-49fa08b977e8"
      },
      "source": [
        "numbers = [1, 3, 7, 4, 3, 0, 3, 6, 3, 4, 7, 4, 3, 2, 6, 8, 7, 6, 5, 3, 3, 4, 7, 9, 3, ]\n",
        "\n",
        "most_frequent = max(numbers, key = numbers.count) # Burada max() fonksiyonu keyi olarak count belirledik, ve listenin içinde en çok geçen elemanı verir\n",
        "                                                  # count() fonksiyonu da bir list fonksiyonu olduğu için list ismi ile birlikte belirtilmelidir. len() fonksiyonunu key için kullanırken böyle birşey yok\n",
        "repeat = numbers.count(most_frequent)\n",
        "\n",
        "result = f\"the most frequent number is {most_frequent} and it was {repeat} times repeated\"\n",
        "print(result)"
      ],
      "execution_count": null,
      "outputs": [
        {
          "output_type": "stream",
          "text": [
            "the most frequent number is 3 and it was 8 times repeated\n"
          ],
          "name": "stdout"
        }
      ]
    },
    {
      "cell_type": "code",
      "metadata": {
        "colab": {
          "base_uri": "https://localhost:8080/"
        },
        "id": "3T0HGSQboCwz",
        "outputId": "1043d4a5-e330-4720-d5e3-254a95694af9"
      },
      "source": [
        "my_list = [1, 2, 3, 4, 5, 6]\n",
        "new_list = []\n",
        "\n",
        "for x in my_list:\n",
        "  if x % 2 != 0:\n",
        "    new_list.append(pow(x,2))\n",
        "\n",
        "print(new_list)"
      ],
      "execution_count": null,
      "outputs": [
        {
          "output_type": "stream",
          "text": [
            "[1, 9, 25]\n"
          ],
          "name": "stdout"
        }
      ]
    },
    {
      "cell_type": "code",
      "metadata": {
        "colab": {
          "base_uri": "https://localhost:8080/"
        },
        "id": "VAY7krZWpXsp",
        "outputId": "b8b9fde0-a0c2-4760-8b47-5b66e976d28e"
      },
      "source": [
        "# [expression for item in list execution body if condition]\n",
        "\n",
        "my_list = [1, 2, 3, 4, 5, 6]\n",
        "print([x ** 2 for x in my_list if x % 2 != 0])"
      ],
      "execution_count": null,
      "outputs": [
        {
          "output_type": "stream",
          "text": [
            "[1, 9, 25]\n"
          ],
          "name": "stdout"
        }
      ]
    },
    {
      "cell_type": "code",
      "metadata": {
        "colab": {
          "base_uri": "https://localhost:8080/"
        },
        "id": "KH4Qe-HG42rj",
        "outputId": "90a87556-a869-4e6c-a630-673fb07436b9"
      },
      "source": [
        "escapes = [\"\\n\\t\", (\"\\t\", \"\\t\\t\"), [\"\\n\", \"\\n\\t\\t\"]]\n",
        "\n",
        "sentence = \"I am 40 years old.{}I have two children.{}Data Science is my IT domain.\".format(escapes[0], escapes[2][1])\n",
        "\n",
        "print(sentence)"
      ],
      "execution_count": null,
      "outputs": [
        {
          "output_type": "stream",
          "text": [
            "I am 40 years old.\n",
            "\tI have two children.\n",
            "\t\tData Science is my IT domain.\n"
          ],
          "name": "stdout"
        }
      ]
    },
    {
      "cell_type": "code",
      "metadata": {
        "colab": {
          "base_uri": "https://localhost:8080/"
        },
        "id": "aoUSQTJk48J7",
        "outputId": "5e33802c-5cb0-4099-c666-5196e31bbdae"
      },
      "source": [
        "flowers = [[\"jasmine\", [\"lavender\", \"rose\"], \"tulip\"]]\n",
        "colors = [\"red\", (\"blue\", [\"yellow\", \"green\"]), \"pink\"]\n",
        "text = \"My two favorite flowers are {} and {}, \\\n",
        " two favorite colors are {} and {}.\".format(flowers[0][2], flowers[0][1][1], colors[1][0], colors[1][1][1])\n",
        "print(text)"
      ],
      "execution_count": null,
      "outputs": [
        {
          "output_type": "stream",
          "text": [
            "My two favorite flowers are tulip and rose,  two favorite colors are blue and green.\n"
          ],
          "name": "stdout"
        }
      ]
    },
    {
      "cell_type": "markdown",
      "metadata": {
        "id": "-R9qY1IKjHqz"
      },
      "source": [
        "# **TUPLES**\n",
        "The most important difference from the list is that the tuple is immutable. \n",
        "\n",
        "Therefore, methods like append() or remove() do not exist in the operations of this type.\n",
        "\n",
        "Tuples are immutable and faster than lists.\n",
        "\n",
        "We used square brackets 👉🏻'[]' to define the lists. In the tuple, normal parentheses 👉🏻'()' are used.\n"
      ]
    },
    {
      "cell_type": "code",
      "metadata": {
        "id": "Ml8hYvRbjKoL"
      },
      "source": [
        "empty_tuple = () # Let's create a simple empty tuple"
      ],
      "execution_count": null,
      "outputs": []
    },
    {
      "cell_type": "code",
      "metadata": {
        "colab": {
          "base_uri": "https://localhost:8080/"
        },
        "id": "FKkc6e7vkYZv",
        "outputId": "6556e0bc-7489-4b59-cd76-7fd8b8d38ac5"
      },
      "source": [
        "empty_tuple = ()\n",
        "print(type(empty_tuple))"
      ],
      "execution_count": null,
      "outputs": [
        {
          "output_type": "stream",
          "text": [
            "<class 'tuple'>\n"
          ],
          "name": "stdout"
        }
      ]
    },
    {
      "cell_type": "code",
      "metadata": {
        "colab": {
          "base_uri": "https://localhost:8080/"
        },
        "id": "JWSu27-Dqyip",
        "outputId": "e2b796dc-d3cd-4c17-bda7-4e3f3e5b006d"
      },
      "source": [
        "# If you want to create a single element tuple, you should use a comma.\n",
        "\n",
        "try_tuple = ('love')\n",
        "print(try_tuple)\n",
        "print(type(try_tuple)) # it's not tuple type. Görüleceği üzere tipi string oldu, çünkü tek elemanın sonunda \",\" yok"
      ],
      "execution_count": null,
      "outputs": [
        {
          "output_type": "stream",
          "text": [
            "love\n",
            "<class 'str'>\n"
          ],
          "name": "stdout"
        }
      ]
    },
    {
      "cell_type": "code",
      "metadata": {
        "colab": {
          "base_uri": "https://localhost:8080/"
        },
        "id": "XjZEPUz8rFQJ",
        "outputId": "96e97053-ab1a-4fbd-a00d-6cb3e13cbff9"
      },
      "source": [
        "# Remember to always use a comma when defining a singleton tuple.\n",
        "\n",
        "try_tuple = ('love',) # Tek elemanın sonunda virgül var\n",
        "print(try_tuple)\n",
        "print(type(try_tuple)) # Görüldüğü gibi tipi bu sefer tuple oldu"
      ],
      "execution_count": null,
      "outputs": [
        {
          "output_type": "stream",
          "text": [
            "('love',)\n",
            "<class 'tuple'>\n"
          ],
          "name": "stdout"
        }
      ]
    },
    {
      "cell_type": "code",
      "metadata": {
        "colab": {
          "base_uri": "https://localhost:8080/"
        },
        "id": "vZhRkp8WuqC8",
        "outputId": "7afefd82-fccb-4a9d-ba9e-4b16e7550880"
      },
      "source": [
        "x = ([4,6,8])\n",
        "print(type(x))\n",
        "x = ([4,6,8],) # Görüleceği üzere tek bir , ile tuple yapabildik\n",
        "print(type(x))"
      ],
      "execution_count": null,
      "outputs": [
        {
          "output_type": "stream",
          "text": [
            "<class 'list'>\n",
            "<class 'tuple'>\n"
          ],
          "name": "stdout"
        }
      ]
    },
    {
      "cell_type": "code",
      "metadata": {
        "colab": {
          "base_uri": "https://localhost:8080/"
        },
        "id": "9SBCL-vXnE2r",
        "outputId": "05fa22f0-dd2e-4268-e291-c4474af2e69d"
      },
      "source": [
        "my_tuple = (\"Solar\") # Görüldüğü gibi burada , olmadığı için bunu tuple olarak algılamadı\n",
        "print(my_tuple, type(my_tuple), sep=\"\\n\")"
      ],
      "execution_count": null,
      "outputs": [
        {
          "output_type": "stream",
          "text": [
            "Solar\n",
            "<class 'str'>\n"
          ],
          "name": "stdout"
        }
      ]
    },
    {
      "cell_type": "code",
      "metadata": {
        "colab": {
          "base_uri": "https://localhost:8080/"
        },
        "id": "6X745cHhrqs4",
        "outputId": "94312c24-6976-49b0-93fb-732e3dce1b9c"
      },
      "source": [
        "planets = 'mercury', 'jupiter', 'saturn' # Görüleceği üzere Phyton bu şekilde parantezsiz yazılsa dahi onu bir tuple olarak algılar\n",
        "\n",
        "print(planets)\n",
        "print(type(planets))"
      ],
      "execution_count": null,
      "outputs": [
        {
          "output_type": "stream",
          "text": [
            "('mercury', 'jupiter', 'saturn')\n",
            "<class 'tuple'>\n"
          ],
          "name": "stdout"
        }
      ]
    },
    {
      "cell_type": "code",
      "metadata": {
        "colab": {
          "base_uri": "https://localhost:8080/"
        },
        "id": "14T3tPjyoiYz",
        "outputId": "f911f179-a86c-45d8-dca3-609f3c9c4767"
      },
      "source": [
        "x = 1, 2, 3  # Phyton parantez olmasa da bu şekilde , ile yapılan kullanımları hayali parantez ile tamamlar ve tuple olarak kabul eder\n",
        "print(type(x))"
      ],
      "execution_count": null,
      "outputs": [
        {
          "output_type": "stream",
          "text": [
            "<class 'tuple'>\n"
          ],
          "name": "stdout"
        }
      ]
    },
    {
      "cell_type": "code",
      "metadata": {
        "colab": {
          "base_uri": "https://localhost:8080/"
        },
        "id": "jMQY1WSzo5yG",
        "outputId": "f7f02f34-3909-4fed-b8ad-6a58960531d9"
      },
      "source": [
        "aa = \"a\", \"b\", \"c\"\n",
        "print(type(aa))"
      ],
      "execution_count": null,
      "outputs": [
        {
          "output_type": "stream",
          "text": [
            "<class 'tuple'>\n"
          ],
          "name": "stdout"
        }
      ]
    },
    {
      "cell_type": "code",
      "metadata": {
        "colab": {
          "base_uri": "https://localhost:8080/"
        },
        "id": "VY65xb64pYDi",
        "outputId": "7e4cae0a-a543-4207-f65a-43acc0e89cad"
      },
      "source": [
        "bb = (\"aa\") # Görülecei üzere burada , olmadığı için str olarak algıladı\n",
        "print(type(bb)) "
      ],
      "execution_count": null,
      "outputs": [
        {
          "output_type": "stream",
          "text": [
            "<class 'str'>\n"
          ],
          "name": "stdout"
        }
      ]
    },
    {
      "cell_type": "code",
      "metadata": {
        "colab": {
          "base_uri": "https://localhost:8080/"
        },
        "id": "tjw_8eI-pepi",
        "outputId": "c88b367b-0030-4161-d153-32d36978b6a3"
      },
      "source": [
        "cc = \"aa\",  # Burada ise parantez yok tek eleman virgül var ve tuple olarak algıladı\n",
        "print(type(cc))"
      ],
      "execution_count": null,
      "outputs": [
        {
          "output_type": "stream",
          "text": [
            "<class 'tuple'>\n"
          ],
          "name": "stdout"
        }
      ]
    },
    {
      "cell_type": "code",
      "metadata": {
        "colab": {
          "base_uri": "https://localhost:8080/"
        },
        "id": "4LJoEseBrgdh",
        "outputId": "3a5bc7bc-cd6e-466e-eee2-b4e58048f0ae"
      },
      "source": [
        "# Another way to create a tuple is to call the tuple() function. İçine iterable object alır\n",
        "\n",
        "empty_tuple_1 = tuple()\n",
        "\n",
        "print(empty_tuple_1)\n",
        "print(type(empty_tuple_1))"
      ],
      "execution_count": null,
      "outputs": [
        {
          "output_type": "stream",
          "text": [
            "()\n",
            "<class 'tuple'>\n"
          ],
          "name": "stdout"
        }
      ]
    },
    {
      "cell_type": "code",
      "metadata": {
        "colab": {
          "base_uri": "https://localhost:8080/"
        },
        "id": "qUlxA_WfsNpX",
        "outputId": "99edbc53-0ded-4a9d-bffc-529cef0989f0"
      },
      "source": [
        "# It is easy to convert between list and tuple as in the examples below :\n",
        "\n",
        "my_tuple=(1, 4, 3, 4, 5, 6, 7, 4)\n",
        "\n",
        "my_list = list(my_tuple) # Bu şekilde tuple'ı kolayca list'e çevirebildik\n",
        "print(type(my_list), my_list)\n",
        "\n",
        "my_tuple = tuple(my_list) # Tam tersi de mümkündür\n",
        "print(type(my_tuple), my_tuple)\n",
        "\n"
      ],
      "execution_count": null,
      "outputs": [
        {
          "output_type": "stream",
          "text": [
            "<class 'list'> [1, 4, 3, 4, 5, 6, 7, 4]\n",
            "<class 'tuple'> (1, 4, 3, 4, 5, 6, 7, 4)\n"
          ],
          "name": "stdout"
        }
      ]
    },
    {
      "cell_type": "code",
      "metadata": {
        "colab": {
          "base_uri": "https://localhost:8080/"
        },
        "id": "8xTfbLPAs67l",
        "outputId": "80f077e7-025c-4f0d-8d97-6fdec6d2cacc"
      },
      "source": [
        "# An iterable string can be converted to a tuple :\n",
        "\n",
        "mountain = tuple('Alps')\n",
        "print(mountain) "
      ],
      "execution_count": null,
      "outputs": [
        {
          "output_type": "stream",
          "text": [
            "('A', 'l', 'p', 's')\n"
          ],
          "name": "stdout"
        }
      ]
    },
    {
      "cell_type": "code",
      "metadata": {
        "colab": {
          "base_uri": "https://localhost:8080/"
        },
        "id": "ksyFU6CGtJwy",
        "outputId": "eae93347-d00c-4abc-d113-a0dba46bf997"
      },
      "source": [
        "mix_value_tuple = (0, 'bird', 3.14, True)\n",
        "\n",
        "print(len(mix_value_tuple))"
      ],
      "execution_count": null,
      "outputs": [
        {
          "output_type": "stream",
          "text": [
            "4\n"
          ],
          "name": "stdout"
        }
      ]
    },
    {
      "cell_type": "code",
      "metadata": {
        "colab": {
          "base_uri": "https://localhost:8080/",
          "height": 244
        },
        "id": "b27OFiBqyt4k",
        "outputId": "875c98fe-f3f0-46c9-d5fe-200ccf9ac355"
      },
      "source": [
        "# As we stated at the beginning, just like lists, tuples support indexing :\n",
        "even_no = (0, 2, 4)\n",
        "print(even_no[0])    \n",
        "print(even_no[1])    \n",
        "print(even_no[2])   \n",
        "print(even_no[3])  # Buranın sonucunda hata verir çünkü tuple da index[3] bulunmamaktadır (tuple index out of range)"
      ],
      "execution_count": null,
      "outputs": [
        {
          "output_type": "stream",
          "text": [
            "0\n",
            "2\n",
            "4\n"
          ],
          "name": "stdout"
        },
        {
          "output_type": "error",
          "ename": "IndexError",
          "evalue": "ignored",
          "traceback": [
            "\u001b[0;31m---------------------------------------------------------------------------\u001b[0m",
            "\u001b[0;31mIndexError\u001b[0m                                Traceback (most recent call last)",
            "\u001b[0;32m<ipython-input-63-afab60a9a95e>\u001b[0m in \u001b[0;36m<module>\u001b[0;34m()\u001b[0m\n\u001b[1;32m      4\u001b[0m \u001b[0mprint\u001b[0m\u001b[0;34m(\u001b[0m\u001b[0meven_no\u001b[0m\u001b[0;34m[\u001b[0m\u001b[0;36m1\u001b[0m\u001b[0;34m]\u001b[0m\u001b[0;34m)\u001b[0m\u001b[0;34m\u001b[0m\u001b[0;34m\u001b[0m\u001b[0m\n\u001b[1;32m      5\u001b[0m \u001b[0mprint\u001b[0m\u001b[0;34m(\u001b[0m\u001b[0meven_no\u001b[0m\u001b[0;34m[\u001b[0m\u001b[0;36m2\u001b[0m\u001b[0;34m]\u001b[0m\u001b[0;34m)\u001b[0m\u001b[0;34m\u001b[0m\u001b[0;34m\u001b[0m\u001b[0m\n\u001b[0;32m----> 6\u001b[0;31m \u001b[0mprint\u001b[0m\u001b[0;34m(\u001b[0m\u001b[0meven_no\u001b[0m\u001b[0;34m[\u001b[0m\u001b[0;36m3\u001b[0m\u001b[0;34m]\u001b[0m\u001b[0;34m)\u001b[0m\u001b[0;34m\u001b[0m\u001b[0;34m\u001b[0m\u001b[0m\n\u001b[0m",
            "\u001b[0;31mIndexError\u001b[0m: tuple index out of range"
          ]
        }
      ]
    },
    {
      "cell_type": "code",
      "metadata": {
        "colab": {
          "base_uri": "https://localhost:8080/"
        },
        "id": "_2fQM7wllMU8",
        "outputId": "83906e13-d57c-4b6d-8d98-cadde63fc84e"
      },
      "source": [
        "coordinates = (4, 5) # Tuples bu şekilde () içinde değerler yazılarak oluşturulur, listede is [] şeklindeydi\n",
        "print(coordinates)\n",
        "print(coordinates[0]) # Indexing/Slicing olayları listelerde olduğu gibidir"
      ],
      "execution_count": null,
      "outputs": [
        {
          "output_type": "stream",
          "text": [
            "(4, 5)\n",
            "4\n"
          ],
          "name": "stdout"
        }
      ]
    },
    {
      "cell_type": "code",
      "metadata": {
        "colab": {
          "base_uri": "https://localhost:8080/"
        },
        "id": "ywVzdSOB-qED",
        "outputId": "7d722a7f-0f65-40e9-bc5f-3c8fe2b74dfc"
      },
      "source": [
        "city_list = ['Tokyo', 'Istanbul', 'Moskow', 'Dublin']\n",
        "\n",
        "city_list[0] = 'Athens'\n",
        "city_list[1] = 'Cairo'\n",
        "print(city_list)"
      ],
      "execution_count": null,
      "outputs": [
        {
          "output_type": "stream",
          "text": [
            "['Athens', 'Cairo', 'Moskow', 'Dublin']\n"
          ],
          "name": "stdout"
        }
      ]
    },
    {
      "cell_type": "code",
      "metadata": {
        "colab": {
          "base_uri": "https://localhost:8080/",
          "height": 244
        },
        "id": "z0JMtJDs-vXq",
        "outputId": "c20fcbd5-0379-4f6b-f23d-6b4f9a557eda"
      },
      "source": [
        "city_list = ['Tokyo', 'Istanbul', 'Moskow', 'Dublin']\n",
        "\n",
        "city_tuple = tuple(city_list)\n",
        "city_tuple.index(1)\n",
        "\n",
        "# city_tuple[0] = 'New York'  # you can't assign a value, Görüleceği üzere sen tupla için bir değer atayamıyorsun list lerde olduğu gibi"
      ],
      "execution_count": null,
      "outputs": [
        {
          "output_type": "error",
          "ename": "ValueError",
          "evalue": "ignored",
          "traceback": [
            "\u001b[0;31m---------------------------------------------------------------------------\u001b[0m",
            "\u001b[0;31mValueError\u001b[0m                                Traceback (most recent call last)",
            "\u001b[0;32m<ipython-input-75-b164305dbd8e>\u001b[0m in \u001b[0;36m<module>\u001b[0;34m()\u001b[0m\n\u001b[1;32m      2\u001b[0m \u001b[0;34m\u001b[0m\u001b[0m\n\u001b[1;32m      3\u001b[0m \u001b[0mcity_tuple\u001b[0m \u001b[0;34m=\u001b[0m \u001b[0mtuple\u001b[0m\u001b[0;34m(\u001b[0m\u001b[0mcity_list\u001b[0m\u001b[0;34m)\u001b[0m\u001b[0;34m\u001b[0m\u001b[0;34m\u001b[0m\u001b[0m\n\u001b[0;32m----> 4\u001b[0;31m \u001b[0mcity_tuple\u001b[0m\u001b[0;34m.\u001b[0m\u001b[0mindex\u001b[0m\u001b[0;34m(\u001b[0m\u001b[0;36m1\u001b[0m\u001b[0;34m)\u001b[0m\u001b[0;34m\u001b[0m\u001b[0;34m\u001b[0m\u001b[0m\n\u001b[0m\u001b[1;32m      5\u001b[0m \u001b[0;34m\u001b[0m\u001b[0m\n\u001b[1;32m      6\u001b[0m \u001b[0;31m# city_tuple[0] = 'New York'  # you can't assign a value, Görüleceği üzere sen tupla için bir değer atayamıyorsun list lerde olduğu gibi\u001b[0m\u001b[0;34m\u001b[0m\u001b[0;34m\u001b[0m\u001b[0;34m\u001b[0m\u001b[0m\n",
            "\u001b[0;31mValueError\u001b[0m: tuple.index(x): x not in tuple"
          ]
        }
      ]
    },
    {
      "cell_type": "code",
      "metadata": {
        "colab": {
          "base_uri": "https://localhost:8080/",
          "height": 211
        },
        "id": "MdVZl3K0lXDo",
        "outputId": "4385459a-65c8-4428-e1e1-773761ff871d"
      },
      "source": [
        "coordinates = (4, 5)\n",
        "coordinates[1] = 10  # Görüleceği üzere yukarıda da bahsettiğimiz gibi tuple elemanları değiştirilemez ('tuple' object does not support item assignment)\n",
        "print(coordinates[1])"
      ],
      "execution_count": null,
      "outputs": [
        {
          "output_type": "error",
          "ename": "TypeError",
          "evalue": "ignored",
          "traceback": [
            "\u001b[0;31m---------------------------------------------------------------------------\u001b[0m",
            "\u001b[0;31mTypeError\u001b[0m                                 Traceback (most recent call last)",
            "\u001b[0;32m<ipython-input-2-58a80a9533d9>\u001b[0m in \u001b[0;36m<module>\u001b[0;34m()\u001b[0m\n\u001b[1;32m      1\u001b[0m \u001b[0mcoordinates\u001b[0m \u001b[0;34m=\u001b[0m \u001b[0;34m(\u001b[0m\u001b[0;36m4\u001b[0m\u001b[0;34m,\u001b[0m \u001b[0;36m5\u001b[0m\u001b[0;34m)\u001b[0m\u001b[0;34m\u001b[0m\u001b[0;34m\u001b[0m\u001b[0m\n\u001b[0;32m----> 2\u001b[0;31m \u001b[0mcoordinates\u001b[0m\u001b[0;34m[\u001b[0m\u001b[0;36m1\u001b[0m\u001b[0;34m]\u001b[0m \u001b[0;34m=\u001b[0m \u001b[0;36m10\u001b[0m  \u001b[0;31m# Görüleceği üzere yukarıda da bahsettiğimiz gibi tuple elemanları değiştirilemez ('tuple' object does not support item assignment)\u001b[0m\u001b[0;34m\u001b[0m\u001b[0;34m\u001b[0m\u001b[0m\n\u001b[0m\u001b[1;32m      3\u001b[0m \u001b[0mprint\u001b[0m\u001b[0;34m(\u001b[0m\u001b[0mcoordinates\u001b[0m\u001b[0;34m[\u001b[0m\u001b[0;36m1\u001b[0m\u001b[0;34m]\u001b[0m\u001b[0;34m)\u001b[0m\u001b[0;34m\u001b[0m\u001b[0;34m\u001b[0m\u001b[0m\n",
            "\u001b[0;31mTypeError\u001b[0m: 'tuple' object does not support item assignment"
          ]
        }
      ]
    },
    {
      "cell_type": "code",
      "metadata": {
        "colab": {
          "base_uri": "https://localhost:8080/"
        },
        "id": "sQZ1uCjulhOm",
        "outputId": "4c2f8128-faca-4cdb-b550-a24351dbc91d"
      },
      "source": [
        "coordinates = [(4, 5), (19, 0), (80, 160), (21, 45)]  # Ama bu şekilde tuple lardan oluşan bir listede meydana getirebiliriz\n",
        "coordinates[1] = 10 # Burada index[1] deki tuple yerine farklı bir sayı yerleştirebildik\n",
        "print(coordinates[2])\n",
        "print(coordinates[1]) # (19, 0) tuple yerine integer 10 geldi"
      ],
      "execution_count": null,
      "outputs": [
        {
          "output_type": "stream",
          "text": [
            "(80, 160)\n",
            "10\n"
          ],
          "name": "stdout"
        }
      ]
    },
    {
      "cell_type": "code",
      "metadata": {
        "colab": {
          "base_uri": "https://localhost:8080/"
        },
        "id": "EjNFTzYoxBaO",
        "outputId": "f70478f6-0a00-4f5d-9776-286ba27fccaf"
      },
      "source": [
        "number = tuple(range(11)) # range(1,11) de olurdu\n",
        "print(number)"
      ],
      "execution_count": null,
      "outputs": [
        {
          "output_type": "stream",
          "text": [
            "(0, 1, 2, 3, 4, 5, 6, 7, 8, 9, 10)\n"
          ],
          "name": "stdout"
        }
      ]
    },
    {
      "cell_type": "code",
      "metadata": {
        "colab": {
          "base_uri": "https://localhost:8080/",
          "height": 227
        },
        "id": "K72QdPsMAgN6",
        "outputId": "305d75a2-d1f0-4957-a07b-98b9754b4243"
      },
      "source": [
        "mix_value = (10, False, 'fruit', 1.618)\n",
        "mix_value.append(['vegetable', 2+3j]) # Hata verir çünkü append() ve remove() özellikleri tuple lar için geçerli değildir\n",
        "mix_value.remove(['fruit'])\n",
        "\n",
        "print(len(mix_value))"
      ],
      "execution_count": null,
      "outputs": [
        {
          "output_type": "error",
          "ename": "AttributeError",
          "evalue": "ignored",
          "traceback": [
            "\u001b[0;31m---------------------------------------------------------------------------\u001b[0m",
            "\u001b[0;31mAttributeError\u001b[0m                            Traceback (most recent call last)",
            "\u001b[0;32m<ipython-input-82-9630cfacb07a>\u001b[0m in \u001b[0;36m<module>\u001b[0;34m()\u001b[0m\n\u001b[1;32m      1\u001b[0m \u001b[0mmix_value\u001b[0m \u001b[0;34m=\u001b[0m \u001b[0;34m(\u001b[0m\u001b[0;36m10\u001b[0m\u001b[0;34m,\u001b[0m \u001b[0;32mFalse\u001b[0m\u001b[0;34m,\u001b[0m \u001b[0;34m'fruit'\u001b[0m\u001b[0;34m,\u001b[0m \u001b[0;36m1.618\u001b[0m\u001b[0;34m)\u001b[0m\u001b[0;34m\u001b[0m\u001b[0;34m\u001b[0m\u001b[0m\n\u001b[0;32m----> 2\u001b[0;31m \u001b[0mmix_value\u001b[0m\u001b[0;34m.\u001b[0m\u001b[0mappend\u001b[0m\u001b[0;34m(\u001b[0m\u001b[0;34m[\u001b[0m\u001b[0;34m'vegetable'\u001b[0m\u001b[0;34m,\u001b[0m \u001b[0;36m2\u001b[0m\u001b[0;34m+\u001b[0m\u001b[0;36m3j\u001b[0m\u001b[0;34m]\u001b[0m\u001b[0;34m)\u001b[0m \u001b[0;31m# Hata verir çünkü append() ve remove() özellikleri tuple lar için geçerli değildir\u001b[0m\u001b[0;34m\u001b[0m\u001b[0;34m\u001b[0m\u001b[0m\n\u001b[0m\u001b[1;32m      3\u001b[0m \u001b[0mmix_value\u001b[0m\u001b[0;34m.\u001b[0m\u001b[0mremove\u001b[0m\u001b[0;34m(\u001b[0m\u001b[0;34m[\u001b[0m\u001b[0;34m'fruit'\u001b[0m\u001b[0;34m]\u001b[0m\u001b[0;34m)\u001b[0m\u001b[0;34m\u001b[0m\u001b[0;34m\u001b[0m\u001b[0m\n\u001b[1;32m      4\u001b[0m \u001b[0;34m\u001b[0m\u001b[0m\n\u001b[1;32m      5\u001b[0m \u001b[0mprint\u001b[0m\u001b[0;34m(\u001b[0m\u001b[0mlen\u001b[0m\u001b[0;34m(\u001b[0m\u001b[0mmix_value\u001b[0m\u001b[0;34m)\u001b[0m\u001b[0;34m)\u001b[0m\u001b[0;34m\u001b[0m\u001b[0;34m\u001b[0m\u001b[0m\n",
            "\u001b[0;31mAttributeError\u001b[0m: 'tuple' object has no attribute 'append'"
          ]
        }
      ]
    },
    {
      "cell_type": "code",
      "metadata": {
        "colab": {
          "base_uri": "https://localhost:8080/"
        },
        "id": "q7TeLpPRlBll",
        "outputId": "30da27e5-e4e7-41e8-d492-91358aca29c6"
      },
      "source": [
        "import sys # getsizeof() methodunu çağırabilmek için yazmak şarttır\n",
        "x = [1,2,3] # List ve tupla ların boyut karşılaştırması\n",
        "y = (1,2,3)\n",
        "\n",
        "print(sys.getsizeof(x)) # Bite cinsinden hafızada yer kaplaması ile ilgili kullanım. Dolayısıyla tupple lar listelere göre daha az yer kaplar\n",
        "print(sys.getsizeof(y))"
      ],
      "execution_count": null,
      "outputs": [
        {
          "output_type": "stream",
          "text": [
            "96\n",
            "80\n"
          ],
          "name": "stdout"
        }
      ]
    },
    {
      "cell_type": "code",
      "metadata": {
        "colab": {
          "base_uri": "https://localhost:8080/"
        },
        "id": "lvmomw66wvGc",
        "outputId": "fc93c81f-1ebd-4e05-8c36-de19fc520adf"
      },
      "source": [
        "# It is easy to convert between list and tuple as in the examples below :\n",
        "my_tuple=(1, 4, 3, 4, 5, 6, 7, 4)\n",
        "my_list = list(my_tuple)\n",
        "print(type(my_list), my_list)\n",
        "print()\n",
        "my_list = [1, 4, 3, 4, 5, 6, 7, 4]\n",
        "my_tuple = tuple(my_list)\n",
        "print(type(my_tuple), my_tuple)"
      ],
      "execution_count": null,
      "outputs": [
        {
          "output_type": "stream",
          "text": [
            "<class 'list'> [1, 4, 3, 4, 5, 6, 7, 4]\n",
            "\n",
            "<class 'tuple'> (1, 4, 3, 4, 5, 6, 7, 4)\n"
          ],
          "name": "stdout"
        }
      ]
    },
    {
      "cell_type": "code",
      "metadata": {
        "colab": {
          "base_uri": "https://localhost:8080/"
        },
        "id": "IPSbRntZmMSq",
        "outputId": "b333a88c-26ea-4cc8-820c-f8fcbad57546"
      },
      "source": [
        "tuple_1 = 'h', 'a', 'p', 'p', 'y'\n",
        "tuple_2 = 1, 3, 5\n",
        "print(tuple_1)\n",
        "print(type(tuple_1))\n",
        "print(tuple_2)\n",
        "print(type(tuple_2))\n"
      ],
      "execution_count": null,
      "outputs": [
        {
          "output_type": "stream",
          "text": [
            "('h', 'a', 'p', 'p', 'y')\n",
            "<class 'tuple'>\n",
            "(1, 3, 5)\n",
            "<class 'tuple'>\n"
          ],
          "name": "stdout"
        }
      ]
    },
    {
      "cell_type": "code",
      "metadata": {
        "colab": {
          "base_uri": "https://localhost:8080/"
        },
        "id": "GIP3iRF6_iqy",
        "outputId": "01e2a5f8-0457-4687-dc25-4a070bd4cef3"
      },
      "source": [
        "vowels = ('a', 'e', 'i', 'o', 'i', 'u')\n",
        "\n",
        "index = vowels.index('e') \n",
        "print('The index of e:', index)\n",
        "\n",
        "index1 = vowels.index('i') # element 'i' is searched, index of the first 'i' is returned\n",
        "print('The index of i:', index1)"
      ],
      "execution_count": null,
      "outputs": [
        {
          "output_type": "stream",
          "text": [
            "The index of e: 1\n",
            "The index of i: 2\n"
          ],
          "name": "stdout"
        }
      ]
    },
    {
      "cell_type": "code",
      "metadata": {
        "colab": {
          "base_uri": "https://localhost:8080/"
        },
        "id": "zhWFcXVbAHs0",
        "outputId": "fdf409c9-f1cc-41d9-ba30-c02aeb5a22bc"
      },
      "source": [
        "vowels = ('a', 'e', 'i', 'o', 'i', 'u') \n",
        "\n",
        "count = vowels.count('i') \n",
        "print('The count of i is:', count)\n",
        "\n",
        "count = vowels.count('p')  # Burada \"p\" elemanı tuple içinde olmadığı için 0 çıkartır\n",
        "print('The count of p is:', count)"
      ],
      "execution_count": null,
      "outputs": [
        {
          "output_type": "stream",
          "text": [
            "The count of i is: 2\n",
            "The count of p is: 0\n"
          ],
          "name": "stdout"
        }
      ]
    },
    {
      "cell_type": "code",
      "metadata": {
        "colab": {
          "base_uri": "https://localhost:8080/"
        },
        "id": "bii9L8lizB80",
        "outputId": "f80a1cab-f9b1-456a-aebc-2c49525ecb6f"
      },
      "source": [
        "mix_tuple = (\"11\",11,[2, \"two\", (\"six\", 6)], (5, \"fair\"))\n",
        "print(mix_tuple [2][2][0]) # six yazdırabilmek için tıpkı list lerde olduğu gibi indexing işlemini gerçekleştirebiliyoruz"
      ],
      "execution_count": null,
      "outputs": [
        {
          "output_type": "stream",
          "text": [
            "six\n"
          ],
          "name": "stdout"
        }
      ]
    },
    {
      "cell_type": "code",
      "metadata": {
        "colab": {
          "base_uri": "https://localhost:8080/"
        },
        "id": "sDEyLbbbz_SV",
        "outputId": "27f7f976-dca6-4b78-b073-58d71b47b5a0"
      },
      "source": [
        "mix_tuple = (\"11\",11,[2, \"two\", (\"six\", 6)], (5, \"fair\"))\n",
        "str_six = mix_tuple [2][1:3] # List slicing yapılırsa çıktısı yine liste olur, tuple slicing yapılırsa çıktısı tuple olur !!!\n",
        "print(str_six, type(str_six), sep=\"\\n\")\n",
        "tup_fair = mix_tuple [3][0:2] # Tuple slicing yapılırsa çıktısı tuple olur !!!\n",
        "print(tup_fair,type(tup_fair), sep=\"\\n\")"
      ],
      "execution_count": null,
      "outputs": [
        {
          "output_type": "stream",
          "text": [
            "['two', ('six', 6)]\n",
            "<class 'list'>\n",
            "(5, 'fair')\n",
            "<class 'tuple'>\n"
          ],
          "name": "stdout"
        }
      ]
    },
    {
      "cell_type": "code",
      "metadata": {
        "colab": {
          "base_uri": "https://localhost:8080/"
        },
        "id": "Ufgpndni26lq",
        "outputId": "dcdd4767-6d35-4416-cd18-16aa933233e5"
      },
      "source": [
        "mix_tuple = (\"11\",11,[2, \"two\", (\"six\", 6)], (5, \"fair\"))\n",
        "last_item = mix_tuple[-1][-1]\n",
        "print(last_item, type(last_item), sep=\"\\n\" )"
      ],
      "execution_count": null,
      "outputs": [
        {
          "output_type": "stream",
          "text": [
            "fair\n",
            "<class 'str'>\n"
          ],
          "name": "stdout"
        }
      ]
    },
    {
      "cell_type": "markdown",
      "metadata": {
        "id": "7waE_3Jg0SMt"
      },
      "source": [
        "# **DICTIONARIES**"
      ]
    },
    {
      "cell_type": "code",
      "metadata": {
        "id": "TTAZ876Z5LFR"
      },
      "source": [
        "# The dictionary is enclosed by curly braces 👉🏻{}. \n",
        "# Each pair (item) is separated by a comma and the key and value are separated by a colon.\n",
        "\n",
        "empty_dict_1 = {} # Bu kodların ikisi de boş dictionary yaratır\n",
        "\n",
        "empty_dict_2 = dict()"
      ],
      "execution_count": null,
      "outputs": []
    },
    {
      "cell_type": "code",
      "metadata": {
        "colab": {
          "base_uri": "https://localhost:8080/"
        },
        "id": "oKwzX-BQ5PsS",
        "outputId": "c50e44c1-652a-446b-e404-e945adbf6a32"
      },
      "source": [
        "empty_dict_1 = {}\n",
        "\n",
        "print(type(empty_dict_1)) # Görüleceği üzere tipi \"dict\" şeklinde gelir"
      ],
      "execution_count": null,
      "outputs": [
        {
          "output_type": "stream",
          "text": [
            "<class 'dict'>\n"
          ],
          "name": "stdout"
        }
      ]
    },
    {
      "cell_type": "code",
      "metadata": {
        "colab": {
          "base_uri": "https://localhost:8080/"
        },
        "id": "bKYKbl6h5TTe",
        "outputId": "6de6732a-a718-422b-bf39-9f9f76d1f830"
      },
      "source": [
        "my_dict = {'key1': 'value1',\n",
        "           'key2': 'value2',   # The basic form of dict looks like \n",
        "           'key3': 'value3'    # Dictionaries uzunluğu items (key : value) sayısı kadardır\n",
        "            }\n",
        "print(len(my_dict))"
      ],
      "execution_count": null,
      "outputs": [
        {
          "output_type": "stream",
          "text": [
            "3\n"
          ],
          "name": "stdout"
        }
      ]
    },
    {
      "cell_type": "code",
      "metadata": {
        "colab": {
          "base_uri": "https://localhost:8080/"
        },
        "id": "XrIEuX9Z0WRt",
        "outputId": "b2b90281-02d8-4ad0-b008-c76fe4d6eb0d"
      },
      "source": [
        "# Key tarafında (ilk taraf) string ve integer, boolean ,float, tuple olabilir, value kısmında (ikinci taraf) herşey olabilir\n",
        "\n",
        "first_dict = {1 : \"one\", \"two\" : 2, False : [1, 2, 3], 1.5 : (\"one\", \"two\"), (1,2) : \"Clarusway\" }\n",
        "print(first_dict)"
      ],
      "execution_count": null,
      "outputs": [
        {
          "output_type": "stream",
          "text": [
            "{1: 'one', 'two': 2, False: [1, 2, 3], 1.5: ('one', 'two'), (1, 2): 'Clarusway'}\n"
          ],
          "name": "stdout"
        }
      ]
    },
    {
      "cell_type": "code",
      "metadata": {
        "colab": {
          "base_uri": "https://localhost:8080/",
          "height": 161
        },
        "id": "Z5uJuVBr3c2Y",
        "outputId": "080014be-46e5-4649-e322-8196322f7ab0"
      },
      "source": [
        "first_dict = {[1, 2] : \"one\", \"two\" : 2, False : [1, 2, 3] } # Listeler görüldüğü gibi key kısmında kullanılamıyor"
      ],
      "execution_count": null,
      "outputs": [
        {
          "output_type": "error",
          "ename": "TypeError",
          "evalue": "ignored",
          "traceback": [
            "\u001b[0;31m---------------------------------------------------------------------------\u001b[0m",
            "\u001b[0;31mTypeError\u001b[0m                                 Traceback (most recent call last)",
            "\u001b[0;32m<ipython-input-6-0aa17d7c44aa>\u001b[0m in \u001b[0;36m<module>\u001b[0;34m()\u001b[0m\n\u001b[0;32m----> 1\u001b[0;31m \u001b[0mfirst_dict\u001b[0m \u001b[0;34m=\u001b[0m \u001b[0;34m{\u001b[0m\u001b[0;34m[\u001b[0m\u001b[0;36m1\u001b[0m\u001b[0;34m,\u001b[0m \u001b[0;36m2\u001b[0m\u001b[0;34m]\u001b[0m \u001b[0;34m:\u001b[0m \u001b[0;34m\"one\"\u001b[0m\u001b[0;34m,\u001b[0m \u001b[0;34m\"two\"\u001b[0m \u001b[0;34m:\u001b[0m \u001b[0;36m2\u001b[0m\u001b[0;34m,\u001b[0m \u001b[0;32mFalse\u001b[0m \u001b[0;34m:\u001b[0m \u001b[0;34m[\u001b[0m\u001b[0;36m1\u001b[0m\u001b[0;34m,\u001b[0m \u001b[0;36m2\u001b[0m\u001b[0;34m,\u001b[0m \u001b[0;36m3\u001b[0m\u001b[0;34m]\u001b[0m \u001b[0;34m}\u001b[0m\u001b[0;34m\u001b[0m\u001b[0;34m\u001b[0m\u001b[0m\n\u001b[0m",
            "\u001b[0;31mTypeError\u001b[0m: unhashable type: 'list'"
          ]
        }
      ]
    },
    {
      "cell_type": "code",
      "metadata": {
        "colab": {
          "base_uri": "https://localhost:8080/",
          "height": 161
        },
        "id": "U8vqoWl03pd0",
        "outputId": "64ff6bee-511d-465a-a7f5-b401a1355cf8"
      },
      "source": [
        "first_dict = {{1 :\"bir\"} : \"one\", \"two\" : 2, False : [1, 2, 3] } # Dictionaries de görüldüğü gibi listler gibi value kısmında olabiliyorken, key kısmında olamaz"
      ],
      "execution_count": null,
      "outputs": [
        {
          "output_type": "error",
          "ename": "TypeError",
          "evalue": "ignored",
          "traceback": [
            "\u001b[0;31m---------------------------------------------------------------------------\u001b[0m",
            "\u001b[0;31mTypeError\u001b[0m                                 Traceback (most recent call last)",
            "\u001b[0;32m<ipython-input-7-da937f19a22c>\u001b[0m in \u001b[0;36m<module>\u001b[0;34m()\u001b[0m\n\u001b[0;32m----> 1\u001b[0;31m \u001b[0mfirst_dict\u001b[0m \u001b[0;34m=\u001b[0m \u001b[0;34m{\u001b[0m\u001b[0;34m{\u001b[0m\u001b[0;36m1\u001b[0m \u001b[0;34m:\u001b[0m\u001b[0;34m\"bir\"\u001b[0m\u001b[0;34m}\u001b[0m \u001b[0;34m:\u001b[0m \u001b[0;34m\"one\"\u001b[0m\u001b[0;34m,\u001b[0m \u001b[0;34m\"two\"\u001b[0m \u001b[0;34m:\u001b[0m \u001b[0;36m2\u001b[0m\u001b[0;34m,\u001b[0m \u001b[0;32mFalse\u001b[0m \u001b[0;34m:\u001b[0m \u001b[0;34m[\u001b[0m\u001b[0;36m1\u001b[0m\u001b[0;34m,\u001b[0m \u001b[0;36m2\u001b[0m\u001b[0;34m,\u001b[0m \u001b[0;36m3\u001b[0m\u001b[0;34m]\u001b[0m \u001b[0;34m}\u001b[0m\u001b[0;34m\u001b[0m\u001b[0;34m\u001b[0m\u001b[0m\n\u001b[0m",
            "\u001b[0;31mTypeError\u001b[0m: unhashable type: 'dict'"
          ]
        }
      ]
    },
    {
      "cell_type": "code",
      "metadata": {
        "colab": {
          "base_uri": "https://localhost:8080/"
        },
        "id": "Fac5qAK54Frg",
        "outputId": "09b05928-33ad-415d-de69-e2d3ce73f8de"
      },
      "source": [
        "# Aşağıdaki iki şekilde dictionary oluşturulabilir.\n",
        "\n",
        "grocer1 = {'fruit' : 'apple', 'drink' : 'water'}\n",
        "grocer2 = dict(fruit = 'apple', drink = 'water')\n",
        "print(grocer1)\n",
        "print(grocer2)"
      ],
      "execution_count": null,
      "outputs": [
        {
          "output_type": "stream",
          "text": [
            "{'fruit': 'apple', 'drink': 'water'}\n",
            "{'fruit': 'apple', 'drink': 'water'}\n"
          ],
          "name": "stdout"
        }
      ]
    },
    {
      "cell_type": "code",
      "metadata": {
        "colab": {
          "base_uri": "https://localhost:8080/"
        },
        "id": "OQKzxP9H481k",
        "outputId": "df9c88cb-ba09-46ff-c69f-ce99348f61c0"
      },
      "source": [
        "xx = dict(bir = \"one\", iki = 'two') # dict() fonksiyonu ile dictionary oluşturma\n",
        "print(xx)\n",
        "\n",
        "# Do not use quotes for keys when using the dict() function to create a dictionary.!!!!!!!!!!!!!!\n",
        "# You cannot use iterables as keys to create a dictionary."
      ],
      "execution_count": null,
      "outputs": [
        {
          "output_type": "stream",
          "text": [
            "{'bir': 'one', 'iki': 'two'}\n"
          ],
          "name": "stdout"
        }
      ]
    },
    {
      "cell_type": "code",
      "metadata": {
        "colab": {
          "base_uri": "https://localhost:8080/",
          "height": 127
        },
        "id": "K3Rew2Te5poN",
        "outputId": "63fd9282-ee19-4356-e0f9-b2c02a934141"
      },
      "source": [
        "xx = dict(1=\"one\", 2='two') # Görüldüğü gibi integerlar key kısmında dict() fonksiyonu ile kullanılamıyorlar bu sefer !!!\n",
        "print(xx)"
      ],
      "execution_count": null,
      "outputs": [
        {
          "output_type": "error",
          "ename": "SyntaxError",
          "evalue": "ignored",
          "traceback": [
            "\u001b[0;36m  File \u001b[0;32m\"<ipython-input-12-2b769a5834b4>\"\u001b[0;36m, line \u001b[0;32m1\u001b[0m\n\u001b[0;31m    xx = dict(1=\"one\", 2='two')\u001b[0m\n\u001b[0m             ^\u001b[0m\n\u001b[0;31mSyntaxError\u001b[0m\u001b[0;31m:\u001b[0m keyword can't be an expression\n"
          ]
        }
      ]
    },
    {
      "cell_type": "code",
      "metadata": {
        "colab": {
          "base_uri": "https://localhost:8080/"
        },
        "id": "ZNawMihd5YGR",
        "outputId": "3531bd63-4d19-4862-bcde-1aa339c194db"
      },
      "source": [
        "state_capitals = {'Arkansas': 'Little Rock',\n",
        "                  'Colorado': 'Denver',\n",
        "                  'California': 'Sacramento',\n",
        "                  'Georgia': 'Atlanta' \n",
        "                 }\n",
        "\n",
        "print(state_capitals['Colorado']) # accessing method"
      ],
      "execution_count": null,
      "outputs": [
        {
          "output_type": "stream",
          "text": [
            "Denver\n"
          ],
          "name": "stdout"
        }
      ]
    },
    {
      "cell_type": "code",
      "metadata": {
        "colab": {
          "base_uri": "https://localhost:8080/"
        },
        "id": "b62zWeF-6pPA",
        "outputId": "ffa2b8b6-c4c7-4c01-c71e-f6f2c16f3e84"
      },
      "source": [
        "state_capitals = {'Arkansas': 'Little Rock',\n",
        "                  'Colorado': 'Denver',\n",
        "                  'California': 'Sacramento',\n",
        "                  'Georgia': 'Atlanta' \n",
        "                 }\n",
        "\n",
        "state_capitals['Virginia'] = 'Richmond' # Bu şekilde yeni bir item da eklenebilmektedir, sonuna ekler\n",
        "\n",
        "print(state_capitals)"
      ],
      "execution_count": null,
      "outputs": [
        {
          "output_type": "stream",
          "text": [
            "{'Arkansas': 'Little Rock', 'Colorado': 'Denver', 'California': 'Sacramento', 'Georgia': 'Atlanta', 'Virginia': 'Richmond'}\n"
          ],
          "name": "stdout"
        }
      ]
    },
    {
      "cell_type": "code",
      "metadata": {
        "colab": {
          "base_uri": "https://localhost:8080/"
        },
        "id": "MjAZ-gUn56Cl",
        "outputId": "ecb78272-bc60-4deb-83f0-ea2e925f03d1"
      },
      "source": [
        "city1 = \"İSTANBUL\"\n",
        "city2 = \"ANKARA\"\n",
        "population = 1000\n",
        "\n",
        "cities = {1 : city1, 2 : city2, \"nüfus\" : population} # Görüleceği üzere bu sefer string value lar bir değişkene atılarak dic içine yazılmıştır bu sefer\n",
        "print(cities)\n",
        "print(cities[2]) # Burada key olan 2 yi [] içinde yazarak value olan ANKARA yı çıktı olarak alabildik\n",
        "print(cities[\"nüfus\"]) # Burada da 1000 e ulaşmak için onun key i olan \"nüfus\" u [] içerisine yazarak çağırdık"
      ],
      "execution_count": null,
      "outputs": [
        {
          "output_type": "stream",
          "text": [
            "{1: 'İSTANBUL', 2: 'ANKARA', 'nüfus': 1000}\n",
            "ANKARA\n",
            "1000\n"
          ],
          "name": "stdout"
        }
      ]
    },
    {
      "cell_type": "code",
      "metadata": {
        "colab": {
          "base_uri": "https://localhost:8080/"
        },
        "id": "bwXsV8u36-oE",
        "outputId": "dce895f0-0369-4752-8f9e-52e6a61ea9bf"
      },
      "source": [
        "state_capitals = {'Arkansas': 'Little Rock',\n",
        "                  'Colorado': 'Denver',\n",
        "                  'California': 'Sacramento',\n",
        "                  'Georgia': 'Atlanta' \n",
        "                 }\n",
        "state_capitals['California'] = 'İstanbul'       # Bu şekilde mevcut bir key value'su da değiştirilebilmektedir\n",
        "print(state_capitals)       "
      ],
      "execution_count": null,
      "outputs": [
        {
          "output_type": "stream",
          "text": [
            "{'Arkansas': 'Little Rock', 'Colorado': 'Denver', 'California': 'İstanbul', 'Georgia': 'Atlanta'}\n"
          ],
          "name": "stdout"
        }
      ]
    },
    {
      "cell_type": "code",
      "metadata": {
        "colab": {
          "base_uri": "https://localhost:8080/"
        },
        "id": "bC-zohRT7bZE",
        "outputId": "31e69cdd-c799-4b4c-870b-a659aab5193d"
      },
      "source": [
        "# Note that keys and values can be of different types.\n",
        "\n",
        "mix_values = {'animal': ('dog', 'cat'),                   # value tuple type\n",
        "              'planet': ['Neptun', 'Saturn', 'Jupiter'],  # value list type\n",
        "              'number': 40,                               # value int type\n",
        "              'pi': 3.14,                                 # value float type\n",
        "              1 : \"String\",                               # value str type\n",
        "              'is_good' : True}                           # value bool type\n",
        "\n",
        "mix_keys = {22 : \"integer\",    # key int type\n",
        "            1.2 : \"float\",     # key float type\n",
        "            True : \"boolean\",  # key bool type\n",
        "            \"key\" : \"string\"}  # key str type\n",
        "\n",
        "print(mix_values)\n",
        "print(mix_keys)"
      ],
      "execution_count": null,
      "outputs": [
        {
          "output_type": "stream",
          "text": [
            "{'animal': ('dog', 'cat'), 'planet': ['Neptun', 'Saturn', 'Jupiter'], 'number': 40, 'pi': 3.14, 1: 'String', 'is_good': True}\n",
            "{22: 'integer', 1.2: 'float', True: 'boolean', 'key': 'string'}\n"
          ],
          "name": "stdout"
        }
      ]
    },
    {
      "cell_type": "code",
      "metadata": {
        "colab": {
          "base_uri": "https://localhost:8080/"
        },
        "id": "1vFy7OdL72Mi",
        "outputId": "5db9952a-c2c4-4cce-c1fd-a8fb3286e67d"
      },
      "source": [
        "family = {'name1' : 'Hüseyin', 'name2' : 'Emine', 'name3' : 'Yavuz Ali'}\n",
        "print(family)"
      ],
      "execution_count": null,
      "outputs": [
        {
          "output_type": "stream",
          "text": [
            "{'name1': 'Hüseyin', 'name2': 'Emine', 'name3': 'Yavuz Ali'}\n"
          ],
          "name": "stdout"
        }
      ]
    },
    {
      "cell_type": "code",
      "metadata": {
        "colab": {
          "base_uri": "https://localhost:8080/"
        },
        "id": "EXoFBYZJ9PqS",
        "outputId": "0044ee71-3416-439e-9255-e69e6d9aa500"
      },
      "source": [
        "family = {'name1' : 'Hüseyin', 'name2' : 'Emine', 'name3' : 'Yavuz Ali'}\n",
        "family['name4'] = 'Mustafa' # Sonradan item ekleme\n",
        "family['name5'] = 'Şule'\n",
        "print(family)"
      ],
      "execution_count": null,
      "outputs": [
        {
          "output_type": "stream",
          "text": [
            "{'name1': 'Hüseyin', 'name2': 'Emine', 'name3': 'Yavuz Ali', 'name4': 'Mustafa', 'name5': 'Şule'}\n"
          ],
          "name": "stdout"
        }
      ]
    },
    {
      "cell_type": "code",
      "metadata": {
        "colab": {
          "base_uri": "https://localhost:8080/"
        },
        "id": "psyjeClS--Xw",
        "outputId": "6116da1e-17d2-4956-b438-757863e5c001"
      },
      "source": [
        "baba = \"Hüseyin\"\n",
        "anne = \"Emine\"\n",
        "kardes = \"Muhammed Ali\"\n",
        "aile = {\"name1\" : baba, \"name2\" : anne, \"name3\" : kardes}\n",
        "print(aile)\n",
        "yeni_kardes1 = \"Mehmet\"\n",
        "yeni_kardes2 = \"Ahmet\"\n",
        "aile[\"name4\"], aile[\"name5\"] = yeni_kardes1, yeni_kardes2 # Bu şekilde de ekleme yapılabilmektedir\n",
        "print(aile)\n"
      ],
      "execution_count": null,
      "outputs": [
        {
          "output_type": "stream",
          "text": [
            "{'name1': 'Hüseyin', 'name2': 'Emine', 'name3': 'Muhammed Ali'}\n",
            "{'name1': 'Hüseyin', 'name2': 'Emine', 'name3': 'Muhammed Ali', 'name4': 'Mehmet', 'name5': 'Ahmet'}\n"
          ],
          "name": "stdout"
        }
      ]
    },
    {
      "cell_type": "code",
      "metadata": {
        "colab": {
          "base_uri": "https://localhost:8080/"
        },
        "id": "QihAXqAt-Fyr",
        "outputId": "6ee23079-9b30-4386-ef94-e4829704a4a3"
      },
      "source": [
        "# And now, let's use dict() function to create a dictionary :\n",
        "\n",
        "dict_by_dict = dict(animal='dog', planet='neptun', number=40, pi=3.14, is_good=True) \n",
        "# Bu şekildeki bir kullanım ile dict() fonksiyonu yardımıyla bir dictionary oluşturmuş olduk\n",
        "# Bu şekilde kullandığımızda görüleceği üzere key leri \" \" içinde yazmamamız gerekir\n",
        "\n",
        "print(dict_by_dict) "
      ],
      "execution_count": null,
      "outputs": [
        {
          "output_type": "stream",
          "text": [
            "{'animal': 'dog', 'planet': 'neptun', 'number': 40, 'pi': 3.14, 'is_good': True}\n"
          ],
          "name": "stdout"
        }
      ]
    },
    {
      "cell_type": "code",
      "metadata": {
        "id": "riOwy_s-BNH_"
      },
      "source": [
        "# Do not use quotes for keys when using the dict() function to create a dictionary.\n",
        "# You cannot use iterables as keys to create a dictionary."
      ],
      "execution_count": null,
      "outputs": []
    },
    {
      "cell_type": "code",
      "metadata": {
        "colab": {
          "base_uri": "https://localhost:8080/"
        },
        "id": "KxfMETBABXI2",
        "outputId": "a345a97a-4c90-431b-e5d6-1747385a3d2a"
      },
      "source": [
        "# Aynı family dictionary si dict() fonksiyonu ile oluşturulursa...\n",
        "\n",
        "family = dict(name1 = 'Hüseyin', name2 = 'Emine', name3 = 'Yavuz Ali') # Key leri \"\" içerisine yazılmayacak, = kullanılacak, () içi olacak\n",
        "print(family)"
      ],
      "execution_count": null,
      "outputs": [
        {
          "output_type": "stream",
          "text": [
            "{'name1': 'Hüseyin', 'name2': 'Emine', 'name3': 'Yavuz Ali'}\n"
          ],
          "name": "stdout"
        }
      ]
    },
    {
      "cell_type": "code",
      "metadata": {
        "colab": {
          "base_uri": "https://localhost:8080/"
        },
        "id": "Vi3cPrbtHEz0",
        "outputId": "c0d22bac-fd0c-46c0-9bd9-2b81d7484c5f"
      },
      "source": [
        "christopher = {}\n",
        "christopher[\"first\"] = \"Christopher\"\n",
        "christopher[\"last\"] = \"Harrison\"\n",
        "\n",
        "susan = {}\n",
        "susan[\"first\"] = \"Susan\"\n",
        "susan[\"last\"] = \"Ibach\"\n",
        "\n",
        "people = []\n",
        "people.append(christopher)\n",
        "people.append(susan)\n",
        "people.append({\"first\" : \"Bill\", \"last\" : \"Gates\"})\n",
        "print(people)"
      ],
      "execution_count": null,
      "outputs": [
        {
          "output_type": "stream",
          "text": [
            "[{'first': 'Christopher', 'last': 'Harrison'}, {'first': 'Susan', 'last': 'Ibach'}, {'first': 'Bill', 'last': 'Gates'}]\n"
          ],
          "name": "stdout"
        }
      ]
    },
    {
      "cell_type": "code",
      "metadata": {
        "colab": {
          "base_uri": "https://localhost:8080/"
        },
        "id": "oXMl-ktcJ-Rh",
        "outputId": "d3cff8b0-e3cc-44a8-965b-bcbe85e1d33d"
      },
      "source": [
        "numbers = {}\n",
        "\n",
        "numbers['x'] = 12\n",
        "numbers['y'] = 4\n",
        "numbers.update({'z': 3})\n",
        "\n",
        "print(numbers['x'] + numbers['y'] + numbers['z']**2)"
      ],
      "execution_count": null,
      "outputs": [
        {
          "output_type": "stream",
          "text": [
            "25\n"
          ],
          "name": "stdout"
        }
      ]
    },
    {
      "cell_type": "markdown",
      "metadata": {
        "id": "FEWTNRxDCBzJ"
      },
      "source": [
        "**Main Operations with Dictionaries**\n",
        "\n",
        "There are several methods that allow us to access items, keys, and values. \n",
        "You can access all items using the .items() method, all keys using the .keys() method, and all values using the .values() method:"
      ]
    },
    {
      "cell_type": "code",
      "metadata": {
        "colab": {
          "base_uri": "https://localhost:8080/"
        },
        "id": "u0OA-BWICGxD",
        "outputId": "4e2df59e-8437-4031-9d1f-307db39438e7"
      },
      "source": [
        "dict_by_dict = {'animal': 'dog',\n",
        "                'planet': 'neptun',\n",
        "                'number': 40,\n",
        "                'pi': 3.14,\n",
        "                'is_good': True}\n",
        "\n",
        "print(dict_by_dict.items(), '\\n') # Bir dictionary nin items larını yazdırma fonksiyonu dict_name.items(),\n",
        "print(dict_by_dict.keys(), '\\n')  # Bir dictionary nin key lerini yazdırma fonksiyonu dict_name.keys(),\n",
        "print(dict_by_dict.values())      # Bir dictionary nin value larını yazdırma fonksiyonu dict_name.values(),\n",
        "\n",
        "# Çıktılarda da görüleceği üzere bu methodlar dic_items(), dict_keys, dict_values() şeklinde ve parantez içinde liste ve liste içinde de items ları tuple lar halinde gösterir\n",
        "# Biz bunları list() fonksiyonu ile kolaylıkla liste şeklinde görüntüleyebiliriz"
      ],
      "execution_count": null,
      "outputs": [
        {
          "output_type": "stream",
          "text": [
            "dict_items([('animal', 'dog'), ('planet', 'neptun'), ('number', 40), ('pi', 3.14), ('is_good', True)]) \n",
            "\n",
            "dict_keys(['animal', 'planet', 'number', 'pi', 'is_good']) \n",
            "\n",
            "dict_values(['dog', 'neptun', 40, 3.14, True])\n"
          ],
          "name": "stdout"
        }
      ]
    },
    {
      "cell_type": "code",
      "metadata": {
        "colab": {
          "base_uri": "https://localhost:8080/"
        },
        "id": "Yi8ONqmFDTNS",
        "outputId": "5ae696d6-c106-4ab9-fe21-448f996e9bb2"
      },
      "source": [
        "family = dict(name1 = 'Hüseyin', name2 = 'Emine', name3 = 'Yavuz Ali')\n",
        "\n",
        "\n",
        "print(family.items())\n",
        "print(family.keys())\n",
        "print(family.values())\n",
        "\n",
        "print()\n",
        "\n",
        "print(list(family.items()), \"\\n\") # Bu şekilde list() fonksiyonu ile liste şeklinde de yazdırabiliriz !!! Görüleceği üzere items list elemanı olarak tuple tuple yazdırılır\n",
        "print(list(family.keys()), \"\\n\")\n",
        "print(list(family.values()))\n"
      ],
      "execution_count": null,
      "outputs": [
        {
          "output_type": "stream",
          "text": [
            "dict_items([('name1', 'Hüseyin'), ('name2', 'Emine'), ('name3', 'Yavuz Ali')])\n",
            "dict_keys(['name1', 'name2', 'name3'])\n",
            "dict_values(['Hüseyin', 'Emine', 'Yavuz Ali'])\n",
            "\n",
            "[('name1', 'Hüseyin'), ('name2', 'Emine'), ('name3', 'Yavuz Ali')] \n",
            "\n",
            "['name1', 'name2', 'name3'] \n",
            "\n",
            "['Hüseyin', 'Emine', 'Yavuz Ali']\n"
          ],
          "name": "stdout"
        }
      ]
    },
    {
      "cell_type": "code",
      "metadata": {
        "colab": {
          "base_uri": "https://localhost:8080/"
        },
        "id": "rVD2s2GpE-Xx",
        "outputId": "35dab0d8-439d-431d-a06a-6874f9f1cbd9"
      },
      "source": [
        "# You can add new items using the .update() method. Bir sözlüğe başka bir sözlük (yani birden fazla eleman) eklenebilir\n",
        "\n",
        "dict_by_dict = {'animal': 'dog',\n",
        "                'planet': 'neptun',\n",
        "                'number': 40,\n",
        "                'pi': 3.14,\n",
        "                'is_good': True}\n",
        "\n",
        "dict_by_dict.update({'is_bad': False}) # update() ile item eklerken .update({'is_bad': False}) şeklinde olduğuna dikkat et\n",
        "dict_by_dict[\"naber?\"] = \"Nasılsın?\"   # Buradaki iki kullanım da bir dictionary e item ekelemek için kullanılır\n",
        "\n",
        "print(dict_by_dict)"
      ],
      "execution_count": null,
      "outputs": [
        {
          "output_type": "stream",
          "text": [
            "{'animal': 'dog', 'planet': 'neptun', 'number': 40, 'pi': 3.14, 'is_good': True, 'is_bad': False, 'naber?': 'Nasılsın?'}\n"
          ],
          "name": "stdout"
        }
      ]
    },
    {
      "cell_type": "code",
      "metadata": {
        "colab": {
          "base_uri": "https://localhost:8080/"
        },
        "id": "mkC28cC1Fiu3",
        "outputId": "aeb73c1c-f6c6-431f-8ffb-a29ede98a435"
      },
      "source": [
        "family = dict(name1 = 'Hüseyin', name2 = 'Emine', name3 = 'Yavuz Ali')\n",
        "family.update({\"name4\" : \"Hasan\", \"name5\" : \"Mustafa\"}) # İki yeni item eklendi update() methodu ile\n",
        "print(family)"
      ],
      "execution_count": null,
      "outputs": [
        {
          "output_type": "stream",
          "text": [
            "{'name1': 'Hüseyin', 'name2': 'Emine', 'name3': 'Yavuz Ali', 'name4': 'Hasan', 'name5': 'Mustafa'}\n"
          ],
          "name": "stdout"
        }
      ]
    },
    {
      "cell_type": "code",
      "metadata": {
        "colab": {
          "base_uri": "https://localhost:8080/"
        },
        "id": "c-43Ral1GUw6",
        "outputId": "52f9ad9a-2bff-43f6-d55a-e9c4f04fb869"
      },
      "source": [
        "# You can also remove an item using the del function:\n",
        "# The formula syntax is : del dictionary_name['key'].\n",
        "\n",
        "dict_by_dict = {'animal': 'dog',\n",
        "               'planet': 'neptun',\n",
        "               'number': 40,\n",
        "               'pi': 3.14,\n",
        "               'is_good': True,\n",
        "               'is_bad': False}\n",
        "\n",
        "del dict_by_dict['animal'] # Burada dolayısıyla (animal : dog) itemi silinmiş oldu\n",
        "\n",
        "print(dict_by_dict) "
      ],
      "execution_count": null,
      "outputs": [
        {
          "output_type": "stream",
          "text": [
            "{'planet': 'neptun', 'number': 40, 'pi': 3.14, 'is_good': True, 'is_bad': False}\n"
          ],
          "name": "stdout"
        }
      ]
    },
    {
      "cell_type": "code",
      "metadata": {
        "colab": {
          "base_uri": "https://localhost:8080/"
        },
        "id": "P_4VE5svG1z5",
        "outputId": "a576f6c2-57dc-4615-f1bb-59ae4ec674eb"
      },
      "source": [
        "family = {'name1' : 'Hüseyin', 'name2' : 'Emine', 'name3' : 'Yavuz Ali'}\n",
        "family['name4'] = 'Mustafa'     # name4 olarak Mustafa eklendi\n",
        "family.update({'name5':'Şule'}) # name5 olarak Şule eklendi\n",
        "print(family)\n",
        "del family['name2'] # Görüldüğü gibi del() fonksiyonu ile (içine key alır) istenilen item çıkarılabilir\n",
        "print(family)"
      ],
      "execution_count": null,
      "outputs": [
        {
          "output_type": "stream",
          "text": [
            "{'name1': 'Hüseyin', 'name2': 'Emine', 'name3': 'Yavuz Ali', 'name4': 'Mustafa', 'name5': 'Şule'}\n",
            "{'name1': 'Hüseyin', 'name3': 'Yavuz Ali', 'name4': 'Mustafa', 'name5': 'Şule'}\n"
          ],
          "name": "stdout"
        }
      ]
    },
    {
      "cell_type": "code",
      "metadata": {
        "colab": {
          "base_uri": "https://localhost:8080/"
        },
        "id": "LImNn-GMHmN3",
        "outputId": "3fbc7435-86ab-41a8-b70d-9a3771f61bb5"
      },
      "source": [
        "family = {'name1' : 'Hüseyin', 'name2' : 'Emine', 'name3' : 'Yavuz Ali'}\n",
        "family['name4'] = 'Mustafa'\n",
        "family.update({'name5':'Şule'})\n",
        "print(family)\n",
        "del family['name2'], family['name5'] # Bu şekilde birden fazla item da silebiliriz alt alta da ayrı ayrı del() ile yazılabilirdi\n",
        "print(family)"
      ],
      "execution_count": null,
      "outputs": [
        {
          "output_type": "stream",
          "text": [
            "{'name1': 'Hüseyin', 'name2': 'Emine', 'name3': 'Yavuz Ali', 'name4': 'Mustafa', 'name5': 'Şule'}\n",
            "{'name1': 'Hüseyin', 'name3': 'Yavuz Ali', 'name4': 'Mustafa'}\n"
          ],
          "name": "stdout"
        }
      ]
    },
    {
      "cell_type": "code",
      "metadata": {
        "colab": {
          "base_uri": "https://localhost:8080/"
        },
        "id": "dC2HKeE1IrIY",
        "outputId": "d4ebe008-cb27-4488-d271-0f7c29f940dd"
      },
      "source": [
        "# Using the \"in\" and the \"not in\" operator, you can check if the \"KEY\" is in the dictionary.\n",
        "# When we use the \"in\" operator; if the key is in the dictionary, the result will be True otherwise False.\n",
        "# When we use the \"not in\"; if the key is not in the dictionary, the result will be True otherwise False.\n",
        "\n",
        "dict_by_dict = {'planet': 'neptun',\n",
        "               'number': 40,\n",
        "               'pi': 3.14,\n",
        "               'is_good': True,\n",
        "               'is_bad': False}\n",
        "\n",
        "print('pi' in dict_by_dict)  # pi keyi dict_by_dict içinde mi? Evet (True)\n",
        "print('animal' in dict_by_dict) # animal dict içerisinde mi? Hayır  (False)\n",
        "print('animal' not in dict_by_dict)  # remember, we have deleted 'animal'. Evet değil! (True)"
      ],
      "execution_count": null,
      "outputs": [
        {
          "output_type": "stream",
          "text": [
            "True\n",
            "False\n",
            "True\n"
          ],
          "name": "stdout"
        }
      ]
    },
    {
      "cell_type": "code",
      "metadata": {
        "colab": {
          "base_uri": "https://localhost:8080/"
        },
        "id": "NHrqfELhJIYi",
        "outputId": "2dcfde5e-9e28-4420-ddb7-65a44ef447e3"
      },
      "source": [
        "\"bir\" in [\"bir\", 1, False, 3.0j] # in ve not in tüm collectionslarda kullanılabilir, görüldüğü üzere bu bir list"
      ],
      "execution_count": null,
      "outputs": [
        {
          "output_type": "execute_result",
          "data": {
            "text/plain": [
              "True"
            ]
          },
          "metadata": {
            "tags": []
          },
          "execution_count": 62
        }
      ]
    },
    {
      "cell_type": "code",
      "metadata": {
        "colab": {
          "base_uri": "https://localhost:8080/"
        },
        "id": "dTdY6CqcJieA",
        "outputId": "07c91590-870b-4308-a617-8930c95fbbe0"
      },
      "source": [
        "family = {'name1' : 'Hüseyin', 'name2' : 'Emine', 'name3' : 'Yavuz Ali'}\n",
        "print(\"emine\" in family.values()) # Phyton case sensitive olduğu için çıktı False olur\n",
        "print(\"Emine\" in family.values()) # Emine value'su family dictionary si içinde var mı ? demektir"
      ],
      "execution_count": null,
      "outputs": [
        {
          "output_type": "stream",
          "text": [
            "False\n",
            "True\n"
          ],
          "name": "stdout"
        }
      ]
    },
    {
      "cell_type": "code",
      "metadata": {
        "id": "0mdV5AywtP3Y"
      },
      "source": [
        "monthConversions = {  \n",
        "                    \n",
        "    \"Jan\": \"January\",  # İlk kısım key, ikinci kısım value. Key lerin herbirisi unique olmalıdır. Key ler sadece string olmak zorunda değildir, number şeklinde de olabilir\n",
        "    \"Feb\": \"February\",\n",
        "    \"Mar\": \"March\",\n",
        "    \"Apr\": \"April\",\n",
        "    \"May\": \"May\",\n",
        "    \"Jun\": \"June\",\n",
        "    \"Jul\": \"July\",\n",
        "    \"Aug\": \"August\",\n",
        "    \"Sep\": \"September\",\n",
        "    \"Oct\": \"October\",\n",
        "    \"Nov\": \"November\",\n",
        "    \"Dec\": \"December\",\n",
        "}\n",
        "\n",
        "print(monthConversions[\"Nov\"]) # Bu şekilde dictionary içerisinde key karşılığı olan value çağırma işlemini gerçekleştirebiliriz\n",
        "\n",
        "print(monthConversions.get(\"Dec\")) # Bu şekilde get() fonksiyonu ile de çağırma işlemini gerçekleştirebiliriz\n",
        "\n",
        "print(monthConversions.get(\"Luv\"))  # Eğer olmayan bir key yazılırsa bu şekilde None sonucu alınır\n",
        "\n",
        "print(monthConversions.get(\"Luv\", \"Not a valid key\")) # Olmayan bir key yazılırsa gösterilmek istenen çıktı bu şekilde get() fonksiyonu içinde ikinci sırada yazılabilir"
      ],
      "execution_count": null,
      "outputs": []
    },
    {
      "cell_type": "markdown",
      "metadata": {
        "id": "fqXLLaqVKCC2"
      },
      "source": [
        "### **Nested (İç içe) Dictionaries**"
      ]
    },
    {
      "cell_type": "code",
      "metadata": {
        "id": "MZt2EffzKIWB"
      },
      "source": [
        "school_records={\n",
        "    \"personal_info\":\n",
        "        {\"kid\":{\"tom\": {\"class\": \"intermediate\", \"age\": 10},\n",
        "                \"sue\": {\"class\": \"elementary\", \"age\": 8}\n",
        "               },\n",
        "         \"teen\":{\"joseph\":{\"class\": \"college\", \"age\": 19},\n",
        "                 \"marry\":{\"class\": \"high school\", \"age\": 16}\n",
        "               },               \n",
        "        },\n",
        "        \n",
        "    \"grades_info\":\n",
        "        {\"kid\":{\"tom\": {\"math\": 88, \"speech\": 69},\n",
        "                \"sue\": {\"math\": 90, \"speech\": 81}\n",
        "               },\n",
        "         \"teen\":{\"joseph\":{\"coding\": 80, \"math\": 89},\n",
        "                 \"marry\":{\"coding\": 70, \"math\": 96}\n",
        "               },               \n",
        "        },        \n",
        "}\n"
      ],
      "execution_count": null,
      "outputs": []
    },
    {
      "cell_type": "code",
      "metadata": {
        "colab": {
          "base_uri": "https://localhost:8080/"
        },
        "id": "WNY7FEsPKtOX",
        "outputId": "c6f37868-c945-428c-f811-99be144f81f6"
      },
      "source": [
        "# We can use square brackets to access internal dicts :\n",
        "\n",
        "school_records={\n",
        "    \"personal_info\":\n",
        "        {\"kid\":{\"tom\": {\"class\":\"intermediate\", \"age\":10},\n",
        "                \"sue\": {\"class\":\"elementary\", \"age\":8}\n",
        "               },\n",
        "         \"teen\":{\"joseph\":{\"class\":\"college\", \"age\":19},\n",
        "                 \"marry\":{\"class\":\"high school\", \"age\":16}\n",
        "               },               \n",
        "        },\n",
        "}\n",
        "\n",
        "print(school_records['personal_info'], \"\\n\")                    # Hepsini yine list() fonksiyonu ile listeleyebilirdik\n",
        "print(school_records['personal_info']['teen'], \"\\n\")\n",
        "print(school_records['personal_info']['teen']['marry'], \"\\n\")\n",
        "print(school_records['personal_info']['teen']['marry']['age'], \"\\n\")\n",
        "print(len(school_records['personal_info']['teen']['marry']), \"\\n\")    # Çıktıda da görüleceği üzere en içteki dictionary eleman sayısı (class,age items) 2 dir\n",
        "print(school_records['personal_info']['kid']['tom']['class'], \"\\n\")   # intermediate value'suna ulaşmak için\n",
        "print(len(school_records['personal_info']['kid']['tom']['class']))    # intermediate value'sunun uzunluğunu/karakter sayısını çıkartır\n"
      ],
      "execution_count": null,
      "outputs": [
        {
          "output_type": "stream",
          "text": [
            "{'kid': {'tom': {'class': 'intermediate', 'age': 10}, 'sue': {'class': 'elementary', 'age': 8}}, 'teen': {'joseph': {'class': 'college', 'age': 19}, 'marry': {'class': 'high school', 'age': 16}}} \n",
            "\n",
            "{'joseph': {'class': 'college', 'age': 19}, 'marry': {'class': 'high school', 'age': 16}} \n",
            "\n",
            "{'class': 'high school', 'age': 16} \n",
            "\n",
            "16 \n",
            "\n",
            "2 \n",
            "\n",
            "intermediate \n",
            "\n",
            "12\n"
          ],
          "name": "stdout"
        }
      ]
    },
    {
      "cell_type": "markdown",
      "metadata": {
        "id": "N9rd1JfRQKCg"
      },
      "source": [
        "Dictionaries strongly resemble JSON syntax. The native json module in the Python standard library can be used to convert between JSON and dictionaries.\n",
        "\n",
        "What is 'JSON' and what is it used for?"
      ]
    },
    {
      "cell_type": "code",
      "metadata": {
        "colab": {
          "base_uri": "https://localhost:8080/"
        },
        "id": "9vbA2uG5QXde",
        "outputId": "6b4c1757-4337-46f7-adee-6da2cab5312c"
      },
      "source": [
        "school_records={\n",
        "    \"personal_info\":\n",
        "        {\"kid\":{\"tom\": {\"class\": \"intermediate\", \"age\": 10},\n",
        "                \"sue\": {\"class\": \"elementary\", \"age\": 8}\n",
        "               },\n",
        "         \"teen\":{\"joseph\":{\"class\": \"college\", \"age\": 19},\n",
        "                 \"marry\":{\"class\": \"high school\", \"age\": 16}\n",
        "               },               \n",
        "        },\n",
        "        \n",
        "    \"grades_info\":\n",
        "        {\"kid\":{\"tom\": {\"math\": 88, \"speech\": 69},\n",
        "                \"sue\": {\"math\": 90, \"speech\": 81}\n",
        "               },\n",
        "         \"teen\":{\"joseph\":{\"coding\": 80, \"math\": 89},\n",
        "                 \"marry\":{\"coding\": 70, \"math\": 96}\n",
        "               },               \n",
        "        },        \n",
        "}\n",
        "\n",
        "print(school_records[\"grades_info\"][\"teen\"][\"joseph\"]) # dic olarak çıkartır\n",
        "print(list(school_records[\"grades_info\"][\"teen\"][\"joseph\"])) # list olarak çıkartır\n",
        "print(list(school_records[\"grades_info\"][\"teen\"][\"joseph\"].items())) # itemları list olarak çıkartır. Böyle olunca itemalar list içinde tuple şeklinde gösterilir\n",
        "\n",
        "# 3 Farklı şekilde çıktısını alabiliriz"
      ],
      "execution_count": null,
      "outputs": [
        {
          "output_type": "stream",
          "text": [
            "{'coding': 80, 'math': 89}\n",
            "['coding', 'math']\n",
            "[('coding', 80), ('math', 89)]\n"
          ],
          "name": "stdout"
        }
      ]
    },
    {
      "cell_type": "code",
      "metadata": {
        "colab": {
          "base_uri": "https://localhost:8080/"
        },
        "id": "nSEV5zE4R2Jc",
        "outputId": "dd46461b-d7ed-41b5-a053-3efe6b53e165"
      },
      "source": [
        "friends = {\n",
        "    \"friend1\" : {\"first\" : \"Hüseyin\", \"last\" : \"Yaman\", \"age\" : 34},\n",
        "    \"friend2\" : {\"first\" : \"Hakan\", \"last\" : \"Torun\", \"age\" : 30}\n",
        "}\n",
        "print(friends)"
      ],
      "execution_count": null,
      "outputs": [
        {
          "output_type": "stream",
          "text": [
            "{'friend1': {'first': 'Hüseyin', 'last': 'Yaman', 'age': 34}, 'friend2': {'first': 'Hakan', 'last': 'Torun', 'age': 30}}\n"
          ],
          "name": "stdout"
        }
      ]
    },
    {
      "cell_type": "code",
      "metadata": {
        "colab": {
          "base_uri": "https://localhost:8080/"
        },
        "id": "A9trLKYITL7T",
        "outputId": "bfecce94-002d-4584-b422-9bb3ca40d04d"
      },
      "source": [
        "favourite = {\n",
        "   \"friends\" : {\n",
        "       \"friend1\" : {\"first\" : \"Hüseyin\", \"last\" : \"Yaman\", \"age\" : 34},\n",
        "       \"friend2\" : {\"first\" : \"Hakan\", \"last\" : \"Torun\", \"age\" : 30}\n",
        "   },\n",
        "\n",
        "   \"family\" : {\n",
        "       \"family1\" : {\"first\" : \"Emine\", \"last\" : \"Yaman\", \"age\" : 33 },\n",
        "       \"family2\" : {\"first\" : \"Yavuz Ali\", \"last\" : \"Yaman\", \"age\" : 30},\n",
        "       \"family3\" : {\"first\" : \"Hasan\", \"last\" : \"Yaman\", \"age\" : 30}\n",
        "   }\n",
        "}\n",
        "print(favourite)"
      ],
      "execution_count": null,
      "outputs": [
        {
          "output_type": "stream",
          "text": [
            "{'friends': {'friend1': {'first': 'Hüseyin', 'last': 'Yaman', 'age': 34}, 'friend2': {'first': 'Hakan', 'last': 'Torun', 'age': 30}}, 'family': {'family1': {'first': 'Emine', 'last': 'Yaman', 'age': 33}, 'family2': {'first': 'Yavuz Ali', 'last': 'Yaman', 'age': 30}, 'family3': {'first': 'Hasan', 'last': 'Yaman', 'age': 30}}}\n"
          ],
          "name": "stdout"
        }
      ]
    },
    {
      "cell_type": "code",
      "metadata": {
        "colab": {
          "base_uri": "https://localhost:8080/"
        },
        "id": "cAL80soLENOc",
        "outputId": "2d89480d-a8dc-4380-bda2-376ca2377b9b"
      },
      "source": [
        "customers = { \n",
        "'bank': \n",
        "{1: {'name': 'James', 'age': '27', 'sex': 'Male'}, \n",
        " 2: {'name': 'Nicole', 'age': '25', 'sex': 'Female'},  \n",
        " 3: {'name': 'Andy', 'age': '38', 'sex': 'Male'}, \n",
        " 4: {'name': 'Alex', 'age': '19', 'sex': 'Male'}, \n",
        " 5: {'name': 'Linda', 'age': '33', 'sex': 'Female'}, \n",
        "},\n",
        "'insurance':\n",
        "{1: {'name': 'Jashua', 'age': '33', 'sex': 'Male'}, \n",
        " 2: {'name': 'Marry', 'age': '66', 'sex': 'Female'},  \n",
        " 3: {'name': 'Adam', 'age': '56', 'sex': 'Male'}, \n",
        " 4: {'name': 'Samuel', 'age': '54', 'sex': 'Male'}, \n",
        " 5: {'name': 'Lisa', 'age': '22', 'sex': 'Female'},\n",
        "},\n",
        "}\n",
        "\n",
        "print(customers[\"insurance\"][5][\"age\"]) #Görüleceği üzere str keyler str olarak, integer keyler int olarak [] içine yazılır access yapılırken"
      ],
      "execution_count": null,
      "outputs": [
        {
          "output_type": "stream",
          "text": [
            "22\n"
          ],
          "name": "stdout"
        }
      ]
    },
    {
      "cell_type": "markdown",
      "metadata": {
        "id": "QDKzjbUdVBrz"
      },
      "source": [
        "## **SETS (KÜMELER)**"
      ]
    },
    {
      "cell_type": "code",
      "metadata": {
        "id": "Aj4ccwI2VHpV"
      },
      "source": [
        "# A set is a collection of elements with no repeats (Kümelerde listelerde olduğu gibi tekrar eden elemanlar yazamazsın, tek olarak yazdırır)\n",
        "# Basic uses include membership testing and eliminating duplicate entries. \n",
        "# Set objects also support mathematical operations like union, intersection, difference, and symmetric difference.\n",
        "# (Python'da küme, matematikteki kümelerin sahip olduğu bütün özellikleri taşır. Yani matematikteki kümelerden bildiğimiz kesişim, birleşim ve fark gibi özellikler Python’daki kümeler için de geçerlidir.)"
      ],
      "execution_count": null,
      "outputs": []
    },
    {
      "cell_type": "code",
      "metadata": {
        "colab": {
          "base_uri": "https://localhost:8080/"
        },
        "id": "yYre0Fp7W3gs",
        "outputId": "363e1e12-fa09-4793-fca4-c3b24508c77f"
      },
      "source": [
        "set_1 = {'red', 'blue', 'pink', 'red'}\n",
        "colors = 'red', 'blue', 'pink', 'red', 'yellow'\n",
        "\n",
        "set_1 = set(colors)\n",
        "print(set_1) # Çıktının sırası değişik olabilir her defasında, lakin dikkat edilirse tekrardan kaçınır"
      ],
      "execution_count": null,
      "outputs": [
        {
          "output_type": "stream",
          "text": [
            "{'pink', 'blue', 'red', 'yellow'}\n"
          ],
          "name": "stdout"
        }
      ]
    },
    {
      "cell_type": "code",
      "metadata": {
        "id": "QDRmppZkWwIx"
      },
      "source": [
        "# Curly braces '{}' or the set() function can be used to create sets. \n",
        "# But the only way to create an empty set is: use the set() function. \n",
        "# Note that, to create an empty set you have to use set() function. \n",
        "# Do not use {} to create an empty set. Otherwise, you will create an empty dictionary.\n"
      ],
      "execution_count": null,
      "outputs": []
    },
    {
      "cell_type": "code",
      "metadata": {
        "colab": {
          "base_uri": "https://localhost:8080/"
        },
        "id": "nwOyzSzkXt7p",
        "outputId": "41031fa0-75cb-43d4-bac1-7697aaded3f5"
      },
      "source": [
        "empty_set = set() # Boş bir küme sadece bu şekilde oluşturulabilir\n",
        "empty_dic = {}    # Bu şekilde oluşturulan boş bir dictionary olur\n",
        "print(type(empty_set))\n",
        "print(type(empty_dic))"
      ],
      "execution_count": null,
      "outputs": [
        {
          "output_type": "stream",
          "text": [
            "<class 'set'>\n",
            "<class 'dict'>\n"
          ],
          "name": "stdout"
        }
      ]
    },
    {
      "cell_type": "code",
      "metadata": {
        "colab": {
          "base_uri": "https://localhost:8080/"
        },
        "id": "Yi41iL5jaZFT",
        "outputId": "3d54b1a3-c0bb-4d3c-e703-5cf0e9da8cbd"
      },
      "source": [
        "s = set('unselfishness') # Bu şekilde string ifadelerle bir küme oluşturulabilir set() fonksiyonu yardımıyla\n",
        "\n",
        "print(s) # unordered "
      ],
      "execution_count": null,
      "outputs": [
        {
          "output_type": "stream",
          "text": [
            "{'i', 'u', 'e', 'n', 'l', 's', 'h', 'f'}\n"
          ],
          "name": "stdout"
        }
      ]
    },
    {
      "cell_type": "code",
      "metadata": {
        "colab": {
          "base_uri": "https://localhost:8080/"
        },
        "id": "gt4GRyGnb-Je",
        "outputId": "8ea53950-c4e4-40b0-a8a6-7f987bf74d1a"
      },
      "source": [
        "print(len(set('listen to the voice of enlisted')))\n",
        "print(set('listen to the voice of enlisted')) # Tekrar edenleri yazmaz"
      ],
      "execution_count": null,
      "outputs": [
        {
          "output_type": "stream",
          "text": [
            "13\n",
            "{'h', 'o', 'f', 'n', 'e', 'i', 'd', ' ', 'v', 't', 'l', 's', 'c'}\n"
          ],
          "name": "stdout"
        }
      ]
    },
    {
      "cell_type": "code",
      "metadata": {
        "colab": {
          "base_uri": "https://localhost:8080/"
        },
        "id": "w7s9uSlOeCDD",
        "outputId": "42a121d7-6d2c-49d9-e024-4ec2c5020d0e"
      },
      "source": [
        "a = set(\"04/14/2021\") # Bu elemanlarına ayırır, tüm collections fonksitonları için geçerlidir(list,tuple,set)\n",
        "print(a)\n",
        "b = {\"04/14/2021\"}\n",
        "print(b)\n",
        "\n",
        "c = list(\"04/14/2021\")\n",
        "print(c)\n",
        "\n",
        "d = tuple(\"04/14/2021\")\n",
        "print(d)"
      ],
      "execution_count": null,
      "outputs": [
        {
          "output_type": "stream",
          "text": [
            "{'2', '1', '/', '4', '0'}\n",
            "{'04/14/2021'}\n",
            "['0', '4', '/', '1', '4', '/', '2', '0', '2', '1']\n",
            "('0', '4', '/', '1', '4', '/', '2', '0', '2', '1')\n"
          ],
          "name": "stdout"
        }
      ]
    },
    {
      "cell_type": "code",
      "metadata": {
        "colab": {
          "base_uri": "https://localhost:8080/"
        },
        "id": "MPq1d5xEeuVZ",
        "outputId": "bea297ec-a9cd-4907-9a0e-cd6d2e5d908c"
      },
      "source": [
        "# Create a list that shows the unique elements\n",
        "given_list = [1, 2, 3, 3, 3, 3, 4, 4, 5, 5,]\n",
        "print(set(given_list))"
      ],
      "execution_count": null,
      "outputs": [
        {
          "output_type": "stream",
          "text": [
            "{1, 2, 3, 4, 5}\n"
          ],
          "name": "stdout"
        }
      ]
    },
    {
      "cell_type": "code",
      "metadata": {
        "colab": {
          "base_uri": "https://localhost:8080/"
        },
        "id": "ODUDtI2iXurc",
        "outputId": "c06df4ef-2a4c-4c8e-e87f-0cfdf88f5a19"
      },
      "source": [
        "# We will now see how sets have unordered and unique objects.\n",
        "colorset = {'purple', 'orange', 'red', 'darkblue', 'yellow', 'red'} # {} içinde : lar yok \n",
        "\n",
        "print(colorset)"
      ],
      "execution_count": null,
      "outputs": [
        {
          "output_type": "stream",
          "text": [
            "{'red', 'yellow', 'darkblue', 'orange', 'purple'}\n",
            "{'red', 'yellow', 'darkblue', 'orange', 'purple'}\n"
          ],
          "name": "stdout"
        }
      ]
    },
    {
      "cell_type": "code",
      "metadata": {
        "colab": {
          "base_uri": "https://localhost:8080/"
        },
        "id": "RhWOqXlCYCF8",
        "outputId": "db65b517-4f17-4e52-fbab-ef19c55c0951"
      },
      "source": [
        "letter = \"a b c d e f g h i j k l m n o p r s t u v y z\".split() #split() metodu ile görüldüğü gibi string ifadenin karakterlerinin hepsini ayrı ayrı liste şeklinde çıkarır\n",
        "print(letter) # Burada liste oluştu\n",
        "print(set(letter)) # set() fonksiyonu ile listemizi küme haline getirdik, görüldüğü gibi sıra olarak unordered gelir, her defasında değişebilir ama tekrarlar varsa tek alır"
      ],
      "execution_count": null,
      "outputs": [
        {
          "output_type": "stream",
          "text": [
            "['a', 'b', 'c', 'd', 'e', 'f', 'g', 'h', 'i', 'j', 'k', 'l', 'm', 'n', 'o', 'p', 'r', 's', 't', 'u', 'v', 'y', 'z']\n",
            "{'j', 'u', 'e', 'a', 'g', 'i', 'v', 'k', 'n', 'r', 'c', 'p', 'l', 's', 'h', 'b', 'o', 'f', 'd', 'z', 'm', 't', 'y'}\n"
          ],
          "name": "stdout"
        }
      ]
    },
    {
      "cell_type": "code",
      "metadata": {
        "colab": {
          "base_uri": "https://localhost:8080/"
        },
        "id": "0ZF1oyVXZesv",
        "outputId": "7b9830ac-5668-42d6-eb19-002f8ba560d5"
      },
      "source": [
        "test = {1, \"bir\", 1.0} # Görüldüğü gibi bu kümede 1 ile 1.0 birbirinin aynısı olduğu için unique olarak sadece birini aldı uzunluğu da dolayısıyla 2 oldu\n",
        "print(test)\n",
        "print(len(test))"
      ],
      "execution_count": null,
      "outputs": [
        {
          "output_type": "stream",
          "text": [
            "{1, 'bir'}\n",
            "2\n"
          ],
          "name": "stdout"
        }
      ]
    },
    {
      "cell_type": "code",
      "metadata": {
        "colab": {
          "base_uri": "https://localhost:8080/"
        },
        "id": "1wNet8XQajBD",
        "outputId": "8a76345a-8761-43f0-e829-a19f6d293077"
      },
      "source": [
        "flower_list = ['rose', 'violet', 'carnation', 'rose', 'orchid', 'rose', 'orchid']\n",
        "flowerset = set(flower_list) # set() fonksiyonu ile listeyi ilk olarak kümeye çevirebildik, tekrar eden ifadeler tek olarak yazıldı\n",
        "flowerlist = list(flowerset) # Takiben list() fonksiyonu ile tekrardan listeye çevirdik\n",
        "\n",
        "print(flowerset) \n",
        "print(flowerlist)"
      ],
      "execution_count": null,
      "outputs": [
        {
          "output_type": "stream",
          "text": [
            "{'violet', 'orchid', 'rose', 'carnation'}\n",
            "['violet', 'orchid', 'rose', 'carnation']\n"
          ],
          "name": "stdout"
        }
      ]
    },
    {
      "cell_type": "code",
      "metadata": {
        "colab": {
          "base_uri": "https://localhost:8080/"
        },
        "id": "O-CAmfXHbmcv",
        "outputId": "49e18f50-e586-475c-f05d-1e8d6fc27ece"
      },
      "source": [
        "a = {'carnation', 'orchid', 'rose', 'violet'}\n",
        "b = {'rose', 'orchid', 'rose', 'violet', 'carnation'}\n",
        "print(a)\n",
        "print(b)  # Çıktılar aynı olur, kümelerde sıralamlar farklı olabilir ama bu iki küme aynıdır\n",
        "print(a == b) "
      ],
      "execution_count": null,
      "outputs": [
        {
          "output_type": "stream",
          "text": [
            "{'orchid', 'violet', 'rose', 'carnation'}\n",
            "{'violet', 'carnation', 'rose', 'orchid'}\n",
            "True\n"
          ],
          "name": "stdout"
        }
      ]
    },
    {
      "cell_type": "code",
      "metadata": {
        "colab": {
          "base_uri": "https://localhost:8080/"
        },
        "id": "V10Y5BxXGb-_",
        "outputId": "583a26fa-5599-471c-8f4e-afba70aff8ed"
      },
      "source": [
        "\n",
        "set_2 = set([1,2,2,3,4,5]) # Bu kullanımların hepsi ile set yapılabilmektedir\n",
        "set_3 = set((1,2,3,4))\n",
        "set_4 = {1,2,3,4}\n",
        "\n",
        "\n",
        "print(set_2)\n",
        "print(set_3)\n",
        "print(set_4)"
      ],
      "execution_count": null,
      "outputs": [
        {
          "output_type": "stream",
          "text": [
            "{1, 2, 3, 4, 5}\n",
            "{1, 2, 3, 4}\n",
            "{1, 2, 3, 4}\n"
          ],
          "name": "stdout"
        }
      ]
    },
    {
      "cell_type": "code",
      "metadata": {
        "colab": {
          "base_uri": "https://localhost:8080/",
          "height": 177
        },
        "id": "MUcWdEExG26S",
        "outputId": "a33b2e27-7f74-4ce7-e497-18136b857c51"
      },
      "source": [
        "set_1 = set([[1,2],[3,4],[4,5]]) # Bu şekilde bir kullanım ile (iç içe list) set oluşturulamamaktadır\n",
        "print(set_1)"
      ],
      "execution_count": null,
      "outputs": [
        {
          "output_type": "error",
          "ename": "TypeError",
          "evalue": "ignored",
          "traceback": [
            "\u001b[0;31m---------------------------------------------------------------------------\u001b[0m",
            "\u001b[0;31mTypeError\u001b[0m                                 Traceback (most recent call last)",
            "\u001b[0;32m<ipython-input-47-3f8706f04502>\u001b[0m in \u001b[0;36m<module>\u001b[0;34m()\u001b[0m\n\u001b[0;32m----> 1\u001b[0;31m \u001b[0mset_1\u001b[0m \u001b[0;34m=\u001b[0m \u001b[0mset\u001b[0m\u001b[0;34m(\u001b[0m\u001b[0;34m[\u001b[0m\u001b[0;34m[\u001b[0m\u001b[0;36m1\u001b[0m\u001b[0;34m,\u001b[0m\u001b[0;36m2\u001b[0m\u001b[0;34m]\u001b[0m\u001b[0;34m,\u001b[0m\u001b[0;34m[\u001b[0m\u001b[0;36m3\u001b[0m\u001b[0;34m,\u001b[0m\u001b[0;36m4\u001b[0m\u001b[0;34m]\u001b[0m\u001b[0;34m,\u001b[0m\u001b[0;34m[\u001b[0m\u001b[0;36m4\u001b[0m\u001b[0;34m,\u001b[0m\u001b[0;36m5\u001b[0m\u001b[0;34m]\u001b[0m\u001b[0;34m]\u001b[0m\u001b[0;34m)\u001b[0m\u001b[0;34m\u001b[0m\u001b[0;34m\u001b[0m\u001b[0m\n\u001b[0m\u001b[1;32m      2\u001b[0m \u001b[0mprint\u001b[0m\u001b[0;34m(\u001b[0m\u001b[0mset_1\u001b[0m\u001b[0;34m)\u001b[0m\u001b[0;34m\u001b[0m\u001b[0;34m\u001b[0m\u001b[0m\n",
            "\u001b[0;31mTypeError\u001b[0m: unhashable type: 'list'"
          ]
        }
      ]
    },
    {
      "cell_type": "code",
      "metadata": {
        "colab": {
          "base_uri": "https://localhost:8080/"
        },
        "id": "mRHr4ViHHc2I",
        "outputId": "13e6a559-e5aa-4e79-c769-65e5397f5098"
      },
      "source": [
        "set_3 = set(((1,2),(3,4),(4,6),(1,2))) # Fakat görüleceği üzere iç içe tuple ile bir set yapılabilmektedir\n",
        "print(set_3)"
      ],
      "execution_count": null,
      "outputs": [
        {
          "output_type": "stream",
          "text": [
            "{(1, 2), (3, 4), (4, 6)}\n"
          ],
          "name": "stdout"
        }
      ]
    },
    {
      "cell_type": "markdown",
      "metadata": {
        "id": "YdqMsxbuWQWt"
      },
      "source": [
        "### **Main Operations with Sets**\n",
        "\n",
        "print(a - b)  # same as '.difference()' method\n",
        "\n",
        "print(a.difference(b)) # a difference from b\n",
        "\n",
        "print(a | b)  # same as '.union()' method\n",
        "\n",
        "print(a.union(b)) # unification of a with b\n",
        "\n",
        "print(a & b)  # same as '.intersection()' method\n",
        "\n",
        "print(a.intersection(b)) # intersection of a and b"
      ]
    },
    {
      "cell_type": "markdown",
      "metadata": {
        "id": "7S9zRp0iILo6"
      },
      "source": [
        "These methods are :\n",
        "\n",
        ".add() : Adds a new item to the set.\n",
        "\n",
        ".remove() : Allows us to delete an item.\n",
        "\n",
        ".intersection() : Returns the intersection of two sets.\n",
        "\n",
        ".union() : Returns the unification of two sets.\n",
        "\n",
        ".difference() : Gets the difference of two sets."
      ]
    },
    {
      "cell_type": "code",
      "metadata": {
        "colab": {
          "base_uri": "https://localhost:8080/"
        },
        "id": "n3b1lzULINev",
        "outputId": "9d04724e-a4c3-44c7-8bb5-4185f0873bf2"
      },
      "source": [
        "a = set('abracadabra')\n",
        "print(a) # Görüleceği üzere tekrarlar gitti"
      ],
      "execution_count": null,
      "outputs": [
        {
          "output_type": "stream",
          "text": [
            "{'d', 'b', 'a', 'c', 'r'}\n"
          ],
          "name": "stdout"
        }
      ]
    },
    {
      "cell_type": "code",
      "metadata": {
        "colab": {
          "base_uri": "https://localhost:8080/"
        },
        "id": "efW_My4xIR5V",
        "outputId": "4a53439a-17c6-4c0f-b034-6e4eccc757cb"
      },
      "source": [
        "a = set('abracadabra')\n",
        "b = set('alacazam')\n",
        "\n",
        "print(a)\n",
        "print(b)\n",
        "\n",
        "print(a - b)  # same as '.difference()' method (a kümesinde olup b kümesinde olmayanlar demektir)\n",
        "print(a.difference(b)) # Bu şekilde difference() methodu ile de bulunabilmektedir."
      ],
      "execution_count": null,
      "outputs": [
        {
          "output_type": "stream",
          "text": [
            "{'d', 'b', 'a', 'c', 'r'}\n",
            "{'m', 'a', 'l', 'c', 'z'}\n",
            "{'d', 'b', 'r'}\n",
            "{'d', 'b', 'r'}\n"
          ],
          "name": "stdout"
        }
      ]
    },
    {
      "cell_type": "code",
      "metadata": {
        "colab": {
          "base_uri": "https://localhost:8080/"
        },
        "id": "mFC2vtSJI8gj",
        "outputId": "01bec5ff-0e91-4e97-e185-ee8dbf35ca1f"
      },
      "source": [
        "a = set('abracadabra')\n",
        "b = set('alacazam')\n",
        "\n",
        "print(a)\n",
        "print(b)\n",
        "\n",
        "print(a | b)  # same as '.union()' method (a birleşim b kümesi demektir)\n",
        "print(a.union(b)) # Bu şekilde union() methodu ile de bulunabilmektedir"
      ],
      "execution_count": null,
      "outputs": [
        {
          "output_type": "stream",
          "text": [
            "{'d', 'b', 'a', 'c', 'r'}\n",
            "{'m', 'a', 'l', 'c', 'z'}\n",
            "{'d', 'b', 'm', 'a', 'c', 'l', 'z', 'r'}\n",
            "{'d', 'b', 'm', 'a', 'c', 'l', 'z', 'r'}\n"
          ],
          "name": "stdout"
        }
      ]
    },
    {
      "cell_type": "code",
      "metadata": {
        "colab": {
          "base_uri": "https://localhost:8080/"
        },
        "id": "k00-sRtfJT9o",
        "outputId": "ee26af8e-157b-4449-b7e9-f1b43cf7fcb1"
      },
      "source": [
        "a = set('abracadabra')\n",
        "b = set('alacazam')\n",
        "\n",
        "print(a)\n",
        "print(b)\n",
        "\n",
        "print(a & b)  # same as '.intersection()' method (a kesişim b kümesi)\n",
        "print(a.intersection(b)) # bu şekilde intersection() methodu ile de bulunabilmektedir"
      ],
      "execution_count": null,
      "outputs": [
        {
          "output_type": "stream",
          "text": [
            "{'d', 'b', 'a', 'c', 'r'}\n",
            "{'m', 'a', 'l', 'c', 'z'}\n",
            "{'a', 'c'}\n",
            "{'a', 'c'}\n"
          ],
          "name": "stdout"
        }
      ]
    },
    {
      "cell_type": "code",
      "metadata": {
        "colab": {
          "base_uri": "https://localhost:8080/"
        },
        "id": "6965IAw4J7G-",
        "outputId": "e9639612-1260-4ab2-a318-ff04bb351c1b"
      },
      "source": [
        "a = set('abracadabra')\n",
        "\n",
        "a.remove('c') # we delete 'c' from the set\n",
        "print(a)\n",
        "\n",
        "a.add('c') # we add 'c' again into the set\n",
        "print(a)\n"
      ],
      "execution_count": null,
      "outputs": [
        {
          "output_type": "stream",
          "text": [
            "{'d', 'b', 'a', 'r'}\n",
            "{'d', 'b', 'a', 'c', 'r'}\n"
          ],
          "name": "stdout"
        }
      ]
    },
    {
      "cell_type": "code",
      "metadata": {
        "colab": {
          "base_uri": "https://localhost:8080/"
        },
        "id": "Qz86EtyVKSGo",
        "outputId": "e5e9bb78-a106-48d1-b48c-4176906c5448"
      },
      "source": [
        "print(set('listen to the voice of enlisted'))\n",
        "print(len(set('listen to the voice of enlisted'))) # Çünkü aynı olanları çıkartır (unique olmalı)"
      ],
      "execution_count": null,
      "outputs": [
        {
          "output_type": "stream",
          "text": [
            "{'d', ' ', 'i', 't', 'h', 'e', 'v', 'o', 'f', 'n', 'l', 'c', 's'}\n",
            "13\n"
          ],
          "name": "stdout"
        }
      ]
    },
    {
      "cell_type": "code",
      "metadata": {
        "id": "uz3hb-KbML9L"
      },
      "source": [
        "# Return True if all items set x are present in set y: Yani bir küme diğerinin alt kümesi mi diye bakıyor set.issubset(set) şeklinde kullanılır\n",
        "x = {\"a\", \"b\", \"c\"}\n",
        "y = {\"f\", \"e\", \"d\", \"c\", \"b\", \"a\"}\n",
        "\n",
        "z = x.issubset(y)\n",
        "\n",
        "print(z)"
      ],
      "execution_count": null,
      "outputs": []
    },
    {
      "cell_type": "code",
      "metadata": {
        "colab": {
          "base_uri": "https://localhost:8080/"
        },
        "id": "16RB3PGffeej",
        "outputId": "62f1fa46-9b33-4af1-b07e-863c18a3d27e"
      },
      "source": [
        "abd = set(\"Washington\")\n",
        "nz = set(\"Wellington\")\n",
        "\n",
        "print(abd.union(nz))\n",
        "print(abd.intersection(nz))\n",
        "print(abd.difference(nz))\n",
        "print()\n",
        "print(abd | nz)\n",
        "print(abd & nz)    # Bu kısımda işaretlerle gösterimleri\n",
        "print(abd - nz)"
      ],
      "execution_count": null,
      "outputs": [
        {
          "output_type": "stream",
          "text": [
            "{'h', 'o', 'n', 'e', 'i', 'a', 't', 'W', 'g', 's', 'l'}\n",
            "{'o', 'n', 'i', 'W', 'g', 't'}\n",
            "{'a', 'h', 's'}\n",
            "\n",
            "{'h', 'o', 'n', 'e', 'i', 'a', 't', 'W', 'g', 's', 'l'}\n",
            "{'o', 'n', 'i', 'W', 'g', 't'}\n",
            "{'a', 'h', 's'}\n"
          ],
          "name": "stdout"
        }
      ]
    }
  ]
}