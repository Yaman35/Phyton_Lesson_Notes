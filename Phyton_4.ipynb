{
  "nbformat": 4,
  "nbformat_minor": 0,
  "metadata": {
    "colab": {
      "name": "Phyton-4.ipynb",
      "provenance": [],
      "collapsed_sections": []
    },
    "kernelspec": {
      "name": "python3",
      "display_name": "Python 3"
    }
  },
  "cells": [
    {
      "cell_type": "markdown",
      "metadata": {
        "id": "S-OtSmeSw4iK"
      },
      "source": [
        "### **Searching Strings endswith() ve startswith() Methodları**"
      ]
    },
    {
      "cell_type": "markdown",
      "metadata": {
        "id": "FRB_yYUR5CDL"
      },
      "source": [
        ".startswith(prefix[, start[, end]])\n",
        "\n",
        ".endswith(prefix[, start[, end]])"
      ]
    },
    {
      "cell_type": "code",
      "metadata": {
        "colab": {
          "base_uri": "https://localhost:8080/"
        },
        "id": "y2p-EQ5-Q_Yi",
        "outputId": "c2f863e2-8854-4a59-bdd8-f84fcb4fff29"
      },
      "source": [
        "# Bu iki fonksiyonun çıktıları boolen (True/False) tipinde olur\n",
        "text = 'www.clarusway.com'  \n",
        "print(text.endswith('.com'))     # text değişkeninin sonu .com mu? demektir\n",
        "print(text.startswith('http:'))  # text değişkeninin başı http: mi? demektir"
      ],
      "execution_count": null,
      "outputs": [
        {
          "output_type": "stream",
          "text": [
            "True\n",
            "False\n"
          ],
          "name": "stdout"
        }
      ]
    },
    {
      "cell_type": "code",
      "metadata": {
        "colab": {
          "base_uri": "https://localhost:8080/"
        },
        "id": "8CyUpqOYRPvR",
        "outputId": "35e885ad-9d7b-4f55-8905-b9caedc50fe8"
      },
      "source": [
        "text = 'www.clarusway.com'\n",
        "print(text.endswith('om'))\n",
        "print(text.startswith('w'))\n",
        "# Remember! Characters of string count from left to right and start with zero."
      ],
      "execution_count": null,
      "outputs": [
        {
          "output_type": "stream",
          "text": [
            "True\n",
            "True\n"
          ],
          "name": "stdout"
        }
      ]
    },
    {
      "cell_type": "code",
      "metadata": {
        "colab": {
          "base_uri": "https://localhost:8080/"
        },
        "id": "nue9Lhj189u8",
        "outputId": "f06022cf-0252-4c9b-c1bd-5aa24c507c2a"
      },
      "source": [
        "text = 'www.clarusway.com'\n",
        "print(text.endswith('.co')) # İlk ve son karakterler birebir uymalı\n",
        "print(text.startswith('w.'))"
      ],
      "execution_count": null,
      "outputs": [
        {
          "output_type": "stream",
          "text": [
            "False\n",
            "False\n"
          ],
          "name": "stdout"
        }
      ]
    },
    {
      "cell_type": "code",
      "metadata": {
        "colab": {
          "base_uri": "https://localhost:8080/"
        },
        "id": "JZHI-_zhRjA2",
        "outputId": "d109c1e4-70ec-4079-92ba-996fa593f7c3"
      },
      "source": [
        "email = \"clarusway@clarusway.com is my e-mail address\"\n",
        "print(email.startswith(\"@\", 9))  # email değişkeninin baştan 9. karakteri @ mi demektir\n",
        "print(email.endswith(\"-\", 10, 32)) # email değişkeninin 10.indexinden aramaya başla 31.indexi (32-1) '-' mi demektir.\n",
        "                                   # Fakat 32 yi 33 veya 31 yap o zaman sonuç False olur. Çünkü o zaman 32.(33-1) ve 30.(31-1) indexler '-' mi bakar olmadığı için False verir\n",
        "print(email.endswith(\"-\", 10, 33))\n",
        "print(email.endswith(\"-\", 10, 31))"
      ],
      "execution_count": null,
      "outputs": [
        {
          "output_type": "stream",
          "text": [
            "True\n",
            "True\n",
            "False\n",
            "False\n"
          ],
          "name": "stdout"
        }
      ]
    },
    {
      "cell_type": "code",
      "metadata": {
        "colab": {
          "base_uri": "https://localhost:8080/"
        },
        "id": "VD2mqQu48cyh",
        "outputId": "001f8f70-c9e9-4048-e9ce-3d4903d82f73"
      },
      "source": [
        "email=\"clarusway@clarusway.com is my e-mail adress\"\n",
        "print (email.startswith(\"i\",15))  # inde[15] \"i\" mi demektir\n",
        "print (email.endswith(\"e\",10,31)) # index[10] dan başlayarak ara ve (31-1) index[30] \"e\" mi? demektir"
      ],
      "execution_count": null,
      "outputs": [
        {
          "output_type": "stream",
          "text": [
            "False\n",
            "True\n"
          ],
          "name": "stdout"
        }
      ]
    },
    {
      "cell_type": "code",
      "metadata": {
        "colab": {
          "base_uri": "https://localhost:8080/"
        },
        "id": "EUk3AwjdTfhA",
        "outputId": "4ad18b35-ce5a-4f31-cdcc-6d0e9569576a"
      },
      "source": [
        "phrase = \"myemailaddress@clarusway.com\"\n",
        "\n",
        "print(len(phrase))  # len() fonksiyonu kelimenin uzunluğunu vermektedir\n",
        "print(phrase.startswith(\"@\", 14)) # index[14] \"@\" mi? demektir.\n",
        "print(phrase.endswith(\".\", 15, 24)) # index[15] ten aramaya başla ve index[23] (24-1) \".\" mı? demektir"
      ],
      "execution_count": null,
      "outputs": [
        {
          "output_type": "stream",
          "text": [
            "28\n",
            "True\n",
            "False\n"
          ],
          "name": "stdout"
        }
      ]
    },
    {
      "cell_type": "markdown",
      "metadata": {
        "id": "Azzh6hVXuwnB"
      },
      "source": [
        "# **Stringleri Değiştirme Methodları**"
      ]
    },
    {
      "cell_type": "markdown",
      "metadata": {
        "id": "f7F-DnhmTuBJ"
      },
      "source": [
        "- str.replace(old, new[, count]) replaces all occurrences of old with the new.\n",
        "\n",
        "- str.swapcase() converts upper case to lower case and vice versa.\n",
        "\n",
        "- str.capitalize() changes the first character of the string to the upper case  and the rest to the lower case.\n",
        "\n",
        "- str.upper() converts all characters of the string to the upper case.\n",
        "\n",
        "- str.lower() converts all characters of the string to the lower case.\n",
        "\n",
        "- str.title() converts the first character of each word to upper case."
      ]
    },
    {
      "cell_type": "code",
      "metadata": {
        "colab": {
          "base_uri": "https://localhost:8080/"
        },
        "id": "11dq4t4yTq7S",
        "outputId": "497c952b-586a-4dad-a335-6398e6c2a866"
      },
      "source": [
        "sentence = \"I live and work in VirgiNIA\"\n",
        "\n",
        "print(sentence.upper())  # Hepsini büyük harf yaptı\n",
        "\n",
        "print(sentence.lower())  # Hepsini küçük harf yaptı\n",
        "\n",
        "print(sentence.swapcase())  # Büyük harfleri küçük, küçük harfleri büyük yaptı\n",
        "\n",
        "print(sentence.title())  # Her kelimenin ilk harfini büyük harf yaptı, diğerlerinde de büyük varsa küçük yapar\n",
        "\n",
        "print(sentence)  # note that, source text is unchanged, Görüleceği üzere hiçbirisi orjinal texti değiştirmedi ama"
      ],
      "execution_count": null,
      "outputs": [
        {
          "output_type": "stream",
          "text": [
            "I LIVE AND WORK IN VIRGINIA\n",
            "i live and work in virginia\n",
            "i LIVE AND WORK IN vIRGInia\n",
            "I Live And Work In Virginia\n",
            "I live and work in VirgiNIA\n"
          ],
          "name": "stdout"
        }
      ]
    },
    {
      "cell_type": "code",
      "metadata": {
        "colab": {
          "base_uri": "https://localhost:8080/"
        },
        "id": "pW-C9d1XwJgD",
        "outputId": "5c04d841-26a1-4554-863d-7d976ddb9666"
      },
      "source": [
        "var_str = 'In God we Trust'\n",
        "var_str = var_str.lower() # Bu şekilde işlem görmüş halini tekrar kendisine atayabiliriz\n",
        "print(var_str)"
      ],
      "execution_count": null,
      "outputs": [
        {
          "output_type": "stream",
          "text": [
            "in god we trust\n"
          ],
          "name": "stdout"
        }
      ]
    },
    {
      "cell_type": "markdown",
      "metadata": {
        "id": "ucfG5amIT-Cm"
      },
      "source": [
        "The replace() method can take maximum of 3 parameters:\n",
        "\n",
        "old - old substring you want to replace\n",
        "\n",
        "new - new substring which will replace the old substring\n",
        "\n",
        "count (optional) - the number of times you want to replace the old substring with the new substring"
      ]
    },
    {
      "cell_type": "code",
      "metadata": {
        "colab": {
          "base_uri": "https://localhost:8080/"
        },
        "id": "7QzgNKdiVLEm",
        "outputId": "a159ad75-856d-4740-a903-a09dd7fa9dba"
      },
      "source": [
        "sentence = \"I live and work in Virginia\"\n",
        "title_sentence = sentence.title() \n",
        "print(title_sentence)  \n",
        "\n",
        "changed_sentence = sentence.replace(\"i\", \"+\") # replace() kodu ilkini ikinci karakter ile değiştir demektir. replace(\"i\",\"+\",2) gibi yazarak kaç tanesini değiştirmesini istiyoruzu da belirtebiliriz\n",
        "print(changed_sentence)  \n",
        "\n",
        "print(sentence)  # note that, again source text is unchanged"
      ],
      "execution_count": null,
      "outputs": [
        {
          "output_type": "stream",
          "text": [
            "I Live And Work In Virginia\n",
            "I l+ve and work +n V+rg+n+a\n",
            "I live and work in Virginia\n"
          ],
          "name": "stdout"
        }
      ]
    },
    {
      "cell_type": "code",
      "metadata": {
        "colab": {
          "base_uri": "https://localhost:8080/"
        },
        "id": "-TSIKzM_Vihc",
        "outputId": "25beb75d-5a4d-483c-d647-eb2681eea8eb"
      },
      "source": [
        "txt = 'I was there'\n",
        "x = txt.replace('was', 'were'), txt.upper(), txt.lower() # Bu şekilde tek bir satırda assignment olayı da mevcuttur\n",
        "print(x) \n",
        "print(x[0], x[1], x[2], sep=\"\\n\")\n"
      ],
      "execution_count": null,
      "outputs": [
        {
          "output_type": "stream",
          "text": [
            "('I were there', 'I WAS THERE', 'i was there')\n",
            "I were there\n",
            "I WAS THERE\n",
            "i was there\n"
          ],
          "name": "stdout"
        }
      ]
    },
    {
      "cell_type": "code",
      "metadata": {
        "colab": {
          "base_uri": "https://localhost:8080/"
        },
        "id": "Y5lQ64p7W1x3",
        "outputId": "c27a4a6a-4183-40a0-a075-04421535606e"
      },
      "source": [
        "x = \"test\", \"ert\", \"rtdd\"\n",
        "print(x)\n",
        "print(x[0], x[1], x[2], sep=\"\\n\")"
      ],
      "execution_count": null,
      "outputs": [
        {
          "output_type": "stream",
          "text": [
            "('test', 'ert', 'rtdd')\n",
            "test\n",
            "ert\n",
            "rtdd\n"
          ],
          "name": "stdout"
        }
      ]
    },
    {
      "cell_type": "code",
      "metadata": {
        "colab": {
          "base_uri": "https://localhost:8080/"
        },
        "id": "IKZIW0eJVmvD",
        "outputId": "ba4a0b90-2e3a-4c1e-abb9-559e5f05e6aa"
      },
      "source": [
        "sentence = \"I live and work in Virginia\"\n",
        "swap_case = sentence.swapcase()\n",
        "print(swap_case)\n",
        "print(swap_case.capitalize())  # changes 'i' to uppercase and the rest to lowercase\n",
        "                               # Görüleceği üzere işlem görüp değiştirilmiş olan sentence üzerinden capitalize() yapar"
      ],
      "execution_count": null,
      "outputs": [
        {
          "output_type": "stream",
          "text": [
            "i LIVE AND WORK IN vIRGINIA\n",
            "I live and work in virginia\n"
          ],
          "name": "stdout"
        }
      ]
    },
    {
      "cell_type": "code",
      "metadata": {
        "colab": {
          "base_uri": "https://localhost:8080/"
        },
        "id": "IBBekXy7RYT_",
        "outputId": "9fdc5f20-f80f-4c6d-bbe7-1d170b141c2a"
      },
      "source": [
        "test = \"Test Cümlesi\"\n",
        "print(test.swapcase()) # Bu iki kullanım aynıdır\n",
        "print(str.swapcase(test))"
      ],
      "execution_count": null,
      "outputs": [
        {
          "output_type": "stream",
          "text": [
            "tEST cÜMLESI\n",
            "tEST cÜMLESI\n"
          ],
          "name": "stdout"
        }
      ]
    },
    {
      "cell_type": "code",
      "metadata": {
        "colab": {
          "base_uri": "https://localhost:8080/"
        },
        "id": "4AtPiyVkVv2w",
        "outputId": "f45c5071-fa2a-42f4-b37c-e193c6bc810b"
      },
      "source": [
        "print(\"Actions speaks louder than words\".upper().swapcase().capitalize())\n",
        "\n",
        "# Burada upper() ile bütün harfler önce büyük oldu, tüm cümle\n",
        "# Takiben swapcase() ile hepsi küçük oldu\n",
        "# En son olarak capitalize() ile de ilk harfi büyük oldu, yine aynı cümler çıktı olarak verildi"
      ],
      "execution_count": null,
      "outputs": [
        {
          "output_type": "stream",
          "text": [
            "Actions speaks louder than words\n"
          ],
          "name": "stdout"
        }
      ]
    },
    {
      "cell_type": "markdown",
      "metadata": {
        "id": "Y1pVLSzKWUJK"
      },
      "source": [
        "string.upper() # returns string type,\n",
        "\n",
        "string.upper().lower() # also returns string type,\n",
        "\n",
        "string.upper().lower().title() # returns string type again."
      ]
    },
    {
      "cell_type": "markdown",
      "metadata": {
        "id": "2ctoWbj6WsIu"
      },
      "source": [
        "str.strip() : removes all spaces (or specified characters) from both sides.\n",
        "\n",
        "str.rstrip() : removes spaces (or specified characters) from the right side.\n",
        "\n",
        "str.lstrip() : removes spaces (or specified characters) from the left side."
      ]
    },
    {
      "cell_type": "code",
      "metadata": {
        "colab": {
          "base_uri": "https://localhost:8080/"
        },
        "id": "lQSRsmbpWXeU",
        "outputId": "ae0f09c1-0cfc-4490-dc72-c7c3d537a16e"
      },
      "source": [
        "space_string = \"     listen first      \"\n",
        "print(space_string.strip())  # removes all spaces from both sides, strip() methodu içerisine herhangi bir karakter de alabilir"
      ],
      "execution_count": null,
      "outputs": [
        {
          "output_type": "stream",
          "text": [
            "listen first\n"
          ],
          "name": "stdout"
        }
      ]
    },
    {
      "cell_type": "code",
      "metadata": {
        "colab": {
          "base_uri": "https://localhost:8080/"
        },
        "id": "5o-ph8_gW_DH",
        "outputId": "394355f9-97cb-47b6-f520-8b4caba0f775"
      },
      "source": [
        "source_string = \"interoperability\"\n",
        "print(source_string.strip(\"iyr\"))   # The methods described removes the trailing characters (i.e. characters from the right side).\n",
        "# removes trailing \"y\" or \"i\" or \"yi\" or \"iy\" from both sides\n",
        "# Burada baştan \"i\" den başladı sonra karşısına \"n\" çıktı ve o strip edilmek isteneen kararkterler arasında olmadığından işlemi durdurdu\n",
        "# Aynı şekilde sondan başladığında\"y\" den başladı sonra karşısına hemen \"t\" çıktı ve o strip edilmek istenen karakterler içerisinde olmadığı için işlemi durdurdu\n"
      ],
      "execution_count": null,
      "outputs": [
        {
          "output_type": "stream",
          "text": [
            "nteroperabilit\n"
          ],
          "name": "stdout"
        }
      ]
    },
    {
      "cell_type": "code",
      "metadata": {
        "colab": {
          "base_uri": "https://localhost:8080/"
        },
        "id": "u4ppcp56aX2W",
        "outputId": "4043c4c1-3b45-4414-8125-babf81a3fa2b"
      },
      "source": [
        "text = \"interoperability\"\n",
        "print(text.strip(\"yin\")) #Karakterleri tek tek eliyor. Birer birer bakıyor, blok olarak değil !\n",
        "print(text.strip(\"ytil\"))"
      ],
      "execution_count": null,
      "outputs": [
        {
          "output_type": "stream",
          "text": [
            "teroperabilit\n",
            "nteroperab\n"
          ],
          "name": "stdout"
        }
      ]
    },
    {
      "cell_type": "code",
      "metadata": {
        "colab": {
          "base_uri": "https://localhost:8080/"
        },
        "id": "qQEpAQC_ZvbZ",
        "outputId": "9923cc89-1d33-40e3-99f1-e1b644a13efc"
      },
      "source": [
        "ornek = \"interoperability\"\n",
        "print (ornek.strip (\"iny\").strip(\"t\")) # Bu şekilde arka arkaya da kullanılabilir. strip edilmiş stringi tekrar strip eder"
      ],
      "execution_count": null,
      "outputs": [
        {
          "output_type": "stream",
          "text": [
            "eroperabili\n"
          ],
          "name": "stdout"
        }
      ]
    },
    {
      "cell_type": "code",
      "metadata": {
        "colab": {
          "base_uri": "https://localhost:8080/",
          "height": 177
        },
        "id": "YjnEwqx5ZK12",
        "outputId": "89fb5528-e126-4f9b-9261-547f7ade2a4f"
      },
      "source": [
        "source_string = \"interoperability\"\n",
        "print(source_string.strip(\"i\",\"y\")) # Bu şekilde ayrı ayrı parantez içerisinde yazılmaz.Üstteki gibi olmalı"
      ],
      "execution_count": null,
      "outputs": [
        {
          "output_type": "error",
          "ename": "TypeError",
          "evalue": "ignored",
          "traceback": [
            "\u001b[0;31m---------------------------------------------------------------------------\u001b[0m",
            "\u001b[0;31mTypeError\u001b[0m                                 Traceback (most recent call last)",
            "\u001b[0;32m<ipython-input-25-17851f9fc3e3>\u001b[0m in \u001b[0;36m<module>\u001b[0;34m()\u001b[0m\n\u001b[1;32m      1\u001b[0m \u001b[0msource_string\u001b[0m \u001b[0;34m=\u001b[0m \u001b[0;34m\"interoperability\"\u001b[0m\u001b[0;34m\u001b[0m\u001b[0;34m\u001b[0m\u001b[0m\n\u001b[0;32m----> 2\u001b[0;31m \u001b[0mprint\u001b[0m\u001b[0;34m(\u001b[0m\u001b[0msource_string\u001b[0m\u001b[0;34m.\u001b[0m\u001b[0mstrip\u001b[0m\u001b[0;34m(\u001b[0m\u001b[0;34m\"i\"\u001b[0m\u001b[0;34m,\u001b[0m\u001b[0;34m\"y\"\u001b[0m\u001b[0;34m)\u001b[0m\u001b[0;34m)\u001b[0m\u001b[0;34m\u001b[0m\u001b[0;34m\u001b[0m\u001b[0m\n\u001b[0m",
            "\u001b[0;31mTypeError\u001b[0m: strip expected at most 1 arguments, got 2"
          ]
        }
      ]
    },
    {
      "cell_type": "code",
      "metadata": {
        "colab": {
          "base_uri": "https://localhost:8080/"
        },
        "id": "LMVKh6K1XcKK",
        "outputId": "7fc00288-30d8-4810-c217-b52a2acf43a7"
      },
      "source": [
        "source_string = \"interoperability\"\n",
        "print(source_string.lstrip(\"in\"))  # Sadece sol taraftan ilgili harfleri arar ve takibinde strip edip işlemi durdurur\n",
        "# removes \"i\" or \"n\" or \"in\" or \"ni\" from the left side"
      ],
      "execution_count": null,
      "outputs": [
        {
          "output_type": "stream",
          "text": [
            "teroperability\n"
          ],
          "name": "stdout"
        }
      ]
    },
    {
      "cell_type": "code",
      "metadata": {
        "colab": {
          "base_uri": "https://localhost:8080/"
        },
        "id": "FDjBBXOBXvtL",
        "outputId": "04d5f8b4-0275-447b-d54e-609176daae7a"
      },
      "source": [
        "space_string = \"     listen first      \"\n",
        "print(space_string.rstrip())  # removes spaces from the right side (Sadece sağ taraftan ilgili harflere bakar ve keser). Burada boşluklar gitti"
      ],
      "execution_count": null,
      "outputs": [
        {
          "output_type": "stream",
          "text": [
            "     listen first\n"
          ],
          "name": "stdout"
        }
      ]
    },
    {
      "cell_type": "code",
      "metadata": {
        "colab": {
          "base_uri": "https://localhost:8080/"
        },
        "id": "cZLoSV3bX0OP",
        "outputId": "500bfc9a-51a6-4069-cc3b-1a86a3afbb6f"
      },
      "source": [
        "source_string = \"interoperability\"\n",
        "print(source_string.rstrip(\"yt\"))  \n",
        "# removes \"y\" or \"t\" or \"yt\" or \"ty\" from the right side"
      ],
      "execution_count": null,
      "outputs": [
        {
          "output_type": "stream",
          "text": [
            "interoperabili\n"
          ],
          "name": "stdout"
        }
      ]
    },
    {
      "cell_type": "code",
      "metadata": {
        "colab": {
          "base_uri": "https://localhost:8080/"
        },
        "id": "AGnfJEBGbtcX",
        "outputId": "8d9bf404-02f9-4a84-ad6d-ad03b3ca3c77"
      },
      "source": [
        "ornek = \"byinibinbininteroperabilitybnibyibnibibnibyn\"\n",
        "print(ornek.strip(\"yibn\")) # Burada görüleceği üzere \"t\" ye kadar (hem soldan hem sağdan) strip edilmek istenen karakterler olduğundan onları kesti ve takiben işlemi durdurdu \n",
        "print(ornek.rstrip(\"yibn\")) # Burada da aynı şekilde sadece sağdan başladı\n",
        "print(ornek.lstrip(\"yibn\")) # Burada da yine aynı şekilde"
      ],
      "execution_count": null,
      "outputs": [
        {
          "output_type": "stream",
          "text": [
            "teroperabilit\n",
            "byinibinbininteroperabilit\n",
            "teroperabilitybnibyibnibibnibyn\n"
          ],
          "name": "stdout"
        }
      ]
    },
    {
      "cell_type": "code",
      "metadata": {
        "colab": {
          "base_uri": "https://localhost:8080/"
        },
        "id": "zJVgzkesdSho",
        "outputId": "1d232e87-d65c-4bb8-d291-315ed5059bd0"
      },
      "source": [
        "sent = \"tyou can learn everything in pre-classz\"\n",
        "print(sent.strip(\"tz\").upper())"
      ],
      "execution_count": null,
      "outputs": [
        {
          "output_type": "stream",
          "text": [
            "YOU CAN LEARN EVERYTHING IN PRE-CLASS\n"
          ],
          "name": "stdout"
        }
      ]
    },
    {
      "cell_type": "code",
      "metadata": {
        "colab": {
          "base_uri": "https://localhost:8080/"
        },
        "id": "053Y2-KSgtRT",
        "outputId": "d8eec843-9bdc-42c0-e3de-1a434c000517"
      },
      "source": [
        "text = \"In God wee trust\" # Yazımı düzeltelim\n",
        "print(text.replace(\"ee\", \"e\", 1))\n",
        "print(text.replace(\"e\", \"\", 1)) # Burada ilk e yi boş karakterle (boşluk değil) replace etti\n",
        "print(text.title().replace(\"ee\",\"e\")) # Burada aslında tüm \"ee\" leri \"e\" ile değiştiriyor lakin zaten bir tane olduğu için sıkıntı yok\n",
        "print(text.replace(\"wee\",  \"We\"))\n",
        "print((text[:9] + text[10:]).title()) # Burada da index[0] dan başlayıp index[9] a kadar olan yeri (9 dahil değil o da \"e\") ve index[10] dan başalyıp sonuna kadar olan yeri alıp birleştirince düzeltmiş oluyor"
      ],
      "execution_count": null,
      "outputs": [
        {
          "output_type": "stream",
          "text": [
            "In God we trust\n",
            "In God we trust\n",
            "In God We Trust\n",
            "In God We trust\n",
            "In God We Trust\n"
          ],
          "name": "stdout"
        }
      ]
    },
    {
      "cell_type": "code",
      "metadata": {
        "colab": {
          "base_uri": "https://localhost:8080/"
        },
        "id": "q44feUptY4-U",
        "outputId": "b4632a42-3522-4a3c-989b-daf0d6515fb8"
      },
      "source": [
        "sentence = \"The dog is named Sammy\"\n",
        "print(sentence.count('a'))  # Cümle içerisinde bir karakter/(ler) kaç defa geçer onu çıkartır"
      ],
      "execution_count": null,
      "outputs": [
        {
          "output_type": "stream",
          "text": [
            "2\n"
          ],
          "name": "stdout"
        }
      ]
    },
    {
      "cell_type": "code",
      "metadata": {
        "colab": {
          "base_uri": "https://localhost:8080/"
        },
        "id": "11XPycHNZWIa",
        "outputId": "6353835d-cb86-4c3c-8b83-faab667f20b0"
      },
      "source": [
        "first_name = input(\"What is your first name?\")\n",
        "last_name = input(\"What is your last name?\")\n",
        "\n",
        "print(\"Hello \" + first_name.capitalize() + ' ' + last_name.upper())"
      ],
      "execution_count": null,
      "outputs": [
        {
          "output_type": "stream",
          "text": [
            "What is your first name?hüseyin\n",
            "What is your last name?yaman\n",
            "Hello Hüseyin YAMAN\n"
          ],
          "name": "stdout"
        }
      ]
    },
    {
      "cell_type": "code",
      "metadata": {
        "colab": {
          "base_uri": "https://localhost:8080/"
        },
        "id": "gELC3XOycoJ4",
        "outputId": "2401c989-8c2d-4ccb-e401-7f6eb980e97a"
      },
      "source": [
        "print('www', 'clarusway', \"com\", sep='.', end=' ') # Hatırlayalım burada sep elemanlar arasına, end is print() işleminden sonrasına işlem yapıyordu\n",
        "print('will', end=' ')\n",
        "print('open', end=' ')\n",
        "print('your', end=' ')\n",
        "print('path', end='.')"
      ],
      "execution_count": null,
      "outputs": [
        {
          "output_type": "stream",
          "text": [
            "www.clarusway.com will open your path."
          ],
          "name": "stdout"
        }
      ]
    },
    {
      "cell_type": "code",
      "metadata": {
        "colab": {
          "base_uri": "https://localhost:8080/"
        },
        "id": "Ql3Tr_Q6iP0K",
        "outputId": "4f4b4226-4b18-4631-9af5-6dd2d98ed474"
      },
      "source": [
        "var1 = \"sleep\"\n",
        "var2 = \"eat\"\n",
        "var3 = \"better\"\n",
        "var4 = \"life\"\n",
        "\n",
        "output = f\"The less you {var1} and {var2}, the {var3} your {var4} will be.\"\n",
        "\n",
        "print(output)"
      ],
      "execution_count": null,
      "outputs": [
        {
          "output_type": "stream",
          "text": [
            "The less you sleep and eat, the better your life will be.\n"
          ],
          "name": "stdout"
        }
      ]
    },
    {
      "cell_type": "code",
      "metadata": {
        "colab": {
          "base_uri": "https://localhost:8080/"
        },
        "id": "Us-2XTAKjV81",
        "outputId": "82dccae9-0f15-4b4a-c1b6-2b4c26597714"
      },
      "source": [
        "city = \"SARAJEVO\"\n",
        "\n",
        "output = f\"I live in {city.capitalize()}\"\n",
        "print(output)\n"
      ],
      "execution_count": null,
      "outputs": [
        {
          "output_type": "stream",
          "text": [
            "I live in Sarajevo\n"
          ],
          "name": "stdout"
        }
      ]
    },
    {
      "cell_type": "markdown",
      "metadata": {
        "id": "Ij08sdoZDFBT"
      },
      "source": [
        "# **LISTS**"
      ]
    },
    {
      "cell_type": "code",
      "metadata": {
        "colab": {
          "base_uri": "https://localhost:8080/"
        },
        "id": "m2OTANnvXJnL",
        "outputId": "6cb79497-54ba-45b8-c2ff-a0891064d77d"
      },
      "source": [
        "# In Python, a list is only an ordered collection of valid Python values.\n",
        "word = \"happy\"\n",
        "liste = list(word) # list() foknsiyonu ile kolaylıkla bir string,tuple etc. listeye çevirebiliriz\n",
        "\n",
        "print(word)\n",
        "print(liste)"
      ],
      "execution_count": null,
      "outputs": [
        {
          "output_type": "stream",
          "text": [
            "happy\n",
            "['h', 'a', 'p', 'p', 'y']\n"
          ],
          "name": "stdout"
        }
      ]
    },
    {
      "cell_type": "code",
      "metadata": {
        "colab": {
          "base_uri": "https://localhost:8080/"
        },
        "id": "m3sIjTN1DJhQ",
        "outputId": "a4b5a87d-e892-4a77-ead2-9a12b5545d73"
      },
      "source": [
        "# A list can be created by enclosing values, separated by commas, in square brackets 👉🏻[].\n",
        "\n",
        "country = ['USA', 'Brasil', 'UK', 'Germany', 'Turkey', 'New Zealand']\n",
        "print(country) # All the country names are printed in the same order as they were stored in the list because lists are ordered."
      ],
      "execution_count": null,
      "outputs": [
        {
          "output_type": "stream",
          "text": [
            "['USA', 'Brasil', 'UK', 'Germany', 'Turkey', 'New Zealand']\n"
          ],
          "name": "stdout"
        }
      ]
    },
    {
      "cell_type": "code",
      "metadata": {
        "colab": {
          "base_uri": "https://localhost:8080/"
        },
        "id": "h2ZQLdIdHYq8",
        "outputId": "8a79945d-ae8e-465e-ea93-006feb5c3b95"
      },
      "source": [
        "# Another way to create a list is to call the 'list()' function.\n",
        "\n",
        "string_1 = 'I quit smoking'\n",
        "\n",
        "new_list_1 = list(string_1)  # we created multi element list,elemanlarına teker teker ayrılabilen yapıları alır, interger değerler almaz \n",
        "print(new_list_1)\n",
        "print(len(new_list_1))\n",
        "\n",
        "new_list_2 = [string_1]  # this is a single element list, Bu şekildeki bir kullanımda sadece bir eleman olarak düşünür\n",
        "print(new_list_2)\n",
        "print(len(new_list_2)) \n"
      ],
      "execution_count": null,
      "outputs": [
        {
          "output_type": "stream",
          "text": [
            "['I', ' ', 'q', 'u', 'i', 't', ' ', 's', 'm', 'o', 'k', 'i', 'n', 'g']\n",
            "14\n",
            "['I quit smoking']\n",
            "1\n"
          ],
          "name": "stdout"
        }
      ]
    },
    {
      "cell_type": "code",
      "metadata": {
        "colab": {
          "base_uri": "https://localhost:8080/"
        },
        "id": "tilTjbeBUGkD",
        "outputId": "ac3a715a-1c3e-49e2-e5a1-f9cad8153942"
      },
      "source": [
        "list_1 = ['h', 'a', 'p', 'p', 'y']\n",
        "\n",
        "word = \"happy\"\n",
        "list_2 = list(word)\n",
        "\n",
        "print(list_1)\n",
        "print(list_2) # Lists can contain more than one of the same value"
      ],
      "execution_count": null,
      "outputs": [
        {
          "output_type": "stream",
          "text": [
            "['h', 'a', 'p', 'p', 'y']\n",
            "['h', 'a', 'p', 'p', 'y']\n"
          ],
          "name": "stdout"
        }
      ]
    },
    {
      "cell_type": "code",
      "metadata": {
        "colab": {
          "base_uri": "https://localhost:8080/"
        },
        "id": "FJQo-5nQjw3X",
        "outputId": "58203b5f-aa18-4b91-e65a-714c5bf15e09"
      },
      "source": [
        "mixed_list = [11, 'Joseph', False, 3.14, None, [1, 2, 3]] # Liste elemanları bu şekilde mix type olabilir\n",
        "print(mixed_list)                                         # As you see, one or more of the list elements can even be a list."
      ],
      "execution_count": null,
      "outputs": [
        {
          "output_type": "stream",
          "text": [
            "[11, 'Joseph', False, 3.14, None, [1, 2, 3]]\n"
          ],
          "name": "stdout"
        }
      ]
    },
    {
      "cell_type": "code",
      "metadata": {
        "colab": {
          "base_uri": "https://localhost:8080/"
        },
        "id": "XcX21bPoyP-E",
        "outputId": "cfef8f6b-1f61-442b-abc9-29dc2c4a4d52"
      },
      "source": [
        "warning = 'You must quit smoking!'\n",
        "print(len(list(warning))) # Görüleceği üzere list() fonksiyonu ile yapılan listelerde string ifadenin tüm karakterleri ayrı ayrı yazılır ve liste elemanları olur\n",
        "print(len([warning])) # Burada öyle birşey yok"
      ],
      "execution_count": null,
      "outputs": [
        {
          "output_type": "stream",
          "text": [
            "22\n",
            "1\n"
          ],
          "name": "stdout"
        }
      ]
    },
    {
      "cell_type": "code",
      "metadata": {
        "colab": {
          "base_uri": "https://localhost:8080/"
        },
        "id": "GjKstZNZ8ISi",
        "outputId": "3b7d083c-872f-45a0-abca-d00bd2e24d41"
      },
      "source": [
        "# We can add an element into a list using .append() or .insert() methods.\n",
        "\n",
        "# .append() : Append an object to end of a list. Using only list.append(element) syntax, returns none. \n",
        "# If you want to see the new appended list, you have to call or print it.\n",
        "\n",
        "empty_list_1= [] # İkisi de boş liste oluşturur\n",
        "empty_list_2 = list()\n",
        "\n",
        "empty_list_1 = []\n",
        "empty_list_1.append('114')\n",
        "empty_list_1.append('plastic-free sea') # append() fonksiyonu daima listenin sonuna eleman ekler\n",
        "\n",
        "print(empty_list_1) "
      ],
      "execution_count": null,
      "outputs": [
        {
          "output_type": "stream",
          "text": [
            "['114', 'plastic-free sea']\n"
          ],
          "name": "stdout"
        }
      ]
    },
    {
      "cell_type": "code",
      "metadata": {
        "colab": {
          "base_uri": "https://localhost:8080/"
        },
        "id": "1fDMy8kA9IP-",
        "outputId": "cda5c547-d887-4414-b317-b5d4dbb1e01b"
      },
      "source": [
        "city = ['New York', 'London', 'Istanbul', 'Seoul', 'Sydney']\n",
        "city.append('Addis Ababa') # append() fonksiyonu ile eleman eklenebillir fakat otomatik olarak son index e atar, değiştirilemez\n",
        "                          \n",
        "print(city)"
      ],
      "execution_count": null,
      "outputs": [
        {
          "output_type": "stream",
          "text": [
            "['New York', 'London', 'Istanbul', 'Seoul', 'Sydney', 'Addis Ababa']\n"
          ],
          "name": "stdout"
        }
      ]
    },
    {
      "cell_type": "code",
      "metadata": {
        "colab": {
          "base_uri": "https://localhost:8080/"
        },
        "id": "EtI11DVpnDKU",
        "outputId": "73c79950-658f-4294-846e-2f6432dcb3a2"
      },
      "source": [
        "numbers = []\n",
        "numbers.append(1)\n",
        "numbers.append(2)\n",
        "numbers.append(3)\n",
        "numbers.append(4)\n",
        "print(numbers)"
      ],
      "execution_count": null,
      "outputs": [
        {
          "output_type": "stream",
          "text": [
            "[1, 2, 3, 4]\n"
          ],
          "name": "stdout"
        }
      ]
    },
    {
      "cell_type": "code",
      "metadata": {
        "colab": {
          "base_uri": "https://localhost:8080/"
        },
        "id": "t-8GGS9Qjncy",
        "outputId": "e7df0de1-6ef9-4fd1-edc3-f31274b5ea99"
      },
      "source": [
        "numbers = [1, 4, 7]\n",
        "numbers.append(9)\n",
        "numbers.append('9')\n",
        "\n",
        "print(numbers)\n"
      ],
      "execution_count": null,
      "outputs": [
        {
          "output_type": "stream",
          "text": [
            "[1, 4, 7, 9, '9']\n"
          ],
          "name": "stdout"
        }
      ]
    },
    {
      "cell_type": "code",
      "metadata": {
        "colab": {
          "base_uri": "https://localhost:8080/"
        },
        "id": "lWH__h5f--LL",
        "outputId": "9483e3f4-e493-4571-d3bb-f7ca5888eab2"
      },
      "source": [
        "# .insert() : Add a new object to list at a speciﬁc index. The syntax looks like list.insert(index, object). \n",
        "\n",
        "city = ['New York', 'London', 'Istanbul', 'Seoul', 'Sydney', 'Addis Ababa']\n",
        "city.insert(2, 'Stockholm') # insert() fonksiyonu ile de elaman eklenebilir ve insert(2, \"eleman\") şeklinde atanacak index i de belirleyebiliriz\n",
        "\n",
        "print(city)"
      ],
      "execution_count": null,
      "outputs": [
        {
          "output_type": "stream",
          "text": [
            "['New York', 'London', 'Stockholm', 'Istanbul', 'Seoul', 'Sydney', 'Addis Ababa']\n"
          ],
          "name": "stdout"
        }
      ]
    },
    {
      "cell_type": "code",
      "metadata": {
        "colab": {
          "base_uri": "https://localhost:8080/"
        },
        "id": "yPK7s9len5HL",
        "outputId": "955d937b-9c41-4193-a7ea-481ca88b478b"
      },
      "source": [
        "numbers = [1, 4, 7]\n",
        "numbers.insert(2, 9) # 2.indexe 9 ekle demektir\n",
        "print(numbers)\n",
        "numbers.insert(1, 6) # 1.indexe 6 ekle demektir\n",
        "print(numbers)"
      ],
      "execution_count": null,
      "outputs": [
        {
          "output_type": "stream",
          "text": [
            "[1, 4, 9, 7]\n",
            "[1, 6, 4, 9, 7]\n"
          ],
          "name": "stdout"
        }
      ]
    },
    {
      "cell_type": "code",
      "metadata": {
        "colab": {
          "base_uri": "https://localhost:8080/"
        },
        "id": "aNxVoB6WU9_X",
        "outputId": "5e30e99d-466e-4d2f-bc06-29b077f1ddc0"
      },
      "source": [
        "# We can remove the elements in lists using list.remove() method : list.remove(element)\n",
        "\n",
        "city = ['New York', 'London', 'Stockholm', 'Istanbul', 'Seoul', 'Sydney', 'Addis Ababa']\n",
        "city.remove('London') # remove() fonksiyonu ile eleman silme işlemini gerçekleştiriyoruz\n",
        "print(city)  "
      ],
      "execution_count": null,
      "outputs": [
        {
          "output_type": "stream",
          "text": [
            "['New York', 'Stockholm', 'Istanbul', 'Seoul', 'Sydney', 'Addis Ababa']\n"
          ],
          "name": "stdout"
        }
      ]
    },
    {
      "cell_type": "code",
      "metadata": {
        "colab": {
          "base_uri": "https://localhost:8080/"
        },
        "id": "wEi-ZkEZLqrq",
        "outputId": "438832e1-75d4-4542-82fc-eab2c8523a27"
      },
      "source": [
        "# Aynı şekilde pop() methodu ile de bir listeden index belirterek eleman silebiliyoruz: list.pop(index)\n",
        "\n",
        "languages = ['Python', 'Java', 'C++', 'French', 'C']\n",
        "\n",
        "return_value = languages.pop(3)\n",
        "print('Return Value:', return_value)\n",
        "print('Updated List:', languages)"
      ],
      "execution_count": null,
      "outputs": [
        {
          "output_type": "stream",
          "text": [
            "Return Value: French\n",
            "Updated List: ['Python', 'Java', 'C++', 'C']\n"
          ],
          "name": "stdout"
        }
      ]
    },
    {
      "cell_type": "code",
      "metadata": {
        "colab": {
          "base_uri": "https://localhost:8080/"
        },
        "id": "3ixvkrCUMrSp",
        "outputId": "769ecf4f-826f-4062-a25f-feaf8913bc7f"
      },
      "source": [
        "# Yine del fonksiyonu da listelerden belirli aralıktaki elemanları silmek için kullanılabilir\n",
        "\n",
        "lis = [2, 1, 3, 5, 4, 3, 8]\n",
        "  \n",
        "# using del to delete elements from pos. 2 to 5, deletes 3,5,4\n",
        "del lis[2 : 5]\n",
        "print(lis)"
      ],
      "execution_count": null,
      "outputs": [
        {
          "output_type": "stream",
          "text": [
            "[2, 1, 3, 8]\n"
          ],
          "name": "stdout"
        }
      ]
    },
    {
      "cell_type": "code",
      "metadata": {
        "colab": {
          "base_uri": "https://localhost:8080/"
        },
        "id": "WKD9yKchVT6H",
        "outputId": "a2cdcee3-6cd3-4262-e187-9f1e66c40547"
      },
      "source": [
        "# We can sort the elements using list.sort() method.\n",
        "\n",
        "city = ['New York', 'Stockholm', 'Istanbul', 'Seoul', 'Sydney', 'Addis Ababa']\n",
        "city.sort()  # sort() fonksiyonu ile elemanları alfabetik sıraya göre sıralandırabiliriz veya artacak şekilde\n",
        "print(city)  # sort() fonksiyon parametreleri key ve reverse dür. key ile istenen fonksiyona göre sıralama yapılabilir\n",
        "             # reverse default değeri ise False dur, biz bunu True yaparak istersek listeyi tersten yazdırabilriz"
      ],
      "execution_count": null,
      "outputs": [
        {
          "output_type": "stream",
          "text": [
            "['Addis Ababa', 'Istanbul', 'New York', 'Seoul', 'Stockholm', 'Sydney']\n"
          ],
          "name": "stdout"
        }
      ]
    },
    {
      "cell_type": "code",
      "metadata": {
        "colab": {
          "base_uri": "https://localhost:8080/"
        },
        "id": "lOjugs66VlK9",
        "outputId": "133244e4-4a4e-46ce-f256-a4ed6f7c6bf4"
      },
      "source": [
        "city = ['Addis Ababa', 'Istanbul', 'New York', 'Seoul', 'Stockholm', 'Sydney']\n",
        "print(len(city)) # len() fonksiyonu ile listenin eleman sayısını yani uzunluğunu yazdırabiliriz."
      ],
      "execution_count": null,
      "outputs": [
        {
          "output_type": "stream",
          "text": [
            "6\n"
          ],
          "name": "stdout"
        }
      ]
    },
    {
      "cell_type": "code",
      "metadata": {
        "colab": {
          "base_uri": "https://localhost:8080/"
        },
        "id": "f_u7TTtfYkue",
        "outputId": "0050e727-65c9-45b7-b597-fd23febc82a4"
      },
      "source": [
        "# max() function returns the largest item in an iterable. It can also be used to find the largest item between two or more parameters. max(iterable, *iterables, key, default)\n",
        "\n",
        "number = [3, 2, 8, 5, 10, 6]\n",
        "largest_number = max(number);                                   # Bir iterable içerisindeki en büyük elemanı bulur. \n",
        "print(\"The largest number is:\", largest_number)\n",
        "\n",
        "languages = [\"Python\", \"C Programming\", \"Java\", \"JavaScript\"]\n",
        "largest_string = max(languages);                                # Stringlerde de alfabetik sıralamaya göre en sondakini çıkartır\n",
        "\n",
        "print(\"The largest string is:\", largest_string)"
      ],
      "execution_count": null,
      "outputs": [
        {
          "output_type": "stream",
          "text": [
            "The largest number is: 10\n",
            "The largest string is: Python\n"
          ],
          "name": "stdout"
        }
      ]
    },
    {
      "cell_type": "code",
      "metadata": {
        "colab": {
          "base_uri": "https://localhost:8080/"
        },
        "id": "DzJYbB6nZWt9",
        "outputId": "abf13b02-3a79-4db6-d253-b97335d6edb6"
      },
      "source": [
        "square = {2: 4, -3: 9, -1: 1, -2: 4}\n",
        "\n",
        "key1 = max(square) # the largest key, yani burada key ler rakamlardan oluştuğu için en büyük rakamı verir\n",
        "print(\"The largest key:\", key1) \n",
        "\n",
        "key2 = max(square, key = lambda k: square[k]) # the key whose value is the largest, Bu kullanımda da değeri en yüksek olan key i verir, yani 9 un keyi -3\n",
        "print(\"The key with the largest value:\", key2)  \n",
        "print(\"The largest value:\", square[key2])"
      ],
      "execution_count": null,
      "outputs": [
        {
          "output_type": "stream",
          "text": [
            "The largest key: 2\n",
            "The key with the largest value: -3\n",
            "The largest value: 9\n"
          ],
          "name": "stdout"
        }
      ]
    },
    {
      "cell_type": "code",
      "metadata": {
        "colab": {
          "base_uri": "https://localhost:8080/"
        },
        "id": "OX6y5jMaj-yo",
        "outputId": "e96ba501-0aba-462c-814a-496c0d3d889d"
      },
      "source": [
        "# min() function returns the smallest item in an iterable. It can also be used to find the smallest item between two or more parameters.min(iterable, *iterables, key, default)\n",
        "\n",
        "number = [3, 2, 8, 5, 10, 6]\n",
        "smallest_number = min(number);\n",
        "\n",
        "print(\"The smallest number is:\", smallest_number)\n",
        "\n",
        "languages = [\"Python\", \"C Programming\", \"Java\", \"JavaScript\"]\n",
        "smallest_string = min(languages);                        # If the items in an iterable are strings, the smallest item (ordered alphabetically) is returned.\n",
        "\n",
        "print(\"The smallest string is:\", smallest_string)"
      ],
      "execution_count": null,
      "outputs": [
        {
          "output_type": "stream",
          "text": [
            "The smallest number is: 2\n",
            "The smallest string is: C Programming\n"
          ],
          "name": "stdout"
        }
      ]
    },
    {
      "cell_type": "code",
      "metadata": {
        "colab": {
          "base_uri": "https://localhost:8080/"
        },
        "id": "69MfPc9Zmx0t",
        "outputId": "a80bf85a-3aa3-465c-eb8a-ce3c10b7a5a8"
      },
      "source": [
        "square = {2: 4, 3: 9, -1: 1, -2: 4}\n",
        "\n",
        "# the smallest key\n",
        "key1 = min(square)\n",
        "print(\"The smallest key:\", key1)    # -2\n",
        "\n",
        "# the key whose value is the smallest\n",
        "key2 = min(square, key = lambda k: square[k])\n",
        "\n",
        "print(\"The key with the smallest value:\", key2)    # -1\n",
        "\n",
        "# getting the smallest value\n",
        "print(\"The smallest value:\", square[key2])"
      ],
      "execution_count": null,
      "outputs": [
        {
          "output_type": "stream",
          "text": [
            "The smallest key: -2\n",
            "The key with the smallest value: -1\n",
            "The smallest value: 1\n"
          ],
          "name": "stdout"
        }
      ]
    },
    {
      "cell_type": "code",
      "metadata": {
        "colab": {
          "base_uri": "https://localhost:8080/"
        },
        "id": "-EgAU9VOR8-h",
        "outputId": "58c3a2c7-7643-4ab7-8ed2-b0b61667bc7c"
      },
      "source": [
        "my_list = [1, 3, 5, 7]\n",
        "print(my_list * 3)"
      ],
      "execution_count": null,
      "outputs": [
        {
          "output_type": "stream",
          "text": [
            "[1, 3, 5, 7, 1, 3, 5, 7, 1, 3, 5, 7]\n"
          ],
          "name": "stdout"
        }
      ]
    },
    {
      "cell_type": "code",
      "metadata": {
        "colab": {
          "base_uri": "https://localhost:8080/"
        },
        "id": "ek-YirO_VAOD",
        "outputId": "7119ddab-9e8c-45cf-b5cc-a207f562f123"
      },
      "source": [
        "city = ['New York', 'Stockholm', 'Istanbul', 'Seoul', 'Sydney', 'Addis Ababa']\n",
        "city[1] = 'Melbourne'  # Index[1] e atama işlemi, görüleceği üzere önceki elemanı override eder\n",
        "print(city)"
      ],
      "execution_count": null,
      "outputs": [
        {
          "output_type": "stream",
          "text": [
            "['New York', 'Melbourne', 'Istanbul', 'Seoul', 'Sydney', 'Addis Ababa']\n"
          ],
          "name": "stdout"
        }
      ]
    },
    {
      "cell_type": "code",
      "metadata": {
        "colab": {
          "base_uri": "https://localhost:8080/"
        },
        "id": "uIrznsNWkBjq",
        "outputId": "aba9355b-2c83-4596-8847-09379574f080"
      },
      "source": [
        "numbers = [1, 4, 7]\n",
        "print(numbers.index(4)) # index() fonksiyonu ile elamanın listenin kaçıncı indexinde olduğunu gösterir: list.index(element, start, end)"
      ],
      "execution_count": null,
      "outputs": [
        {
          "output_type": "stream",
          "text": [
            "1\n"
          ],
          "name": "stdout"
        }
      ]
    },
    {
      "cell_type": "code",
      "metadata": {
        "colab": {
          "base_uri": "https://localhost:8080/"
        },
        "id": "k3gwYqCsOTPm",
        "outputId": "78f35351-b52d-41f4-ea16-5bf88b34bd39"
      },
      "source": [
        "vowels = ['a', 'e', 'i', 'o', 'i', 'u']\n",
        "\n",
        "index = vowels.index('e')\n",
        "print('The index of e:', index)\n",
        "\n",
        "index = vowels.index('i')\n",
        "print('The index of i:', index)"
      ],
      "execution_count": null,
      "outputs": [
        {
          "output_type": "stream",
          "text": [
            "The index of e: 1\n",
            "The index of i: 2\n"
          ],
          "name": "stdout"
        }
      ]
    },
    {
      "cell_type": "code",
      "metadata": {
        "colab": {
          "base_uri": "https://localhost:8080/"
        },
        "id": "SSDzgDqhOc_l",
        "outputId": "8a79f42b-7624-44e6-8e18-cc7831c38627"
      },
      "source": [
        "alphabets = ['a', 'e', 'e', 'i', 'o', 'g', 'l', 'i', 'u']\n",
        "\n",
        "index = alphabets.index('e')    # İlk bulduğu ilgili karakterin index numarasını verir\n",
        "print('The index of e:', index)\n",
        "\n",
        "index = alphabets.index('i', 4)   # index[4]ten sonrasını ara demektir\n",
        "print('The index of i:', index)"
      ],
      "execution_count": null,
      "outputs": [
        {
          "output_type": "stream",
          "text": [
            "The index of e: 1\n",
            "The index of i: 7\n"
          ],
          "name": "stdout"
        }
      ]
    },
    {
      "cell_type": "code",
      "metadata": {
        "colab": {
          "base_uri": "https://localhost:8080/",
          "height": 227
        },
        "id": "UMozY76WOscP",
        "outputId": "db5fd5f0-0464-4b22-a8dc-6da9b9689bd3"
      },
      "source": [
        "alphabets = ['a', 'e', 'i', 'o', 'g', 'l', 'i', 'u']\n",
        "\n",
        "index = alphabets.index('i', 3, 5)    # Burada da index[3] ile index[5] arasında ara demektir. O da olmadığı için error ('i' is not in list) verir\n",
        "print('The index of i:', index)"
      ],
      "execution_count": null,
      "outputs": [
        {
          "output_type": "error",
          "ename": "ValueError",
          "evalue": "ignored",
          "traceback": [
            "\u001b[0;31m---------------------------------------------------------------------------\u001b[0m",
            "\u001b[0;31mValueError\u001b[0m                                Traceback (most recent call last)",
            "\u001b[0;32m<ipython-input-25-d1a75bbf297a>\u001b[0m in \u001b[0;36m<module>\u001b[0;34m()\u001b[0m\n\u001b[1;32m      1\u001b[0m \u001b[0malphabets\u001b[0m \u001b[0;34m=\u001b[0m \u001b[0;34m[\u001b[0m\u001b[0;34m'a'\u001b[0m\u001b[0;34m,\u001b[0m \u001b[0;34m'e'\u001b[0m\u001b[0;34m,\u001b[0m \u001b[0;34m'i'\u001b[0m\u001b[0;34m,\u001b[0m \u001b[0;34m'o'\u001b[0m\u001b[0;34m,\u001b[0m \u001b[0;34m'g'\u001b[0m\u001b[0;34m,\u001b[0m \u001b[0;34m'l'\u001b[0m\u001b[0;34m,\u001b[0m \u001b[0;34m'i'\u001b[0m\u001b[0;34m,\u001b[0m \u001b[0;34m'u'\u001b[0m\u001b[0;34m]\u001b[0m\u001b[0;34m\u001b[0m\u001b[0;34m\u001b[0m\u001b[0m\n\u001b[1;32m      2\u001b[0m \u001b[0;34m\u001b[0m\u001b[0m\n\u001b[0;32m----> 3\u001b[0;31m \u001b[0mindex\u001b[0m \u001b[0;34m=\u001b[0m \u001b[0malphabets\u001b[0m\u001b[0;34m.\u001b[0m\u001b[0mindex\u001b[0m\u001b[0;34m(\u001b[0m\u001b[0;34m'i'\u001b[0m\u001b[0;34m,\u001b[0m \u001b[0;36m3\u001b[0m\u001b[0;34m,\u001b[0m \u001b[0;36m5\u001b[0m\u001b[0;34m)\u001b[0m    \u001b[0;31m# Burada da index[3] ile index[5] arasında ara demektir. O da olmadığı için error verir\u001b[0m\u001b[0;34m\u001b[0m\u001b[0;34m\u001b[0m\u001b[0m\n\u001b[0m\u001b[1;32m      4\u001b[0m \u001b[0mprint\u001b[0m\u001b[0;34m(\u001b[0m\u001b[0;34m'The index of i:'\u001b[0m\u001b[0;34m,\u001b[0m \u001b[0mindex\u001b[0m\u001b[0;34m)\u001b[0m\u001b[0;34m\u001b[0m\u001b[0;34m\u001b[0m\u001b[0m\n",
            "\u001b[0;31mValueError\u001b[0m: 'i' is not in list"
          ]
        }
      ]
    },
    {
      "cell_type": "markdown",
      "metadata": {
        "id": "SGfKbdCbCvGs"
      },
      "source": [
        "# **ACCESSING LISTS**"
      ]
    },
    {
      "cell_type": "code",
      "metadata": {
        "colab": {
          "base_uri": "https://localhost:8080/"
        },
        "id": "Ow8gkDDrqdcF",
        "outputId": "190c51b1-ab29-444e-d87c-159d0539a985"
      },
      "source": [
        "colors = ['red', 'purple', 'blue', 'yellow', 'green']\n",
        "print(colors[2]) # colors listesinin 2.indexinin ne olduğunu çıkartır\n",
        "print(colors[-1]) # colors listesinin sondan 1. indeksinin ne olduğunu çıkartır"
      ],
      "execution_count": null,
      "outputs": [
        {
          "output_type": "stream",
          "text": [
            "blue\n",
            "green\n"
          ],
          "name": "stdout"
        }
      ]
    },
    {
      "cell_type": "code",
      "metadata": {
        "colab": {
          "base_uri": "https://localhost:8080/"
        },
        "id": "u9IlJAtcE9S7",
        "outputId": "63ef4123-591d-4da2-f910-ea3e8503b263"
      },
      "source": [
        "new = [\"h\", \"a\" , 1, ['p', 5], True]\n",
        "\n",
        "print(new[4])\n",
        "print(type(new[4]))\n",
        "\n",
        "variable = new[3]\n",
        "print(type(variable))"
      ],
      "execution_count": null,
      "outputs": [
        {
          "output_type": "stream",
          "text": [
            "True\n",
            "<class 'bool'>\n",
            "<class 'list'>\n"
          ],
          "name": "stdout"
        }
      ]
    },
    {
      "cell_type": "code",
      "metadata": {
        "colab": {
          "base_uri": "https://localhost:8080/"
        },
        "id": "i_kklUyTtWT9",
        "outputId": "2f5c7758-40f6-424f-fc4d-e7debf0c89e3"
      },
      "source": [
        "city = ['New York', 'London', 'Istanbul', 'Seoul', 'Sydney']\n",
        "\n",
        "city_list = []\n",
        "city_list.append(city) # Burada city_list içine city listesini ekleiyoruz\n",
        "\n",
        "print(city_list) # Bu city_list listesinin sadece 1 elemanı vardır ki o da bir listedir\n",
        "print(city_list[0]) # Liste içerisindeki listeyi döndürür çünkü city_list listesinin tek bir elemanı vardır o da city listesidir"
      ],
      "execution_count": null,
      "outputs": [
        {
          "output_type": "stream",
          "text": [
            "[['New York', 'London', 'Istanbul', 'Seoul', 'Sydney']]\n",
            "['New York', 'London', 'Istanbul', 'Seoul', 'Sydney']\n"
          ],
          "name": "stdout"
        }
      ]
    },
    {
      "cell_type": "code",
      "metadata": {
        "colab": {
          "base_uri": "https://localhost:8080/"
        },
        "id": "IxGAmNjsy7pT",
        "outputId": "967ab134-c993-44b4-fabf-75025de5cb91"
      },
      "source": [
        "listem = ['elma', 'armut']\n",
        "listem.append(['portakal', 'muz']) # append() fonksiyonunun işlevi, burada görüleceği üzere direk liste olarak ekler\n",
        "print(listem)\n"
      ],
      "execution_count": null,
      "outputs": [
        {
          "output_type": "stream",
          "text": [
            "['elma', 'armut', ['portakal', 'muz']]\n"
          ],
          "name": "stdout"
        }
      ]
    },
    {
      "cell_type": "code",
      "metadata": {
        "colab": {
          "base_uri": "https://localhost:8080/"
        },
        "id": "NQLi5jxJzPek",
        "outputId": "4b777ac4-bef9-4447-f023-6f231db1178b"
      },
      "source": [
        "listem = ['elma', 'armut']\n",
        "listem.extend(['portakal', 'muz']) # extend() fonksiyonunun işlevi, burada görüleceği üzere liste elamanlarını yeni elemanlar ile uzatmıştır\n",
        "print(listem)"
      ],
      "execution_count": null,
      "outputs": [
        {
          "output_type": "stream",
          "text": [
            "['elma', 'armut', 'portakal', 'muz']\n"
          ],
          "name": "stdout"
        }
      ]
    },
    {
      "cell_type": "code",
      "metadata": {
        "colab": {
          "base_uri": "https://localhost:8080/"
        },
        "id": "JUTTadYJt-r4",
        "outputId": "ca48dcec-589b-408e-e97c-204d767da931"
      },
      "source": [
        "city_list = [['New York', 'London', 'Istanbul', 'Seoul', 'Sydney']]\n",
        "print(city_list[0]) # city_list listesinin sadece 1 elemanı var o da zaten bir liste"
      ],
      "execution_count": null,
      "outputs": [
        {
          "output_type": "stream",
          "text": [
            "['New York', 'London', 'Istanbul', 'Seoul', 'Sydney']\n"
          ],
          "name": "stdout"
        }
      ]
    },
    {
      "cell_type": "code",
      "metadata": {
        "colab": {
          "base_uri": "https://localhost:8080/",
          "height": 177
        },
        "id": "oBCYD4rvQXdJ",
        "outputId": "58176626-4fe4-4d18-d885-4a611a61e1ed"
      },
      "source": [
        "city_list = [['New York', 'London', 'Istanbul', 'Seoul', 'Sydney']]\n",
        "print(city_list[1]) # Görüleceği üzere burada listemiz tek elemanı olduğu için ( o da bir liste), index[1] yok ve hata verir"
      ],
      "execution_count": null,
      "outputs": [
        {
          "output_type": "error",
          "ename": "IndexError",
          "evalue": "ignored",
          "traceback": [
            "\u001b[0;31m---------------------------------------------------------------------------\u001b[0m",
            "\u001b[0;31mIndexError\u001b[0m                                Traceback (most recent call last)",
            "\u001b[0;32m<ipython-input-28-07fef0c484bd>\u001b[0m in \u001b[0;36m<module>\u001b[0;34m()\u001b[0m\n\u001b[1;32m      1\u001b[0m \u001b[0mcity_list\u001b[0m \u001b[0;34m=\u001b[0m \u001b[0;34m[\u001b[0m\u001b[0;34m[\u001b[0m\u001b[0;34m'New York'\u001b[0m\u001b[0;34m,\u001b[0m \u001b[0;34m'London'\u001b[0m\u001b[0;34m,\u001b[0m \u001b[0;34m'Istanbul'\u001b[0m\u001b[0;34m,\u001b[0m \u001b[0;34m'Seoul'\u001b[0m\u001b[0;34m,\u001b[0m \u001b[0;34m'Sydney'\u001b[0m\u001b[0;34m]\u001b[0m\u001b[0;34m]\u001b[0m\u001b[0;34m\u001b[0m\u001b[0;34m\u001b[0m\u001b[0m\n\u001b[0;32m----> 2\u001b[0;31m \u001b[0mprint\u001b[0m\u001b[0;34m(\u001b[0m\u001b[0mcity_list\u001b[0m\u001b[0;34m[\u001b[0m\u001b[0;36m1\u001b[0m\u001b[0;34m]\u001b[0m\u001b[0;34m)\u001b[0m\u001b[0;34m\u001b[0m\u001b[0;34m\u001b[0m\u001b[0m\n\u001b[0m",
            "\u001b[0;31mIndexError\u001b[0m: list index out of range"
          ]
        }
      ]
    },
    {
      "cell_type": "code",
      "metadata": {
        "colab": {
          "base_uri": "https://localhost:8080/"
        },
        "id": "B5hU9aJNH2GL",
        "outputId": "1342ba8c-cd4a-4d7c-b632-8dfce3190b0a"
      },
      "source": [
        "city = [['New York', 'London', 'Istanbul', 'Seoul', 'Sydney']]\n",
        "\n",
        "print(city)\n",
        "print(city[0]) #city listesinin 0. indexteki elemanı listenin aynısı çünkü city listesinin tek elamanı var o da liste\n",
        "print(city[0][2]) # city listesinin 0. index elemanının 2. indexindeki elemanı çıkartır\n",
        "print(city[0][2][3]) # city listesinin 0.indexinin 2.index elemanının 3.indexini çıkartır\n",
        "print()\n",
        "print(f\"Element 0 of {city} is: \", city[0])\n",
        "print(f\"Element 0 0f {city[0]} is: \", city[0][0])   # f-string olayını bu şekilde kullanabiliriz\n",
        "print(f\"Element 0 of {city[0][0]} is: \", city[0][0][0])\n"
      ],
      "execution_count": null,
      "outputs": [
        {
          "output_type": "stream",
          "text": [
            "[['New York', 'London', 'Istanbul', 'Seoul', 'Sydney']]\n",
            "['New York', 'London', 'Istanbul', 'Seoul', 'Sydney']\n",
            "Istanbul\n",
            "a\n",
            "\n",
            "Element 0 of [['New York', 'London', 'Istanbul', 'Seoul', 'Sydney']] is:  ['New York', 'London', 'Istanbul', 'Seoul', 'Sydney']\n",
            "Element 0 0f ['New York', 'London', 'Istanbul', 'Seoul', 'Sydney'] is:  New York\n",
            "Element 0 of New York is:  N\n"
          ],
          "name": "stdout"
        }
      ]
    },
    {
      "cell_type": "code",
      "metadata": {
        "colab": {
          "base_uri": "https://localhost:8080/"
        },
        "id": "XH2RvuAhVwB1",
        "outputId": "f825d860-42d5-47a7-a890-d89fdd484401"
      },
      "source": [
        "fruits = ['apple', 'banana', 'watermelon', 'orange', 'mango', 'avocado']\n",
        "\n",
        "fruit_list = []\n",
        "fruit_list.insert(0, fruits) # Bir nevi liste içierisinde liste oluşturur, index[0] a fruits listesini ata demektir\n",
        "print(fruit_list)\n",
        "print(fruit_list[0][2][7])"
      ],
      "execution_count": null,
      "outputs": [
        {
          "output_type": "stream",
          "text": [
            "[['apple', 'banana', 'watermelon', 'orange', 'mango', 'avocado']]\n",
            "l\n"
          ],
          "name": "stdout"
        }
      ]
    },
    {
      "cell_type": "code",
      "metadata": {
        "colab": {
          "base_uri": "https://localhost:8080/"
        },
        "id": "bU4iHjOhVnOF",
        "outputId": "933fb4be-b1a2-4194-a439-a26fca8cfe47"
      },
      "source": [
        "print(len([[12, 34, 56]]))"
      ],
      "execution_count": null,
      "outputs": [
        {
          "output_type": "stream",
          "text": [
            "1\n"
          ],
          "name": "stdout"
        }
      ]
    },
    {
      "cell_type": "code",
      "metadata": {
        "colab": {
          "base_uri": "https://localhost:8080/"
        },
        "id": "fEQSVyTr7Fs1",
        "outputId": "d437c979-0a30-4004-8e91-14640aadb093"
      },
      "source": [
        "print(len([[12, 34, 56]][0])) # Listenin 0. indexinin uzunluğu nedir anlamına gelir o da zaten listenin kendisidir"
      ],
      "execution_count": null,
      "outputs": [
        {
          "output_type": "stream",
          "text": [
            "3\n"
          ],
          "name": "stdout"
        }
      ]
    },
    {
      "cell_type": "code",
      "metadata": {
        "colab": {
          "base_uri": "https://localhost:8080/"
        },
        "id": "xMwS5ADn7jU-",
        "outputId": "bffc6e08-a1c1-4f75-cae3-2fc98904408b"
      },
      "source": [
        "print(len([[12, 34, 56], [0]])) # Burada ise görüleceği üzere liste içerisinde 2 adet liste olarak eleman var (virgülle ayrılmış) ve dıştaki listenin uzunluğu bu yüzden 2 olur"
      ],
      "execution_count": null,
      "outputs": [
        {
          "output_type": "stream",
          "text": [
            "2\n"
          ],
          "name": "stdout"
        }
      ]
    },
    {
      "cell_type": "markdown",
      "metadata": {
        "id": "jW1ojMKfSlAT"
      },
      "source": [
        "**LIST SLICING**"
      ]
    },
    {
      "cell_type": "code",
      "metadata": {
        "colab": {
          "base_uri": "https://localhost:8080/"
        },
        "id": "t4tkoYybXR1f",
        "outputId": "053410e0-568a-43b1-e7c0-53baa08dfbb0"
      },
      "source": [
        "# Slicing is just similar to indexing. The difference is adding colon or colons in square brackets.\n",
        "# You can keep in mind the formula syntax below for slicing a sequence. From 'start' to 'stop-1', by 'step'.\n",
        "# The formula syntax is : sequence[start:stop:step]\n",
        "\n",
        "numbers = [1, 3, 5, 7, 9, 11, 13, 15, 17]\n",
        "print(numbers[2:5])  # we get the elements from index=2 to index=5(5 is not included)"
      ],
      "execution_count": null,
      "outputs": [
        {
          "output_type": "stream",
          "text": [
            "[5, 7, 9]\n"
          ],
          "name": "stdout"
        }
      ]
    },
    {
      "cell_type": "code",
      "metadata": {
        "colab": {
          "base_uri": "https://localhost:8080/"
        },
        "id": "Y9mvPTIPXbHt",
        "outputId": "0461a6c4-bd2d-4175-8eb4-e40c944e46ab"
      },
      "source": [
        "number = [1,2,3,4,5,6,7,8]\n",
        "print(number[1:5])\n",
        "print(number[1:5][1:3])           # Bu şekilde slicing yapılmış bir listeye tekrar slicing uygulayabiliriz\n",
        "print(number[1:5][1:3][::])       # Buradaki [::] sembolü listeyi aynen yazdırır, olmasa da olurdu\n",
        "print(number[1:5][1:3][::][:1])   # Listenin en son halinin [3, 4] 0 dan başayıp index[1] e kadar olan elamanlarını yazdırır. 1 dahil değil o da sadece ilk eleman olur yani index[0]"
      ],
      "execution_count": null,
      "outputs": [
        {
          "output_type": "stream",
          "text": [
            "[2, 3, 4, 5]\n",
            "[3, 4]\n",
            "[3, 4]\n",
            "[3]\n"
          ],
          "name": "stdout"
        }
      ]
    },
    {
      "cell_type": "code",
      "metadata": {
        "colab": {
          "base_uri": "https://localhost:8080/"
        },
        "id": "tiQ44nnVYICy",
        "outputId": "e6777322-e601-4550-b585-b9253c0be12c"
      },
      "source": [
        "sayı = [1,2,\"three\",4,5,6,7,8]\n",
        "print(sayı[1:5])\n",
        "print(sayı[1:5][1:3])\n",
        "print(sayı[1:5][1:3][0])\n",
        "print(sayı[1:5][1:3][0][2])"
      ],
      "execution_count": null,
      "outputs": [
        {
          "output_type": "stream",
          "text": [
            "[2, 'three', 4, 5]\n",
            "['three', 4]\n",
            "three\n",
            "r\n"
          ],
          "name": "stdout"
        }
      ]
    },
    {
      "cell_type": "code",
      "metadata": {
        "colab": {
          "base_uri": "https://localhost:8080/"
        },
        "id": "HXpTwZ0puZ4C",
        "outputId": "0f06ac55-45cf-4efc-be14-7ed14b0c566f"
      },
      "source": [
        "city = ['New York', 'London', 'Istanbul', 'Sydney']\n",
        "city[1:] = 'Seoul' # 1.indexten başlayarak en son elemana kadar 'Seoul' un elamanlarını atar onlar da iterable(string)(elemanlarına ayrılabilir) olduğu için ayrı ayrı ekler\n",
        "print(city)"
      ],
      "execution_count": null,
      "outputs": [
        {
          "output_type": "stream",
          "text": [
            "['New York', 'S', 'e', 'o', 'u', 'l']\n"
          ],
          "name": "stdout"
        }
      ]
    },
    {
      "cell_type": "code",
      "metadata": {
        "colab": {
          "base_uri": "https://localhost:8080/"
        },
        "id": "AG2TXhGwyHyh",
        "outputId": "78f450a2-a26a-441e-bf06-b673b85d589d"
      },
      "source": [
        "city = [\"İstanbul\", \"İzmir\", \"Ankara\", \"Samsun\"]\n",
        "city[0:2] = [\"a\", \"b\"] # Listenin 0 ve 1.indexine a ve b atar sonradakilere dokunmaz\n",
        "print(city)\n",
        "\n",
        "city[0:2] = \"a\" # Listenin 0 ve 1.indexine a atar sonradakilere dokunmaz. Aynısı olduğu için bir kere yazar\n",
        "print(city)\n",
        "\n",
        "city[0:2] = \"abc\" # Listenin 0.indexinden başlayarak a ve b ve c yi atar sonradakilere dokunmaz. Aynısı olduğu için bir kere yazar\n",
        "print(city)"
      ],
      "execution_count": null,
      "outputs": [
        {
          "output_type": "stream",
          "text": [
            "['a', 'b', 'Ankara', 'Samsun']\n",
            "['a', 'Ankara', 'Samsun']\n",
            "['a', 'b', 'c', 'Samsun']\n"
          ],
          "name": "stdout"
        }
      ]
    },
    {
      "cell_type": "code",
      "metadata": {
        "colab": {
          "base_uri": "https://localhost:8080/"
        },
        "id": "5CE9lj8rStOo",
        "outputId": "f4332b02-dd61-478e-a3fa-732cad309516"
      },
      "source": [
        "liste = list(range(11)) # range() fonksiyonu iterable bir sayı dizin oluşturur. Stop-1 e kadar olur\n",
        "                          # The formula syntax is : range(start, stop[, step])\n",
        "print(liste)\n",
        "print(liste[0:11:2]) \n",
        "print(liste[1:11:2])"
      ],
      "execution_count": null,
      "outputs": [
        {
          "output_type": "stream",
          "text": [
            "[0, 1, 2, 3, 4, 5, 6, 7, 8, 9, 10]\n",
            "[0, 2, 4, 6, 8, 10]\n",
            "[1, 3, 5, 7, 9]\n"
          ],
          "name": "stdout"
        }
      ]
    },
    {
      "cell_type": "code",
      "metadata": {
        "colab": {
          "base_uri": "https://localhost:8080/"
        },
        "id": "QJ-rBq4JV3hy",
        "outputId": "5ef0338f-fe87-48cd-a72c-a202d2e757d5"
      },
      "source": [
        "mix_list = [1, [1, \"one\", 2, \"two\", 3, \"three\"]]\n",
        "print(mix_list[1][1::2]) # Listenin index[1] deki elemanının ki o da liste, index[1] den başlayarak sonuna kadar 2 şer atlayarak yazdır demektir\n",
        "print(mix_list[1][1:6:2]) # Bu şekilde de yazılabilir"
      ],
      "execution_count": null,
      "outputs": [
        {
          "output_type": "stream",
          "text": [
            "['one', 'two', 'three']\n",
            "['one', 'two', 'three']\n"
          ],
          "name": "stdout"
        }
      ]
    },
    {
      "cell_type": "code",
      "metadata": {
        "colab": {
          "base_uri": "https://localhost:8080/"
        },
        "id": "Om2Ihq_5Uytl",
        "outputId": "03b9f2af-a8a9-416f-afa5-c2fbd41756a7"
      },
      "source": [
        "animals = ['elephant', 'bear', 'fox', 'wolf', 'rabbit', 'deer', 'giraffe']\n",
        "\n",
        "print(animals[:])  # all elements of the list, Bu kullanımla listenin tüm elemanlarını yazdırabiliyoruz\n",
        "print(animals[3:])\n",
        "print(animals[:5])\n",
        "print(animals[::2])"
      ],
      "execution_count": null,
      "outputs": [
        {
          "output_type": "stream",
          "text": [
            "['elephant', 'bear', 'fox', 'wolf', 'rabbit', 'deer', 'giraffe']\n",
            "['wolf', 'rabbit', 'deer', 'giraffe']\n",
            "['elephant', 'bear', 'fox', 'wolf', 'rabbit']\n",
            "['elephant', 'fox', 'rabbit', 'giraffe']\n"
          ],
          "name": "stdout"
        }
      ]
    }
  ]
}