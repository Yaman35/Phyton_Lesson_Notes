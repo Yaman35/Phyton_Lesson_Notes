{
  "nbformat": 4,
  "nbformat_minor": 0,
  "metadata": {
    "colab": {
      "name": "Pyhton-3.ipynb",
      "provenance": [],
      "collapsed_sections": []
    },
    "kernelspec": {
      "name": "python3",
      "display_name": "Python 3"
    }
  },
  "cells": [
    {
      "cell_type": "markdown",
      "metadata": {
        "id": "N5AdjPKeISlm"
      },
      "source": [
        "### **Operations with print() function**"
      ]
    },
    {
      "cell_type": "code",
      "metadata": {
        "colab": {
          "base_uri": "https://localhost:8080/"
        },
        "id": "0mL_PiseAuaA",
        "outputId": "c1bd9895-9c45-4cad-f5a9-18f5a2e7c6df"
      },
      "source": [
        "number = 2020\n",
        "text = \"children deserve respect as much as adults in\"\n",
        "print(text, number)"
      ],
      "execution_count": null,
      "outputs": [
        {
          "output_type": "stream",
          "text": [
            "children deserve respect as much as adults in 2020\n"
          ],
          "name": "stdout"
        }
      ]
    },
    {
      "cell_type": "code",
      "metadata": {
        "colab": {
          "base_uri": "https://localhost:8080/"
        },
        "id": "lL24qN3hA9b0",
        "outputId": "f2622865-4c06-4240-8457-5442311b6511"
      },
      "source": [
        "print(\"yesterday I ate\", 2, \"apples\")  \n",
        "# When using print() we can write more than one expression in parentheses separated by ,"
      ],
      "execution_count": null,
      "outputs": [
        {
          "output_type": "stream",
          "text": [
            "yesterday I ate 2 apples\n"
          ],
          "name": "stdout"
        }
      ]
    },
    {
      "cell_type": "code",
      "metadata": {
        "colab": {
          "base_uri": "https://localhost:8080/"
        },
        "id": "6ptvOme-B0Ew",
        "outputId": "0f31c96a-30bc-49be-cbbc-8fdd63ac681f"
      },
      "source": [
        "print('i', end=' ')  # Görüleceği üzere end ile 4 satırı yanyana yazabilidik. end olmasaydı alt alta olurlardı\n",
        "print('will say', end=' ')\n",
        "print(\"'i missed you'\", end=' ')\n",
        "print('to my mother') "
      ],
      "execution_count": null,
      "outputs": [
        {
          "output_type": "stream",
          "text": [
            "i will say 'i missed you' to my mother\n"
          ],
          "name": "stdout"
        }
      ]
    },
    {
      "cell_type": "code",
      "metadata": {
        "colab": {
          "base_uri": "https://localhost:8080/"
        },
        "id": "xfX7Hj9sVhuD",
        "outputId": "81756864-ad29-401f-8c64-d08a04815f81"
      },
      "source": [
        "print('ahmet', end='-')  # end() fonksiyonu print işlemini yazdıktan sonraki olayı belirlemek için kullanılır !!!, sep() fonksiyonundan farklıdır\n",
        "print('mehmet', end=' ')\n",
        "print(\"sevilay\")\n"
      ],
      "execution_count": null,
      "outputs": [
        {
          "output_type": "stream",
          "text": [
            "ahmet-mehmet sevilay\n"
          ],
          "name": "stdout"
        }
      ]
    },
    {
      "cell_type": "code",
      "metadata": {
        "colab": {
          "base_uri": "https://localhost:8080/"
        },
        "id": "8K_Gxh1NCFm8",
        "outputId": "27a3268b-cc49-4c3c-c56d-3e67846d88d6"
      },
      "source": [
        "print('smoking', 'is', 'slowly', 'killing me', sep=' + ')  #sep ile aralarında + işareti koyabiliriz, sep() fonksiyonu içerideki stringleri ayırmak için kullanılır "
      ],
      "execution_count": null,
      "outputs": [
        {
          "output_type": "stream",
          "text": [
            "smoking + is + slowly + killing me\n"
          ],
          "name": "stdout"
        }
      ]
    },
    {
      "cell_type": "code",
      "metadata": {
        "colab": {
          "base_uri": "https://localhost:8080/"
        },
        "id": "l2VUG7X7MrGj",
        "outputId": "ca3be305-e263-4ba4-cea5-f63b4d554a82"
      },
      "source": [
        "print('smoking', 'is', 'slowly', 'killing me', sep='\\n') #sep ile araya bir satır boşluk da (sep= '\\n') koyabilirsin"
      ],
      "execution_count": null,
      "outputs": [
        {
          "output_type": "stream",
          "text": [
            "smoking\n",
            "is\n",
            "slowly\n",
            "killing me\n"
          ],
          "name": "stdout"
        }
      ]
    },
    {
      "cell_type": "code",
      "metadata": {
        "colab": {
          "base_uri": "https://localhost:8080/"
        },
        "id": "jpAZTNhZWYnF",
        "outputId": "aad4de29-0759-47fd-f667-f2f696b81b95"
      },
      "source": [
        "print('clarusway', end = '\\n\\n')\n",
        "print(\"İstanbul\")"
      ],
      "execution_count": null,
      "outputs": [
        {
          "output_type": "stream",
          "text": [
            "clarusway\n",
            "\n",
            "İstanbul\n"
          ],
          "name": "stdout"
        }
      ]
    },
    {
      "cell_type": "code",
      "metadata": {
        "colab": {
          "base_uri": "https://localhost:8080/"
        },
        "id": "_994Ywy-CVXy",
        "outputId": "8d302b8c-cfa3-4a80-d962-93fb71a068b8"
      },
      "source": [
        "x = 5\n",
        "print ('value of x       : ', x)\n",
        "\n",
        "x += 2  # x değerine 2 ekle demektir (Variable += number gives the same result as Variable = Variable + number.)\n",
        "print (\"2 more of x      : \", x, \"\\n\") # using string expression '\\n', \n",
        "                                       # we produce extra line. \n",
        "                                       # So that we had empty line"
      ],
      "execution_count": null,
      "outputs": [
        {
          "output_type": "stream",
          "text": [
            "value of x       :  5\n",
            "2 more of x      :  7 \n",
            "\n"
          ],
          "name": "stdout"
        }
      ]
    },
    {
      "cell_type": "code",
      "metadata": {
        "colab": {
          "base_uri": "https://localhost:8080/"
        },
        "id": "dpO8JAOzCo5T",
        "outputId": "657e69f0-225d-4d95-d0e8-b9efa068114b"
      },
      "source": [
        "y = 10\n",
        "print ('value of y       : ', y)\n",
        "\n",
        "y -= 2                                    # y değerinden 2 çıkar demektir\n",
        "print (\"2 minus y        : \", y, \"\\n\")\n",
        "\n",
        "z = 6\n",
        "print ('value of z       : ', z)\n",
        "\n",
        "z *= 2                                    # z değerini 2 ile çarp demektir\n",
        "print (\"2 times z        : \", z, \"\\n\")"
      ],
      "execution_count": null,
      "outputs": [
        {
          "output_type": "stream",
          "text": [
            "value of y       :  10\n",
            "2 minus y        :  8 \n",
            "\n",
            "value of z       :  6\n",
            "2 times z        :  12 \n",
            "\n"
          ],
          "name": "stdout"
        }
      ]
    },
    {
      "cell_type": "markdown",
      "metadata": {
        "id": "Lc_YYoHES7YC"
      },
      "source": [
        "**-= decrements the variable in place,**\n",
        "\n",
        "**+= increment the variable in place,**\n",
        "\n",
        "*= multiply the variable in place,\n",
        "\n",
        "**/= divide the variable in place,**\n",
        "\n",
        "**//= ﬂoor divide the variable in place,**\n",
        "\n",
        "**%= returns the modulus of the variable in place,**\n",
        "\n",
        "**= raise to power in place. **kalın metin**"
      ]
    },
    {
      "cell_type": "code",
      "metadata": {
        "colab": {
          "base_uri": "https://localhost:8080/"
        },
        "id": "24K6G8Fn4QAa",
        "outputId": "5488843a-98e0-4b3d-c592-5a5857359ab5"
      },
      "source": [
        "a = 100 + 45\n",
        "b = 500 - 65\n",
        "c = 25 * 4 \n",
        "d = 10 / 2\n",
        "e = 11 // 2\n",
        "f  = 5 ** 3\n",
        "h = 10 % 3\n",
        "\n",
        "print(a, b, c, d, e, f, h)"
      ],
      "execution_count": null,
      "outputs": [
        {
          "output_type": "stream",
          "text": [
            "145 435 100 5.0 5 125 1\n"
          ],
          "name": "stdout"
        }
      ]
    },
    {
      "cell_type": "code",
      "metadata": {
        "colab": {
          "base_uri": "https://localhost:8080/",
          "height": 248
        },
        "id": "7rxKlpOD7Sci",
        "outputId": "afa6c6ff-0a1f-4078-e71f-36411fc5e894"
      },
      "source": [
        "print(11-7)\n",
        "print('11-7')\n",
        "print(4 + 11.0)\n",
        "print('4' + 4) # error verir"
      ],
      "execution_count": null,
      "outputs": [
        {
          "output_type": "stream",
          "text": [
            "4\n",
            "11-7\n",
            "15.0\n"
          ],
          "name": "stdout"
        },
        {
          "output_type": "error",
          "ename": "TypeError",
          "evalue": "ignored",
          "traceback": [
            "\u001b[0;31m---------------------------------------------------------------------------\u001b[0m",
            "\u001b[0;31mTypeError\u001b[0m                                 Traceback (most recent call last)",
            "\u001b[0;32m<ipython-input-11-aee2e0027416>\u001b[0m in \u001b[0;36m<module>\u001b[0;34m()\u001b[0m\n\u001b[1;32m      2\u001b[0m \u001b[0mprint\u001b[0m\u001b[0;34m(\u001b[0m\u001b[0;34m'11-7'\u001b[0m\u001b[0;34m)\u001b[0m\u001b[0;34m\u001b[0m\u001b[0;34m\u001b[0m\u001b[0m\n\u001b[1;32m      3\u001b[0m \u001b[0mprint\u001b[0m\u001b[0;34m(\u001b[0m\u001b[0;36m4\u001b[0m \u001b[0;34m+\u001b[0m \u001b[0;36m11.0\u001b[0m\u001b[0;34m)\u001b[0m\u001b[0;34m\u001b[0m\u001b[0;34m\u001b[0m\u001b[0m\n\u001b[0;32m----> 4\u001b[0;31m \u001b[0mprint\u001b[0m\u001b[0;34m(\u001b[0m\u001b[0;34m'4'\u001b[0m \u001b[0;34m+\u001b[0m \u001b[0;36m4\u001b[0m\u001b[0;34m)\u001b[0m\u001b[0;34m\u001b[0m\u001b[0;34m\u001b[0m\u001b[0m\n\u001b[0m",
            "\u001b[0;31mTypeError\u001b[0m: can only concatenate str (not \"int\") to str"
          ]
        }
      ]
    },
    {
      "cell_type": "code",
      "metadata": {
        "colab": {
          "base_uri": "https://localhost:8080/"
        },
        "id": "o3pumxtrDXXX",
        "outputId": "5dbd8a48-f8f5-4470-c93d-d5d18909dd9e"
      },
      "source": [
        "x = 15\n",
        "x /= 2\n",
        "print(x)"
      ],
      "execution_count": null,
      "outputs": [
        {
          "output_type": "stream",
          "text": [
            "7.5\n"
          ],
          "name": "stdout"
        }
      ]
    },
    {
      "cell_type": "code",
      "metadata": {
        "colab": {
          "base_uri": "https://localhost:8080/"
        },
        "id": "43btYqekDp1y",
        "outputId": "f06693fe-376c-46e4-de2f-e1ff829bdf6d"
      },
      "source": [
        "x = 15\n",
        "x //= 2 # Bölümün tam kısmını alır\n",
        "print(x)"
      ],
      "execution_count": null,
      "outputs": [
        {
          "output_type": "stream",
          "text": [
            "7\n"
          ],
          "name": "stdout"
        }
      ]
    },
    {
      "cell_type": "code",
      "metadata": {
        "colab": {
          "base_uri": "https://localhost:8080/"
        },
        "id": "BtFIQkBKD7n0",
        "outputId": "2615e199-cad6-48dc-a1a4-e289875d8a53"
      },
      "source": [
        "x = 15\n",
        "x %= 6  # Kalanı alır\n",
        "print(x)"
      ],
      "execution_count": null,
      "outputs": [
        {
          "output_type": "stream",
          "text": [
            "3\n"
          ],
          "name": "stdout"
        }
      ]
    },
    {
      "cell_type": "code",
      "metadata": {
        "colab": {
          "base_uri": "https://localhost:8080/"
        },
        "id": "pF3TqUzsEMzV",
        "outputId": "f16be914-88c0-4a14-875b-f199eba30042"
      },
      "source": [
        "x = 15\n",
        "x **= 2  # Karesini alır (üssünü)\n",
        "print(x)"
      ],
      "execution_count": null,
      "outputs": [
        {
          "output_type": "stream",
          "text": [
            "225\n"
          ],
          "name": "stdout"
        }
      ]
    },
    {
      "cell_type": "code",
      "metadata": {
        "colab": {
          "base_uri": "https://localhost:8080/"
        },
        "id": "-HBvO7j1EZDW",
        "outputId": "2dc479d7-dc17-4148-8850-dfd52d50aa0d"
      },
      "source": [
        "fruit = 'Orange'\n",
        "vegetable = \"Tomato\"\n",
        "print (fruit, \"\"\" and \"\"\" , vegetable)"
      ],
      "execution_count": null,
      "outputs": [
        {
          "output_type": "stream",
          "text": [
            "Orange  and  Tomato\n"
          ],
          "name": "stdout"
        }
      ]
    },
    {
      "cell_type": "markdown",
      "metadata": {
        "id": "CbwEiFycWFJo"
      },
      "source": [
        "### **Escape Sequences**\n",
        "\n",
        "Here are basic escape sequences in Python:\n",
        "\n",
        "\\n : means new line,\n",
        "\n",
        "\\t : means tab mark,\n",
        "\n",
        "\\b : means backspace. It moves the cursor one character to the left."
      ]
    },
    {
      "cell_type": "code",
      "metadata": {
        "colab": {
          "base_uri": "https://localhost:8080/",
          "height": 129
        },
        "id": "igBJRSNmZo2F",
        "outputId": "539e9a2d-3b9e-428b-cba1-815eff085cba"
      },
      "source": [
        "print(\"\"\")"
      ],
      "execution_count": null,
      "outputs": [
        {
          "output_type": "error",
          "ename": "SyntaxError",
          "evalue": "ignored",
          "traceback": [
            "\u001b[0;36m  File \u001b[0;32m\"<ipython-input-32-3f29872ceae9>\"\u001b[0;36m, line \u001b[0;32m1\u001b[0m\n\u001b[0;31m    print(\"\"\")\u001b[0m\n\u001b[0m              ^\u001b[0m\n\u001b[0;31mSyntaxError\u001b[0m\u001b[0;31m:\u001b[0m EOF while scanning triple-quoted string literal\n"
          ]
        }
      ]
    },
    {
      "cell_type": "code",
      "metadata": {
        "colab": {
          "base_uri": "https://localhost:8080/"
        },
        "id": "VUCqGgSbZryb",
        "outputId": "4bef8f4f-3169-4d5b-93c4-f6a36322fa26"
      },
      "source": [
        "print(\"\\\"\") # \\ bu işaret özellik kazandırır veya özelliğini değiştirir"
      ],
      "execution_count": null,
      "outputs": [
        {
          "output_type": "stream",
          "text": [
            "\"\n"
          ],
          "name": "stdout"
        }
      ]
    },
    {
      "cell_type": "code",
      "metadata": {
        "colab": {
          "base_uri": "https://localhost:8080/",
          "height": 129
        },
        "id": "wTKIC75wan3g",
        "outputId": "3c3a378d-1cc4-473b-8b38-3d1707cb3c4b"
      },
      "source": [
        "print(\"\\\")"
      ],
      "execution_count": null,
      "outputs": [
        {
          "output_type": "error",
          "ename": "SyntaxError",
          "evalue": "ignored",
          "traceback": [
            "\u001b[0;36m  File \u001b[0;32m\"<ipython-input-35-dff1232de400>\"\u001b[0;36m, line \u001b[0;32m1\u001b[0m\n\u001b[0;31m    print(\"\\\")\u001b[0m\n\u001b[0m              ^\u001b[0m\n\u001b[0;31mSyntaxError\u001b[0m\u001b[0;31m:\u001b[0m EOL while scanning string literal\n"
          ]
        }
      ]
    },
    {
      "cell_type": "code",
      "metadata": {
        "colab": {
          "base_uri": "https://localhost:8080/"
        },
        "id": "2ncPsemJarzM",
        "outputId": "24168f89-2589-4288-d03f-ac9b4a2916ff"
      },
      "source": [
        "print(\"\\\\\") # \\ kullanmasaydık yukarıdaki gibi hata verirdi"
      ],
      "execution_count": null,
      "outputs": [
        {
          "output_type": "stream",
          "text": [
            "\\\n"
          ],
          "name": "stdout"
        }
      ]
    },
    {
      "cell_type": "code",
      "metadata": {
        "colab": {
          "base_uri": "https://localhost:8080/"
        },
        "id": "xZCsCeEibFFx",
        "outputId": "68ba3f18-8912-4a5b-a068-5b519e6bac8f"
      },
      "source": [
        "print('C:\\\\north pole\\noise_penguins.txt') # Eğer \\north öncesi bir \\ daha koymasaydık orth diye alta geçerdi\n",
        "print('__________')\n",
        "print('first', 'second', 'third', sep = '\\t')"
      ],
      "execution_count": null,
      "outputs": [
        {
          "output_type": "stream",
          "text": [
            "C:\\north pole\n",
            "oise_penguins.txt\n",
            "__________\n",
            "first\tsecond\tthird\n"
          ],
          "name": "stdout"
        }
      ]
    },
    {
      "cell_type": "code",
      "metadata": {
        "colab": {
          "base_uri": "https://localhost:8080/"
        },
        "id": "FoPIOifk8Zls",
        "outputId": "b76ed2b0-3542-4caf-e50a-185c4a50318f"
      },
      "source": [
        "print('C:\\\\november\\number_expenditure.txt') # Görüldüğü gibi ilk n yazdırılır fakat ikinci n yazdırılmaz, onu alt satıra geç komutu gibi algılar"
      ],
      "execution_count": null,
      "outputs": [
        {
          "output_type": "stream",
          "text": [
            "C:\\november\n",
            "umber_expenditure.txt\n"
          ],
          "name": "stdout"
        }
      ]
    },
    {
      "cell_type": "code",
      "metadata": {
        "colab": {
          "base_uri": "https://localhost:8080/"
        },
        "id": "bPy7Gy3_bw65",
        "outputId": "9092354e-959a-4f18-a8da-23a49acccf73"
      },
      "source": [
        "print('we are', '\\boosting', 'our', '\\brotherhood')"
      ],
      "execution_count": null,
      "outputs": [
        {
          "output_type": "stream",
          "text": [
            "we are \boosting our \brotherhood\n"
          ],
          "name": "stdout"
        }
      ]
    },
    {
      "cell_type": "code",
      "metadata": {
        "colab": {
          "base_uri": "https://localhost:8080/"
        },
        "id": "5varmgTA8_A-",
        "outputId": "d9707298-afa2-4414-8856-42fba9aa219d"
      },
      "source": [
        "print('we', '\\bare', '\\bunited') # Görüleceği üzere \\b ifadesi ile kelimeler arası boşluklar silindi"
      ],
      "execution_count": null,
      "outputs": [
        {
          "output_type": "stream",
          "text": [
            "we \bare \bunited\n"
          ],
          "name": "stdout"
        }
      ]
    },
    {
      "cell_type": "code",
      "metadata": {
        "colab": {
          "base_uri": "https://localhost:8080/"
        },
        "id": "3LaHpodlcYKx",
        "outputId": "d9394d91-efdb-4a57-9801-ba7dc4e695c2"
      },
      "source": [
        "print('it\\'s essential to learn Pyhton\\'s libraries in IT World') # Böyle kullanarak ' işaretlerini yazdırabiliyoruz\n",
        "print('it\\'s funny to learn Python') "
      ],
      "execution_count": null,
      "outputs": [
        {
          "output_type": "stream",
          "text": [
            "it's essential to learn Pyhton's libraries in IT World\n",
            "it's funny to learn Python\n"
          ],
          "name": "stdout"
        }
      ]
    },
    {
      "cell_type": "code",
      "metadata": {
        "colab": {
          "base_uri": "https://localhost:8080/"
        },
        "id": "CcTBnmyfHQKh",
        "outputId": "5f41f438-58db-487d-db61-aaa10ef91cc2"
      },
      "source": [
        "text1 = 'it'\n",
        "text2 = 'easy'\n",
        "print(text1 + '\\'s very '+ text2) # Görüleceği üzere \\ kendisinden sonra gelen ve normalde sorun çıkartacak ' işaretinin önemsenmemesini sağlıyor"
      ],
      "execution_count": null,
      "outputs": [
        {
          "output_type": "stream",
          "text": [
            "it's very easy\n"
          ],
          "name": "stdout"
        }
      ]
    },
    {
      "cell_type": "code",
      "metadata": {
        "colab": {
          "base_uri": "https://localhost:8080/"
        },
        "id": "B6Hh624qd1vB",
        "outputId": "331f86ab-fbe0-49d2-a4d1-9e35b25e6ea7"
      },
      "source": [
        "text = \"Clarusway, Clarusway, Clarusway\"\n",
        "\n",
        "print(text,'\\n')\n",
        "print('\\t', text,'\\n')\n",
        "print('\\t\\t', text)\n"
      ],
      "execution_count": null,
      "outputs": [
        {
          "output_type": "stream",
          "text": [
            "Clarusway, Clarusway, Clarusway \n",
            "\n",
            "\t Clarusway, Clarusway, Clarusway \n",
            "\n",
            "\t\t Clarusway, Clarusway, Clarusway\n"
          ],
          "name": "stdout"
        }
      ]
    },
    {
      "cell_type": "code",
      "metadata": {
        "colab": {
          "base_uri": "https://localhost:8080/"
        },
        "id": "zXdtQwrOkzRk",
        "outputId": "a8152960-ddbe-4da2-b876-2eb8aa4268b7"
      },
      "source": [
        "text = \"Clarusway, Clarusway, Clarusway\"\n",
        "\n",
        "print(text + ',' , '\\n\\t', text + ',', '\\n\\t\\t', text)"
      ],
      "execution_count": null,
      "outputs": [
        {
          "output_type": "stream",
          "text": [
            "Clarusway, Clarusway, Clarusway, \n",
            "\t Clarusway, Clarusway, Clarusway, \n",
            "\t\t Clarusway, Clarusway, Clarusway\n"
          ],
          "name": "stdout"
        }
      ]
    },
    {
      "cell_type": "code",
      "metadata": {
        "colab": {
          "base_uri": "https://localhost:8080/"
        },
        "id": "SukFcOPTlQnY",
        "outputId": "11fe798e-08b8-4800-a9a4-eba2e0562110"
      },
      "source": [
        "text = \"Clarusway, Clarusway, Clarusway,\\n\\tClarusway, Clarusway, Clarusway,\\n\\t\\tClarusway, Clarusway, Clarusway\"\n",
        "print(text,sep=\",\")"
      ],
      "execution_count": null,
      "outputs": [
        {
          "output_type": "stream",
          "text": [
            "Clarusway, Clarusway, Clarusway,\n",
            "\tClarusway, Clarusway, Clarusway,\n",
            "\t\tClarusway, Clarusway, Clarusway\n"
          ],
          "name": "stdout"
        }
      ]
    },
    {
      "cell_type": "code",
      "metadata": {
        "colab": {
          "base_uri": "https://localhost:8080/"
        },
        "id": "P1xiwG03i-_3",
        "outputId": "eaa3f40f-788a-4d04-de63-337b9fe74845"
      },
      "source": [
        "text = \"Clarusway, Clarusway, Clarusway,\\n\\tClarusway, Clarusway, Clarusway,\\n\\t\\tClarusway, Clarusway, Clarusway\"\n",
        "\n",
        "print(text)"
      ],
      "execution_count": null,
      "outputs": [
        {
          "output_type": "stream",
          "text": [
            "Clarusway, Clarusway, Clarusway,\n",
            "\tClarusway, Clarusway, Clarusway,\n",
            "\t\tClarusway, Clarusway, Clarusway\n"
          ],
          "name": "stdout"
        }
      ]
    },
    {
      "cell_type": "code",
      "metadata": {
        "colab": {
          "base_uri": "https://localhost:8080/"
        },
        "id": "-NhshjJChbsC",
        "outputId": "097b36db-9454-422a-f484-82c43c9e3b47"
      },
      "source": [
        "text = \"Clarusway, Clarusway, Clarusway\"\n",
        "\n",
        "print(text, '\\n\\t', text, '\\n\\t\\t', text)"
      ],
      "execution_count": null,
      "outputs": [
        {
          "output_type": "stream",
          "text": [
            "Clarusway, Clarusway, Clarusway \n",
            "\t Clarusway, Clarusway, Clarusway \n",
            "\t\t Clarusway, Clarusway, Clarusway\n"
          ],
          "name": "stdout"
        }
      ]
    },
    {
      "cell_type": "code",
      "metadata": {
        "colab": {
          "base_uri": "https://localhost:8080/"
        },
        "id": "1hGh1Q54FszX",
        "outputId": "00c9f368-c684-43b9-b2d8-eff90434a16c"
      },
      "source": [
        "print('C:\\november\\number_expenditure.txt')"
      ],
      "execution_count": null,
      "outputs": [
        {
          "output_type": "stream",
          "text": [
            "C:\n",
            "ovember\n",
            "umber_expenditure.txt\n"
          ],
          "name": "stdout"
        }
      ]
    },
    {
      "cell_type": "markdown",
      "metadata": {
        "id": "e0IFlnJjZAFo"
      },
      "source": [
        "## **Boolean Operations**\n",
        "\n",
        "### It is important to remember that, logical operators have a different priority and it has an effect on the order of evaluation. Here are the operators in order of their priorities:\n",
        "\n",
        "### not\n",
        "### and\n",
        "### or"
      ]
    },
    {
      "cell_type": "code",
      "metadata": {
        "colab": {
          "base_uri": "https://localhost:8080/"
        },
        "id": "sJDeXRDlIvCN",
        "outputId": "06a350eb-3129-4f69-f0fc-afa194f09a1e"
      },
      "source": [
        "# For example : x = True and not True, the value of x returns False.\n",
        "# It evaluates not True first and gives False. It becomes x = True and False and gives False.\n",
        "\n",
        "logic = True and False or not False or False\n",
        "print(logic)"
      ],
      "execution_count": null,
      "outputs": [
        {
          "output_type": "stream",
          "text": [
            "True\n"
          ],
          "name": "stdout"
        }
      ]
    },
    {
      "cell_type": "markdown",
      "metadata": {
        "id": "DgsDljISZYce"
      },
      "source": [
        "# The following values are considered False, in that they evaluate to False when applied to a boolean operator:\n",
        "\n",
        "***- None.***\n",
        "\n",
        "***- Zero of any numeric type: 0, 0.0, 0j***\n",
        "\n",
        "**- Empty sequences and collections: '', [], {}.** \n",
        "\n",
        "***- Other than above values, any remaining value is evaluated as True ***"
      ]
    },
    {
      "cell_type": "code",
      "metadata": {
        "colab": {
          "base_uri": "https://localhost:8080/"
        },
        "id": "AByYonlFbtPQ",
        "outputId": "2ef99268-b475-4765-920b-94cdf9715360"
      },
      "source": [
        "False and not True"
      ],
      "execution_count": null,
      "outputs": [
        {
          "output_type": "execute_result",
          "data": {
            "text/plain": [
              "False"
            ]
          },
          "metadata": {
            "tags": []
          },
          "execution_count": 1
        }
      ]
    },
    {
      "cell_type": "code",
      "metadata": {
        "colab": {
          "base_uri": "https://localhost:8080/"
        },
        "id": "SyidDW7nb3xI",
        "outputId": "2e2e0b49-2e1b-4fd6-bb0b-03359af1b1d7"
      },
      "source": [
        "True and False or not False or False"
      ],
      "execution_count": null,
      "outputs": [
        {
          "output_type": "execute_result",
          "data": {
            "text/plain": [
              "True"
            ]
          },
          "metadata": {
            "tags": []
          },
          "execution_count": 2
        }
      ]
    },
    {
      "cell_type": "code",
      "metadata": {
        "colab": {
          "base_uri": "https://localhost:8080/"
        },
        "id": "lHhiU0gXJiRE",
        "outputId": "7c79a271-4fa6-4d04-94f1-dfa87b270500"
      },
      "source": [
        "print(2 and 3) # Burada 2 True verir and gördü ya Pyhton 2.sine de bakmak zorunda, baktı o da True ve kararı burda verdi, işte karar verdiği yerdekini çıktı olarak veriyor"
      ],
      "execution_count": null,
      "outputs": [
        {
          "output_type": "stream",
          "text": [
            "3\n"
          ],
          "name": "stdout"
        }
      ]
    },
    {
      "cell_type": "code",
      "metadata": {
        "colab": {
          "base_uri": "https://localhost:8080/"
        },
        "id": "-T7fvDaZJo4c",
        "outputId": "1ef344ea-91c5-4dee-9e69-5595b12bb623"
      },
      "source": [
        "print(1 and 0) # Burada 1 True veriyor and gördü ya ikincisine bakarak karar vermeli bir baktı o False verdi, ozaman True and False sonuç olarak False verir yani ikinci değer olan 0 çıktısını verir"
      ],
      "execution_count": null,
      "outputs": [
        {
          "output_type": "stream",
          "text": [
            "0\n"
          ],
          "name": "stdout"
        }
      ]
    },
    {
      "cell_type": "code",
      "metadata": {
        "colab": {
          "base_uri": "https://localhost:8080/"
        },
        "id": "L4mW2ojKJsCQ",
        "outputId": "9e594600-5525-44db-c898-29bc7a313f25"
      },
      "source": [
        "print(1 and \"I am doing good!\") # Burada 1 True and gördü ikincisine baktı o da True geldi ve kararı burda verdi dolayısıyla ikinci True yu çıktı veir o da I am doing good!"
      ],
      "execution_count": null,
      "outputs": [
        {
          "output_type": "stream",
          "text": [
            "I am doing good!\n"
          ],
          "name": "stdout"
        }
      ]
    },
    {
      "cell_type": "code",
      "metadata": {
        "colab": {
          "base_uri": "https://localhost:8080/"
        },
        "id": "gK0_Jv6_JyOY",
        "outputId": "4945012c-9e1a-4f42-871d-31242cd150f4"
      },
      "source": [
        "print(2 or 3) # Burada 2 True gelir baktı ki sonra or geldi yani sonrasında ne geleceği önemli değil True da olsa False da olsa sonuç True olacak yani ilkinde karar "
      ],
      "execution_count": null,
      "outputs": [
        {
          "output_type": "stream",
          "text": [
            "2\n"
          ],
          "name": "stdout"
        }
      ]
    },
    {
      "cell_type": "code",
      "metadata": {
        "colab": {
          "base_uri": "https://localhost:8080/"
        },
        "id": "-C_ptmjjejnr",
        "outputId": "baa852fb-e088-4705-fa8c-068f0ab5af80"
      },
      "source": [
        "print(3 and 2 and 1) # 3 True verir and geldi ikincisine bakmalı o da True verir dolayısıyla burda karar verdi çıktı 2 olur sonra and geldi ikinciye bakar o da 1 ve True gelir burada karar verdi ve sonuç True olur o da çıktı olarak 1 verir"
      ],
      "execution_count": null,
      "outputs": [
        {
          "output_type": "execute_result",
          "data": {
            "text/plain": [
              "1"
            ]
          },
          "metadata": {
            "tags": []
          },
          "execution_count": 6
        }
      ]
    },
    {
      "cell_type": "code",
      "metadata": {
        "colab": {
          "base_uri": "https://localhost:8080/"
        },
        "id": "5A4GjXnnerAy",
        "outputId": "c736e15a-1568-48e9-ca30-fe2737251152"
      },
      "source": [
        "print(3 or 2 or 1) # Burada 3 True verir sonrasında baktı or geldi ondan sonrası çok da önemli değil ne olursa olsun sonuç True olacağı için ilkinde karar verir 3 çıkar, aynı durum ikincisi için de var"
      ],
      "execution_count": null,
      "outputs": [
        {
          "output_type": "stream",
          "text": [
            "3\n"
          ],
          "name": "stdout"
        }
      ]
    },
    {
      "cell_type": "code",
      "metadata": {
        "colab": {
          "base_uri": "https://localhost:8080/"
        },
        "id": "lOmkWIhOfouH",
        "outputId": "5eea62f3-9835-4a04-9b41-7e0019f94b0a"
      },
      "source": [
        "print(2 and \"Hello World\") # 2 True verir and geldi ikinciye bakmalı baktı o da True geldi ve burada karar verdiği için ikincisini çıktı olarak verir Hello World\n",
        "print([] and \"be happy\") # [] False verir baktı and geldi sonrasına bakmasına gerek yok çünkü sonuç False olacak dolayısıyla ilk False değeri olan [] çıktı olarak verirlir\n",
        "print(None and ()) # None False verir baktı and geldi ikinciye bakmasına gerek yok üstteki ile aynı durum ve sonuç False olacağı için ilk False değerinde karar verdiğinden çıktısı None olur"
      ],
      "execution_count": null,
      "outputs": [
        {
          "output_type": "stream",
          "text": [
            "Hello World\n",
            "[]\n",
            "None\n"
          ],
          "name": "stdout"
        }
      ]
    },
    {
      "cell_type": "code",
      "metadata": {
        "colab": {
          "base_uri": "https://localhost:8080/"
        },
        "id": "4qN-VxFYfFmH",
        "outputId": "9433aefd-3c23-4aa5-bef5-958f16ae798e"
      },
      "source": [
        "bool(\"0\") # Burada normalde 0 False olur lakin \" \" içinde yazıldığı için string gibi olur ve True verir"
      ],
      "execution_count": null,
      "outputs": [
        {
          "output_type": "execute_result",
          "data": {
            "text/plain": [
              "True"
            ]
          },
          "metadata": {
            "tags": []
          },
          "execution_count": 8
        }
      ]
    },
    {
      "cell_type": "code",
      "metadata": {
        "colab": {
          "base_uri": "https://localhost:8080/"
        },
        "id": "sGD5wiHcfRhF",
        "outputId": "e1152a4a-2cd4-4456-cbff-51b542de6a48"
      },
      "source": [
        "bool(0) # Burada işte 0 False verir "
      ],
      "execution_count": null,
      "outputs": [
        {
          "output_type": "execute_result",
          "data": {
            "text/plain": [
              "False"
            ]
          },
          "metadata": {
            "tags": []
          },
          "execution_count": 11
        }
      ]
    },
    {
      "cell_type": "code",
      "metadata": {
        "colab": {
          "base_uri": "https://localhost:8080/"
        },
        "id": "YCEjra3SfT6N",
        "outputId": "c9a0b2ec-25ce-4776-e980-389080fb89e3"
      },
      "source": [
        "bool(0.0) # Burada da 0.0 False verir yukarıdaki kurallarımıza uygun olarak"
      ],
      "execution_count": null,
      "outputs": [
        {
          "output_type": "execute_result",
          "data": {
            "text/plain": [
              "False"
            ]
          },
          "metadata": {
            "tags": []
          },
          "execution_count": 12
        }
      ]
    },
    {
      "cell_type": "code",
      "metadata": {
        "colab": {
          "base_uri": "https://localhost:8080/"
        },
        "id": "60_LHQxrfWRT",
        "outputId": "fc31fcfb-1c01-4036-fc0d-f483444d7f02"
      },
      "source": [
        "bool(0.0j) # Burada 0.0j kurallar gereği False olduğunu hatırlayalım"
      ],
      "execution_count": null,
      "outputs": [
        {
          "output_type": "execute_result",
          "data": {
            "text/plain": [
              "False"
            ]
          },
          "metadata": {
            "tags": []
          },
          "execution_count": 13
        }
      ]
    },
    {
      "cell_type": "code",
      "metadata": {
        "colab": {
          "base_uri": "https://localhost:8080/"
        },
        "id": "VUkOI47kfIvb",
        "outputId": "8cb56ea8-6b58-43b2-839d-f3b8df5afc3b"
      },
      "source": [
        "bool(\" \") # Burada \" \" içerisindeki boşluk da bir karakter olduğu için 1 verir yani True"
      ],
      "execution_count": null,
      "outputs": [
        {
          "output_type": "execute_result",
          "data": {
            "text/plain": [
              "True"
            ]
          },
          "metadata": {
            "tags": []
          },
          "execution_count": 9
        }
      ]
    },
    {
      "cell_type": "code",
      "metadata": {
        "colab": {
          "base_uri": "https://localhost:8080/"
        },
        "id": "rsauM8UyfL64",
        "outputId": "27fc3387-2f1e-4e0e-d8aa-4b55946e4b86"
      },
      "source": [
        "bool(\"\") # Tanımlarda olduğu gibi \"\" da False verir"
      ],
      "execution_count": null,
      "outputs": [
        {
          "output_type": "execute_result",
          "data": {
            "text/plain": [
              "False"
            ]
          },
          "metadata": {
            "tags": []
          },
          "execution_count": 10
        }
      ]
    },
    {
      "cell_type": "code",
      "metadata": {
        "colab": {
          "base_uri": "https://localhost:8080/"
        },
        "id": "6EbeBen2m8-5",
        "outputId": "15a88659-27ae-4a20-8fc2-92e20fe629b4"
      },
      "source": [
        "print(2 or \"Hello World\") # 2 True verir or geldi sonrası çok önemli değil sonuç her halükarda True olacak yani ilkinde karar verdi ve değeri 2 çıktı olarak verilir\n",
        "print([] or \"be happy!\") # [] False gelir or geldi ikincisinie bakmak zorunda \"be happy\" de True gelir yani False or True dan sonuç True olur ve onun değeri olan be happy çıktı olarak verilir\n",
        "print(None or ()) # None False verir or geldi ikincisine baktık () da false verir False or False sonuç False olur lakin ikinci de karar veerdiği için çıktı () olur\n",
        "print({} or 0) # {} False verir or geldi ikinciye baktık o da False verdi False or False sonuç False olur karar ikincide verildi çıktı o olur yani 0\n",
        "print({0} or False) # {0} True verir or geldi ne gelirse gelsin sonuç True olacağı için ve ilkinde karar verildiği için onun değeri olan {0} çıktı olarak verilir"
      ],
      "execution_count": null,
      "outputs": [
        {
          "output_type": "stream",
          "text": [
            "2\n",
            "be happy!\n",
            "()\n",
            "0\n",
            "{0}\n"
          ],
          "name": "stdout"
        }
      ]
    },
    {
      "cell_type": "code",
      "metadata": {
        "colab": {
          "base_uri": "https://localhost:8080/"
        },
        "id": "4gdKN-LoJ0RC",
        "outputId": "430b99c9-d2f8-4997-bce6-0c4c9d6c08d5"
      },
      "source": [
        "print(None or 1) # None False verir baktı or geldi o zaman ikincisine bakarak karar vermeli ona baktı 1 True yani sonuç True ve değeri 1 olarak çıktı verir"
      ],
      "execution_count": null,
      "outputs": [
        {
          "output_type": "stream",
          "text": [
            "1\n"
          ],
          "name": "stdout"
        }
      ]
    },
    {
      "cell_type": "code",
      "metadata": {
        "colab": {
          "base_uri": "https://localhost:8080/"
        },
        "id": "KAN0t_o4l-V1",
        "outputId": "cecc0700-8771-4cd4-88f1-9513f53272ba"
      },
      "source": [
        "2 or 3 # 2 True verir or geldi sonrası önemli değil sonuç True olur yani ilk değerde karar verdi çıktı 2 olur"
      ],
      "execution_count": null,
      "outputs": [
        {
          "output_type": "execute_result",
          "data": {
            "text/plain": [
              "2"
            ]
          },
          "metadata": {
            "tags": []
          },
          "execution_count": 18
        }
      ]
    },
    {
      "cell_type": "code",
      "metadata": {
        "colab": {
          "base_uri": "https://localhost:8080/"
        },
        "id": "576uySG2mAzP",
        "outputId": "d2954eb9-c60b-4a37-efcf-c1287a98b0b3"
      },
      "source": [
        "none = \"False\"\n",
        "print(none or 1) # none değişkeni değeri \"False\" yani True baktık or geldi sonrası önemli değil ilk değer olan False string çıktısını verir"
      ],
      "execution_count": null,
      "outputs": [
        {
          "output_type": "stream",
          "text": [
            "False\n"
          ],
          "name": "stdout"
        }
      ]
    },
    {
      "cell_type": "code",
      "metadata": {
        "colab": {
          "base_uri": "https://localhost:8080/"
        },
        "id": "aDZguTWpJvZ5",
        "outputId": "03b2e997-d905-4834-ef71-df16ed08c200"
      },
      "source": [
        "print([] and \"Hello World!\") # [] False verir ve and geldi yani sonrası çok nemli değil True da gelse False da gelse sonuç False olacak yani ilkinde karar verdi sonuç False çıktısı [] olacak"
      ],
      "execution_count": null,
      "outputs": [
        {
          "output_type": "stream",
          "text": [
            "[]\n"
          ],
          "name": "stdout"
        }
      ]
    },
    {
      "cell_type": "code",
      "metadata": {
        "colab": {
          "base_uri": "https://localhost:8080/"
        },
        "id": "bopHAetCJ82k",
        "outputId": "c258e9d4-f24a-4dcc-edf3-3ad1350ea77d"
      },
      "source": [
        "print(0 or {}) # 0 False verir ve or geldi dolayısılya ikincisine bakmadan karar veremez baktı {} da False verir yani False or False dan sonuç False olur ama ikincide karar verdiği için çıktı {} olur"
      ],
      "execution_count": null,
      "outputs": [
        {
          "output_type": "stream",
          "text": [
            "{}\n"
          ],
          "name": "stdout"
        }
      ]
    },
    {
      "cell_type": "code",
      "metadata": {
        "colab": {
          "base_uri": "https://localhost:8080/"
        },
        "id": "U6EElWobKAE-",
        "outputId": "8c7f5259-7f35-4b9b-d17f-ef9da5461c0a"
      },
      "source": [
        "print([] or \"Hello World!\") # [] False verir ve or geldi ikincisine bakmalı o da True geldi yani False or True oldu sonuç True olur ve değeri Hello World olur"
      ],
      "execution_count": null,
      "outputs": [
        {
          "output_type": "stream",
          "text": [
            "Hello World!\n"
          ],
          "name": "stdout"
        }
      ]
    },
    {
      "cell_type": "code",
      "metadata": {
        "colab": {
          "base_uri": "https://localhost:8080/"
        },
        "id": "mqD0NWnFwR2S",
        "outputId": "473511ee-e84d-471c-9f76-66fcb5838d9f"
      },
      "source": [
        "\"and\" and not () # Burada \"and\" True verir ve and geldi ikincisine bakmalı baktı o da not False dan True geldi yani True and True dan True olur ikincisi çıktı olur yani True"
      ],
      "execution_count": null,
      "outputs": [
        {
          "output_type": "execute_result",
          "data": {
            "text/plain": [
              "True"
            ]
          },
          "metadata": {
            "tags": []
          },
          "execution_count": 27
        }
      ]
    },
    {
      "cell_type": "code",
      "metadata": {
        "colab": {
          "base_uri": "https://localhost:8080/"
        },
        "id": "TR8b_DRrziyR",
        "outputId": "8c07e2f1-098b-4804-f7c6-09e496d1562c"
      },
      "source": [
        "a = \" \"\n",
        "b = \"False\"\n",
        "c = True\n",
        "d = \"\"\n",
        "print(a or b or c and not d) # True or True or True and not False (a nın değerini çıktı olarak verir)"
      ],
      "execution_count": null,
      "outputs": [
        {
          "output_type": "stream",
          "text": [
            " \n"
          ],
          "name": "stdout"
        }
      ]
    },
    {
      "cell_type": "code",
      "metadata": {
        "colab": {
          "base_uri": "https://localhost:8080/"
        },
        "id": "XdSycyMg0rKM",
        "outputId": "67322cad-f44b-430d-e51a-aed6b7512cb9"
      },
      "source": [
        "print(\"None or True and 1\")"
      ],
      "execution_count": null,
      "outputs": [
        {
          "output_type": "stream",
          "text": [
            "None or True and 1\n"
          ],
          "name": "stdout"
        }
      ]
    },
    {
      "cell_type": "code",
      "metadata": {
        "colab": {
          "base_uri": "https://localhost:8080/"
        },
        "id": "gL6oF_Imo6m2",
        "outputId": "46a29922-6014-4f4a-9770-1fed12a8ffbb"
      },
      "source": [
        "True or False and \"False\" and not \"False\" and 0 # Öncelik sırlandırmasına dikkat ! (NAO)\n",
        "                                                # True or False and \"False\" and False and 0 (Burada not \"False\" yani not True dan False geldi)\n",
        "                                                # True or (False) (İlk False dan sonrası hep and olduğu için bir nevi hepsini yuttu ve False çıktı)\n",
        "                                                # En son olarak da True or False dan sonuç True olarak çıktı"
      ],
      "execution_count": null,
      "outputs": [
        {
          "output_type": "execute_result",
          "data": {
            "text/plain": [
              "True"
            ]
          },
          "metadata": {
            "tags": []
          },
          "execution_count": 24
        }
      ]
    },
    {
      "cell_type": "code",
      "metadata": {
        "colab": {
          "base_uri": "https://localhost:8080/"
        },
        "id": "9-CTmU1yqHEw",
        "outputId": "9d3a2684-56e2-451e-86fa-a75cb88e5df6"
      },
      "source": [
        "not (\"None\" or None) and False or (\"and\" and not ()) # (\"None\" or None) parantez içi True or None oldu sonucu da True olur ve True değeri olan string \"None\" olarak verilir\n",
        "                                                     # (\"and\" and not ()) parantez içi True and not False dan True olur ve ilk True dan sonra and geldi ikincide karar verdi çıktı not () olur bir nevi True\n",
        "                                                     # Son hali : not \"None\" and False or True oldu\n",
        "                                                     # İşlem önceliklerine göre düzenlersek önce not \"None\", Yani not True dan False geldi\n",
        "                                                     # Sonra False and False or True oldu, burada and önceliğinden\n",
        "                                                     # Son hali: False or True oldu buradan da sonuç True olarak çıktı verilir"
      ],
      "execution_count": null,
      "outputs": [
        {
          "output_type": "execute_result",
          "data": {
            "text/plain": [
              "True"
            ]
          },
          "metadata": {
            "tags": []
          },
          "execution_count": 25
        }
      ]
    },
    {
      "cell_type": "markdown",
      "metadata": {
        "id": "LGiDpL3O67e0"
      },
      "source": [
        "# **INDEXING STRINGS**"
      ]
    },
    {
      "cell_type": "code",
      "metadata": {
        "colab": {
          "base_uri": "https://localhost:8080/"
        },
        "id": "opFIR4LU6jSU",
        "outputId": "5f2fe826-71d4-469d-8fee-44d54736b217"
      },
      "source": [
        "print(\"ALİ\"[1]) # Bu şekilde iken liste gibi düşünür"
      ],
      "execution_count": null,
      "outputs": [
        {
          "output_type": "stream",
          "text": [
            "L\n"
          ],
          "name": "stdout"
        }
      ]
    },
    {
      "cell_type": "code",
      "metadata": {
        "colab": {
          "base_uri": "https://localhost:8080/"
        },
        "id": "iI_W8RaU6rj_",
        "outputId": "fda7ca71-736e-4d3d-ab20-5d9a066b9904"
      },
      "source": [
        "print(\"clarus-way \"[10]) # 10. karakter olan boşluğu çıktı olarak verir"
      ],
      "execution_count": null,
      "outputs": [
        {
          "output_type": "stream",
          "text": [
            " \n"
          ],
          "name": "stdout"
        }
      ]
    },
    {
      "cell_type": "code",
      "metadata": {
        "colab": {
          "base_uri": "https://localhost:8080/",
          "height": 35
        },
        "id": "Vud07fJo7HfA",
        "outputId": "424353e6-9fbb-42ee-c296-3b06784ec4ef"
      },
      "source": [
        "var = \"ahmet 34\"\n",
        "print(var[6])"
      ],
      "execution_count": null,
      "outputs": [
        {
          "output_type": "execute_result",
          "data": {
            "application/vnd.google.colaboratory.intrinsic+json": {
              "type": "string"
            },
            "text/plain": [
              "'3'"
            ]
          },
          "metadata": {
            "tags": []
          },
          "execution_count": 32
        }
      ]
    },
    {
      "cell_type": "code",
      "metadata": {
        "colab": {
          "base_uri": "https://localhost:8080/"
        },
        "id": "fJ2gNe_J7tK6",
        "outputId": "4d1b2276-5ddf-4947-8bf2-ac869bd4d3e6"
      },
      "source": [
        "var = \"clarus-way \"\n",
        "print(var[1:4]) # 1 dahil 4 değil\n",
        "print(var[6:8]) # 6 dahil 8 değil"
      ],
      "execution_count": null,
      "outputs": [
        {
          "output_type": "stream",
          "text": [
            "lar\n",
            "-w\n"
          ],
          "name": "stdout"
        }
      ]
    },
    {
      "cell_type": "markdown",
      "metadata": {
        "id": "kvsljVQNTe0z"
      },
      "source": [
        "The formula syntax of string indexing is : string[start:stop:step].\n",
        "\n",
        "string[:] : returns the full copy of the sequence\n",
        "\n",
        "string[start:] : returns elements from start to the end element\n",
        "\n",
        "string[:stop] : returns element from the 1st element to stop-1\n",
        "\n",
        "string[::step] : returns each element with a given step"
      ]
    },
    {
      "cell_type": "code",
      "metadata": {
        "colab": {
          "base_uri": "https://localhost:8080/"
        },
        "id": "MBfgjWfqkU3O",
        "outputId": "f1e951c9-d90c-4d07-c1a6-15679c0c2535"
      },
      "source": [
        "# [START:STOP:STEP]\n",
        "\n",
        "fruit = 'Orange'  # Sıralandırma her zaman olduğu gibi '0' dan başlar\n",
        "\n",
        "print('Word                   : ' , fruit)\n",
        "print('First letter           : ' , fruit[0])\n",
        "print('Second letter          : ' , fruit[1])\n",
        "print(\"3rd to 5th letters     : \" , fruit[2:5]) # 2 den başla 5 e kadar 2 dahil 5 değil \n",
        "print(\"Letter all after 3rd   : \" , fruit[2:])  # 2 den başlar sonrasını alır\n",
        "print(\"Letter all before 3rd   : \" , fruit[:2]) # 2 den öncesini alır, 2 dahil değil\n",
        "print(fruit[:-2])  # Tersten ikincisinden öncesini alır lakin burda -2 indexindeki karakteri almaz [0:-2] gibi düşün, malum tersten başayınca -1 den başlayarak sayıyoruz\n",
        "print(fruit[-3:])  # Tersten üçüncüsünden sonrasını alır, bu örnek için [3:] ile aynı sonucu verir"
      ],
      "execution_count": null,
      "outputs": [
        {
          "output_type": "stream",
          "text": [
            "Word                   :  Orange\n",
            "First letter           :  O\n",
            "Second letter          :  r\n",
            "3rd to 5th letters     :  ang\n",
            "Letter all after 3rd   :  ange\n",
            "Letter all before 3rd   :  Or\n",
            "Oran\n",
            "nge\n"
          ],
          "name": "stdout"
        }
      ]
    },
    {
      "cell_type": "code",
      "metadata": {
        "colab": {
          "base_uri": "https://localhost:8080/"
        },
        "id": "5Gydjme1WuYN",
        "outputId": "e6b2b6e0-4533-4706-8dbc-fe4d010ce5af"
      },
      "source": [
        "friends = [\"Ahmet\", \"Mehmet\", \"Hasan\", \"Hüseyin\", \"Ali\"]\n",
        "print(friends)\n",
        "print(friends[0]) # index lerde baştan başlarken (pozitif) 0 dan başlar\n",
        "print(friends[4]) # Bu örneğe göre index [-1] ile aynı sonucu verir\n",
        "print(friends[-1]) # index lerde sondan başlarken (negatif) -1 den başlar\n",
        "print(friends[-5]) # Bu örneğe göre index [0] ile aynı sonucu verir\n",
        "\n",
        "print()\n",
        "\n",
        "print(friends[1:]) # index [1] dahil ve sonrasını yazdırır, yine liste halinde çıktı alır dikkat et\n",
        "print(friends[1:3]) # index [1] dahil fakat index [3] dahil değil, arasını yazar, [1] ve [2]\n",
        "\n",
        "print()\n",
        "\n",
        "print(friends[1]) # Görüleceği üzere bu iki örnek arasındaki tek fark parantezler [''] olur\n",
        "print(friends[1:2]) # Yani anlaşılan o ki slicing yapıldığında tek bir çıktı bile verse onu da liste halinde gösterir.\n"
      ],
      "execution_count": null,
      "outputs": [
        {
          "output_type": "stream",
          "text": [
            "['Ahmet', 'Mehmet', 'Hasan', 'Hüseyin', 'Ali']\n",
            "Ahmet\n",
            "Ali\n",
            "Ali\n",
            "Ahmet\n",
            "\n",
            "['Mehmet', 'Hasan', 'Hüseyin', 'Ali']\n",
            "['Mehmet', 'Hasan']\n",
            "\n",
            "Mehmet\n",
            "['Mehmet']\n"
          ],
          "name": "stdout"
        }
      ]
    },
    {
      "cell_type": "code",
      "metadata": {
        "colab": {
          "base_uri": "https://localhost:8080/"
        },
        "id": "3P4o9MeW9i5V",
        "outputId": "4ebc1824-0625-4bb0-f86a-3735a47a3379"
      },
      "source": [
        "friends = [\"Ahmet\", \"Mehmet\", \"Hasan\", \"Hüseyin\", \"Ali\"]\n",
        "friends[1] = \"Harun\"  # Bu şekilde listedeki herhangi bir değeri index numarası ile değiştirebiliriz\n",
        "\n",
        "print(friends[1]) # Mesela burada index 1 Harun oldu\n",
        "print(friends[2]) # Ama index 2 de herahngi bir değişiklik yok sadece 1 değişti"
      ],
      "execution_count": null,
      "outputs": [
        {
          "output_type": "stream",
          "text": [
            "Harun\n",
            "Hasan\n"
          ],
          "name": "stdout"
        }
      ]
    },
    {
      "cell_type": "code",
      "metadata": {
        "colab": {
          "base_uri": "https://localhost:8080/"
        },
        "id": "wfanxiD_R6ZW",
        "outputId": "98bd84e1-08f2-4978-bc25-1c06317a9822"
      },
      "source": [
        "friends = [\"Ahmet\", \"Mehmet\", \"Hasan\", \"Hüseyin\", \"Ali\"]\n",
        "friends.append(\"Yavuz\") # Bu şekilde append() fonksiyonu ile listeye başka bir eleman ekleyebiliriz. \n",
        "                        # Otomatik olarak listenin her zaman sonuna ekler. (Returns None)\n",
        "print(friends)"
      ],
      "execution_count": null,
      "outputs": [
        {
          "output_type": "stream",
          "text": [
            "['Ahmet', 'Mehmet', 'Hasan', 'Hüseyin', 'Ali', 'Yavuz']\n"
          ],
          "name": "stdout"
        }
      ]
    },
    {
      "cell_type": "code",
      "metadata": {
        "colab": {
          "base_uri": "https://localhost:8080/"
        },
        "id": "brSn9bU3WwdB",
        "outputId": "8c466b63-2327-4062-f502-d123fd047655"
      },
      "source": [
        "# The method takes a single argument\n",
        "\n",
        "# item - an item to be added at the end of the list\n",
        "# The item can be numbers, strings, dictionaries, another list, and so on.\n",
        "\n",
        "animals = ['cat', 'dog', 'rabbit']\n",
        "animals.append('guinea pig')\n",
        "\n",
        "print('Updated animals list: ', animals)"
      ],
      "execution_count": null,
      "outputs": [
        {
          "output_type": "stream",
          "text": [
            "Updated animals list:  ['cat', 'dog', 'rabbit', 'guinea pig']\n"
          ],
          "name": "stdout"
        }
      ]
    },
    {
      "cell_type": "code",
      "metadata": {
        "colab": {
          "base_uri": "https://localhost:8080/"
        },
        "id": "kcbdXOq-W26E",
        "outputId": "53997dcb-9f44-4524-90ab-69e33660058d"
      },
      "source": [
        "animals = ['cat', 'dog', 'rabbit']\n",
        "wild_animals = ['tiger', 'fox']\n",
        "animals.append(wild_animals)\n",
        "\n",
        "print('Updated animals list: ', animals)"
      ],
      "execution_count": null,
      "outputs": [
        {
          "output_type": "stream",
          "text": [
            "Updated animals list:  ['cat', 'dog', 'rabbit', ['tiger', 'fox']]\n"
          ],
          "name": "stdout"
        }
      ]
    },
    {
      "cell_type": "code",
      "metadata": {
        "colab": {
          "base_uri": "https://localhost:8080/"
        },
        "id": "vZ_KUKb9ShAW",
        "outputId": "791bbe95-b1be-4045-c0cf-696cc27045fb"
      },
      "source": [
        "# The insert() method takes two parameters: (Returns None)\n",
        "\n",
        "# index - the index where the element needs to be inserted\n",
        "# element - this is the element to be inserted in the list\n",
        "\n",
        "friends = [\"Ahmet\", \"Mehmet\", \"Hasan\", \"Hüseyin\", \"Ali\"]\n",
        "friends.insert(2, \"Tarık\") # Bu şekilde insert() fonksiyonu ile başka bir elemanı istediğimiz index e atayabiliyoruz\n",
        "                           # Görüleceği üzere listeye eklendi ve bizim belirlediğimiz indexe eklendi\n",
        "print(friends)"
      ],
      "execution_count": null,
      "outputs": [
        {
          "output_type": "stream",
          "text": [
            "['Ahmet', 'Mehmet', 'Tarık', 'Hasan', 'Hüseyin', 'Ali']\n"
          ],
          "name": "stdout"
        }
      ]
    },
    {
      "cell_type": "code",
      "metadata": {
        "colab": {
          "base_uri": "https://localhost:8080/"
        },
        "id": "sm6o20N3XEOU",
        "outputId": "80e44635-0a5f-4f26-bbe1-343dbb1384f7"
      },
      "source": [
        "vowel = ['a', 'e', 'i', 'u']\n",
        "vowel.insert(3, 'o')\n",
        "\n",
        "print('Updated List:', vowel)"
      ],
      "execution_count": null,
      "outputs": [
        {
          "output_type": "stream",
          "text": [
            "Updated List: ['a', 'e', 'i', 'o', 'u']\n"
          ],
          "name": "stdout"
        }
      ]
    },
    {
      "cell_type": "code",
      "metadata": {
        "colab": {
          "base_uri": "https://localhost:8080/"
        },
        "id": "S8mQwJpVXKIH",
        "outputId": "958912b6-ee3f-446c-d7b8-06a2ee40462a"
      },
      "source": [
        "mixed_list = [{1, 2}, [5, 6, 7]]\n",
        "number_tuple = (3, 4)\n",
        "mixed_list.insert(1, number_tuple)\n",
        "\n",
        "print('Updated List:', mixed_list)"
      ],
      "execution_count": null,
      "outputs": [
        {
          "output_type": "stream",
          "text": [
            "Updated List: [{1, 2}, (3, 4), [5, 6, 7]]\n"
          ],
          "name": "stdout"
        }
      ]
    },
    {
      "cell_type": "code",
      "metadata": {
        "colab": {
          "base_uri": "https://localhost:8080/"
        },
        "id": "tYT4fzPlUccu",
        "outputId": "35fbbe76-b4e0-462b-9fe4-ab3eb0bd282c"
      },
      "source": [
        "# The remove() method takes a single element as an argument and removes it from the list. (Returns None)\n",
        "# If the element doesn't exist, it throws ValueError: list.remove(x): x not in list exception.\n",
        "\n",
        "friends = [\"Ahmet\", \"Mehmet\", \"Hasan\", \"Hüseyin\", \"Ali\"]\n",
        "friends.remove(\"Hasan\")  # Bu şekilde remove() fonksiyonu ile istediğimiz bir elemanı listeden çıkartabiliriz\n",
        "\n",
        "print(friends)"
      ],
      "execution_count": null,
      "outputs": [
        {
          "output_type": "stream",
          "text": [
            "['Ahmet', 'Mehmet', 'Hüseyin', 'Ali']\n"
          ],
          "name": "stdout"
        }
      ]
    },
    {
      "cell_type": "code",
      "metadata": {
        "colab": {
          "base_uri": "https://localhost:8080/",
          "height": 194
        },
        "id": "929_zBADYL2D",
        "outputId": "0b295ce7-4ff5-4f93-e2b5-13e244ef6425"
      },
      "source": [
        "friends = [\"Ahmet\", \"Mehmet\", \"Hasan\", \"Hüseyin\", \"Ali\"]\n",
        "friends.remove(\"Yavuz\") # Görüleceği üzere Yavuz ismi listemizin içerisinde olmadığı için, yukarıda bahsettiğimiz hatayı verir\n",
        "print(friends)"
      ],
      "execution_count": null,
      "outputs": [
        {
          "output_type": "error",
          "ename": "ValueError",
          "evalue": "ignored",
          "traceback": [
            "\u001b[0;31m---------------------------------------------------------------------------\u001b[0m",
            "\u001b[0;31mValueError\u001b[0m                                Traceback (most recent call last)",
            "\u001b[0;32m<ipython-input-7-da702aa0e12a>\u001b[0m in \u001b[0;36m<module>\u001b[0;34m()\u001b[0m\n\u001b[1;32m      1\u001b[0m \u001b[0mfriends\u001b[0m \u001b[0;34m=\u001b[0m \u001b[0;34m[\u001b[0m\u001b[0;34m\"Ahmet\"\u001b[0m\u001b[0;34m,\u001b[0m \u001b[0;34m\"Mehmet\"\u001b[0m\u001b[0;34m,\u001b[0m \u001b[0;34m\"Hasan\"\u001b[0m\u001b[0;34m,\u001b[0m \u001b[0;34m\"Hüseyin\"\u001b[0m\u001b[0;34m,\u001b[0m \u001b[0;34m\"Ali\"\u001b[0m\u001b[0;34m]\u001b[0m\u001b[0;34m\u001b[0m\u001b[0;34m\u001b[0m\u001b[0m\n\u001b[0;32m----> 2\u001b[0;31m \u001b[0mfriends\u001b[0m\u001b[0;34m.\u001b[0m\u001b[0mremove\u001b[0m\u001b[0;34m(\u001b[0m\u001b[0;34m\"Yavuz\"\u001b[0m\u001b[0;34m)\u001b[0m\u001b[0;34m\u001b[0m\u001b[0;34m\u001b[0m\u001b[0m\n\u001b[0m\u001b[1;32m      3\u001b[0m \u001b[0mprint\u001b[0m\u001b[0;34m(\u001b[0m\u001b[0mfriends\u001b[0m\u001b[0;34m)\u001b[0m\u001b[0;34m\u001b[0m\u001b[0;34m\u001b[0m\u001b[0m\n",
            "\u001b[0;31mValueError\u001b[0m: list.remove(x): x not in list"
          ]
        }
      ]
    },
    {
      "cell_type": "code",
      "metadata": {
        "colab": {
          "base_uri": "https://localhost:8080/"
        },
        "id": "CLD_66ekY3tC",
        "outputId": "47d16309-3a9d-4c42-dfea-00e705d0cc6d"
      },
      "source": [
        "animals = ['cat', 'dog', 'rabbit', 'guinea pig']\n",
        "animals.remove('rabbit')\n",
        "\n",
        "print('Updated animals list: ', animals)"
      ],
      "execution_count": null,
      "outputs": [
        {
          "output_type": "stream",
          "text": [
            "Updated animals list:  ['cat', 'dog', 'guinea pig']\n"
          ],
          "name": "stdout"
        }
      ]
    },
    {
      "cell_type": "code",
      "metadata": {
        "colab": {
          "base_uri": "https://localhost:8080/"
        },
        "id": "_47CMCgmVL8l",
        "outputId": "9dee9337-98d8-4506-a3f8-87aeac273b68"
      },
      "source": [
        "# The clear() method doesn't take any parameters.\n",
        "# The clear() method only empties the given list. It doesn't return any value.\n",
        "\n",
        "friends = [\"Ahmet\", \"Mehmet\", \"Hasan\", \"Hüseyin\", \"Ali\"]\n",
        "friends.clear()  # Bu şekilde clear() fonksiyonu ile tüm listeyi silebiliriz\n",
        "\n",
        "print(friends)"
      ],
      "execution_count": null,
      "outputs": [
        {
          "output_type": "stream",
          "text": [
            "[]\n"
          ],
          "name": "stdout"
        }
      ]
    },
    {
      "cell_type": "code",
      "metadata": {
        "colab": {
          "base_uri": "https://localhost:8080/"
        },
        "id": "h5ChLH1zaiJr",
        "outputId": "6de90625-9bfe-4fd3-a171-e96b51b839a8"
      },
      "source": [
        "list = [{1, 2}, ('a'), ['1.1', '2.2']]\n",
        "list.clear()\n",
        "\n",
        "print('List:', list)\n",
        "print()\n",
        "\n",
        "list = [{1, 2}, ('a'), ['1.1', '2.2']]\n",
        "# del list[:]  Bu şekilde bir kullanımla da tüm listeyi silmemiz mümkündür. \n",
        "del list[1:3] # İstediğimiz aralığı da silebiliriz !!!\n",
        "\n",
        "print('List:', list)"
      ],
      "execution_count": null,
      "outputs": [
        {
          "output_type": "stream",
          "text": [
            "List: []\n",
            "\n",
            "List: [{1, 2}]\n"
          ],
          "name": "stdout"
        }
      ]
    },
    {
      "cell_type": "code",
      "metadata": {
        "colab": {
          "base_uri": "https://localhost:8080/"
        },
        "id": "BdFmnRuHVpbO",
        "outputId": "c86df8d3-6872-473a-c3e0-5ccba01c09b0"
      },
      "source": [
        "# The pop() method removes the item at the given index from the list (Returns the removed item)\n",
        "\n",
        "friends = [\"Ahmet\", \"Mehmet\", \"Hasan\", \"Hüseyin\", \"Ali\"]\n",
        "friends.pop(2)  # Bu şekilde pop() fonksiyonu listede istediğimiz indexteki elemanı silebiliriz. (Hasan)\n",
        "friends.pop(3)  # Burada daha önce yukarıda işlem görmüş listeye göre index[3] teki eleman silinmiştir. (Ali)\n",
        "friends.pop()   # Eğer içi boş bırakılırsa da otomatik olarak listenin son elemanını siler\n",
        "print(friends)"
      ],
      "execution_count": null,
      "outputs": [
        {
          "output_type": "stream",
          "text": [
            "['Ahmet', 'Mehmet']\n"
          ],
          "name": "stdout"
        }
      ]
    },
    {
      "cell_type": "code",
      "metadata": {
        "colab": {
          "base_uri": "https://localhost:8080/",
          "height": 194
        },
        "id": "bKuvONI-cXyz",
        "outputId": "074984b2-6ec5-42ba-a5f0-e894045582c5"
      },
      "source": [
        "# If the index passed to the method is not in range, it throws IndexError: pop index out of range exception.\n",
        "\n",
        "friends = [\"Ahmet\", \"Mehmet\", \"Hasan\", \"Hüseyin\", \"Ali\"]\n",
        "friends.pop(6)   # Eğer girilen index karşılığı listede yoksa bu şekilde bir hata verir\n",
        "print(friends)"
      ],
      "execution_count": null,
      "outputs": [
        {
          "output_type": "error",
          "ename": "IndexError",
          "evalue": "ignored",
          "traceback": [
            "\u001b[0;31m---------------------------------------------------------------------------\u001b[0m",
            "\u001b[0;31mIndexError\u001b[0m                                Traceback (most recent call last)",
            "\u001b[0;32m<ipython-input-16-77713c33c917>\u001b[0m in \u001b[0;36m<module>\u001b[0;34m()\u001b[0m\n\u001b[1;32m      1\u001b[0m \u001b[0mfriends\u001b[0m \u001b[0;34m=\u001b[0m \u001b[0;34m[\u001b[0m\u001b[0;34m\"Ahmet\"\u001b[0m\u001b[0;34m,\u001b[0m \u001b[0;34m\"Mehmet\"\u001b[0m\u001b[0;34m,\u001b[0m \u001b[0;34m\"Hasan\"\u001b[0m\u001b[0;34m,\u001b[0m \u001b[0;34m\"Hüseyin\"\u001b[0m\u001b[0;34m,\u001b[0m \u001b[0;34m\"Ali\"\u001b[0m\u001b[0;34m]\u001b[0m\u001b[0;34m\u001b[0m\u001b[0;34m\u001b[0m\u001b[0m\n\u001b[0;32m----> 2\u001b[0;31m \u001b[0mfriends\u001b[0m\u001b[0;34m.\u001b[0m\u001b[0mpop\u001b[0m\u001b[0;34m(\u001b[0m\u001b[0;36m6\u001b[0m\u001b[0;34m)\u001b[0m\u001b[0;34m\u001b[0m\u001b[0;34m\u001b[0m\u001b[0m\n\u001b[0m\u001b[1;32m      3\u001b[0m \u001b[0mprint\u001b[0m\u001b[0;34m(\u001b[0m\u001b[0mfriends\u001b[0m\u001b[0;34m)\u001b[0m\u001b[0;34m\u001b[0m\u001b[0;34m\u001b[0m\u001b[0m\n",
            "\u001b[0;31mIndexError\u001b[0m: pop index out of range"
          ]
        }
      ]
    },
    {
      "cell_type": "code",
      "metadata": {
        "colab": {
          "base_uri": "https://localhost:8080/"
        },
        "id": "bADPEGU3c2wd",
        "outputId": "7bfcf4f1-b0ba-43bc-96e5-d4720f53f5de"
      },
      "source": [
        "# programming languages list\n",
        "languages = ['Python', 'Java', 'C++', 'French', 'C']\n",
        "\n",
        "# remove and return the 4th item\n",
        "return_value = languages.pop(3)\n",
        "print('Return Value:', return_value)\n",
        "\n",
        "# Updated List\n",
        "print('Updated List:', languages)"
      ],
      "execution_count": null,
      "outputs": [
        {
          "output_type": "stream",
          "text": [
            "Return Value: French\n",
            "Updated List: ['Python', 'Java', 'C++', 'C']\n"
          ],
          "name": "stdout"
        }
      ]
    },
    {
      "cell_type": "code",
      "metadata": {
        "colab": {
          "base_uri": "https://localhost:8080/"
        },
        "id": "3_eDUutod9vo",
        "outputId": "69c2d274-8881-4576-a9e2-182f4e0d3e9d"
      },
      "source": [
        "# programming languages list\n",
        "languages = ['Python', 'Java', 'C++', 'Ruby', 'C']\n",
        "\n",
        "# remove and return the last item\n",
        "print('When index is not passed:') \n",
        "print('Return Value:', languages.pop())\n",
        "print('Updated List:', languages)\n",
        "\n",
        "# remove and return the last item\n",
        "print('\\nWhen -1 is passed:') \n",
        "print('Return Value:', languages.pop(-1))\n",
        "print('Updated List:', languages)\n",
        "\n",
        "# remove and return the third last item\n",
        "print('\\nWhen -3 is passed:') \n",
        "print('Return Value:', languages.pop(-3))\n",
        "print('Updated List:', languages)\n",
        "\n",
        "# Çıktıda da görüleceği üzere her bir sonraki komut işlem görmüş listeye göre yapılır"
      ],
      "execution_count": null,
      "outputs": [
        {
          "output_type": "stream",
          "text": [
            "When index is not passed:\n",
            "Return Value: C\n",
            "Updated List: ['Python', 'Java', 'C++', 'Ruby']\n",
            "\n",
            "When -1 is passed:\n",
            "Return Value: Ruby\n",
            "Updated List: ['Python', 'Java', 'C++']\n",
            "\n",
            "When -3 is passed:\n",
            "Return Value: Python\n",
            "Updated List: ['Java', 'C++']\n"
          ],
          "name": "stdout"
        }
      ]
    },
    {
      "cell_type": "code",
      "metadata": {
        "colab": {
          "base_uri": "https://localhost:8080/"
        },
        "id": "7-Y0auquWJo3",
        "outputId": "6d767747-8836-4123-f288-d5add5fb43ed"
      },
      "source": [
        "# The index() method returns the index of the specified element in the list. \n",
        "# The syntax of the list index() method is: list.index(element, start, end)\n",
        "# Note: The index() method only returns the first occurrence of the matching element.\n",
        "\n",
        "# The list index() method can take a maximum of three arguments:\n",
        "\n",
        "# element - the element to be searched\n",
        "# start (optional) - start searching from this index\n",
        "# end (optional) - search the element up to this index\n",
        "\n",
        "friends = [\"Ahmet\", \"Mehmet\", \"Hasan\", \"Hüseyin\", \"Ali\"]\n",
        "\n",
        "print(friends.index(\"Hasan\")) # Bu şekilde index() fonksiyonu ile listedeki istenen elemanın index numarası çıktı olarak alınabilir"
      ],
      "execution_count": null,
      "outputs": [
        {
          "output_type": "stream",
          "text": [
            "2\n"
          ],
          "name": "stdout"
        }
      ]
    },
    {
      "cell_type": "code",
      "metadata": {
        "colab": {
          "base_uri": "https://localhost:8080/",
          "height": 203
        },
        "id": "TIhPEsQ1Wc1_",
        "outputId": "7f03871f-195e-45e4-822c-58954389afac"
      },
      "source": [
        "friends = [\"Ahmet\", \"Mehmet\", \"Hasan\", \"Hüseyin\", \"Ali\"]\n",
        "\n",
        "print(friends.index(\"Yavuz\")) # Eğer listede olmayan bir eleman olursa bu şekilde ('Yavuz' is not in list) hatası verir"
      ],
      "execution_count": null,
      "outputs": [
        {
          "output_type": "error",
          "ename": "ValueError",
          "evalue": "ignored",
          "traceback": [
            "\u001b[0;31m---------------------------------------------------------------------------\u001b[0m",
            "\u001b[0;31mValueError\u001b[0m                                Traceback (most recent call last)",
            "\u001b[0;32m<ipython-input-14-509547400dcf>\u001b[0m in \u001b[0;36m<module>\u001b[0;34m()\u001b[0m\n\u001b[1;32m      1\u001b[0m \u001b[0mfriends\u001b[0m \u001b[0;34m=\u001b[0m \u001b[0;34m[\u001b[0m\u001b[0;34m\"Ahmet\"\u001b[0m\u001b[0;34m,\u001b[0m \u001b[0;34m\"Mehmet\"\u001b[0m\u001b[0;34m,\u001b[0m \u001b[0;34m\"Hasan\"\u001b[0m\u001b[0;34m,\u001b[0m \u001b[0;34m\"Hüseyin\"\u001b[0m\u001b[0;34m,\u001b[0m \u001b[0;34m\"Ali\"\u001b[0m\u001b[0;34m]\u001b[0m\u001b[0;34m\u001b[0m\u001b[0;34m\u001b[0m\u001b[0m\n\u001b[1;32m      2\u001b[0m \u001b[0;34m\u001b[0m\u001b[0m\n\u001b[0;32m----> 3\u001b[0;31m \u001b[0mprint\u001b[0m\u001b[0;34m(\u001b[0m\u001b[0mfriends\u001b[0m\u001b[0;34m.\u001b[0m\u001b[0mindex\u001b[0m\u001b[0;34m(\u001b[0m\u001b[0;34m\"Yavuz\"\u001b[0m\u001b[0;34m)\u001b[0m\u001b[0;34m)\u001b[0m\u001b[0;34m\u001b[0m\u001b[0;34m\u001b[0m\u001b[0m\n\u001b[0m",
            "\u001b[0;31mValueError\u001b[0m: 'Yavuz' is not in list"
          ]
        }
      ]
    },
    {
      "cell_type": "code",
      "metadata": {
        "colab": {
          "base_uri": "https://localhost:8080/"
        },
        "id": "b5QrL6RHeq21",
        "outputId": "0eba7eaa-751c-4f88-b6f4-68b57333e025"
      },
      "source": [
        "vowels = ['a', 'e', 'i', 'o', 'i', 'u']\n",
        "\n",
        "index1 = vowels.index('e')\n",
        "index2 = vowels.index('i')\n",
        "\n",
        "print('The index of e:', index1)\n",
        "print('The index of i:', index2)"
      ],
      "execution_count": null,
      "outputs": [
        {
          "output_type": "stream",
          "text": [
            "The index of e: 1\n",
            "The index of i: 2\n"
          ],
          "name": "stdout"
        }
      ]
    },
    {
      "cell_type": "code",
      "metadata": {
        "colab": {
          "base_uri": "https://localhost:8080/",
          "height": 244
        },
        "id": "35meszAFfRYw",
        "outputId": "26b62d47-6054-477d-999c-f01a8534750b"
      },
      "source": [
        "alphabets = ['a', 'e', 'i', 'o', 'g', 'l', 'i', 'u']\n",
        "\n",
        "index = alphabets.index('e') # Standart kullanım\n",
        "print('The index of e:', index)  \n",
        "\n",
        "# 'i' after the 4th index is searched\n",
        "index = alphabets.index('i', 4)   # Bu kullanım 4 ten sonrasına bak demektir. index[6] da bulacaktır\n",
        "print('The index of i:', index)\n",
        "\n",
        "# 'i' between 3rd and 5th index is searched\n",
        "index = alphabets.index('i', 3, 5)   # Error! Burada da index[3] ile index[5] arasında i olmadığı için hata verecektir\n",
        "print('The index of i:', index)"
      ],
      "execution_count": null,
      "outputs": [
        {
          "output_type": "stream",
          "text": [
            "The index of e: 1\n",
            "The index of i: 6\n"
          ],
          "name": "stdout"
        },
        {
          "output_type": "error",
          "ename": "ValueError",
          "evalue": "ignored",
          "traceback": [
            "\u001b[0;31m---------------------------------------------------------------------------\u001b[0m",
            "\u001b[0;31mValueError\u001b[0m                                Traceback (most recent call last)",
            "\u001b[0;32m<ipython-input-22-fccc6a45565d>\u001b[0m in \u001b[0;36m<module>\u001b[0;34m()\u001b[0m\n\u001b[1;32m      9\u001b[0m \u001b[0;34m\u001b[0m\u001b[0m\n\u001b[1;32m     10\u001b[0m \u001b[0;31m# 'i' between 3rd and 5th index is searched\u001b[0m\u001b[0;34m\u001b[0m\u001b[0;34m\u001b[0m\u001b[0;34m\u001b[0m\u001b[0m\n\u001b[0;32m---> 11\u001b[0;31m \u001b[0mindex\u001b[0m \u001b[0;34m=\u001b[0m \u001b[0malphabets\u001b[0m\u001b[0;34m.\u001b[0m\u001b[0mindex\u001b[0m\u001b[0;34m(\u001b[0m\u001b[0;34m'i'\u001b[0m\u001b[0;34m,\u001b[0m \u001b[0;36m3\u001b[0m\u001b[0;34m,\u001b[0m \u001b[0;36m5\u001b[0m\u001b[0;34m)\u001b[0m   \u001b[0;31m# Error! Burada da index[3] ile index[5] arasında i olmadığı için hata verecektir\u001b[0m\u001b[0;34m\u001b[0m\u001b[0;34m\u001b[0m\u001b[0m\n\u001b[0m\u001b[1;32m     12\u001b[0m \u001b[0mprint\u001b[0m\u001b[0;34m(\u001b[0m\u001b[0;34m'The index of i:'\u001b[0m\u001b[0;34m,\u001b[0m \u001b[0mindex\u001b[0m\u001b[0;34m)\u001b[0m\u001b[0;34m\u001b[0m\u001b[0;34m\u001b[0m\u001b[0m\n",
            "\u001b[0;31mValueError\u001b[0m: 'i' is not in list"
          ]
        }
      ]
    },
    {
      "cell_type": "code",
      "metadata": {
        "colab": {
          "base_uri": "https://localhost:8080/"
        },
        "id": "I4A7zU_tW9uR",
        "outputId": "e2e0020f-86d7-441c-a2f2-46bda394d8b5"
      },
      "source": [
        "# The count() method returns the number of times the specified element appears in the list.\n",
        "# The count() method takes a single argument: element - the element to be counted\n",
        "# The count() method returns the number of times element appears in the list.\n",
        "\n",
        "friends = [\"Ahmet\", \"Mehmet\", \"Hasan\", \"Hasan\", \"Hüseyin\", \"Ali\" , \"Hasan\"]\n",
        "\n",
        "print(friends.count(\"Hasan\")) # Bu şekilde count() fonksiyonu ile istenen elamanın listede kaç tane olduğunun sayısını çıktı olarak alabiliriz"
      ],
      "execution_count": null,
      "outputs": [
        {
          "output_type": "stream",
          "text": [
            "3\n"
          ],
          "name": "stdout"
        }
      ]
    },
    {
      "cell_type": "code",
      "metadata": {
        "colab": {
          "base_uri": "https://localhost:8080/"
        },
        "id": "Wm4W0M-el8P2",
        "outputId": "48cca9c8-9ea7-49a8-8e00-f915dd6cbba4"
      },
      "source": [
        "vowels = ['a', 'e', 'i', 'o', 'i', 'u']\n",
        "\n",
        "count = vowels.count('i')\n",
        "print('The count of i is:', count)\n",
        "\n",
        "count = vowels.count('p')\n",
        "print('The count of p is:', count)"
      ],
      "execution_count": null,
      "outputs": [
        {
          "output_type": "stream",
          "text": [
            "The count of i is: 2\n",
            "The count of p is: 0\n"
          ],
          "name": "stdout"
        }
      ]
    },
    {
      "cell_type": "code",
      "metadata": {
        "colab": {
          "base_uri": "https://localhost:8080/"
        },
        "id": "IqRNTrtDmW4u",
        "outputId": "739d3db9-f514-4fbc-e214-72bbd801a072"
      },
      "source": [
        "random = ['a', ('a', 'b'), ('a', 'b'), [3, 4]]\n",
        "\n",
        "count1 = random.count(('a', 'b'))\n",
        "print(\"The count of ('a', 'b') is:\", count1)\n",
        "\n",
        "count2 = random.count([3, 4])\n",
        "print(\"The count of [3, 4] is:\", count2)\n",
        "\n",
        "count3 = random.count('b')\n",
        "print(count3)\n",
        "\n",
        "print(random.count('a')) # Bu şekilde de yazılabilir \n",
        "\n"
      ],
      "execution_count": null,
      "outputs": [
        {
          "output_type": "stream",
          "text": [
            "The count of ('a', 'b') is: 2\n",
            "The count of [3, 4] is: 1\n",
            "0\n",
            "1\n"
          ],
          "name": "stdout"
        }
      ]
    },
    {
      "cell_type": "code",
      "metadata": {
        "colab": {
          "base_uri": "https://localhost:8080/"
        },
        "id": "uCNqhJyyXvi8",
        "outputId": "c09d8b83-a536-4e51-91b9-52aa81493735"
      },
      "source": [
        "# The sort() method sorts the elements of a given list in a specific ascending or descending order.\n",
        "# The syntax of the sort() method is: list.sort(key=..., reverse=...)\n",
        "\n",
        "# Note: The simplest difference between sort() and sorted() is: sort() changes the list directly and doesn't return any value, while sorted() doesn't change the list and returns the sorted list.\n",
        "\n",
        "# By default, sort() doesn't require any extra parameters. However, it has two optional parameters:\n",
        "\n",
        "# reverse - If True, the sorted list is reversed (or sorted in Descending order)\n",
        "# key - function that serves as a key for the sort comparison\n",
        "\n",
        "friends = ['Ahmet', 'Mehmet', 'Hasan', 'Hüseyin', 'Ali', 'Yavuz']\n",
        "friends.sort()  # Bu şekilde sort() fonksiyonu ile alfabetik sıraya göre listeyi sıralandırabiliriz\n",
        "\n",
        "lucky_numbers = [4,7,17,8,90,240]\n",
        "lucky_numbers.sort()  # Aynı şekilde sayıları da artacak şekilde sıralandırma işlemini gerçekleştirebiliyoruz\n",
        "\n",
        "print(friends)  \n",
        "print(lucky_numbers)"
      ],
      "execution_count": null,
      "outputs": [
        {
          "output_type": "stream",
          "text": [
            "['Ahmet', 'Ali', 'Hasan', 'Hüseyin', 'Mehmet', 'Yavuz']\n",
            "[4, 7, 8, 17, 90, 240]\n",
            "None\n"
          ],
          "name": "stdout"
        }
      ]
    },
    {
      "cell_type": "code",
      "metadata": {
        "colab": {
          "base_uri": "https://localhost:8080/"
        },
        "id": "hkfF4-z3oGZk",
        "outputId": "00224fc8-c03b-4f75-900a-894443038f9a"
      },
      "source": [
        "lucky_numbers = [4,7,17,8,90,240]\n",
        "# print(lucky_numbers.sort(reverse=True)) Bu şekilde kullanılmaz. Çıktısı None olur\n",
        "lucky_numbers.sort(reverse=True) # Bu şekildeki kullanım ile azalan sıradan/tersten de yazdırabiliriz. Default olarak reveerse=False gelmektedir\n",
        "print(lucky_numbers)"
      ],
      "execution_count": null,
      "outputs": [
        {
          "output_type": "stream",
          "text": [
            "[240, 90, 17, 8, 7, 4]\n"
          ],
          "name": "stdout"
        }
      ]
    },
    {
      "cell_type": "code",
      "metadata": {
        "colab": {
          "base_uri": "https://localhost:8080/"
        },
        "id": "DdRv8CplpOBO",
        "outputId": "e049eddd-75be-4357-a8ba-3415db98d0de"
      },
      "source": [
        "def takeSecond(elem): # takeSecond() diye elamanın index[1] deki değerini alan bir fonksiyon tanımladık\n",
        "    return elem[1]\n",
        "\n",
        "random = [(2, 2), (3, 4), (4, 1), (1, 3)]\n",
        "\n",
        "random.sort(key=takeSecond) # sort() fonksiyonunun key parametresine bu fonksiyonu yazdık, buna göre işlem yap demek\n",
        "print('Sorted list:', random) # Görüleceği üzere liste elamanlarını index[1] deki elemanlarına göre sıralamıştır"
      ],
      "execution_count": null,
      "outputs": [
        {
          "output_type": "stream",
          "text": [
            "Sorted list: [(4, 1), (2, 2), (1, 3), (3, 4)]\n"
          ],
          "name": "stdout"
        }
      ]
    },
    {
      "cell_type": "code",
      "metadata": {
        "colab": {
          "base_uri": "https://localhost:8080/"
        },
        "id": "beHX3oeCp4OF",
        "outputId": "5af3dcff-a0f8-49da-923c-203d241a7538"
      },
      "source": [
        "cities = [\"Addis Ababa\", \"Tokyo\", \"Rome\", \"İstanbul\", \"Rio\"]\n",
        "new_cities = cities.sort(key=len)\n",
        "new_cities2 = sorted(cities, key=len) # sorted() fonksiyonu ile bu sefer kelimelerin uzunluklarına göre sıralama işlemi yapabildik \n",
        "\n",
        "print(new_cities)\n",
        "print(new_cities2)"
      ],
      "execution_count": null,
      "outputs": [
        {
          "output_type": "stream",
          "text": [
            "None\n",
            "['Rio', 'Rome', 'Tokyo', 'İstanbul', 'Addis Ababa']\n"
          ],
          "name": "stdout"
        }
      ]
    },
    {
      "cell_type": "code",
      "metadata": {
        "colab": {
          "base_uri": "https://localhost:8080/"
        },
        "id": "kmzsJhcrY3Xq",
        "outputId": "6ee1e8ad-1bc8-4884-8182-f53d6e24a9a7"
      },
      "source": [
        "lucky_numbers = [4,7,17,8,90,240]\n",
        "lucky_numbers.reverse()  # Bu şekilde reverse() fonksiyonu ile listeyi tersten yazdırabiliriz\n",
        "\n",
        "print(lucky_numbers)\n"
      ],
      "execution_count": null,
      "outputs": [
        {
          "output_type": "stream",
          "text": [
            "[240, 90, 8, 17, 7, 4]\n"
          ],
          "name": "stdout"
        }
      ]
    },
    {
      "cell_type": "code",
      "metadata": {
        "colab": {
          "base_uri": "https://localhost:8080/"
        },
        "id": "5IKwQl-Bsp1e",
        "outputId": "da064fbb-46ef-41ab-eb17-d8654fe1d45c"
      },
      "source": [
        "# sorting using custom key\n",
        "employees = [\n",
        "    {'Name': 'Alan Turing', 'age': 25, 'salary': 10000},\n",
        "    {'Name': 'Sharon Lin', 'age': 30, 'salary': 8000},\n",
        "    {'Name': 'John Hopkins', 'age': 18, 'salary': 1000},\n",
        "    {'Name': 'Mikhail Tal', 'age': 40, 'salary': 15000},\n",
        "]\n",
        "\n",
        "# custom functions to get employee info\n",
        "def get_name(employee):\n",
        "    return employee.get('Name')\n",
        "\n",
        "\n",
        "def get_age(employee):\n",
        "    return employee.get('age')\n",
        "\n",
        "\n",
        "def get_salary(employee):\n",
        "    return employee.get('salary')\n",
        "\n",
        "\n",
        "# sort by name (Ascending order)\n",
        "employees.sort(key=get_name)\n",
        "print(employees, end='\\n')\n",
        "\n",
        "# sort by Age (Ascending order)\n",
        "employees.sort(key=get_age)\n",
        "print(employees, end='\\n')\n",
        "\n",
        "# sort by salary (Descending order)\n",
        "employees.sort(key=get_salary, reverse=True)\n",
        "print(employees, end='\\n')"
      ],
      "execution_count": null,
      "outputs": [
        {
          "output_type": "stream",
          "text": [
            "[{'Name': 'Alan Turing', 'age': 25, 'salary': 10000}, {'Name': 'John Hopkins', 'age': 18, 'salary': 1000}, {'Name': 'Mikhail Tal', 'age': 40, 'salary': 15000}, {'Name': 'Sharon Lin', 'age': 30, 'salary': 8000}]\n",
            "[{'Name': 'John Hopkins', 'age': 18, 'salary': 1000}, {'Name': 'Alan Turing', 'age': 25, 'salary': 10000}, {'Name': 'Sharon Lin', 'age': 30, 'salary': 8000}, {'Name': 'Mikhail Tal', 'age': 40, 'salary': 15000}]\n",
            "[{'Name': 'Mikhail Tal', 'age': 40, 'salary': 15000}, {'Name': 'Alan Turing', 'age': 25, 'salary': 10000}, {'Name': 'Sharon Lin', 'age': 30, 'salary': 8000}, {'Name': 'John Hopkins', 'age': 18, 'salary': 1000}]\n"
          ],
          "name": "stdout"
        }
      ]
    },
    {
      "cell_type": "code",
      "metadata": {
        "colab": {
          "base_uri": "https://localhost:8080/"
        },
        "id": "Mva2uDcRuMxS",
        "outputId": "d5777cda-175d-4cbb-db10-52fdfe7414f2"
      },
      "source": [
        "# Program to show the use of lambda functions\n",
        "double = lambda x: x * 2\n",
        "\n",
        "print(double(5))"
      ],
      "execution_count": null,
      "outputs": [
        {
          "output_type": "stream",
          "text": [
            "10\n"
          ],
          "name": "stdout"
        }
      ]
    },
    {
      "cell_type": "code",
      "metadata": {
        "colab": {
          "base_uri": "https://localhost:8080/"
        },
        "id": "lD5VaTXetYtt",
        "outputId": "00d68b69-9ae5-44e0-ac46-8df8f39c0762"
      },
      "source": [
        "Aşağıdaki gibi lambda() fonksiyonları kullanarak da yapabilirdik\n",
        "\n",
        "employees = [\n",
        "    {'Name': 'Alan Turing', 'age': 25, 'salary': 10000},\n",
        "    {'Name': 'Sharon Lin', 'age': 30, 'salary': 8000},\n",
        "    {'Name': 'John Hopkins', 'age': 18, 'salary': 1000},\n",
        "    {'Name': 'Mikhail Tal', 'age': 40, 'salary': 15000},\n",
        "]\n",
        "\n",
        "# sort by name (Ascending order)\n",
        "employees.sort(key=lambda x: x.get('Name')) # lambda fonksiyonları anlık tanımlanan fonksiyonlardır, lambda arguments: expression\n",
        "print(employees, end='\\n\\n')\n",
        "\n",
        "# sort by Age (Ascending order)\n",
        "employees.sort(key=lambda x: x.get('age'))\n",
        "print(employees, end='\\n\\n')\n",
        "\n",
        "# sort by salary (Descending order)\n",
        "employees.sort(key=lambda x: x.get('salary'), reverse=True)\n",
        "print(employees, end='\\n\\n')"
      ],
      "execution_count": null,
      "outputs": [
        {
          "output_type": "stream",
          "text": [
            "[{'Name': 'Alan Turing', 'age': 25, 'salary': 10000}, {'Name': 'John Hopkins', 'age': 18, 'salary': 1000}, {'Name': 'Mikhail Tal', 'age': 40, 'salary': 15000}, {'Name': 'Sharon Lin', 'age': 30, 'salary': 8000}]\n",
            "\n",
            "[{'Name': 'John Hopkins', 'age': 18, 'salary': 1000}, {'Name': 'Alan Turing', 'age': 25, 'salary': 10000}, {'Name': 'Sharon Lin', 'age': 30, 'salary': 8000}, {'Name': 'Mikhail Tal', 'age': 40, 'salary': 15000}]\n",
            "\n",
            "[{'Name': 'Mikhail Tal', 'age': 40, 'salary': 15000}, {'Name': 'Alan Turing', 'age': 25, 'salary': 10000}, {'Name': 'Sharon Lin', 'age': 30, 'salary': 8000}, {'Name': 'John Hopkins', 'age': 18, 'salary': 1000}]\n",
            "\n"
          ],
          "name": "stdout"
        }
      ]
    },
    {
      "cell_type": "code",
      "metadata": {
        "colab": {
          "base_uri": "https://localhost:8080/"
        },
        "id": "c_vWkgzmZgpd",
        "outputId": "b34bfbf7-d4f3-4031-8f5e-f213cbc40759"
      },
      "source": [
        "# The copy() method returns a shallow copy of the list.\n",
        "# if you need the original list unchanged when the new list is modified, you can use the copy() method.\n",
        "\n",
        "friends = [\"Ahmet\", \"Mehmet\", \"Hasan\", \"Hüseyin\", \"Ali\"]\n",
        "friends2 = friends.copy() # Bu şekilde copy() fonksiyonu ile başka bir listeyi kopyalayabiliyoruz\n",
        "\n",
        "print(friends2)"
      ],
      "execution_count": null,
      "outputs": [
        {
          "output_type": "stream",
          "text": [
            "['Ahmet', 'Mehmet', 'Hasan', 'Hüseyin', 'Ali']\n"
          ],
          "name": "stdout"
        }
      ]
    },
    {
      "cell_type": "code",
      "metadata": {
        "colab": {
          "base_uri": "https://localhost:8080/"
        },
        "id": "nrKOBparxHWh",
        "outputId": "e1bd5545-2238-4135-8799-bd25c06587c4"
      },
      "source": [
        "# shallow copy using the slicing syntax\n",
        "\n",
        "# mixed list\n",
        "list = ['cat', 0, 6.7]\n",
        "\n",
        "# copying a list using slicing\n",
        "new_list = list[:]\n",
        "\n",
        "# Adding an element to the new list\n",
        "new_list.append('dog')\n",
        "\n",
        "# Printing new and old list\n",
        "print('Old List:', list)\n",
        "print('New List:', new_list)"
      ],
      "execution_count": null,
      "outputs": [
        {
          "output_type": "stream",
          "text": [
            "Old List: ['cat', 0, 6.7]\n",
            "New List: ['cat', 0, 6.7, 'dog']\n"
          ],
          "name": "stdout"
        }
      ]
    },
    {
      "cell_type": "code",
      "metadata": {
        "colab": {
          "base_uri": "https://localhost:8080/"
        },
        "id": "xXb0LIU7Q_VO",
        "outputId": "e774925c-2d53-4d01-dd8b-e177c95bab1f"
      },
      "source": [
        "# The extend() method adds all the elements of an iterable (list, tuple, string etc.) to the end of the list.  It doesn't return any value.\n",
        "\n",
        "friends = [\"Ahmet\", \"Mehmet\", \"Hasan\", \"Hüseyin\", \"Ali\"]\n",
        "lucky_numbers = [4,7,17,8,90,240]\n",
        "\n",
        "friends.extend(lucky_numbers) # Bu şekilde extend() fonksiyonu ile birinci listeye ikinci listeyi kolaylıkla ekleyebiliriz\n",
        "\n",
        "print(friends)"
      ],
      "execution_count": null,
      "outputs": [
        {
          "output_type": "stream",
          "text": [
            "['Ahmet', 'Mehmet', 'Hasan', 'Hüseyin', 'Ali', 4, 7, 17, 8, 90, 240]\n"
          ],
          "name": "stdout"
        }
      ]
    },
    {
      "cell_type": "code",
      "metadata": {
        "colab": {
          "base_uri": "https://localhost:8080/"
        },
        "id": "dL4GdBNnxhER",
        "outputId": "7f58b51a-cbc5-4629-80b0-d36bf0f28cce"
      },
      "source": [
        "languages = ['French', 'English']\n",
        "languages1 = ['Spanish', 'Portuguese']\n",
        "languages.extend(languages1)\n",
        "\n",
        "print('Languages List:', languages)"
      ],
      "execution_count": null,
      "outputs": [
        {
          "output_type": "stream",
          "text": [
            "Languages List: ['French', 'English', 'Spanish', 'Portuguese']\n"
          ],
          "name": "stdout"
        }
      ]
    },
    {
      "cell_type": "code",
      "metadata": {
        "colab": {
          "base_uri": "https://localhost:8080/"
        },
        "id": "Ys9A0-CVx4Pq",
        "outputId": "c0f5fb6d-1e76-4892-c834-9b0297687bab"
      },
      "source": [
        "# The reverse() method reverses the elements of the list.\n",
        "# The reverse() method doesn't take any arguments.\n",
        "# The reverse() method doesn't return any value. It updates the existing list.\n",
        "\n",
        "systems = ['Windows', 'macOS', 'Linux']\n",
        "print('Original List:', systems)\n",
        "\n",
        "systems.reverse()\n",
        "print('Updated List:', systems)\n",
        "\n",
        "reversed_list = systems[::-1] # Böylelikle reverse() fonksiyonu ile ters çevrilmiş listemizi tekrar orjinal haline getirmiş olduk\n",
        "print('Reversed List:', reversed_list)"
      ],
      "execution_count": null,
      "outputs": [
        {
          "output_type": "stream",
          "text": [
            "Original List: ['Windows', 'macOS', 'Linux']\n",
            "Updated List: ['Linux', 'macOS', 'Windows']\n",
            "Reversed List: ['Windows', 'macOS', 'Linux']\n"
          ],
          "name": "stdout"
        }
      ]
    },
    {
      "cell_type": "code",
      "metadata": {
        "colab": {
          "base_uri": "https://localhost:8080/"
        },
        "id": "CxO8gDz_y3Ji",
        "outputId": "4f156dd7-27f4-4168-89da-3b36c75f8276"
      },
      "source": [
        "# If you need to access individual elements of a list in the reverse order, it's better to use reversed() function.\n",
        "\n",
        "systems = ['Windows', 'macOS', 'Linux']\n",
        "\n",
        "# Printing Elements in Reversed Order\n",
        "for o in reversed(systems): # Bu da görüleceği üzere listeyi sondan başlayarak yazdırır\n",
        "    print(o)"
      ],
      "execution_count": null,
      "outputs": [
        {
          "output_type": "stream",
          "text": [
            "Linux\n",
            "macOS\n",
            "Windows\n"
          ],
          "name": "stdout"
        }
      ]
    },
    {
      "cell_type": "markdown",
      "metadata": {
        "id": "IOZuvJPqGcqa"
      },
      "source": [
        "# **Slicing**"
      ]
    },
    {
      "cell_type": "code",
      "metadata": {
        "colab": {
          "base_uri": "https://localhost:8080/"
        },
        "id": "ItIqc_1Ckx9O",
        "outputId": "6eb4d9ca-e908-4063-eb26-d1cffe932b15"
      },
      "source": [
        "city = 'Phoenix'\n",
        "\n",
        "print(city[:]) # Listenin tamamını aynen yazdırır, bu örnek için [0:7] ile aynıdır.\n",
        "print(city[1:])  # starts from index 1 to the end (1 den başlayarak sonrası 1 dahil)\n",
        "print(city[:6])  # starts from zero to 5th index  (6 dan öncesi 6 dahil değil (stop-1))\n",
        "print(city[1::]) # 1 den başlayıp sonrasını yazar (step belirtilmemiş)\n",
        "print(city[::1]) # (Baştan (index 0) başlayarak teker teker (by 1 step) yazar yani aynısı)\n",
        "print(city[::2])  # starts from zero to end by 2 step (Baştan sona 2 şer atlayarak)\n",
        "print(city[1::2])  # starts from index 1 to the end by 2 step (1 den başlayıp 2 şer 2 şer atlayarak)\n",
        "print(city[-3:])  # starts from index -3 to the end (Kısacası son 3 karakter ya da sondan başla -3 den sonrası negatif indexler -1 den başlar)\n",
        "print(city[::-1])  # negative step starts from the end to zero (Sondan başa doğru yazar) Eğer step - şeklinde ise başa doğru gidilir\n",
        "print(city[::-2])\n"
      ],
      "execution_count": null,
      "outputs": [
        {
          "output_type": "stream",
          "text": [
            "Phoenix\n",
            "hoenix\n",
            "Phoeni\n",
            "hoenix\n",
            "Phoenix\n",
            "Ponx\n",
            "hei\n",
            "nix\n",
            "xineohP\n",
            "xnoP\n"
          ],
          "name": "stdout"
        }
      ]
    },
    {
      "cell_type": "code",
      "metadata": {
        "colab": {
          "base_uri": "https://localhost:8080/"
        },
        "id": "tycoRbm6paKx",
        "outputId": "f39010a9-91c9-45ef-8d87-3b60d9b907c9"
      },
      "source": [
        "vegetable = 'Tomato'\n",
        "\n",
        "print('length of the word', vegetable, 'is :', len(vegetable)) # len() fonksiyonu değişkenin karakter sayısını çıkartmak için kullanılır"
      ],
      "execution_count": null,
      "outputs": [
        {
          "output_type": "stream",
          "text": [
            "length of the word Tomato is : 6\n"
          ],
          "name": "stdout"
        }
      ]
    },
    {
      "cell_type": "code",
      "metadata": {
        "colab": {
          "base_uri": "https://localhost:8080/"
        },
        "id": "iar-Ayc2siRZ",
        "outputId": "8b62dd66-0d2f-43bd-bc4b-82e002aee9e3"
      },
      "source": [
        "# We can use + operator for combining the two string together without any spaces.\n",
        "print('clarus' + 'way')"
      ],
      "execution_count": null,
      "outputs": [
        {
          "output_type": "stream",
          "text": [
            "clarusway\n"
          ],
          "name": "stdout"
        }
      ]
    },
    {
      "cell_type": "code",
      "metadata": {
        "colab": {
          "base_uri": "https://localhost:8080/"
        },
        "id": "rnf2jz8iss2z",
        "outputId": "e29e82bb-650d-4f06-dd4e-fe8b3926fdd2"
      },
      "source": [
        "# We can also use * operator for repeating the string without any spaces.\n",
        "print(3*'no way!')"
      ],
      "execution_count": null,
      "outputs": [
        {
          "output_type": "stream",
          "text": [
            "no way!no way!no way!\n"
          ],
          "name": "stdout"
        }
      ]
    },
    {
      "cell_type": "code",
      "metadata": {
        "id": "zLLOPhbms5YY",
        "colab": {
          "base_uri": "https://localhost:8080/"
        },
        "outputId": "216c8f5f-a70f-4f42-c9ce-b4449761ae9e"
      },
      "source": [
        "fruit = 'Orange'\n",
        "vegetable = 'Tomato'\n",
        "print(\"using + :\", fruit + vegetable)\n",
        "print(\"using * :\", 3 * fruit)"
      ],
      "execution_count": null,
      "outputs": [
        {
          "output_type": "stream",
          "text": [
            "using + : OrangeTomato\n",
            "using * : OrangeOrangeOrange\n"
          ],
          "name": "stdout"
        }
      ]
    },
    {
      "cell_type": "code",
      "metadata": {
        "colab": {
          "base_uri": "https://localhost:8080/"
        },
        "id": "fxNABhReK6IE",
        "outputId": "494476fb-477a-47a9-d940-5077b266d722"
      },
      "source": [
        "str_one = 'upper'\n",
        "str_two = 'upper' * 3\n",
        "str_comb = str_one * 3\n",
        "print(str_one)\n",
        "print(str_two)\n",
        "print(str_comb)\n",
        "\n"
      ],
      "execution_count": null,
      "outputs": [
        {
          "output_type": "stream",
          "text": [
            "upper\n",
            "upperupperupper\n",
            "upperupperupper\n",
            "c l a r u s w a y\n"
          ],
          "name": "stdout"
        }
      ]
    },
    {
      "cell_type": "code",
      "metadata": {
        "colab": {
          "base_uri": "https://localhost:8080/"
        },
        "id": "puAb4AQPMS6T",
        "outputId": "d90b066a-3e9f-4284-c70f-d2e85364e512"
      },
      "source": [
        "print(* \"clarusway\") # * işareti kendisinden sonra gelen strngi elemanlarına ayırır. Sağ tarafta kullanılırsa error verir\n",
        "print()\n",
        "string_1 = \"I'm hungary...\"\n",
        "print(*string_1)\n",
        "print()\n",
        "string_2 = '1453'\n",
        "print(*string_2)\n",
        "print()\n",
        "string_3 = \"joseph@clarusway.com\"\n",
        "print(*string_3)\n"
      ],
      "execution_count": null,
      "outputs": [
        {
          "output_type": "stream",
          "text": [
            "c l a r u s w a y\n",
            "\n",
            "I ' m   h u n g a r y . . .\n",
            "\n",
            "1 4 5 3\n",
            "\n",
            "j o s e p h @ c l a r u s w a y . c o m\n"
          ],
          "name": "stdout"
        }
      ]
    },
    {
      "cell_type": "code",
      "metadata": {
        "colab": {
          "base_uri": "https://localhost:8080/"
        },
        "id": "xz0ij8rcuhub",
        "outputId": "8266ba53-ea33-4051-da3c-97380faf36ca"
      },
      "source": [
        "fruit = 'orange'\n",
        "fruit += ' apple'  # Bununla fruit değişkeninin değerine apple da ekle demektir\n",
        "\n",
        "print(fruit)"
      ],
      "execution_count": null,
      "outputs": [
        {
          "output_type": "stream",
          "text": [
            "orange apple\n"
          ],
          "name": "stdout"
        }
      ]
    },
    {
      "cell_type": "code",
      "metadata": {
        "colab": {
          "base_uri": "https://localhost:8080/"
        },
        "id": "8kla8JMMukiT",
        "outputId": "75df2472-4d5d-4a19-b701-f86e1bb3e524"
      },
      "source": [
        "fruit = 'orange'\n",
        "fruit += ' apple'\n",
        "fruit += ' banana'\n",
        "fruit += ' apricot'\n",
        "\n",
        "print(fruit)"
      ],
      "execution_count": null,
      "outputs": [
        {
          "output_type": "stream",
          "text": [
            "orange apple banana apricot\n"
          ],
          "name": "stdout"
        }
      ]
    },
    {
      "cell_type": "code",
      "metadata": {
        "colab": {
          "base_uri": "https://localhost:8080/"
        },
        "id": "AWdqmel9v_oJ",
        "outputId": "cd852069-db13-4930-bdf9-351865fa56ee"
      },
      "source": [
        "fruit1 = 'Apple'\n",
        "fruit2 = 'Orange'\n",
        "\n",
        "print( 2*fruit1 + \" \" + 3*fruit2)"
      ],
      "execution_count": null,
      "outputs": [
        {
          "output_type": "stream",
          "text": [
            "AppleApple OrangeOrangeOrange\n"
          ],
          "name": "stdout"
        }
      ]
    },
    {
      "cell_type": "markdown",
      "metadata": {
        "id": "NFOzcr3dnHkX"
      },
      "source": [
        "## **Stringlerde % Kullanımı**"
      ]
    },
    {
      "cell_type": "code",
      "metadata": {
        "colab": {
          "base_uri": "https://localhost:8080/"
        },
        "id": "N8YdX0Bkx2-d",
        "outputId": "c8432c34-f5a3-46bf-f99c-e514d0d36eb0"
      },
      "source": [
        "# For now, we used only s, d and f characters to specify the data type in a string.\n",
        "\n",
        "phrase = 'I have %d %s and %.2f brothers' % (4, \"children\", 5)  # Bu şekilde direk kullanımda değerleri () içerisinde belirtiyoruz \n",
        "print (phrase)\n",
        "\n",
        "# In the '%s' syntax : s stands for 'string'.\n",
        "# In the '%.2f' syntax : f stands for 'float'. In this example 2 digits after point.\n",
        "# In the '%d' syntax : d stands for 'numeric'."
      ],
      "execution_count": null,
      "outputs": [
        {
          "output_type": "stream",
          "text": [
            "I have 4 children and 5.00 brothers\n"
          ],
          "name": "stdout"
        }
      ]
    },
    {
      "cell_type": "code",
      "metadata": {
        "colab": {
          "base_uri": "https://localhost:8080/"
        },
        "id": "RDhGtVXBFyIs",
        "outputId": "560fb27b-08c9-4c7e-f5b9-9ed26658b6c6"
      },
      "source": [
        "phrase = 'I have %(count_1)d %(count_2)s and %(count_3).2f brothers' % {'count_1': 4, 'count_2':\"children\", 'count_3': 5}  # Bu şekilde değişkenler aracılığıyla yazarken de {} içerisinde belirtiyoruz\n",
        "print (phrase)                                                                                                             # Sadece d,f,s önüne değişken isimlerini ekliyoruz"
      ],
      "execution_count": null,
      "outputs": [
        {
          "output_type": "stream",
          "text": [
            "I have 4 children and 5.00 brothers\n"
          ],
          "name": "stdout"
        }
      ]
    },
    {
      "cell_type": "code",
      "metadata": {
        "colab": {
          "base_uri": "https://localhost:8080/",
          "height": 132
        },
        "id": "uSEZO_3jG8ud",
        "outputId": "b427e0ca-2081-4220-e450-b92811c33ebb"
      },
      "source": [
        "print('I have %(count_1)d %(count_2)s and %(count_3).2f brothers' % {'count_1': 4, 'count_2':\"children\", 'count_3': 5} # Bu şekildeki bir kullanımda sonunda parantez unutulursa böyle hata verir.\n",
        "                                                                                                                      "
      ],
      "execution_count": null,
      "outputs": [
        {
          "output_type": "error",
          "ename": "SyntaxError",
          "evalue": "ignored",
          "traceback": [
            "\u001b[0;36m  File \u001b[0;32m\"<ipython-input-8-9525a45daf2c>\"\u001b[0;36m, line \u001b[0;32m1\u001b[0m\n\u001b[0;31m    print('I have %(count_1)d %(count_2)s and %(count_3).2f brothers' % {'count_1': 4, 'count_2':\"children\", 'count_3': 5}\u001b[0m\n\u001b[0m                                                                                                                          ^\u001b[0m\n\u001b[0;31mSyntaxError\u001b[0m\u001b[0;31m:\u001b[0m unexpected EOF while parsing\n"
          ]
        }
      ]
    },
    {
      "cell_type": "code",
      "metadata": {
        "colab": {
          "base_uri": "https://localhost:8080/"
        },
        "id": "EGNSup6azchA",
        "outputId": "eb47b223-6d2e-4422-92c2-928484de8067"
      },
      "source": [
        "sentence = \"apologizing is a virtue\"\n",
        "\n",
        "print(\"%.11s\" % sentence)  # we get first 11 characters of the string\n",
        "print(sentence[0:11]) # İkisi de aynı işi yapar"
      ],
      "execution_count": null,
      "outputs": [
        {
          "output_type": "stream",
          "text": [
            "apologizing\n",
            "apologizing\n"
          ],
          "name": "stdout"
        }
      ]
    },
    {
      "cell_type": "code",
      "metadata": {
        "colab": {
          "base_uri": "https://localhost:8080/"
        },
        "id": "GQm4es8r3csf",
        "outputId": "0e6cc23e-6d30-4000-f1b8-01350b1aa7c7"
      },
      "source": [
        "x = \"HelloWorld!\"\n",
        "print('%.4s' % x)"
      ],
      "execution_count": null,
      "outputs": [
        {
          "output_type": "stream",
          "text": [
            "Hell\n"
          ],
          "name": "stdout"
        }
      ]
    },
    {
      "cell_type": "markdown",
      "metadata": {
        "id": "-KXAVqXEbqMA"
      },
      "source": [
        "# **string.format() Kullanımı**"
      ]
    },
    {
      "cell_type": "code",
      "metadata": {
        "colab": {
          "base_uri": "https://localhost:8080/"
        },
        "id": "UZiFOfgl0d-I",
        "outputId": "8f3c2873-426b-4d6a-cf1f-edf112b65753"
      },
      "source": [
        "# As in this example below, the value of expression comes from .format() method in order. Curly braces 👉🏻{} receives values from .format().\n",
        "# If you’ve written more variables than you need in the .format() method, the extra ones just will be ignored. \n",
        "\n",
        "fruit = 'Orange'\n",
        "vegetable = 'Tomato'\n",
        "amount = 4\n",
        "print('The amount of {} we bought is {} pounds'.format(fruit, amount))  # .format() fonksiyonunun kullanımı, bu şekilde fonksiyon içindeki sıraya göre atar"
      ],
      "execution_count": null,
      "outputs": [
        {
          "output_type": "stream",
          "text": [
            "The amount of Orange we bought is 4 pounds\n"
          ],
          "name": "stdout"
        }
      ]
    },
    {
      "cell_type": "code",
      "metadata": {
        "colab": {
          "base_uri": "https://localhost:8080/"
        },
        "id": "0d97rld100KP",
        "outputId": "5eb189b5-9a25-419d-ccc0-91e591187b1b"
      },
      "source": [
        "# Using keywords in 👉🏻{} makes string more readable.\n",
        "# Birden fazla değişken ile .format() fonksiyonunun kullanımı\n",
        "\n",
        "print('{state} is the most {adjective} state of the {country}'.format(state='California', country='USA', adjective='crowded'))\n",
        "# Bu şekildeki kullamımda hepsi değişkenlere atılmış olduğu için sıra farketmez                                                                                                                            "
      ],
      "execution_count": null,
      "outputs": [
        {
          "output_type": "stream",
          "text": [
            "California is the most crowded state of the USA\n"
          ],
          "name": "stdout"
        }
      ]
    },
    {
      "cell_type": "code",
      "metadata": {
        "colab": {
          "base_uri": "https://localhost:8080/"
        },
        "id": "9lKpwcy71uMl",
        "outputId": "197d83b9-dbee-4fef-8f09-89be64803532"
      },
      "source": [
        "state='California' \n",
        "country='USA' \n",
        "adjective='crowded'\n",
        "\n",
        "print('{} is the most {} state of the {}'.format(state, country, adjective)) \n",
        "# Bu şekilde de kullanılabilirdi, böyle olunca sırasıyla atar görüldüğü gibi,onun için bu kullanımda format() içine uygun yazmak gerekir\n",
        "# If you have noticed, we do not have to write the keywords in .format() method in order."
      ],
      "execution_count": null,
      "outputs": [
        {
          "output_type": "stream",
          "text": [
            "California is the most USA state of the crowded\n"
          ],
          "name": "stdout"
        }
      ]
    },
    {
      "cell_type": "markdown",
      "metadata": {
        "id": "ZlicRG7HYkd0"
      },
      "source": [
        "**Note:** Positional arguments are arguments that can be called by their position in the function or method definition. Keyword arguments are arguments that can be called by their names."
      ]
    },
    {
      "cell_type": "code",
      "metadata": {
        "colab": {
          "base_uri": "https://localhost:8080/"
        },
        "id": "dkPaEgl3Y3LX",
        "outputId": "3f8f23f0-730f-4c5b-fe5a-ce2925deef64"
      },
      "source": [
        "print('{0} is the most {adjective} state of the {country}'.format('California', country='USA', adjective='crowded'))"
      ],
      "execution_count": null,
      "outputs": [
        {
          "output_type": "stream",
          "text": [
            "California is the most crowded state of the USA\n"
          ],
          "name": "stdout"
        }
      ]
    },
    {
      "cell_type": "code",
      "metadata": {
        "colab": {
          "base_uri": "https://localhost:8080/"
        },
        "id": "xfebH7tk4yuS",
        "outputId": "24db3bc6-167e-402f-bcdc-af4fc1843cbd"
      },
      "source": [
        "print('{1} is the most {adjective} state of the {country}'.format('California', 'Texas', country='USA', adjective='crowded'))\n",
        "\n",
        "# Bu şekilde değerin  .format() fonksiyonu içerisindeki index numrası ile ilgili değeri çağırabiliriz. 0 yazaydık California gelirdi mesela\n",
        "# Ayrıca bu şekildeki bir kullanımda tanımlanmamış olanlar (Positional arguments) tanımlanmış olanlardan (Keyword arguments)(country,adjective) her daim önce gelmelidir. Aksi takdirde \"SyntaxError: positional argument follows keyword argument\" hatası alınır                                                     \n",
        "# Be careful not to write keyword arguments before positional arguments. "
      ],
      "execution_count": null,
      "outputs": [
        {
          "output_type": "stream",
          "text": [
            "Texas is the most crowded state of the USA\n"
          ],
          "name": "stdout"
        }
      ]
    },
    {
      "cell_type": "code",
      "metadata": {
        "colab": {
          "base_uri": "https://localhost:8080/"
        },
        "id": "JxbmHay7cZZ1",
        "outputId": "518f7999-73d8-4282-a4a7-8c0330597bf0"
      },
      "source": [
        "print(\"{}-{}-{}\".format(\"12\",\"Feb\",\"Feb\"))\n",
        "print(\"{no}-{month}-{month}\".format(no=\"12\", month=\"Feb\"))"
      ],
      "execution_count": null,
      "outputs": [
        {
          "output_type": "stream",
          "text": [
            "12-Feb-Feb\n",
            "12-Feb-Feb\n"
          ],
          "name": "stdout"
        }
      ]
    },
    {
      "cell_type": "code",
      "metadata": {
        "colab": {
          "base_uri": "https://localhost:8080/"
        },
        "id": "27QZEedY5igR",
        "outputId": "7d711ade-d438-4de6-d700-9aef73c8be45"
      },
      "source": [
        "print(\"{6} {0} {5} {3} {4} {1} {2}\".format('have', 6, 'months', 'a job', 'in', 'found', 'I will'))\n",
        "# Positional kullanımda bu şekilde index de belirtilebilir"
      ],
      "execution_count": null,
      "outputs": [
        {
          "output_type": "stream",
          "text": [
            "I will have found a job in 6 months\n"
          ],
          "name": "stdout"
        }
      ]
    },
    {
      "cell_type": "code",
      "metadata": {
        "colab": {
          "base_uri": "https://localhost:8080/"
        },
        "id": "ddez4Q2hdbWl",
        "outputId": "2421eba5-04e0-4e0a-eb5e-f04ed7432692"
      },
      "source": [
        "phrase = '{2} {3} {1} {0}'.format('circumstances', 'in all', 'generosity', 'wins')\n",
        "print(phrase)"
      ],
      "execution_count": null,
      "outputs": [
        {
          "output_type": "stream",
          "text": [
            "generosity wins in all circumstances\n"
          ],
          "name": "stdout"
        }
      ]
    },
    {
      "cell_type": "code",
      "metadata": {
        "colab": {
          "base_uri": "https://localhost:8080/"
        },
        "id": "4SCT5ZX4a2le",
        "outputId": "1cf27237-967e-499d-df18-4a80e45de17f"
      },
      "source": [
        "print(\"{9} {7} {1} {10} {3} {2} {5} {8} {6} {0} {4}\".format('in', 'know', 'bring', 'to', 'students.', 'out', 'best', 'teachers', 'the', 'Good', 'how'))"
      ],
      "execution_count": null,
      "outputs": [
        {
          "output_type": "stream",
          "text": [
            "Good teachers know how to bring out the best in students.\n"
          ],
          "name": "stdout"
        }
      ]
    },
    {
      "cell_type": "code",
      "metadata": {
        "colab": {
          "base_uri": "https://localhost:8080/"
        },
        "id": "S93SVsyee37J",
        "outputId": "14b2cc70-4667-4363-9ec1-7f8be6bc399a"
      },
      "source": [
        "phrase = '{morality} {1} {0} {condition}'.format(\"in all\", \"wins\", condition = 'circumstances', morality = 'genorosity')\n",
        "print(phrase)\n",
        "print()\n",
        "phrase = '{morality} {} {} {condition}'.format(\"wins\", \"in all\",  condition = 'circumstances', morality = 'genorosity')\n",
        "print(phrase)\n",
        "# İki şekilde de yapılabilir, önemli olan format() içerisinde !!! Be careful not to write keyword arguments before positional arguments."
      ],
      "execution_count": null,
      "outputs": [
        {
          "output_type": "stream",
          "text": [
            "genorosity wins in all circumstances\n",
            "\n",
            "genorosity wins in all circumstances\n"
          ],
          "name": "stdout"
        }
      ]
    },
    {
      "cell_type": "code",
      "metadata": {
        "colab": {
          "base_uri": "https://localhost:8080/"
        },
        "id": "zMENLejBgZIm",
        "outputId": "0b303c70-0efe-4335-e190-e46d44b0dc18"
      },
      "source": [
        "money = 2000\n",
        "total = 4,152.32 \n",
        "percent = 11\n",
        "day = 5\n",
        "phrase = 'If we had bought ${} crypto coins at the weekend, we would have had ${} with a profit share of {}% after {} days'.format(money, total, percent, day)\n",
        "print(phrase)"
      ],
      "execution_count": null,
      "outputs": [
        {
          "output_type": "stream",
          "text": [
            "If we had bought $2000 crypto coins at the weekend, we would have had $(4, 152.32) with a profit share of 11% after 5 days\n"
          ],
          "name": "stdout"
        }
      ]
    },
    {
      "cell_type": "code",
      "metadata": {
        "colab": {
          "base_uri": "https://localhost:8080/"
        },
        "id": "TyA4MfxGEbfP",
        "outputId": "d1bb741f-7e80-40e7-8346-3a2b9dcdda34"
      },
      "source": [
        "print('{1} {0} {2} {2} {3} {3} {2}'.format('hoşgelir', 'tren gelir', 'ley', 'lümü'))"
      ],
      "execution_count": null,
      "outputs": [
        {
          "output_type": "stream",
          "text": [
            "tren gelir hoşgelir ley ley lümü lümü ley\n"
          ],
          "name": "stdout"
        }
      ]
    },
    {
      "cell_type": "code",
      "metadata": {
        "colab": {
          "base_uri": "https://localhost:8080/"
        },
        "id": "5ItCUPie90s7",
        "outputId": "9fa2bc82-5168-47a3-b2ab-faae833a5126"
      },
      "source": [
        "print(\"{9} {7} {1} {10} {3} {2} {5} {8} {6} {0} {4}\".format('in', 'know', 'bring', 'to', 'students.', 'out', 'best', 'teachers', 'the', 'Good', 'how'))"
      ],
      "execution_count": null,
      "outputs": [
        {
          "output_type": "stream",
          "text": [
            "Good teachers know how to bring out the best in students.\n"
          ],
          "name": "stdout"
        }
      ]
    },
    {
      "cell_type": "markdown",
      "metadata": {
        "id": "_Z_48oqTi8Dt"
      },
      "source": [
        "# **f-string Kullanımı**"
      ]
    },
    {
      "cell_type": "code",
      "metadata": {
        "colab": {
          "base_uri": "https://localhost:8080/"
        },
        "id": "g_-0Caev-hmq",
        "outputId": "d299c928-fc3b-4331-8f60-bceeadaedf9c"
      },
      "source": [
        "# Aşağıdaki iki kullanımı daha önce görmüştük...\n",
        "\n",
        "fruit = 'Orange'\n",
        "vegetable = 'Tomato'\n",
        "amount = 6\n",
        "print(\"The amount of {} and {} we bought are totally {} pounds\".format('Orange','Tomato',6))"
      ],
      "execution_count": null,
      "outputs": [
        {
          "output_type": "stream",
          "text": [
            "The amount of Orange and Tomato we bought are totally 6 pounds\n"
          ],
          "name": "stdout"
        }
      ]
    },
    {
      "cell_type": "code",
      "metadata": {
        "colab": {
          "base_uri": "https://localhost:8080/"
        },
        "id": "Y2kkJsK4-1kc",
        "outputId": "1ffaa3c7-29c3-4389-ee06-4f045fedd085"
      },
      "source": [
        "print(\"The amount of {fruit} and {vegetable} we bought are totally {amount} pounds\".format(fruit = 'Orange', vegetable = 'Tomato', amount = 6))"
      ],
      "execution_count": null,
      "outputs": [
        {
          "output_type": "stream",
          "text": [
            "The amount of Orange and Tomato we bought are totally 6 pounds\n"
          ],
          "name": "stdout"
        }
      ]
    },
    {
      "cell_type": "code",
      "metadata": {
        "colab": {
          "base_uri": "https://localhost:8080/"
        },
        "id": "Dn3hQK5C-Mkn",
        "outputId": "71ddda60-83e9-4def-934e-f0be8cf8460a"
      },
      "source": [
        "# f-string kullanımında ise: f-string is the string syntax that is enclosed in quotes with a letter f at the beginning. \n",
        "# Curly braces 👉🏻{} that contain variable names or expressions are used to replace with their values.\n",
        "\n",
        "fruit = 'Orange'\n",
        "vegetable = 'Tomato'\n",
        "amount = 6\n",
        "output = f\"The amount of {fruit} and {vegetable} we bought are totally {amount} pounds\" #f-string kullanımı bu şekildedir\n",
        "\n",
        "print(output)"
      ],
      "execution_count": null,
      "outputs": [
        {
          "output_type": "stream",
          "text": [
            "The amount of Orange and Tomato we bought are totally 6 pounds\n"
          ],
          "name": "stdout"
        }
      ]
    },
    {
      "cell_type": "code",
      "metadata": {
        "id": "FuF8gQAPcvQE"
      },
      "source": [
        "money = 2000\n",
        "total = 4,152.32 \n",
        "percent = 11\n",
        "day = 5\n",
        "phrase = 'If we had bought ${} crypto coins at the weekend, we would have had ${} with a profit share of {}% after {} days'.format(money, total, percent, day)\n",
        "print(phrase)"
      ],
      "execution_count": null,
      "outputs": []
    },
    {
      "cell_type": "code",
      "metadata": {
        "colab": {
          "base_uri": "https://localhost:8080/"
        },
        "id": "cpp-Qdmbcy-Z",
        "outputId": "a1ae03a2-8528-4db9-ce71-340146a14330"
      },
      "source": [
        "phrase = 'If we had bought ${money} crypto coins at the weekend, we would have had ${total} \\\n",
        " with a profit share of {percent}% after {day} days'.format(percent = \"11\", day = \"5\", total = \"4,152.32\", money = \"2000\")\n",
        "print(phrase)"
      ],
      "execution_count": null,
      "outputs": [
        {
          "output_type": "stream",
          "text": [
            "If we had bought $2000 crypto coins at the weekend, we would have had $4,152.32  with a profit share of 11% after 5 days\n"
          ],
          "name": "stdout"
        }
      ]
    },
    {
      "cell_type": "code",
      "metadata": {
        "id": "0xnfBssujUoe"
      },
      "source": [
        "#Yukarıdaki örneklerin aynısını f-string ile yapacak olursak...\n",
        "capital = 2000\n",
        "total = \"4,152.32\"\n",
        "rate = 11\n",
        "duration = 5\n",
        "output = f\"If we had bought ${capital} crypto coins at the weekend, \\ \n",
        "we would have had ${total} with a profit share of {rate}% after {duration} days.\" # Bu şekilde \\ ile cümleye devam edebiliriz\n",
        "print(output)"
      ],
      "execution_count": null,
      "outputs": []
    },
    {
      "cell_type": "code",
      "metadata": {
        "colab": {
          "base_uri": "https://localhost:8080/"
        },
        "id": "c3yF_REAjIMf",
        "outputId": "33eaf825-7914-414e-d816-04d798be0c91"
      },
      "source": [
        "x = 2000\n",
        "y = 4,152.32\n",
        "z = 11\n",
        "k = 5\n",
        "\n",
        "print (\"If we had bought ${} crypto coins at the weekend,\\\n",
        " we would have had ${} with a profit \\\n",
        " share of {}% after {} days.\".format (x, y, z, k))"
      ],
      "execution_count": null,
      "outputs": [
        {
          "output_type": "stream",
          "text": [
            "If we had bought $2000 crypto coins at the weekend, we would have had $(4, 152.32) with a profit  share of 11% after 5 days.\n"
          ],
          "name": "stdout"
        }
      ]
    },
    {
      "cell_type": "code",
      "metadata": {
        "colab": {
          "base_uri": "https://localhost:8080/"
        },
        "id": "rphuqJkzCPCK",
        "outputId": "b40e799f-e300-4a9b-8f0e-79584b00934a"
      },
      "source": [
        "# You can use all valid expressions, variables, and even methods in curly braces.\n",
        "\n",
        "result = f\"{4 * 5}\" \n",
        "print(result)\n",
        "\n",
        "result_2 = f\"{2**3}\"\n",
        "print(result_2)"
      ],
      "execution_count": null,
      "outputs": [
        {
          "output_type": "stream",
          "text": [
            "20\n",
            "8\n"
          ],
          "name": "stdout"
        }
      ]
    },
    {
      "cell_type": "code",
      "metadata": {
        "colab": {
          "base_uri": "https://localhost:8080/"
        },
        "id": "gkoijZCbCotU",
        "outputId": "4753daaf-9cce-4187-ab09-06c96d086837"
      },
      "source": [
        "# There is also a multiline f-string formatting style. Bu şekilde işlem yaparken satırlara bölebiliriz \n",
        "\n",
        "name = \"Yaman\"\n",
        "job = \"teachers\"\n",
        "domain = \"Data Science\"\n",
        "message = (                 \n",
        "     f\"Hi {name}. \"\n",
        "     f\"You are one of the {job} \"\n",
        "     f\"in the {domain} section.\"\n",
        ")                   # Bu şekildeki çoklu satır kullanımında () içerisinde yazmak ve her bir satırın başına f kullanmak şarttır\n",
        "print(message)"
      ],
      "execution_count": null,
      "outputs": [
        {
          "output_type": "stream",
          "text": [
            "Hi Yaman. You are one of the teachers in the Data Science section.\n"
          ],
          "name": "stdout"
        }
      ]
    },
    {
      "cell_type": "code",
      "metadata": {
        "colab": {
          "base_uri": "https://localhost:8080/"
        },
        "id": "WkIum-YqDMFu",
        "outputId": "16b9c6bf-3b1b-42e8-8c1a-2b60451f4e4f"
      },
      "source": [
        "# If you want to use multiple f-string formatting lines without parentheses, you will have the other option that you can use backslash 👉🏻\\ between lines.\n",
        "\n",
        "name = \"Yaman\"\n",
        "job = \"teachers\"\n",
        "domain = \"Data Science\"\n",
        "message = f\"Hi {name}. \" \\\n",
        "          f\"You are one of the {job} \" \\\n",
        "          f\"in the {domain} section.\"\n",
        "\n",
        "print(message) #Bu şekilde \\ kullandığımızda ise () içerisinde yazmamıza gerek yoktur"
      ],
      "execution_count": null,
      "outputs": [
        {
          "output_type": "stream",
          "text": [
            "Hi Yaman. You are one of the teachers in the Data Science section.\n"
          ],
          "name": "stdout"
        }
      ]
    },
    {
      "cell_type": "code",
      "metadata": {
        "colab": {
          "base_uri": "https://localhost:8080/"
        },
        "id": "vA5vqIn_pDib",
        "outputId": "688cf9b9-44af-4a6f-dec6-ea9132e71db2"
      },
      "source": [
        "a = 11\n",
        "b = 22\n",
        "c = 33\n",
        "\n",
        "output = (\n",
        "    f\"Benim {a} elmam \\n\" \n",
        "    f\"{b} armutum ve \\n\"\n",
        "    f\"{c} kadar muzum var\"\n",
        ")   \n",
        "print(output) # Bu şekilde \\n ile alt satıra geçme işlemlerini yapabiliriz"
      ],
      "execution_count": null,
      "outputs": [
        {
          "output_type": "stream",
          "text": [
            "Benim 11 elmam \n",
            "22 armutum ve \n",
            "33 kadar muzum var\n"
          ],
          "name": "stdout"
        }
      ]
    },
    {
      "cell_type": "code",
      "metadata": {
        "colab": {
          "base_uri": "https://localhost:8080/"
        },
        "id": "ngcPJTZWqaI_",
        "outputId": "457e1220-aba9-49e4-b26c-b19706bb6043"
      },
      "source": [
        "name = \"Susan\"\n",
        "age = \"young\"\n",
        "gender = \"lady\"\n",
        "school = \"CLRWY IT university\"\n",
        "output = (\n",
        "    f\"{name} is a {age}\"\n",
        "    f\"{gender} and she is \"\n",
        "    f\"a student at the {school}\" \n",
        ")\n",
        "print(output)"
      ],
      "execution_count": null,
      "outputs": [
        {
          "output_type": "stream",
          "text": [
            "Susan is a younglady and she is a student at the CLRWY IT university\n"
          ],
          "name": "stdout"
        }
      ]
    },
    {
      "cell_type": "code",
      "metadata": {
        "colab": {
          "base_uri": "https://localhost:8080/"
        },
        "id": "8fl7DpqErRyf",
        "outputId": "0074f2d2-a69b-473d-e9ee-90170f6b8e2b"
      },
      "source": [
        "# \\ ile kullanımı\n",
        "\n",
        "name = \"Susan\"\n",
        "age = \"young\"\n",
        "gender = \"lady\"\n",
        "school = \"CLRWY IT university\"\n",
        "output = f\"{name} is a {age}\" \\\n",
        "         f\"{gender} and she is \" \\\n",
        "         f\"a student at the {school}\" \n",
        "\n",
        "print(output)"
      ],
      "execution_count": null,
      "outputs": [
        {
          "output_type": "stream",
          "text": [
            "Susan is a younglady and she is a student at the CLRWY IT university\n"
          ],
          "name": "stdout"
        }
      ]
    },
    {
      "cell_type": "code",
      "metadata": {
        "colab": {
          "base_uri": "https://localhost:8080/"
        },
        "id": "Zx1Pod3ZG5eZ",
        "outputId": "687c79e4-443a-45d4-8b18-145cce6b7ecf"
      },
      "source": [
        "first_name = 'Hüseyin'\n",
        "last_name = 'Yaman'\n",
        "\n",
        "# Aşağıdaki kodların hepsinin çıktısı aynıdır...\n",
        "\n",
        "output1 = 'Hello, ' + first_name + ' ' + last_name\n",
        "output2 = 'Hello, {} {}'.format(first_name, last_name)\n",
        "output3 = 'Hello, {0} {1}'.format(first_name, last_name)\n",
        "output4 = 'Hello, {1}, {0}'.format('Hüseyin', 'Yaman') #Burada indexler bilinçli olarak ters yazılmıştır\n",
        "output5 = f'Hello, {first_name} {last_name}'  # Bu kullanım sadece Pyhton 3 de çalışmaktadır\n",
        "\n",
        "print(output1)\n",
        "print(output2)\n",
        "print(output3)\n",
        "print(output4)\n",
        "print(output5)"
      ],
      "execution_count": null,
      "outputs": [
        {
          "output_type": "stream",
          "text": [
            "Hello, Hüseyin Yaman\n",
            "Hello, Hüseyin Yaman\n",
            "Hello, Hüseyin Yaman\n",
            "Hello, Yaman, Hüseyin\n",
            "Hello, Hüseyin Yaman\n"
          ],
          "name": "stdout"
        }
      ]
    },
    {
      "cell_type": "markdown",
      "metadata": {
        "id": "sksb2mgUfZY4"
      },
      "source": [
        "**.format() ile Advanced String Kullanımları**"
      ]
    },
    {
      "cell_type": "code",
      "metadata": {
        "colab": {
          "base_uri": "https://localhost:8080/"
        },
        "id": "ZHzCyYLB0a49",
        "outputId": "ec520e12-5d01-4237-b334-c762ce32788f"
      },
      "source": [
        "text = \"{:.2f}, {:.3f}, {:.5f}\".format(3.12345, 4.3456543, 5.3457654322) #Bu şekilde . sonrasında kaç basamak yazdıracağımızı belirleriz. (Yuvarlar)\n",
        "print(text) "
      ],
      "execution_count": null,
      "outputs": [
        {
          "output_type": "stream",
          "text": [
            "3.12, 4.346, 5.34577\n"
          ],
          "name": "stdout"
        }
      ]
    },
    {
      "cell_type": "code",
      "metadata": {
        "colab": {
          "base_uri": "https://localhost:8080/"
        },
        "id": "AqREPnS74mQ7",
        "outputId": "66d1156e-e81c-40c5-8824-4c736f6c768e"
      },
      "source": [
        "test = '{:.5}'.format(5.3457654322) # Ama bu şekildeki kullanımda noktadan sonra kaç basamak yazdıracağımız vakit . yı da sayar ve ona göre alır yine yuvarlar\n",
        "print(test)                         # Görüleceği üzere yukarıdaki .5f kullanımından farklıdır"
      ],
      "execution_count": null,
      "outputs": [
        {
          "output_type": "stream",
          "text": [
            "5.3458\n"
          ],
          "name": "stdout"
        }
      ]
    },
    {
      "cell_type": "code",
      "metadata": {
        "colab": {
          "base_uri": "https://localhost:8080/"
        },
        "id": "EprR2Zxb05GM",
        "outputId": "0b4f0084-c18f-4a2b-a23e-eb7b0f34fc0e"
      },
      "source": [
        "text = \"{:.2s} - {:.3s} - {:.4s}\".format(\"sdfghjhgf\", \"sthjkkljhgfd\", \"lkjhgfdfghjkjhg\") #Bu şekilde stringin kaç harfini yazdıracağımızı da belirleyebiliriz. \n",
        "print(text) "
      ],
      "execution_count": null,
      "outputs": [
        {
          "output_type": "stream",
          "text": [
            "sd - sth - lkjh\n"
          ],
          "name": "stdout"
        }
      ]
    },
    {
      "cell_type": "code",
      "metadata": {
        "colab": {
          "base_uri": "https://localhost:8080/"
        },
        "id": "_o5Tq58U4zLN",
        "outputId": "7d851bd1-0a85-455c-f8bb-40242bf2cf0c"
      },
      "source": [
        "test = '{:.5}'.format(\"sthjkkljhgfd\") # Görüldüğü gibi string olunca . diye birşey olmadığı i.in direk ilk 5 harfi yazdırdı\n",
        "print(test)"
      ],
      "execution_count": null,
      "outputs": [
        {
          "output_type": "stream",
          "text": [
            "sthjk\n"
          ],
          "name": "stdout"
        }
      ]
    },
    {
      "cell_type": "code",
      "metadata": {
        "colab": {
          "base_uri": "https://localhost:8080/"
        },
        "id": "ge9h9F911Vs_",
        "outputId": "19b4b45b-ff27-493a-9ab8-6c36dd7becd6"
      },
      "source": [
        "text = \"{:>20}\".format(\"Clarusway\") # {:>20} kullanımı 20 karakterlik bir alan içerisinde sağa yaslamak için kullanılır\n",
        "print(text)\n",
        "print(len(text)) # Gerçekten alanın boyutunun ne kadar olduğunu göstermek için"
      ],
      "execution_count": null,
      "outputs": [
        {
          "output_type": "stream",
          "text": [
            "           Clarusway\n",
            "20\n"
          ],
          "name": "stdout"
        }
      ]
    },
    {
      "cell_type": "code",
      "metadata": {
        "colab": {
          "base_uri": "https://localhost:8080/"
        },
        "id": "vf1JV5kT14yP",
        "outputId": "a21f24a8-d55c-4650-cb2c-b667ac605990"
      },
      "source": [
        "text = \"{:<30}\".format(\"Clarusway\") # {:<30} kullanımı 30 karakterlik bir alan içerisinde sola yaslamak için kullanılır\n",
        "print(text)\n",
        "print(len(text)) # Gerçekten alanın boyutunun ne kadar olduğunu göstermek için"
      ],
      "execution_count": null,
      "outputs": [
        {
          "output_type": "stream",
          "text": [
            "Clarusway                     \n",
            "30\n"
          ],
          "name": "stdout"
        }
      ]
    },
    {
      "cell_type": "code",
      "metadata": {
        "colab": {
          "base_uri": "https://localhost:8080/"
        },
        "id": "H1clYxKV2Thr",
        "outputId": "7492962f-b7ae-4ddf-9d39-420b590440c0"
      },
      "source": [
        "text = \"formatlama {:>20} formatlama\".format('test') # Bu şekilde de kullanılabilir \n",
        "print(text)\n",
        "print(len(text))"
      ],
      "execution_count": null,
      "outputs": [
        {
          "output_type": "stream",
          "text": [
            "formatlama                 test formatlama\n",
            "42\n"
          ],
          "name": "stdout"
        }
      ]
    },
    {
      "cell_type": "code",
      "metadata": {
        "colab": {
          "base_uri": "https://localhost:8080/"
        },
        "id": "xtJUNG742r6t",
        "outputId": "9165ad62-26b6-4e90-a846-8e68ac66e923"
      },
      "source": [
        "text = \"{:<10} formatlama\".format('test') # Görüleceği üzere test ten sonra alanı 10 a tamamlayan bir boşluk var\n",
        "print(text)\n",
        "print(len(text))"
      ],
      "execution_count": null,
      "outputs": [
        {
          "output_type": "stream",
          "text": [
            "test       formatlama\n",
            "21\n"
          ],
          "name": "stdout"
        }
      ]
    },
    {
      "cell_type": "code",
      "metadata": {
        "colab": {
          "base_uri": "https://localhost:8080/"
        },
        "id": "zOEjMVPG202w",
        "outputId": "9179faa4-64bb-41e6-cb55-c5d822fa52cb"
      },
      "source": [
        "text = \"{:^20}\".format('deneme') # 20 karakterlik bir alanda 'deneme' kelimesi ortalansın demektir(center)\n",
        "print(text)\n",
        "print(len(text))"
      ],
      "execution_count": null,
      "outputs": [
        {
          "output_type": "stream",
          "text": [
            "       deneme       \n",
            "20\n"
          ],
          "name": "stdout"
        }
      ]
    },
    {
      "cell_type": "code",
      "metadata": {
        "colab": {
          "base_uri": "https://localhost:8080/"
        },
        "id": "CWj8rkC33Phn",
        "outputId": "9cbb1059-213c-4b06-c8e0-86d90841b0d2"
      },
      "source": [
        "text = \"formatlama {:^20} formatlama\".format('test') # Bu şekilde de kullanılabilir\n",
        "print(text)                                          # 10 + 1 + 20 + 1 + 10 = 42\n",
        "print(len(text))"
      ],
      "execution_count": null,
      "outputs": [
        {
          "output_type": "stream",
          "text": [
            "formatlama         test         formatlama\n",
            "42\n"
          ],
          "name": "stdout"
        }
      ]
    },
    {
      "cell_type": "code",
      "metadata": {
        "colab": {
          "base_uri": "https://localhost:8080/"
        },
        "id": "vqHyp2JZ3clN",
        "outputId": "a3940e9a-d47a-416a-9c75-9bce0857766a"
      },
      "source": [
        "test = \"{:.5}\".format(\"hippotamus\") #Başlangıçtan sadece 5 karakterini al demktir\n",
        "print(test)"
      ],
      "execution_count": null,
      "outputs": [
        {
          "output_type": "stream",
          "text": [
            "hippo\n"
          ],
          "name": "stdout"
        }
      ]
    },
    {
      "cell_type": "code",
      "metadata": {
        "colab": {
          "base_uri": "https://localhost:8080/"
        },
        "id": "5GiTsz3k3wUO",
        "outputId": "fe6a49ee-f3cf-435b-d45d-64d3a92bc18c"
      },
      "source": [
        "test = \"{:10.3}\".format(\"hippotamus\") #10 karakterlik bir alanda baştan 3 karakterini almak demektir\n",
        "print(test)"
      ],
      "execution_count": null,
      "outputs": [
        {
          "output_type": "stream",
          "text": [
            "hip       \n"
          ],
          "name": "stdout"
        }
      ]
    },
    {
      "cell_type": "code",
      "metadata": {
        "colab": {
          "base_uri": "https://localhost:8080/"
        },
        "id": "o-5rZWCK3_EK",
        "outputId": "9752c611-7ceb-4b51-ede9-ac6e1e90e42f"
      },
      "source": [
        "test = \"{:>10.3}\".format(\"hippotamus\") #10 karakterlik bir alanda baştan 3 karakterini al ve 10 karakterlik bir alanda sağa yasla demektir\n",
        "print(test)"
      ],
      "execution_count": null,
      "outputs": [
        {
          "output_type": "stream",
          "text": [
            "       hip\n"
          ],
          "name": "stdout"
        }
      ]
    }
  ]
}