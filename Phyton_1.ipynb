{
  "nbformat": 4,
  "nbformat_minor": 0,
  "metadata": {
    "colab": {
      "name": "Phyton-1.ipynb",
      "provenance": [],
      "collapsed_sections": []
    },
    "kernelspec": {
      "name": "python3",
      "display_name": "Python 3"
    }
  },
  "cells": [
    {
      "cell_type": "markdown",
      "metadata": {
        "id": "jf7Rw1ExYDI1"
      },
      "source": [
        "# **QUOTES AND COMMENTS**"
      ]
    },
    {
      "cell_type": "code",
      "metadata": {
        "colab": {
          "base_uri": "https://localhost:8080/"
        },
        "id": "NvcVxxPTzrG4",
        "outputId": "6b6ce55b-d59d-4aaf-c9aa-e9c38f2dd043"
      },
      "source": [
        "print('Hello World!')  # This is a inline comment with two spaces after code, Bu şekilde tek tırnak da kullanılabilir.\n",
        "# Single line comment with one space after (#)\n",
        "# Satırları seçip Ctrl + K + Z yaparsan da seçilen satırların hepsini birden comment satırına dönüştürebilirsin\n",
        "\n",
        "print(\"HÜSEYİN YAMAN\")  # Bu şekilde çift tırnak da kullanılabilir"
      ],
      "execution_count": null,
      "outputs": [
        {
          "output_type": "stream",
          "text": [
            "Hello World!\n",
            "HÜSEYİN YAMAN\n"
          ],
          "name": "stdout"
        }
      ]
    },
    {
      "cell_type": "code",
      "metadata": {
        "colab": {
          "base_uri": "https://localhost:8080/"
        },
        "id": "Oh09takOqZRr",
        "outputId": "6cc97e89-41f9-4e44-b9fb-c42f9e708f47"
      },
      "source": [
        "print(\"     /\\\")\n",
        "print(\"    /  \\\")\n",
        "print(\"   /    \\\")\n",
        "print(\"  /      \\\")\n",
        "print(\" /        \\\")\n",
        "print(\"/__________\\\")"
      ],
      "execution_count": null,
      "outputs": [
        {
          "output_type": "stream",
          "text": [
            "     /\\     \n",
            "    /  \\     \n",
            "   /    \\     \n",
            "  /      \\     \n",
            " /        \\     \n",
            "/__________\\     \n"
          ],
          "name": "stdout"
        }
      ]
    },
    {
      "cell_type": "code",
      "metadata": {
        "colab": {
          "base_uri": "https://localhost:8080/"
        },
        "id": "i8VGX1zcEJzK",
        "outputId": "0f271222-0ec4-427a-a332-a301ac4c5a28"
      },
      "source": [
        "print(\" . \")  # Boşluklu kullanım"
      ],
      "execution_count": null,
      "outputs": [
        {
          "output_type": "stream",
          "text": [
            " . \n"
          ],
          "name": "stdout"
        }
      ]
    },
    {
      "cell_type": "code",
      "metadata": {
        "colab": {
          "base_uri": "https://localhost:8080/"
        },
        "id": "bUQJhOZy9vBX",
        "outputId": "bc358c8c-9a5b-4edc-a301-e1bba353c69a"
      },
      "source": [
        "print(\"\"\"you can write your code using the editor below.\n",
        "Once you write the code, click the run button to see the result.\"\"\")  # Uzun  cümlelerde bu şekilde 3 tırnak işareti kullanılabilir hata vermemesi için\n",
        "                                                                      # Birden fazla satır yazılacaksa da bu şekilde kullanmak uygun olacaktır."
      ],
      "execution_count": null,
      "outputs": [
        {
          "output_type": "stream",
          "text": [
            "you can write your code using the editor below.\n",
            "Once you write the code, click the run button to see the result.\n"
          ],
          "name": "stdout"
        }
      ]
    },
    {
      "cell_type": "code",
      "metadata": {
        "colab": {
          "base_uri": "https://localhost:8080/"
        },
        "id": "3wzWLHXy_eaC",
        "outputId": "ecc29bfc-38d5-498a-8c93-6eeb1643520e"
      },
      "source": [
        "print('He said that \"I am ill\" and felt down')  # Bu şekilde tek tırnaklar içerisinde cümlede çift tırnaklar kullanılabilir veya tam tersi\n",
        "print(\"It's not a problem\")"
      ],
      "execution_count": null,
      "outputs": [
        {
          "output_type": "stream",
          "text": [
            "He said that \"I am ill\" and felt down\n",
            "It's not a problem\n"
          ],
          "name": "stdout"
        }
      ]
    },
    {
      "cell_type": "code",
      "metadata": {
        "colab": {
          "base_uri": "https://localhost:8080/"
        },
        "id": "osRHEqEgFORJ",
        "outputId": "329fe928-b02d-4d3d-d62b-32662ba9a563"
      },
      "source": [
        "print('Hello', \"World\", '''Test''')  # Bu şekilde de bir kullanım yapılabilir"
      ],
      "execution_count": null,
      "outputs": [
        {
          "output_type": "stream",
          "text": [
            "Hello World Test\n"
          ],
          "name": "stdout"
        }
      ]
    },
    {
      "cell_type": "code",
      "metadata": {
        "colab": {
          "base_uri": "https://localhost:8080/"
        },
        "id": "JMt1o-3bAMqn",
        "outputId": "229278f8-8611-4139-a85f-6f31de165d13"
      },
      "source": [
        "print('''it's not a problem using \"triple\" quotes''')"
      ],
      "execution_count": null,
      "outputs": [
        {
          "output_type": "stream",
          "text": [
            "it's not a problem using \"triple\" quotes\n"
          ],
          "name": "stdout"
        }
      ]
    },
    {
      "cell_type": "code",
      "metadata": {
        "colab": {
          "base_uri": "https://localhost:8080/",
          "height": 129
        },
        "id": "keTzEEh9_zQq",
        "outputId": "7be1c4c9-9569-4298-f622-88754b8717c4"
      },
      "source": [
        "print('We should have enough time for our family\")  # Bu şekildeki başlarken ve bitirirken farklı tırnak kullanımları hata verir\n",
        "print('I'm happy to learn')  # Bu da yanlış bir kullanımdır, tek tırnaklardan ötürü hata verir (syntax error)"
      ],
      "execution_count": null,
      "outputs": [
        {
          "output_type": "error",
          "ename": "SyntaxError",
          "evalue": "ignored",
          "traceback": [
            "\u001b[0;36m  File \u001b[0;32m\"<ipython-input-20-d2e8559b79d1>\"\u001b[0;36m, line \u001b[0;32m1\u001b[0m\n\u001b[0;31m    print('We should have enough time for our family\")  #Bu şekildeki başlarken ve bitirirken farklı tırnak kullanımları hata verir\u001b[0m\n\u001b[0m                                                                                                                                   ^\u001b[0m\n\u001b[0;31mSyntaxError\u001b[0m\u001b[0;31m:\u001b[0m EOL while scanning string literal\n"
          ]
        }
      ]
    },
    {
      "cell_type": "code",
      "metadata": {
        "colab": {
          "base_uri": "https://localhost:8080/"
        },
        "id": "yF6cvHPeAtX9",
        "outputId": "98665ba5-79bd-4670-9550-3932ff9e9022"
      },
      "source": [
        "print(572)  # Bu integer olarak kabul edilir\n",
        "print(3.14)  # Bu float olarak kabul edilir\n",
        "print('3.14')  # Bunun da çıktısı üstteki gibidir lakin tırnak içerisinde olduğu için string olarak kabul edilir ve hesaplamalarda bu şekilde kullanılamaz\n",
        "               # Dolayısıyla tırnak içerisindeki herşey string tir"
      ],
      "execution_count": null,
      "outputs": [
        {
          "output_type": "stream",
          "text": [
            "572\n",
            "3.14\n",
            "3.14\n"
          ],
          "name": "stdout"
        }
      ]
    },
    {
      "cell_type": "code",
      "metadata": {
        "colab": {
          "base_uri": "https://localhost:8080/"
        },
        "id": "KKaFyoxEUrvv",
        "outputId": "8473428a-f6e0-4a55-8489-fe8811357b53"
      },
      "source": [
        "print(\"print('3.14')\")"
      ],
      "execution_count": null,
      "outputs": [
        {
          "output_type": "stream",
          "text": [
            "print('3.14')\n"
          ],
          "name": "stdout"
        }
      ]
    },
    {
      "cell_type": "code",
      "metadata": {
        "colab": {
          "base_uri": "https://localhost:8080/"
        },
        "id": "IpVfYYdwBjPm",
        "outputId": "5ba7f511-e2e9-4c96-eb4c-2f375b6c7722"
      },
      "source": [
        "print('first line')\n",
        "print()  # second line is empty, Boşluk bırakmak istersek sadece bu şekilde yazmak yeterli olacaktır\n",
        "print('third line')"
      ],
      "execution_count": null,
      "outputs": [
        {
          "output_type": "stream",
          "text": [
            "first line\n",
            "\n",
            "third line\n"
          ],
          "name": "stdout"
        }
      ]
    },
    {
      "cell_type": "code",
      "metadata": {
        "colab": {
          "base_uri": "https://localhost:8080/"
        },
        "id": "C8BvQBIFSbeA",
        "outputId": "5595508f-f51f-4b7c-b443-6277eea5cf7b"
      },
      "source": [
        "print(\"-*76ahmet ..üç\")  # Tırnak içerisine yazılan herşet string tir"
      ],
      "execution_count": null,
      "outputs": [
        {
          "output_type": "stream",
          "text": [
            "-*76ahmet ..üç\n"
          ],
          "name": "stdout"
        }
      ]
    },
    {
      "cell_type": "code",
      "metadata": {
        "colab": {
          "base_uri": "https://localhost:8080/"
        },
        "id": "1efPkh7gTrNr",
        "outputId": "e2a04a6b-be6e-47bd-d326-4038c19beeac"
      },
      "source": [
        "print('''Birden fazla satır  \n",
        "var diyelim\n",
        "o zaman ne olacak''')  # Üçlü tırnaklar birden fazla satırı bu şekilde alt alta yazılması durumunda hata vermez fakat diğerleriyle veriyor\n",
        "print()\n",
        "print(\"\"\"Birden fazla satır  \n",
        "var diyelim\n",
        "o zaman ne olacak\"\"\")  # Bu şekilde de kullanılabilir üçlü turnak"
      ],
      "execution_count": null,
      "outputs": [
        {
          "output_type": "stream",
          "text": [
            "Birden fazla satır  \n",
            "var diyelim\n",
            "o zaman ne olacak\n",
            "\n",
            "Birden fazla satır  \n",
            "var diyelim\n",
            "o zaman ne olacak\n"
          ],
          "name": "stdout"
        }
      ]
    },
    {
      "cell_type": "code",
      "metadata": {
        "colab": {
          "base_uri": "https://localhost:8080/"
        },
        "id": "W2g56oWaVDe9",
        "outputId": "8207cc15-6515-4f66-a03a-c2f87d638d34"
      },
      "source": [
        "print(''''We should have enough time for our family\"''')"
      ],
      "execution_count": null,
      "outputs": [
        {
          "output_type": "stream",
          "text": [
            "'We should have enough time for our family\"\n"
          ],
          "name": "stdout"
        }
      ]
    },
    {
      "cell_type": "code",
      "metadata": {
        "colab": {
          "base_uri": "https://localhost:8080/",
          "height": 129
        },
        "id": "7ORAQiAFViLj",
        "outputId": "e9f29afb-4002-4e0b-a1cf-e403f5fd3a8c"
      },
      "source": [
        "print(''''''''''')  #Burada ilk 3 tırnakta sonra 3 tırnak daha var ama sonraki 3 tırnaktan sonra sadece 2 tırnak var oyüzden hata verir"
      ],
      "execution_count": null,
      "outputs": [
        {
          "output_type": "error",
          "ename": "SyntaxError",
          "evalue": "ignored",
          "traceback": [
            "\u001b[0;36m  File \u001b[0;32m\"<ipython-input-9-ca57ebfb912c>\"\u001b[0;36m, line \u001b[0;32m1\u001b[0m\n\u001b[0;31m    print(''''''''''')\u001b[0m\n\u001b[0m                      ^\u001b[0m\n\u001b[0;31mSyntaxError\u001b[0m\u001b[0;31m:\u001b[0m EOF while scanning triple-quoted string literal\n"
          ]
        }
      ]
    },
    {
      "cell_type": "code",
      "metadata": {
        "colab": {
          "base_uri": "https://localhost:8080/"
        },
        "id": "cII9YsV_Vwj6",
        "outputId": "798aceb7-84b9-47f6-9bca-97907dc560af"
      },
      "source": [
        "print('''''''''''')  # Ama burada bütün 3 tırnaklar birbirini karşılıyor dolayısıyla sıkıntı yok "
      ],
      "execution_count": null,
      "outputs": [
        {
          "output_type": "stream",
          "text": [
            "\n"
          ],
          "name": "stdout"
        }
      ]
    },
    {
      "cell_type": "code",
      "metadata": {
        "colab": {
          "base_uri": "https://localhost:8080/"
        },
        "id": "Q2vCkKk6V_4d",
        "outputId": "a84131d2-7023-4b58-d25d-caae50822e13"
      },
      "source": [
        "print('''1''''''1''')"
      ],
      "execution_count": null,
      "outputs": [
        {
          "output_type": "stream",
          "text": [
            "11\n"
          ],
          "name": "stdout"
        }
      ]
    },
    {
      "cell_type": "code",
      "metadata": {
        "colab": {
          "base_uri": "https://localhost:8080/"
        },
        "id": "MCXXHOsMWXrI",
        "outputId": "cc39be5c-b428-41b1-bc96-a2dc28a12767"
      },
      "source": [
        "print()  # Boş satır örnekleri\n",
        "print(\"\")\n",
        "print('')"
      ],
      "execution_count": null,
      "outputs": [
        {
          "output_type": "stream",
          "text": [
            "\n",
            "\n",
            "\n"
          ],
          "name": "stdout"
        }
      ]
    },
    {
      "cell_type": "code",
      "metadata": {
        "colab": {
          "base_uri": "https://localhost:8080/",
          "height": 129
        },
        "id": "MCXofvDmXC3j",
        "outputId": "3facd52b-3a7a-40fe-8529-d9247576913f"
      },
      "source": [
        "print('''')  #Bi tekli tırnaktan sonra bi tekli tırnak geliyor tamam ama sonra bidaha ve bi daha geliyor o yüzden kafası karışır ve hata verir "
      ],
      "execution_count": null,
      "outputs": [
        {
          "output_type": "error",
          "ename": "SyntaxError",
          "evalue": "ignored",
          "traceback": [
            "\u001b[0;36m  File \u001b[0;32m\"<ipython-input-15-4b777b03c816>\"\u001b[0;36m, line \u001b[0;32m1\u001b[0m\n\u001b[0;31m    print('''')\u001b[0m\n\u001b[0m               ^\u001b[0m\n\u001b[0;31mSyntaxError\u001b[0m\u001b[0;31m:\u001b[0m EOF while scanning triple-quoted string literal\n"
          ]
        }
      ]
    },
    {
      "cell_type": "code",
      "metadata": {
        "colab": {
          "base_uri": "https://localhost:8080/"
        },
        "id": "7E4otTlMZN93",
        "outputId": "07bab797-15b2-4530-d607-21e2ea02da11"
      },
      "source": [
        "print(''' '''' ''')  # Bu şekilde hata vermiyor,boş çıktı veriyor"
      ],
      "execution_count": null,
      "outputs": [
        {
          "output_type": "stream",
          "text": [
            "  \n"
          ],
          "name": "stdout"
        }
      ]
    },
    {
      "cell_type": "code",
      "metadata": {
        "colab": {
          "base_uri": "https://localhost:8080/",
          "height": 129
        },
        "id": "R08mINbLZq5u",
        "outputId": "a068df9d-8c9e-4a30-f8ff-0a552e3ffc4d"
      },
      "source": [
        "print('''''''''')  #Ama bu şekilde haa veriyor"
      ],
      "execution_count": null,
      "outputs": [
        {
          "output_type": "error",
          "ename": "SyntaxError",
          "evalue": "ignored",
          "traceback": [
            "\u001b[0;36m  File \u001b[0;32m\"<ipython-input-21-e4fec18a8c1a>\"\u001b[0;36m, line \u001b[0;32m1\u001b[0m\n\u001b[0;31m    print('''''''''')  #Ama bu şekilde haa veriyor\u001b[0m\n\u001b[0m                                                  ^\u001b[0m\n\u001b[0;31mSyntaxError\u001b[0m\u001b[0;31m:\u001b[0m EOF while scanning triple-quoted string literal\n"
          ]
        }
      ]
    },
    {
      "cell_type": "code",
      "metadata": {
        "colab": {
          "base_uri": "https://localhost:8080/"
        },
        "id": "ifGEJl7_Zo56",
        "outputId": "ac8f6092-c0e3-4c14-a3d4-3784586f51c7"
      },
      "source": [
        "print(\" '''' \")  # Bu şekilde de ortadaki tek tırnakların çıktısını alabiliyoruz"
      ],
      "execution_count": null,
      "outputs": [
        {
          "output_type": "stream",
          "text": [
            " '''' \n"
          ],
          "name": "stdout"
        }
      ]
    },
    {
      "cell_type": "code",
      "metadata": {
        "colab": {
          "base_uri": "https://localhost:8080/",
          "height": 129
        },
        "id": "PaUpRalOZ8Ck",
        "outputId": "c622882e-8b4d-4459-9503-9c5b6fc66e7a"
      },
      "source": [
        "print(''''''k'''''')"
      ],
      "execution_count": null,
      "outputs": [
        {
          "output_type": "error",
          "ename": "SyntaxError",
          "evalue": "ignored",
          "traceback": [
            "\u001b[0;36m  File \u001b[0;32m\"<ipython-input-23-3bc7ee7e73b3>\"\u001b[0;36m, line \u001b[0;32m1\u001b[0m\n\u001b[0;31m    print(''''''k'''''')\u001b[0m\n\u001b[0m                ^\u001b[0m\n\u001b[0;31mSyntaxError\u001b[0m\u001b[0;31m:\u001b[0m invalid syntax\n"
          ]
        }
      ]
    },
    {
      "cell_type": "code",
      "metadata": {
        "colab": {
          "base_uri": "https://localhost:8080/",
          "height": 129
        },
        "id": "mylb0F0xaHdk",
        "outputId": "0c58f2d3-85f9-4ef8-f8d3-b836a0c3a880"
      },
      "source": [
        "print('''1'''')  # Bu kullanım da hata verir çünkü ilk üçlüden sonra ikinci üçlü var artı bi tane daha tekli var"
      ],
      "execution_count": null,
      "outputs": [
        {
          "output_type": "error",
          "ename": "SyntaxError",
          "evalue": "ignored",
          "traceback": [
            "\u001b[0;36m  File \u001b[0;32m\"<ipython-input-26-360cf8b20a45>\"\u001b[0;36m, line \u001b[0;32m1\u001b[0m\n\u001b[0;31m    print('''1'''')\u001b[0m\n\u001b[0m                   ^\u001b[0m\n\u001b[0;31mSyntaxError\u001b[0m\u001b[0;31m:\u001b[0m EOL while scanning string literal\n"
          ]
        }
      ]
    },
    {
      "cell_type": "code",
      "metadata": {
        "colab": {
          "base_uri": "https://localhost:8080/"
        },
        "id": "8F1mDmhEaW0q",
        "outputId": "90cb4811-2e48-4c66-8eec-49848901b067"
      },
      "source": [
        "print(''''1''')  # Bu kullanım hata vermez çünkü ilk üçlü var sonra da ikinci üçlü var aradaki tekli ve 1 i string olarak alır ve çıkartır"
      ],
      "execution_count": null,
      "outputs": [
        {
          "output_type": "stream",
          "text": [
            "'1\n"
          ],
          "name": "stdout"
        }
      ]
    },
    {
      "cell_type": "code",
      "metadata": {
        "colab": {
          "base_uri": "https://localhost:8080/"
        },
        "id": "Bf_1lfUmaxyw",
        "outputId": "d8b69c9c-a6c8-425b-ea82-4e5d9187adc8"
      },
      "source": [
        "print(3.14*2)  # Buradaki float ı 2 ile çarparak sonucu çıktı olarak gösterir\n",
        "print('3.24'*2)  # Buradaki stringi yan yana iki kez yazar"
      ],
      "execution_count": null,
      "outputs": [
        {
          "output_type": "stream",
          "text": [
            "6.28\n",
            "3.243.24\n"
          ],
          "name": "stdout"
        }
      ]
    },
    {
      "cell_type": "code",
      "metadata": {
        "colab": {
          "base_uri": "https://localhost:8080/"
        },
        "id": "TX-9sJFnbKQ5",
        "outputId": "04edd997-273b-490d-89b1-4fe91a929685"
      },
      "source": [
        "print('''1'''\"\"\"2\"\"\")"
      ],
      "execution_count": null,
      "outputs": [
        {
          "output_type": "stream",
          "text": [
            "12\n"
          ],
          "name": "stdout"
        }
      ]
    },
    {
      "cell_type": "code",
      "metadata": {
        "colab": {
          "base_uri": "https://localhost:8080/",
          "height": 129
        },
        "id": "rQUKVrZ_bRGt",
        "outputId": "3285f259-a612-4ae6-f2e4-f53955a55b69"
      },
      "source": [
        "print('''1'''1'''1''')  # Aradaki 1 açıkta kalıyor muhtemelen o yüzden hata veriyor"
      ],
      "execution_count": null,
      "outputs": [
        {
          "output_type": "error",
          "ename": "SyntaxError",
          "evalue": "ignored",
          "traceback": [
            "\u001b[0;36m  File \u001b[0;32m\"<ipython-input-32-9b4f37c77629>\"\u001b[0;36m, line \u001b[0;32m1\u001b[0m\n\u001b[0;31m    print('''1'''1'''1''')  #Aradaki 1 açıkta kalıyor muhtemelen\u001b[0m\n\u001b[0m                 ^\u001b[0m\n\u001b[0;31mSyntaxError\u001b[0m\u001b[0;31m:\u001b[0m invalid syntax\n"
          ]
        }
      ]
    },
    {
      "cell_type": "code",
      "metadata": {
        "colab": {
          "base_uri": "https://localhost:8080/"
        },
        "id": "s6snhQBebf3M",
        "outputId": "d065a96b-6b70-4fdc-8263-13ca664e4233"
      },
      "source": [
        "print('''1''''''1''')  # Bak bu çalıştı"
      ],
      "execution_count": null,
      "outputs": [
        {
          "output_type": "stream",
          "text": [
            "11\n"
          ],
          "name": "stdout"
        }
      ]
    },
    {
      "cell_type": "code",
      "metadata": {
        "colab": {
          "base_uri": "https://localhost:8080/"
        },
        "id": "t17r4fJLbl3K",
        "outputId": "e307b20b-ab40-4380-b88b-030d3f39f6c3"
      },
      "source": [
        "print(\"I\"'T')"
      ],
      "execution_count": null,
      "outputs": [
        {
          "output_type": "stream",
          "text": [
            "IT\n"
          ],
          "name": "stdout"
        }
      ]
    },
    {
      "cell_type": "code",
      "metadata": {
        "colab": {
          "base_uri": "https://localhost:8080/",
          "height": 129
        },
        "id": "muakRBaxb-N-",
        "outputId": "0deced2d-39c2-498e-9b52-00806b8cba83"
      },
      "source": [
        "print(\"print(\"3.14\")\")  # Buradaki ilk çift tırnaktan sonra hemen içteki çift tırnak çıktı diye karşısına kafası karıştı"
      ],
      "execution_count": null,
      "outputs": [
        {
          "output_type": "error",
          "ename": "SyntaxError",
          "evalue": "ignored",
          "traceback": [
            "\u001b[0;36m  File \u001b[0;32m\"<ipython-input-36-3181302da697>\"\u001b[0;36m, line \u001b[0;32m1\u001b[0m\n\u001b[0;31m    print(\"print(\"3.14\")\")\u001b[0m\n\u001b[0m                     ^\u001b[0m\n\u001b[0;31mSyntaxError\u001b[0m\u001b[0;31m:\u001b[0m invalid syntax\n"
          ]
        }
      ]
    },
    {
      "cell_type": "code",
      "metadata": {
        "colab": {
          "base_uri": "https://localhost:8080/"
        },
        "id": "wsldH-GGW9rt",
        "outputId": "b3066ea8-73df-4675-e05f-81fbe4c5ebbf"
      },
      "source": [
        "print(\"print('3.14')\") # Ama bak bu şekilde yazılırsa sıkıntı yok"
      ],
      "execution_count": null,
      "outputs": [
        {
          "output_type": "stream",
          "text": [
            "print('3.14')\n"
          ],
          "name": "stdout"
        }
      ]
    },
    {
      "cell_type": "code",
      "metadata": {
        "colab": {
          "base_uri": "https://localhost:8080/"
        },
        "id": "BaxnS9R3cYQO",
        "outputId": "04d8b086-dceb-446a-b612-589f12fd5f14"
      },
      "source": [
        "print(\"'''sds'\")"
      ],
      "execution_count": null,
      "outputs": [
        {
          "output_type": "stream",
          "text": [
            "'''sds'\n"
          ],
          "name": "stdout"
        }
      ]
    },
    {
      "cell_type": "code",
      "metadata": {
        "colab": {
          "base_uri": "https://localhost:8080/"
        },
        "id": "N2zQ_mA3chdp",
        "outputId": "67ab2bf9-a20f-4545-a1f2-5aa514418ce0"
      },
      "source": [
        "print('''''k''''')  # İlk 3 tekli tırnaktan sonra ''k stringi var ve de sonra 3 lü tek tırnak geliyor,en sondaki '' ise boş veriyor sanırım"
      ],
      "execution_count": null,
      "outputs": [
        {
          "output_type": "stream",
          "text": [
            "''k\n"
          ],
          "name": "stdout"
        }
      ]
    },
    {
      "cell_type": "code",
      "metadata": {
        "colab": {
          "base_uri": "https://localhost:8080/",
          "height": 129
        },
        "id": "gKS4iYgIc1F3",
        "outputId": "dad146a8-ed51-400f-fc17-10e20ef4d7cb"
      },
      "source": [
        "print(\"\"\"Merhaba\"\"\"\")  #Sondaki çift tırnak yalnız kaldı muhtmelen o yüzden hata veriyor"
      ],
      "execution_count": null,
      "outputs": [
        {
          "output_type": "error",
          "ename": "SyntaxError",
          "evalue": "ignored",
          "traceback": [
            "\u001b[0;36m  File \u001b[0;32m\"<ipython-input-39-b490283c1dd5>\"\u001b[0;36m, line \u001b[0;32m1\u001b[0m\n\u001b[0;31m    print(\"\"\"Merhaba\"\"\"\")\u001b[0m\n\u001b[0m                         ^\u001b[0m\n\u001b[0;31mSyntaxError\u001b[0m\u001b[0;31m:\u001b[0m EOL while scanning string literal\n"
          ]
        }
      ]
    },
    {
      "cell_type": "code",
      "metadata": {
        "colab": {
          "base_uri": "https://localhost:8080/",
          "height": 129
        },
        "id": "75dqtSvBdZjS",
        "outputId": "878e1e09-5720-4d1a-d60d-96dce055524b"
      },
      "source": [
        "print(''.'')  # Burada tek tırnakla başlamış sora hemen tek tırnak gelmiş yani kapattı aslında sonra nokta gelmiş açıkta kalmış sonra yine birbirini kapatan iki tane tek tırnak"
      ],
      "execution_count": null,
      "outputs": [
        {
          "output_type": "error",
          "ename": "SyntaxError",
          "evalue": "ignored",
          "traceback": [
            "\u001b[0;36m  File \u001b[0;32m\"<ipython-input-40-f523f153590c>\"\u001b[0;36m, line \u001b[0;32m1\u001b[0m\n\u001b[0;31m    print(''.'')\u001b[0m\n\u001b[0m              ^\u001b[0m\n\u001b[0;31mSyntaxError\u001b[0m\u001b[0;31m:\u001b[0m invalid syntax\n"
          ]
        }
      ]
    },
    {
      "cell_type": "code",
      "metadata": {
        "colab": {
          "base_uri": "https://localhost:8080/"
        },
        "id": "BXo8TZccddQU",
        "outputId": "093525a8-3cfb-4eb5-bdae-ce65f45e4957"
      },
      "source": [
        "print('.''')\n",
        "\n",
        "print(\".\") # Yukarıdaki örnek ile kıyaslandığında bak bunda sıkıntı yok "
      ],
      "execution_count": null,
      "outputs": [
        {
          "output_type": "stream",
          "text": [
            ".\n",
            ".\n"
          ],
          "name": "stdout"
        }
      ]
    },
    {
      "cell_type": "markdown",
      "metadata": {
        "id": "RWy8NdNsY3ha"
      },
      "source": [
        "**DOCSTRINGS**"
      ]
    },
    {
      "cell_type": "code",
      "metadata": {
        "colab": {
          "base_uri": "https://localhost:8080/"
        },
        "id": "yNMoQgM1XjDu",
        "outputId": "6763b1cc-6f0f-48e8-a0cd-c9b65fbe133f"
      },
      "source": [
        "print(print.__doc__) # Bu şekildeki kullanum fonksiyonların nasıl değerler aldığını ve ne şekilde kullanıldığını gösterir\n",
        "print()              # print() Fonksiyonun açıklamasını bu şekilde görebiliriz\n",
        "print(abs.__doc__)\n",
        "print()\n",
        "print(list.__doc__)\n",
        "print()\n",
        "print(sum.__doc__)\n",
        "print()\n",
        "print(map.__doc__)\n",
        "print()\n",
        "print(input.__doc__)"
      ],
      "execution_count": null,
      "outputs": [
        {
          "output_type": "stream",
          "text": [
            "print(value, ..., sep=' ', end='\\n', file=sys.stdout, flush=False)\n",
            "\n",
            "Prints the values to a stream, or to sys.stdout by default.\n",
            "Optional keyword arguments:\n",
            "file:  a file-like object (stream); defaults to the current sys.stdout.\n",
            "sep:   string inserted between values, default a space.\n",
            "end:   string appended after the last value, default a newline.\n",
            "flush: whether to forcibly flush the stream.\n",
            "\n",
            "Return the absolute value of the argument.\n",
            "\n",
            "Built-in mutable sequence.\n",
            "\n",
            "If no argument is given, the constructor creates a new empty list.\n",
            "The argument must be an iterable if specified.\n",
            "\n",
            "Return the sum of a 'start' value (default: 0) plus an iterable of numbers\n",
            "\n",
            "When the iterable is empty, return the start value.\n",
            "This function is intended specifically for use with numeric values and may\n",
            "reject non-numeric types.\n",
            "\n",
            "map(func, *iterables) --> map object\n",
            "\n",
            "Make an iterator that computes the function using arguments from\n",
            "each of the iterables.  Stops when the shortest iterable is exhausted.\n",
            "\n",
            "Forward raw_input to frontends\n",
            "\n",
            "        Raises\n",
            "        ------\n",
            "        StdinNotImplentedError if active frontend doesn't support stdin.\n",
            "        \n"
          ],
          "name": "stdout"
        }
      ]
    },
    {
      "cell_type": "code",
      "metadata": {
        "colab": {
          "base_uri": "https://localhost:8080/"
        },
        "id": "gdszo5UVY6bJ",
        "outputId": "a840d8e8-5f4f-4a2b-d239-3ac14bea05df"
      },
      "source": [
        "def function(): # Don't be confused, we use 'def()' to create a function. \n",
        "                # You will see it in the next lessons.\n",
        "    \"\"\"\n",
        "Hi, I am the docstring of this code. \n",
        "If you need any information about this function or module, read me. \n",
        "It can help you understand how the module or function works.\n",
        "    \"\"\"\n",
        "print(function.__doc__) # Docstring runs as an explanatory text of codes and it should be written between triple quotes."
      ],
      "execution_count": null,
      "outputs": [
        {
          "output_type": "stream",
          "text": [
            "\n",
            "Hi, I am the docstring of this code. \n",
            "If you need any information about this function or module, read me. \n",
            "It can help you understand how the module or function works.\n",
            "    \n"
          ],
          "name": "stdout"
        }
      ]
    },
    {
      "cell_type": "code",
      "metadata": {
        "colab": {
          "base_uri": "https://localhost:8080/"
        },
        "id": "qKko_UTIclWk",
        "outputId": "aa59be6c-906c-4b48-c2da-33880a29ea19"
      },
      "source": [
        "def sayhi():\n",
        "  print(\"Hello World!\")\n",
        "\n",
        "sayhi() # Görüleceği üzere fonksiyonu tanımladıktan sonra en son çağırma işlemini yapmamız gereklidir"
      ],
      "execution_count": null,
      "outputs": [
        {
          "output_type": "stream",
          "text": [
            "Hello World!\n",
            "None\n"
          ],
          "name": "stdout"
        }
      ]
    },
    {
      "cell_type": "code",
      "metadata": {
        "colab": {
          "base_uri": "https://localhost:8080/"
        },
        "id": "FHXbiwJ3cs32",
        "outputId": "4185a490-198b-4669-f005-787b0eea62b1"
      },
      "source": [
        "def toaster():  #Bu şekilde bir fonksiyonun tanımını yapar ve o fonksiyon istenildiği zaman çağırılabilir\n",
        "\n",
        "  print(\"\"\"\n",
        "Hi, This toaster works with 110v electricity.\n",
        "You can use it whenever you want.\n",
        "Created bu Clarusway\n",
        "  \"\"\")\n",
        "\n",
        "toaster()"
      ],
      "execution_count": null,
      "outputs": [
        {
          "output_type": "stream",
          "text": [
            "\n",
            "Hi, This toaster works with 110v electricity.\n",
            "You can use it whenever you want.\n",
            "Created bu Clarusway\n",
            "  \n",
            "None\n"
          ],
          "name": "stdout"
        }
      ]
    },
    {
      "cell_type": "code",
      "metadata": {
        "colab": {
          "base_uri": "https://localhost:8080/"
        },
        "id": "gOpozvgxczZ_",
        "outputId": "7dd600ac-e17a-48ee-8975-13b35babfe77"
      },
      "source": [
        "def sayhi(name): # Bu şekilde değişkenli bir fonksiyon da tanımlayabiliriz\n",
        "  print(\"Hello \" + name + \" !\")\n",
        "\n",
        "sayhi(\"Hüseyin\")\n",
        "sayhi(\"Hasan\")"
      ],
      "execution_count": null,
      "outputs": [
        {
          "output_type": "stream",
          "text": [
            "Hello Hüseyin !\n",
            "None\n",
            "Hello Hasan !\n"
          ],
          "name": "stdout"
        }
      ]
    },
    {
      "cell_type": "code",
      "metadata": {
        "colab": {
          "base_uri": "https://localhost:8080/"
        },
        "id": "kOzcsWbWc3rK",
        "outputId": "968ee9cb-69ad-4fa7-bd76-c306b10602ae"
      },
      "source": [
        "def say_hi(name): # Bu şekilde kullanıcıdan bilgi alarak da onun girdisini kullanan bir fonksiyon tanımlayabiliriz\n",
        "  print(\"Hello \" + name.title() + \" !\")\n",
        "\n",
        "name = input(\"Lütfen isminizi giriniz: \")\n",
        "say_hi(name)"
      ],
      "execution_count": null,
      "outputs": [
        {
          "output_type": "stream",
          "text": [
            "Lütfen isminizi giriniz: yaman\n",
            "Hello Yaman !\n"
          ],
          "name": "stdout"
        }
      ]
    },
    {
      "cell_type": "code",
      "metadata": {
        "colab": {
          "base_uri": "https://localhost:8080/"
        },
        "id": "Bd2X9_6fc_8J",
        "outputId": "dab92b59-4e29-445d-b2d8-ce663bd90291"
      },
      "source": [
        "def info(name, age): \n",
        "  print(\"Hello \" + name.title() + \" !, You're \" + age + \" years old!\")\n",
        "\n",
        "name = input(\"Lütfen isminizi giriniz: \")\n",
        "age = input(\"Lütfen yaşınızı giriniz: \") # Burada input içerisinden string geldiği için yukarıda + ile stringlerle birleştirirken sıkıntı olmuyor\n",
        "info(name, age)"
      ],
      "execution_count": null,
      "outputs": [
        {
          "output_type": "stream",
          "text": [
            "Lütfen isminizi giriniz: yaman\n",
            "Lütfen yaşınızı giriniz: 34\n",
            "Hello Yaman !, You're 34 years old!\n"
          ],
          "name": "stdout"
        }
      ]
    },
    {
      "cell_type": "code",
      "metadata": {
        "colab": {
          "base_uri": "https://localhost:8080/"
        },
        "id": "_nbUaIoudUwx",
        "outputId": "077f512c-e635-448a-e08e-0419b799b261"
      },
      "source": [
        "def info(name, age): \n",
        "  print(\"Hello \" + name.title() + \" !, You're \" + str(age) + \" years old!\") # Bu şekilde bir kullanım da olabilirdi\n",
        "\n",
        "name = input(\"Lütfen isminizi giriniz: \")\n",
        "age = int(input(\"Lütfen yaşınızı giriniz: \")) # Bu şekilde bir kullanım da olabilirdi\n",
        "info(name, age)"
      ],
      "execution_count": null,
      "outputs": [
        {
          "output_type": "stream",
          "text": [
            "Lütfen isminizi giriniz: yaman\n",
            "Lütfen yaşınızı giriniz: 34\n",
            "Hello Yaman !, You're 34 years old!\n"
          ],
          "name": "stdout"
        }
      ]
    },
    {
      "cell_type": "code",
      "metadata": {
        "colab": {
          "base_uri": "https://localhost:8080/"
        },
        "id": "BhHDDMr5eJ5y",
        "outputId": "4a4cb44d-2c11-403f-9ea6-3e3ee35e6cf4"
      },
      "source": [
        "def cube(num):\n",
        "  num*num*num  # Eğer bu şekilde yazarsak işlem sonucunda herhangi birşey çıkartmıyor ve None veriyor\n",
        "print(cube(3)) \n",
        "\n",
        "# return kullanımı\n",
        "\n",
        "def cube(num):\n",
        "  return num*num*num  # Fakat işlem başına return yazarsak doğru çıktıyı alabilliyoruz\n",
        "print(cube(3))"
      ],
      "execution_count": null,
      "outputs": [
        {
          "output_type": "stream",
          "text": [
            "None\n",
            "27\n"
          ],
          "name": "stdout"
        }
      ]
    },
    {
      "cell_type": "code",
      "metadata": {
        "colab": {
          "base_uri": "https://localhost:8080/"
        },
        "id": "m16QmfYeeSKl",
        "outputId": "3775d752-e75d-48fe-aa94-05d5f0600dea"
      },
      "source": [
        "def cube(num):\n",
        "  return num*num*num  \n",
        "\n",
        "result = cube(4) # Bu şekilde fonksiyon sonucunu bir değişkene atayarak da çıktısını alabiliriz\n",
        "print(result) "
      ],
      "execution_count": null,
      "outputs": [
        {
          "output_type": "stream",
          "text": [
            "64\n"
          ],
          "name": "stdout"
        }
      ]
    },
    {
      "cell_type": "code",
      "metadata": {
        "colab": {
          "base_uri": "https://localhost:8080/"
        },
        "id": "8pQD9doregVc",
        "outputId": "48ffc2ef-9458-4911-d6d1-946752ddf2e7"
      },
      "source": [
        "def cube(num):\n",
        "  return num*num*num \n",
        "  print(\"code\") # Bu çıktı çıkmayacaktır çünkü return den sonra gelenleri phyton disregard eder ve işlemi bitirir\n",
        "\n",
        "result = cube(4) # Bu şekilde fonksiyon sonucunu bir değişkene atayarak da çıktısını alabiliriz\n",
        "print(result) # Sadece bu print() fonksiyonu bir çıktı verecektir"
      ],
      "execution_count": null,
      "outputs": [
        {
          "output_type": "stream",
          "text": [
            "64\n"
          ],
          "name": "stdout"
        }
      ]
    },
    {
      "cell_type": "code",
      "metadata": {
        "colab": {
          "base_uri": "https://localhost:8080/"
        },
        "id": "qmIWzc2met9c",
        "outputId": "33d66dcb-7278-42b7-8b22-21eece52f32b"
      },
      "source": [
        "def cube(num):\n",
        "  return num*num*num  \n",
        "\n",
        "num = int(input(\"Küpü alınacak olan sayıyı giriniz: \")) # Bu şekilde kullanıcıdan bir sayı girmesini isteyip onun küp alma işlemini de yapabiliriz\n",
        "print(cube(num))"
      ],
      "execution_count": null,
      "outputs": [
        {
          "output_type": "stream",
          "text": [
            "Küpü alınacak olan sayıyı giriniz: 5\n",
            "125\n"
          ],
          "name": "stdout"
        }
      ]
    }
  ]
}