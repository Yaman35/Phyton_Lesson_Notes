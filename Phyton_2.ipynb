{
  "nbformat": 4,
  "nbformat_minor": 0,
  "metadata": {
    "colab": {
      "name": "Phyton-2.ipynb",
      "provenance": [],
      "collapsed_sections": []
    },
    "kernelspec": {
      "name": "python3",
      "display_name": "Python 3"
    }
  },
  "cells": [
    {
      "cell_type": "markdown",
      "metadata": {
        "id": "dKTuVB8WoAO2"
      },
      "source": [
        "# **BASIC DATA TYPES**"
      ]
    },
    {
      "cell_type": "code",
      "metadata": {
        "id": "6qnvwLBmGix6"
      },
      "source": [
        "num_1 = 3\n",
        "num_2 = 4.15\n",
        "store = 'Text'"
      ],
      "execution_count": null,
      "outputs": []
    },
    {
      "cell_type": "code",
      "metadata": {
        "colab": {
          "base_uri": "https://localhost:8080/"
        },
        "id": "VmBeG7hEs-zU",
        "outputId": "e00d35a6-1989-42af-a880-fd3792430543"
      },
      "source": [
        "text1 = \"I have learned strings\" # surrounded with double quotes\n",
        "print(text1)"
      ],
      "execution_count": null,
      "outputs": [
        {
          "output_type": "stream",
          "text": [
            "I have learned strings\n"
          ],
          "name": "stdout"
        }
      ]
    },
    {
      "cell_type": "code",
      "metadata": {
        "colab": {
          "base_uri": "https://localhost:8080/"
        },
        "id": "iCEZmfxgtEe_",
        "outputId": "7c030ddd-85b8-4f2d-9cf1-7e01de14563e"
      },
      "source": [
        "e_mail = 'joseph@clarusway.com' # surrounded with single quotes\n",
        "print(e_mail)"
      ],
      "execution_count": null,
      "outputs": [
        {
          "output_type": "stream",
          "text": [
            "joseph@clarusway.com\n"
          ],
          "name": "stdout"
        }
      ]
    },
    {
      "cell_type": "code",
      "metadata": {
        "colab": {
          "base_uri": "https://localhost:8080/"
        },
        "id": "3_rT1EsFtJg1",
        "outputId": "93023554-1c11-4dd5-a5a6-0aec6d6c1408"
      },
      "source": [
        "print('632') # this is also a string type"
      ],
      "execution_count": null,
      "outputs": [
        {
          "output_type": "stream",
          "text": [
            "632\n"
          ],
          "name": "stdout"
        }
      ]
    },
    {
      "cell_type": "code",
      "metadata": {
        "id": "eAH6cUXMublr"
      },
      "source": [
        "tv_open = True  # it seems TV is on now (Boolean example)\n",
        "\n",
        "is_rainy = False  # I love sunny weather"
      ],
      "execution_count": null,
      "outputs": []
    },
    {
      "cell_type": "code",
      "metadata": {
        "id": "XCBDVPrHnpgL"
      },
      "source": [
        "x, y, z = 1, 2, 3 # Bu şekilde de değişkenlere atama işlemi gerçekleştirilebilir\n",
        "print(x, y, z)"
      ],
      "execution_count": null,
      "outputs": []
    },
    {
      "cell_type": "markdown",
      "metadata": {
        "id": "vCxDB1Tn6cuA"
      },
      "source": [
        "### **Type Conversion**\n",
        "\n",
        "Type conversion refers to the conversion of one data type into another.\n",
        "\n",
        "int() – converts some data types into integer type.\n",
        "\n",
        "float() – converts some data types into float type.\n",
        "\n",
        "str() – converts any data type into string type."
      ]
    },
    {
      "cell_type": "code",
      "metadata": {
        "colab": {
          "base_uri": "https://localhost:8080/"
        },
        "id": "QGVR6zeIvIEq",
        "outputId": "e8eb4aeb-e812-41b8-d2f9-31e69cfed44c"
      },
      "source": [
        "example1 = 'sometimes what you say is less important than how you say it'\n",
        "print(type(example1))  # Burada type() fonksiyonu dataların tipini çıktı olarak almak için kullanılır"
      ],
      "execution_count": null,
      "outputs": [
        {
          "output_type": "stream",
          "text": [
            "<class 'str'>\n"
          ],
          "name": "stdout"
        }
      ]
    },
    {
      "cell_type": "code",
      "metadata": {
        "colab": {
          "base_uri": "https://localhost:8080/"
        },
        "id": "Dmqv96tQvVx6",
        "outputId": "13027df8-344a-4d7d-aad1-73cc78283a9c"
      },
      "source": [
        "example2 = '71'\n",
        "print(type(example2))"
      ],
      "execution_count": null,
      "outputs": [
        {
          "output_type": "stream",
          "text": [
            "<class 'str'>\n"
          ],
          "name": "stdout"
        }
      ]
    },
    {
      "cell_type": "code",
      "metadata": {
        "colab": {
          "base_uri": "https://localhost:8080/"
        },
        "id": "uTc9lUpJvZAa",
        "outputId": "bcf62f54-0d36-4dbf-b16b-a0334d4e4c4e"
      },
      "source": [
        "example3 = 71\n",
        "print(type(example3))"
      ],
      "execution_count": null,
      "outputs": [
        {
          "output_type": "stream",
          "text": [
            "<class 'int'>\n"
          ],
          "name": "stdout"
        }
      ]
    },
    {
      "cell_type": "code",
      "metadata": {
        "colab": {
          "base_uri": "https://localhost:8080/"
        },
        "id": "giWGOuf7vb2o",
        "outputId": "b185828b-8e45-459d-a5e3-f53cb320264e"
      },
      "source": [
        "example4 = 71.0\n",
        "print(type(example4))"
      ],
      "execution_count": null,
      "outputs": [
        {
          "output_type": "stream",
          "text": [
            "<class 'float'>\n"
          ],
          "name": "stdout"
        }
      ]
    },
    {
      "cell_type": "code",
      "metadata": {
        "colab": {
          "base_uri": "https://localhost:8080/"
        },
        "id": "YQ0RrLD_ve5K",
        "outputId": "319f8ca8-6621-4bab-caa7-3c14c588a5b3"
      },
      "source": [
        "example5 = 3.14j\n",
        "print(type(example5))"
      ],
      "execution_count": null,
      "outputs": [
        {
          "output_type": "stream",
          "text": [
            "<class 'complex'>\n"
          ],
          "name": "stdout"
        }
      ]
    },
    {
      "cell_type": "code",
      "metadata": {
        "colab": {
          "base_uri": "https://localhost:8080/"
        },
        "id": "iT9Rl0x7viM7",
        "outputId": "627d9d84-491f-4af0-db33-37240b1a294b"
      },
      "source": [
        "example6 = True\n",
        "print(type(example6))"
      ],
      "execution_count": null,
      "outputs": [
        {
          "output_type": "stream",
          "text": [
            "<class 'bool'>\n"
          ],
          "name": "stdout"
        }
      ]
    },
    {
      "cell_type": "code",
      "metadata": {
        "colab": {
          "base_uri": "https://localhost:8080/"
        },
        "id": "RfmHUNnsvwrM",
        "outputId": "77440d87-2ab6-42ed-da69-5b70b21410de"
      },
      "source": [
        "f = 3.14  # the type is float\n",
        "print(type(f)) "
      ],
      "execution_count": null,
      "outputs": [
        {
          "output_type": "stream",
          "text": [
            "<class 'float'>\n"
          ],
          "name": "stdout"
        }
      ]
    },
    {
      "cell_type": "code",
      "metadata": {
        "colab": {
          "base_uri": "https://localhost:8080/"
        },
        "id": "H3dGfsO8v3Sh",
        "outputId": "95999e55-2015-48d6-c96c-2605d3de73d6"
      },
      "source": [
        "f = 3.14  # the type is float\n",
        "\n",
        "s = str(f)  # converting float to string\n",
        "print(type(s))"
      ],
      "execution_count": null,
      "outputs": [
        {
          "output_type": "stream",
          "text": [
            "<class 'str'>\n"
          ],
          "name": "stdout"
        }
      ]
    },
    {
      "cell_type": "code",
      "metadata": {
        "colab": {
          "base_uri": "https://localhost:8080/"
        },
        "id": "O39rTpqwwFOG",
        "outputId": "87d69972-d262-43d2-fcae-a6968cef780b"
      },
      "source": [
        "f = 3.14  # the type is float\n",
        "\n",
        "i = int(f)  # while converting a float value to an integer its decimal part is disregarded\n",
        "print(i, '\\n') # '\\n' bir alt satıra geçilmesini sağlar\n",
        "print(type(i)) "
      ],
      "execution_count": null,
      "outputs": [
        {
          "output_type": "stream",
          "text": [
            "3 \n",
            "\n",
            "<class 'int'>\n"
          ],
          "name": "stdout"
        }
      ]
    },
    {
      "cell_type": "code",
      "metadata": {
        "colab": {
          "base_uri": "https://localhost:8080/"
        },
        "id": "xa7E3EQRwL41",
        "outputId": "e8c72e23-4cb1-495d-88cb-be71c10602f2"
      },
      "source": [
        "i = 3\n",
        "\n",
        "f = float(i)  #Burada da float yapınca sonuna .0 ekledi\n",
        "print(f, '\\n')\n",
        "print(type(f)) "
      ],
      "execution_count": null,
      "outputs": [
        {
          "output_type": "stream",
          "text": [
            "3.0 \n",
            "\n",
            "<class 'float'>\n"
          ],
          "name": "stdout"
        }
      ]
    },
    {
      "cell_type": "code",
      "metadata": {
        "colab": {
          "base_uri": "https://localhost:8080/"
        },
        "id": "5NaLZRhJwfax",
        "outputId": "86ce6e98-f32d-42d3-ab5f-80bfd22482d2"
      },
      "source": [
        "x = 39\n",
        "v = \"11\"\n",
        "y = \"2.5\"\n",
        "z = \"I am at_\"\n",
        "\n",
        "print(x-int(v))\n",
        "print(x-float(y))\n",
        "print(z+str(x))"
      ],
      "execution_count": null,
      "outputs": [
        {
          "output_type": "stream",
          "text": [
            "28\n",
            "36.5\n",
            "I am at_39\n"
          ],
          "name": "stdout"
        }
      ]
    },
    {
      "cell_type": "code",
      "metadata": {
        "colab": {
          "base_uri": "https://localhost:8080/"
        },
        "id": "i1jz8JRrxQYP",
        "outputId": "83eb37c9-e314-4d19-cb28-77d1e20e3107"
      },
      "source": [
        "a = 10\n",
        "print(type(str(a)))"
      ],
      "execution_count": null,
      "outputs": [
        {
          "output_type": "stream",
          "text": [
            "<class 'str'>\n"
          ],
          "name": "stdout"
        }
      ]
    },
    {
      "cell_type": "code",
      "metadata": {
        "colab": {
          "base_uri": "https://localhost:8080/"
        },
        "id": "jXdKAPTRpJoZ",
        "outputId": "3027883c-7e3d-471a-9671-76a8acc1dc85"
      },
      "source": [
        "print(str(True))  #Interview questionlarda çıkmış, görüleceği üzere True boolean ifadesi str() fonksiyonu ile stringe çevrilmiştir.\n",
        "print(type(str(True)))"
      ],
      "execution_count": null,
      "outputs": [
        {
          "output_type": "stream",
          "text": [
            "True\n",
            "<class 'str'>\n"
          ],
          "name": "stdout"
        }
      ]
    },
    {
      "cell_type": "code",
      "metadata": {
        "colab": {
          "base_uri": "https://localhost:8080/"
        },
        "id": "QSiP9A-3xZ5C",
        "outputId": "f5b5fbf6-9663-4377-9cac-32f9941af4e3"
      },
      "source": [
        "a = 36.5\n",
        "b = '30'\n",
        "c = '3.5'\n",
        "d = ' F is enough for room temperature.'\n",
        "\n",
        "print(str(a+int(b)+float(c))+d) # float ile yapılan dört işlemler sonucunda yine float çıkar. (int ile yapılsa bile)"
      ],
      "execution_count": null,
      "outputs": [
        {
          "output_type": "stream",
          "text": [
            "70.0 F is enough for room temperature.\n"
          ],
          "name": "stdout"
        }
      ]
    },
    {
      "cell_type": "markdown",
      "metadata": {
        "id": "kwTuV3e881Aj"
      },
      "source": [
        "### **Variables**"
      ]
    },
    {
      "cell_type": "code",
      "metadata": {
        "colab": {
          "base_uri": "https://localhost:8080/"
        },
        "id": "fs5DdCeEx9JS",
        "outputId": "31ea4bbd-e158-4394-96fc-65cc94c778c1"
      },
      "source": [
        "color = 'red'  # str type variable\n",
        "season = 'summer'\n",
        "price = 250  # int type variable\n",
        "pi = 3.14  # float type variable\n",
        "color = 'blue'  # You can always assign a new value to a created variable\n",
        "price = 100  # value of 'price' is changed\n",
        "season = 'winter'  \n",
        "\n",
        "print(color, price, season, sep=', ') # sep ile değerler arası gösterilmesi istenen ayraçları belirtebiliyoruz"
      ],
      "execution_count": null,
      "outputs": [
        {
          "output_type": "stream",
          "text": [
            "blue, 100, winter\n"
          ],
          "name": "stdout"
        }
      ]
    },
    {
      "cell_type": "code",
      "metadata": {
        "colab": {
          "base_uri": "https://localhost:8080/"
        },
        "id": "NdrMvdE4yIlD",
        "outputId": "ac536e1d-083b-4f1d-9c17-28be8f6e8928"
      },
      "source": [
        "a = 5\n",
        "b = 55\n",
        "c = 555\n",
        "c = a  # In Python, it is possible to assign the value of one variable to another variable\n",
        "b = c\n",
        "a = b\n",
        "\n",
        "print(a, b, c, sep=', ') \n",
        "\n",
        "# Note that, If you use undefined name of a variable in the code you write, you will get an 'NameError' message."
      ],
      "execution_count": null,
      "outputs": [
        {
          "output_type": "stream",
          "text": [
            "5, 5, 5\n"
          ],
          "name": "stdout"
        }
      ]
    },
    {
      "cell_type": "code",
      "metadata": {
        "colab": {
          "base_uri": "https://localhost:8080/"
        },
        "id": "I1R1Phn1ppcR",
        "outputId": "f7dbefee-507e-4df5-adc6-1fdfb7a04747"
      },
      "source": [
        "pi = 3.14\n",
        "converted_pi = str(pi)\n",
        "print(converted_pi)\n",
        "print(type(converted_pi))"
      ],
      "execution_count": null,
      "outputs": [
        {
          "output_type": "stream",
          "text": [
            "3.14\n",
            "<class 'str'>\n"
          ],
          "name": "stdout"
        }
      ]
    },
    {
      "cell_type": "code",
      "metadata": {
        "colab": {
          "base_uri": "https://localhost:8080/"
        },
        "id": "rQdTExHbr66O",
        "outputId": "c54beacc-b6d0-4dc1-eed9-1d192e6d1104"
      },
      "source": [
        "print(int(\"10\"))  # String ifade içerisindeki değer bir sayı ise integer() fonksiyonu ile rahatça çevrilebilir"
      ],
      "execution_count": null,
      "outputs": [
        {
          "output_type": "stream",
          "text": [
            "10\n"
          ],
          "name": "stdout"
        }
      ]
    },
    {
      "cell_type": "code",
      "metadata": {
        "colab": {
          "base_uri": "https://localhost:8080/",
          "height": 161
        },
        "id": "-UOwhhq2sCV8",
        "outputId": "0874fec0-b6d0-4143-fd14-05f13c2192bc"
      },
      "source": [
        "print(int(\"ten\"))  #Ancak tırnak içerisinde rakam varsa çevirir..."
      ],
      "execution_count": null,
      "outputs": [
        {
          "output_type": "error",
          "ename": "ValueError",
          "evalue": "ignored",
          "traceback": [
            "\u001b[0;31m---------------------------------------------------------------------------\u001b[0m",
            "\u001b[0;31mValueError\u001b[0m                                Traceback (most recent call last)",
            "\u001b[0;32m<ipython-input-44-fb79b00192aa>\u001b[0m in \u001b[0;36m<module>\u001b[0;34m()\u001b[0m\n\u001b[0;32m----> 1\u001b[0;31m \u001b[0mprint\u001b[0m\u001b[0;34m(\u001b[0m\u001b[0mint\u001b[0m\u001b[0;34m(\u001b[0m\u001b[0;34m\"ten\"\u001b[0m\u001b[0;34m)\u001b[0m\u001b[0;34m)\u001b[0m  \u001b[0;31m#Tırnak içerisinde rakam varsa çevirir\u001b[0m\u001b[0;34m\u001b[0m\u001b[0;34m\u001b[0m\u001b[0m\n\u001b[0m",
            "\u001b[0;31mValueError\u001b[0m: invalid literal for int() with base 10: 'ten'"
          ]
        }
      ]
    },
    {
      "cell_type": "code",
      "metadata": {
        "colab": {
          "base_uri": "https://localhost:8080/"
        },
        "id": "dY7ao6apsX1S",
        "outputId": "432b53b7-feba-40bd-fcb9-f209a578cd4b"
      },
      "source": [
        "print(int(\"-22\")) # Görüleceği üzere string ifade negatif bir değer içerse de onu integera çevirebiliyor"
      ],
      "execution_count": null,
      "outputs": [
        {
          "output_type": "stream",
          "text": [
            "-22\n"
          ],
          "name": "stdout"
        }
      ]
    },
    {
      "cell_type": "code",
      "metadata": {
        "colab": {
          "base_uri": "https://localhost:8080/",
          "height": 161
        },
        "id": "4ZrbCPRMsTBF",
        "outputId": "c900a2b2-c78c-479a-9c64-4357bfd97636"
      },
      "source": [
        "print(int(\"10.4\")) # Lakin string ifade içerisindeki ifade görüldüğü gibi bir float değerse bunu çeviremez"
      ],
      "execution_count": null,
      "outputs": [
        {
          "output_type": "error",
          "ename": "ValueError",
          "evalue": "ignored",
          "traceback": [
            "\u001b[0;31m---------------------------------------------------------------------------\u001b[0m",
            "\u001b[0;31mValueError\u001b[0m                                Traceback (most recent call last)",
            "\u001b[0;32m<ipython-input-50-e6528acdf668>\u001b[0m in \u001b[0;36m<module>\u001b[0;34m()\u001b[0m\n\u001b[0;32m----> 1\u001b[0;31m \u001b[0mprint\u001b[0m\u001b[0;34m(\u001b[0m\u001b[0mint\u001b[0m\u001b[0;34m(\u001b[0m\u001b[0;34m\"10.4\"\u001b[0m\u001b[0;34m)\u001b[0m\u001b[0;34m)\u001b[0m\u001b[0;34m\u001b[0m\u001b[0;34m\u001b[0m\u001b[0m\n\u001b[0m",
            "\u001b[0;31mValueError\u001b[0m: invalid literal for int() with base 10: '10.4'"
          ]
        }
      ]
    },
    {
      "cell_type": "code",
      "metadata": {
        "colab": {
          "base_uri": "https://localhost:8080/"
        },
        "id": "2oiqei-IAXft",
        "outputId": "8083d518-e79d-4878-9c35-a2f19ad5b12d"
      },
      "source": [
        "print(int(10.4)) # Ama bu şekilde çevirebildiğini daha önce de görmüştük"
      ],
      "execution_count": null,
      "outputs": [
        {
          "output_type": "stream",
          "text": [
            "10\n"
          ],
          "name": "stdout"
        }
      ]
    },
    {
      "cell_type": "code",
      "metadata": {
        "colab": {
          "base_uri": "https://localhost:8080/",
          "height": 194
        },
        "id": "uoDyLawcz2xl",
        "outputId": "766a809f-b3b3-44df-c985-f176a7233b51"
      },
      "source": [
        "days_in_feb = 28\n",
        "print(days_in_feb + 'Days in February')  #Kafası karışır çünkü sen integer ile stringi topla diyorsun (armutla elma toplanmaz hesabı)"
      ],
      "execution_count": null,
      "outputs": [
        {
          "output_type": "error",
          "ename": "TypeError",
          "evalue": "ignored",
          "traceback": [
            "\u001b[0;31m---------------------------------------------------------------------------\u001b[0m",
            "\u001b[0;31mTypeError\u001b[0m                                 Traceback (most recent call last)",
            "\u001b[0;32m<ipython-input-52-b098dd3942a2>\u001b[0m in \u001b[0;36m<module>\u001b[0;34m()\u001b[0m\n\u001b[1;32m      1\u001b[0m \u001b[0mdays_in_feb\u001b[0m \u001b[0;34m=\u001b[0m \u001b[0;36m28\u001b[0m\u001b[0;34m\u001b[0m\u001b[0;34m\u001b[0m\u001b[0m\n\u001b[0;32m----> 2\u001b[0;31m \u001b[0mprint\u001b[0m\u001b[0;34m(\u001b[0m\u001b[0mdays_in_feb\u001b[0m \u001b[0;34m+\u001b[0m \u001b[0;34m'Days in February'\u001b[0m\u001b[0;34m)\u001b[0m  \u001b[0;31m#Kafası karışır çünkü sen integer ile stringi topla diyorsun (armutla elma toplanmaz hesabı)\u001b[0m\u001b[0;34m\u001b[0m\u001b[0;34m\u001b[0m\u001b[0m\n\u001b[0m",
            "\u001b[0;31mTypeError\u001b[0m: unsupported operand type(s) for +: 'int' and 'str'"
          ]
        }
      ]
    },
    {
      "cell_type": "code",
      "metadata": {
        "colab": {
          "base_uri": "https://localhost:8080/"
        },
        "id": "6axVqEjZ0Prv",
        "outputId": "c4d4dd69-bd72-42dc-8e0f-8845f12ddfd6"
      },
      "source": [
        "days_in_feb = 28\n",
        "print(str(days_in_feb) + ' Days in February')  #İşte bu şekilde str() fonsiyon kullanımı ile string + string olur ki çalışır"
      ],
      "execution_count": null,
      "outputs": [
        {
          "output_type": "stream",
          "text": [
            "28 Days in February\n"
          ],
          "name": "stdout"
        }
      ]
    },
    {
      "cell_type": "code",
      "metadata": {
        "colab": {
          "base_uri": "https://localhost:8080/"
        },
        "id": "On0D8q5w0ny-",
        "outputId": "192baf4a-c55d-4c38-d37f-2278137a2bb0"
      },
      "source": [
        "first_num = '5'\n",
        "second_num = '6'\n",
        "print(first_num + second_num)  # String olarak yan yana çıkarır"
      ],
      "execution_count": null,
      "outputs": [
        {
          "output_type": "stream",
          "text": [
            "56\n"
          ],
          "name": "stdout"
        }
      ]
    },
    {
      "cell_type": "code",
      "metadata": {
        "colab": {
          "base_uri": "https://localhost:8080/"
        },
        "id": "_KLfDD4q0FOh",
        "outputId": "6373fd4d-f34f-46a7-b0c0-5efb1e26f9fe"
      },
      "source": [
        "first_num = '5'\n",
        "second_num = '6'\n",
        "print(int(first_num) + int(second_num)) # int() fonksiyonu ile integera çevrildikleri için normal olarak toplar"
      ],
      "execution_count": null,
      "outputs": [
        {
          "output_type": "stream",
          "text": [
            "11\n"
          ],
          "name": "stdout"
        }
      ]
    },
    {
      "cell_type": "code",
      "metadata": {
        "colab": {
          "base_uri": "https://localhost:8080/"
        },
        "id": "vEulFodQ08D0",
        "outputId": "02d267b7-e26e-48dd-aa53-42c20347a7c3"
      },
      "source": [
        "first_num = '5'\n",
        "second_num = '6'\n",
        "print(float(first_num) + float(second_num)) #Burada da float() fonksiyonu ile floata çevrilmişlerdir ve sonuc yine float olur."
      ],
      "execution_count": null,
      "outputs": [
        {
          "output_type": "stream",
          "text": [
            "11.0\n"
          ],
          "name": "stdout"
        }
      ]
    },
    {
      "cell_type": "code",
      "metadata": {
        "colab": {
          "base_uri": "https://localhost:8080/"
        },
        "id": "QzY-BZFW1j8w",
        "outputId": "3829f623-f49a-4551-911e-c4a7814ad17c"
      },
      "source": [
        "first_num = input('Enter the first number: ')\n",
        "second_num = input('Enter the second number: ')\n",
        "\n",
        "print(int(first_num) + int(second_num)) # input() ile kullanıcıdan alınan her değer string olarak geleceği için hesaplamalarda kullanılmadan önce mutlaka integer veya float değere çevrilmelidir\n",
        "print(float(first_num) + float(second_num)) # input() function always returns a string"
      ],
      "execution_count": null,
      "outputs": [
        {
          "output_type": "stream",
          "text": [
            "Enter the first number: 11\n",
            "Enter the second number: 22\n",
            "33\n",
            "33.0\n"
          ],
          "name": "stdout"
        }
      ]
    },
    {
      "cell_type": "markdown",
      "metadata": {
        "id": "74oSiHI9C75i"
      },
      "source": [
        "## **Basic Operations**\n",
        "\n",
        "**İşlem Öncelik Sırası**\n",
        "- Parantheses: ()\n",
        "- Power: **\n",
        "- Unary minus: -3 etc\n",
        "- Multiplication and Division: *,/\n",
        "- Addition and Substraction: +,-\n",
        "\n"
      ]
    },
    {
      "cell_type": "code",
      "metadata": {
        "colab": {
          "base_uri": "https://localhost:8080/"
        },
        "id": "d3ubB-fdD1cJ",
        "outputId": "13fe0d78-6b85-49a9-e454-0b25d95c21d0"
      },
      "source": [
        "print((3*4) + 2 * 3**2)"
      ],
      "execution_count": null,
      "outputs": [
        {
          "output_type": "stream",
          "text": [
            "30\n"
          ],
          "name": "stdout"
        }
      ]
    },
    {
      "cell_type": "code",
      "metadata": {
        "colab": {
          "base_uri": "https://localhost:8080/"
        },
        "id": "7_QP0MWI-X1x",
        "outputId": "d4361fc9-a3f7-469c-dbd6-8c5561ac0485"
      },
      "source": [
        "print(4 + 11) # sum of integers gives integer"
      ],
      "execution_count": null,
      "outputs": [
        {
          "output_type": "stream",
          "text": [
            "15\n"
          ],
          "name": "stdout"
        }
      ]
    },
    {
      "cell_type": "code",
      "metadata": {
        "colab": {
          "base_uri": "https://localhost:8080/"
        },
        "id": "miOmseYW-oYj",
        "outputId": "330691d7-6209-476f-977a-ec71f6c5cd74"
      },
      "source": [
        "print(39 + 1.0) # sum of an integer and float gives float, işlemde float varsa sonuç da float olur\n"
      ],
      "execution_count": null,
      "outputs": [
        {
          "output_type": "stream",
          "text": [
            "40.0\n"
          ],
          "name": "stdout"
        }
      ]
    },
    {
      "cell_type": "code",
      "metadata": {
        "colab": {
          "base_uri": "https://localhost:8080/"
        },
        "id": "dg7x5ORK-uDb",
        "outputId": "fc4a2f23-befc-434b-b4e8-eab411dba5b9"
      },
      "source": [
        "no1, no2 = 46, 52 # Bu şekilde bir kullanım ile aynı anda birden fazla değişkene değer atama işlemi gerçekleştirebiliyoruz\n",
        "no3 = no1 - no2\n",
        "print(no3)"
      ],
      "execution_count": null,
      "outputs": [
        {
          "output_type": "stream",
          "text": [
            "-6\n"
          ],
          "name": "stdout"
        }
      ]
    },
    {
      "cell_type": "code",
      "metadata": {
        "id": "sMp4xMP5-1L8"
      },
      "source": [
        "variable1 = variable2 = 'clarusway opens your path'  # Bu şekilde birden fazla değişkene aynı değeri de atayabiliyoruz"
      ],
      "execution_count": null,
      "outputs": []
    },
    {
      "cell_type": "code",
      "metadata": {
        "colab": {
          "base_uri": "https://localhost:8080/"
        },
        "id": "d9OpbLiRY1tG",
        "outputId": "01fcb86e-78c9-4465-ad26-10e6467aa411"
      },
      "source": [
        "jan = mar = nis = 30\n",
        "print(jan,mar,nis)"
      ],
      "execution_count": null,
      "outputs": [
        {
          "output_type": "stream",
          "text": [
            "30 30 30\n"
          ],
          "name": "stdout"
        }
      ]
    },
    {
      "cell_type": "code",
      "metadata": {
        "id": "46skqnL8ac-0"
      },
      "source": [
        "walter = None  # Bu şekilde yazarsak kod içerisinde hata vermez, bu değişkene takiben bir değer tanabilir rezerve edişmiş olur"
      ],
      "execution_count": null,
      "outputs": []
    },
    {
      "cell_type": "code",
      "metadata": {
        "colab": {
          "base_uri": "https://localhost:8080/"
        },
        "id": "90M7JW2Vbp8y",
        "outputId": "23bb9b29-a4a3-4a2d-9e4b-e27bdd5c19ca"
      },
      "source": [
        "x = 15\n",
        "y = 33\n",
        "z = x\n",
        "x = y\n",
        "print(x,y,z)"
      ],
      "execution_count": null,
      "outputs": [
        {
          "output_type": "stream",
          "text": [
            "33 33 15\n"
          ],
          "name": "stdout"
        }
      ]
    },
    {
      "cell_type": "code",
      "metadata": {
        "colab": {
          "base_uri": "https://localhost:8080/"
        },
        "id": "iar3wAAWdKEg",
        "outputId": "30f0b559-e4c0-47fd-d815-d9542d8f4234"
      },
      "source": [
        "a, b, c = 5, 3.2, 'Hello'\n",
        "print(a,b,c)"
      ],
      "execution_count": null,
      "outputs": [
        {
          "output_type": "stream",
          "text": [
            "5 3.2 Hello\n"
          ],
          "name": "stdout"
        }
      ]
    },
    {
      "cell_type": "code",
      "metadata": {
        "colab": {
          "base_uri": "https://localhost:8080/",
          "height": 35
        },
        "id": "_skeVn8SiuaG",
        "outputId": "694c151d-c27b-4a78-9ef1-0acf4d248231"
      },
      "source": [
        "new_text = 'Being a good person'\n",
        "new_text  #Bu şekilde de çıktı alınabilir\n"
      ],
      "execution_count": null,
      "outputs": [
        {
          "output_type": "execute_result",
          "data": {
            "application/vnd.google.colaboratory.intrinsic+json": {
              "type": "string"
            },
            "text/plain": [
              "'Being a good person'"
            ]
          },
          "metadata": {
            "tags": []
          },
          "execution_count": 16
        }
      ]
    },
    {
      "cell_type": "code",
      "metadata": {
        "colab": {
          "base_uri": "https://localhost:8080/"
        },
        "id": "nBNtCQIJj8ZC",
        "outputId": "b6d025e5-9644-4511-afaa-e7f2a038c759"
      },
      "source": [
        "i = 3\n",
        "i"
      ],
      "execution_count": null,
      "outputs": [
        {
          "output_type": "execute_result",
          "data": {
            "text/plain": [
              "int"
            ]
          },
          "metadata": {
            "tags": []
          },
          "execution_count": 19
        }
      ]
    },
    {
      "cell_type": "code",
      "metadata": {
        "colab": {
          "base_uri": "https://localhost:8080/"
        },
        "id": "YYzJPNHzj-sV",
        "outputId": "37486e82-8a53-401c-f35c-c11f90e70266"
      },
      "source": [
        "new_text = 'Being a good person'\n",
        "i = 3\n",
        "new_text \n",
        "i  # Nasıl çıktı olduğuna dikkat et yukarıdakilerden farklı, bizim new_text yalan oldu,print() siz yazınca sadece en son olanı çıkartır"
      ],
      "execution_count": null,
      "outputs": [
        {
          "output_type": "execute_result",
          "data": {
            "text/plain": [
              "3"
            ]
          },
          "metadata": {
            "tags": []
          },
          "execution_count": 18
        }
      ]
    },
    {
      "cell_type": "code",
      "metadata": {
        "colab": {
          "base_uri": "https://localhost:8080/"
        },
        "id": "Etx8ecnbekW_",
        "outputId": "2ca82c2a-48e9-4ec8-be5e-630b768592f1"
      },
      "source": [
        "f = 3.14 \n",
        "i = int(f)  #Böyle tanımlarsak integer olur ve küsüratlar artık çıktı olarak alınmaz\n",
        "print(i) \n",
        "print(type(i)) \n",
        "\n",
        "i = 3 \n",
        "f = float(i)  #Böyle tanımlarsak artık float olur ve küsüratlar otomatik olarak sonuna eklenir\n",
        "print(f) "
      ],
      "execution_count": null,
      "outputs": [
        {
          "output_type": "stream",
          "text": [
            "3\n",
            "<class 'int'>\n",
            "3.0\n"
          ],
          "name": "stdout"
        }
      ]
    },
    {
      "cell_type": "code",
      "metadata": {
        "colab": {
          "base_uri": "https://localhost:8080/"
        },
        "id": "y_ca_VqNlI_i",
        "outputId": "70fd920f-631f-42ac-e8a6-78df155c9e91"
      },
      "source": [
        "no1 = 46\n",
        "print(no1/23)  # division gives float (Bölme işleminin sonucu her daim float tır)"
      ],
      "execution_count": null,
      "outputs": [
        {
          "output_type": "stream",
          "text": [
            "2.0\n"
          ],
          "name": "stdout"
        }
      ]
    },
    {
      "cell_type": "code",
      "metadata": {
        "colab": {
          "base_uri": "https://localhost:8080/"
        },
        "id": "gnakR0P9n7WQ",
        "outputId": "6ca51abf-8b61-4eb7-873d-1f033104760c"
      },
      "source": [
        "print((3 * 4)/2)  # parentheses are used as in normal mathematics operations"
      ],
      "execution_count": null,
      "outputs": [
        {
          "output_type": "stream",
          "text": [
            "6.0\n"
          ],
          "name": "stdout"
        }
      ]
    },
    {
      "cell_type": "code",
      "metadata": {
        "colab": {
          "base_uri": "https://localhost:8080/"
        },
        "id": "lltinnvqoBXp",
        "outputId": "4f2e4cc8-d0de-4f58-9f73-c65d0b1b3fe6"
      },
      "source": [
        "print(7 / 2)  \n",
        "print(7 // 2)  # it gives integer part of division (Çift bölü, tek bölüdekinin aksine float değil integer olarak çıkartır sonucu ve tam kısmını yazdırır)\n",
        "print()\n",
        "print(10 / 5)\n",
        "print(10 // 5)"
      ],
      "execution_count": null,
      "outputs": [
        {
          "output_type": "stream",
          "text": [
            "3.5\n",
            "3\n",
            "\n",
            "2.0\n",
            "2\n"
          ],
          "name": "stdout"
        }
      ]
    },
    {
      "cell_type": "code",
      "metadata": {
        "colab": {
          "base_uri": "https://localhost:8080/"
        },
        "id": "FXtIelnJugE2",
        "outputId": "154932a4-f96a-47c8-d411-c67ab66b6142"
      },
      "source": [
        "print(16 % 7)  # remainder of this division is 2 (% Bölüm sonucu kalanı verir)\n",
        "print(9 % 2)  # remainder of this division is 1, it means 9 is an odd number (Tek sayı)"
      ],
      "execution_count": null,
      "outputs": [
        {
          "output_type": "stream",
          "text": [
            "2\n",
            "1\n"
          ],
          "name": "stdout"
        }
      ]
    },
    {
      "cell_type": "code",
      "metadata": {
        "colab": {
          "base_uri": "https://localhost:8080/"
        },
        "id": "msqEB-vB_TX-",
        "outputId": "5c5ea33b-921b-46ae-b4eb-8441b5f0fbfe"
      },
      "source": [
        "print(3**2)  # 3 üssü 2 demektir\n",
        "print(2**3)  # 2 üssü 3 demektir\n",
        "print(pow(4,5)) # pow() fonksiyonu da bir sayının üssünü çıkartmak için kullanılır. İlk sayı taban ikincisi üs tür."
      ],
      "execution_count": null,
      "outputs": [
        {
          "output_type": "stream",
          "text": [
            "9\n",
            "8\n",
            "1024\n"
          ],
          "name": "stdout"
        }
      ]
    },
    {
      "cell_type": "code",
      "metadata": {
        "colab": {
          "base_uri": "https://localhost:8080/"
        },
        "id": "yzpUttCJ_8cn",
        "outputId": "ffe2e5a2-4345-4daa-b952-43f5338fd14e"
      },
      "source": [
        "print(64**0.5)  # square root (Karekökünü al demek anlamına gelir). Yani aslında üs 1/2 dir yani karekök içindedir\n",
        "print(64**(1/3)) # Küpkökünü al demektir. Sonuçlar her ikisi için de daima float olarak çıkar\n",
        "\n",
        "print(sqrt(36)) # sqrt() fonksiyonu sayının karekökünü almak için kullanılan fonksiyondur ve çıktısı float olur\n",
        "\n"
      ],
      "execution_count": null,
      "outputs": [
        {
          "output_type": "stream",
          "text": [
            "8.0\n",
            "3.9999999999999996\n",
            "6.0\n"
          ],
          "name": "stdout"
        }
      ]
    },
    {
      "cell_type": "code",
      "metadata": {
        "colab": {
          "base_uri": "https://localhost:8080/"
        },
        "id": "poaysJE-Hid9",
        "outputId": "962684c6-a0e4-42b7-8f75-ab00dc581fa4"
      },
      "source": [
        "from math import * # BU KOD ÇOK ÖNEMLİ, PYHTON KÜTÜPHANESİNDEKİ MATEMATİK FONKSİYONLARINI ÇAĞIRABİLMEK İÇİN BU KODU EKLEMEMİZ GEREKİR\n",
        "\n",
        "print(max(4,2,8,16,10,35,3)) # Sayı dizisi içerisindeki en büyük değeri çıktı olarak verir\n",
        "print(min(4,2,8,16,10,35,3)) # Sayı dizisi içerisindeki en küçük değeri çıktı olarak verir"
      ],
      "execution_count": null,
      "outputs": [
        {
          "output_type": "stream",
          "text": [
            "35\n",
            "2\n"
          ],
          "name": "stdout"
        }
      ]
    },
    {
      "cell_type": "code",
      "metadata": {
        "colab": {
          "base_uri": "https://localhost:8080/"
        },
        "id": "PHJJi9ibIUBA",
        "outputId": "f33e3b28-52c9-461d-9fdd-21c9d53f91d5"
      },
      "source": [
        "from math import * # BU KOD ÇOK ÖNEMLİ, PYHTON KÜTÜPHANESİNDEKİ MATEMATİK FONKSİYONLARINI ÇAĞIRABİLMEK İÇİN BU KODU EKLEMEMİZ GEREKİR\n",
        "\n",
        "print(round(3.2)) # round() fonksiyonu .' dan sonraki değere göre bir alta veya bir üste sayıyı yuvarlar\n",
        "print(round(3.5))\n",
        "print(round(3.7))\n",
        "print()\n",
        "print(floor(3.7)) # floor() fonksiyonu sayıyı tabana doğru çeker. Aslında her ikisi de round() fonksiyonuna benzer bir iş yapar fakat bizim istediğimiz yön doğrultusunda\n",
        "print(ceil(3.2))  # ceil() fonksiyonu ise sayıyı tavana doğru çeker\n"
      ],
      "execution_count": null,
      "outputs": [
        {
          "output_type": "stream",
          "text": [
            "3\n",
            "4\n",
            "4\n",
            "\n",
            "3\n",
            "4\n"
          ],
          "name": "stdout"
        }
      ]
    },
    {
      "cell_type": "code",
      "metadata": {
        "colab": {
          "base_uri": "https://localhost:8080/"
        },
        "id": "mbr9-7F8FSuf",
        "outputId": "7048adac-a215-45e9-9c40-0d7c83ec8324"
      },
      "source": [
        "my_num = -5\n",
        "print(abs(my_num)) # abs() fonksiyonu mutlak değeri çıkartmak için kullanılır"
      ],
      "execution_count": null,
      "outputs": [
        {
          "output_type": "stream",
          "text": [
            "5\n"
          ],
          "name": "stdout"
        }
      ]
    },
    {
      "cell_type": "code",
      "metadata": {
        "colab": {
          "base_uri": "https://localhost:8080/"
        },
        "id": "7b4WftaNAF75",
        "outputId": "aed8a80d-ad40-4c61-8343-518731a4f88b"
      },
      "source": [
        "print('Result of this (12+7) sum :', 12 + 7)"
      ],
      "execution_count": null,
      "outputs": [
        {
          "output_type": "stream",
          "text": [
            "Result of this (12+7) sum : 19\n"
          ],
          "name": "stdout"
        }
      ]
    },
    {
      "cell_type": "code",
      "metadata": {
        "colab": {
          "base_uri": "https://localhost:8080/"
        },
        "id": "oYyThmoWNdcT",
        "outputId": "dc8300bc-6b92-4692-d388-9f08c7f0d1b0"
      },
      "source": [
        "name = input(\"Enter your name: \")\n",
        "age = input(\"Enter your age: \")\n",
        "\n",
        "print(\"Hello \" + name.title() + \"! You're \" + age +\" years old\") # Buradaki title() fonksiyonu kullanıcı nasıl yazarsa yazsın ilk karakterini büyük yazdırmak için kullanılır, Diğer harfleride eğer büyükse küçültür dikkat et.\n"
      ],
      "execution_count": null,
      "outputs": [
        {
          "output_type": "stream",
          "text": [
            "Enter your name: yAMAN\n",
            "Enter your age: 34\n",
            "Hello Yaman! You're 34 years old\n"
          ],
          "name": "stdout"
        }
      ]
    },
    {
      "cell_type": "code",
      "metadata": {
        "colab": {
          "base_uri": "https://localhost:8080/"
        },
        "id": "9u58PHPEP220",
        "outputId": "a627c6fa-8dec-4d0a-bae2-8d6708eb6ab6"
      },
      "source": [
        "num_1 = input(\"Enter the first number: \")\n",
        "num_2 = input(\"Enter the second number: \")\n",
        "result = int(num_1) + int(num_2) # input() sonucu her daim string geldiği için onu hesaplamalarda kullanabilmek amacıyla bu şekilde integer a çevirebiliriz\n",
        "print(result)"
      ],
      "execution_count": null,
      "outputs": [
        {
          "output_type": "stream",
          "text": [
            "Enter the first number: 12\n",
            "Enter the second number: 13\n",
            "25\n"
          ],
          "name": "stdout"
        }
      ]
    },
    {
      "cell_type": "code",
      "metadata": {
        "colab": {
          "base_uri": "https://localhost:8080/"
        },
        "id": "BrlAtxyAQgvL",
        "outputId": "7c4ab408-606d-4027-d5e8-12d2cdcc6785"
      },
      "source": [
        "num_1 = int(input(\"Enter the first number: \")) # Ya da direk burada int() fonksiyonunu kullanabiliriz\n",
        "num_2 = int(input(\"Enter the second number: \"))\n",
        "result = num_1 + num_2\n",
        "print(result)"
      ],
      "execution_count": null,
      "outputs": [
        {
          "output_type": "stream",
          "text": [
            "Enter the first number: 12\n",
            "Enter the second number: 13\n",
            "25\n"
          ],
          "name": "stdout"
        }
      ]
    },
    {
      "cell_type": "code",
      "metadata": {
        "id": "60jVcV4WRszM",
        "colab": {
          "base_uri": "https://localhost:8080/"
        },
        "outputId": "ccf8f7c5-dbc1-491f-8f93-e8daba89013f"
      },
      "source": [
        "num_1 = input(\"Enter the first number: \")\n",
        "num_2 = input(\"Enter the second number: \")\n",
        "result = float(num_1) + float(num_2) # Bu şekilde float() fonksiyonu ile kullanıcı ondalıklı sayı girse bile programın hata vermemesi sağlanır\n",
        "print(result)"
      ],
      "execution_count": null,
      "outputs": [
        {
          "output_type": "stream",
          "text": [
            "Enter the first number: 13.4\n",
            "Enter the second number: 45.90\n",
            "59.3\n"
          ],
          "name": "stdout"
        }
      ]
    },
    {
      "cell_type": "code",
      "metadata": {
        "colab": {
          "base_uri": "https://localhost:8080/"
        },
        "id": "ACVR81G0TUNN",
        "outputId": "b16944f2-b92c-486d-f6a9-d85696a95eab"
      },
      "source": [
        "color = input(\"Bir renk giriniz: \")\n",
        "plural_name = input(\"Çoğul bir isim giriniz: \")\n",
        "celebrity = input(\"Ünlü bir kişi giriniz: \")\n",
        "print()\n",
        "\n",
        "print(\"Güller \" + color.lower() + \"dır\") # lower() fonksiyonu tüm harfleri küçültür\n",
        "print(plural_name.title() + \" mordur\") # Yukarıda bahsetmiştik\n",
        "print(\"I love \" + celebrity.upper()) # upper() fonksiyonu tüm harfleri büyük yapar"
      ],
      "execution_count": null,
      "outputs": [
        {
          "output_type": "stream",
          "text": [
            "Bir renk giriniz: Kırmızı\n",
            "Çoğul bir isim giriniz: menekşeler\n",
            "Ünlü bir kişi giriniz: brad pitt\n",
            "\n",
            "Güller kırmızıdır\n",
            "Menekşeler mordur\n",
            "I love BRAD PITT\n"
          ],
          "name": "stdout"
        }
      ]
    },
    {
      "cell_type": "code",
      "metadata": {
        "colab": {
          "base_uri": "https://localhost:8080/"
        },
        "id": "OLLCcYiSnYbV",
        "outputId": "7c10bdf1-66d0-4f30-9500-5621adcc792d"
      },
      "source": [
        "my_name = 'yAMan'\n",
        "output = f\"My name is {my_name.capitalize()}\" # capitalize() fonsiyonu sadece ilk harfi büyük yapar diğerlerini küçük yazar\n",
        "\n",
        "print(output)"
      ],
      "execution_count": null,
      "outputs": [
        {
          "output_type": "stream",
          "text": [
            "My name is Yaman\n"
          ],
          "name": "stdout"
        }
      ]
    },
    {
      "cell_type": "code",
      "metadata": {
        "colab": {
          "base_uri": "https://localhost:8080/"
        },
        "id": "xIse67xGnTgu",
        "outputId": "703d3778-1cdb-4f4f-8b21-db67b84ce850"
      },
      "source": [
        "phrase = \"Hüseyin Yaman\"\n",
        "print(phrase.upper())  # Değişken değerinin bütün harflerini büyük yap anlamına gelir\n",
        "\n",
        "phrase2 = \"Yavuz Ali Yaman\"\n",
        "print(phrase2.isupper()) # phrase2 içindekiler büyük harf mi diye sorguluyor, Boolean bir değer verir\n",
        "\n",
        "phrase2 = \"Yavuz Ali Yaman\"\n",
        "print(phrase2.upper().isupper()) # Önce phrase2 yi büyük harf yapıyor ondan sonra sorguluyor\n",
        "\n",
        "print(len(phrase2)) # phrase 2 değişkeninin karakter sayısını ortaya koyar, boşluklar da sayılır\n",
        "\n",
        "print(phrase2[0])  # phrase 2 değişkeninin 0. index karakterini verir\n",
        "\n",
        "print(phrase2.index(\"a\")) # index() fonksiyonu içine yazılan karakterle ilk karşılaştığı index değerini verir,yani üsttekinin tam tersi\n",
        "\n",
        "print(phrase2.index(\"Ali\"))  # Aynı zamanda içine yazılan değerin ilk olarak kaçıncı indexte başladığını da gösterir\n",
        "\n",
        "print(phrase2.replace(\"Y\", \"h\")) # İlk parametreyi (hepsi) ikinci parametre ile yer değiştir demektir\n",
        "\n",
        "print(phrase2.count(\"a\")) # count() fonksiyonu ile istenen karakter, string içerisinde kaç defa geçmektedir o bulunabilir"
      ],
      "execution_count": null,
      "outputs": [
        {
          "output_type": "stream",
          "text": [
            "HÜSEYIN YAMAN\n",
            "False\n",
            "True\n",
            "15\n",
            "Y\n",
            "1\n",
            "6\n",
            "havuz Ali haman\n",
            "3\n"
          ],
          "name": "stdout"
        }
      ]
    },
    {
      "cell_type": "code",
      "metadata": {
        "colab": {
          "base_uri": "https://localhost:8080/",
          "height": 177
        },
        "id": "OiqGFWzUndnO",
        "outputId": "6377b8a4-760d-4313-e271-5a1025b60d86"
      },
      "source": [
        "phrase2 = \"Yavuz Ali Yaman\"\n",
        "print(phrase2.index(\"c\"))  # Bu şekilde olmayan bir karakteri aratmamız durumunda hata verir (substring not found)\"\"Y"
      ],
      "execution_count": null,
      "outputs": [
        {
          "output_type": "error",
          "ename": "ValueError",
          "evalue": "ignored",
          "traceback": [
            "\u001b[0;31m---------------------------------------------------------------------------\u001b[0m",
            "\u001b[0;31mValueError\u001b[0m                                Traceback (most recent call last)",
            "\u001b[0;32m<ipython-input-7-a442ad1f5716>\u001b[0m in \u001b[0;36m<module>\u001b[0;34m()\u001b[0m\n\u001b[1;32m      1\u001b[0m \u001b[0mphrase2\u001b[0m \u001b[0;34m=\u001b[0m \u001b[0;34m\"Yavuz Ali Yaman\"\u001b[0m\u001b[0;34m\u001b[0m\u001b[0;34m\u001b[0m\u001b[0m\n\u001b[0;32m----> 2\u001b[0;31m \u001b[0mprint\u001b[0m\u001b[0;34m(\u001b[0m\u001b[0mphrase2\u001b[0m\u001b[0;34m.\u001b[0m\u001b[0mindex\u001b[0m\u001b[0;34m(\u001b[0m\u001b[0;34m\"c\"\u001b[0m\u001b[0;34m)\u001b[0m\u001b[0;34m)\u001b[0m  \u001b[0;31m# Bu şekilde olmayan bir karakteri aratmamız durumunda hata verir (substring not found)\"\"Y\u001b[0m\u001b[0;34m\u001b[0m\u001b[0;34m\u001b[0m\u001b[0m\n\u001b[0m",
            "\u001b[0;31mValueError\u001b[0m: substring not found"
          ]
        }
      ]
    },
    {
      "cell_type": "code",
      "metadata": {
        "colab": {
          "base_uri": "https://localhost:8080/"
        },
        "id": "T7tnI_ee90dJ",
        "outputId": "41631b1e-5de3-4acb-b305-d81a2369f938"
      },
      "source": [
        "# Daire alanı bulma olayı\n",
        "\n",
        "r = int(input('Yarıçapı giriniz:  ')) # input çıktısı her daim string olduğu için onu hesaplamalarda kullanabilmek için bu şekilde integera çevirmek gerekir\n",
        "pi = 3.14\n",
        "area = pi * r**2\n",
        "print(\"Dairemizin alanı: \", area)"
      ],
      "execution_count": null,
      "outputs": [
        {
          "output_type": "stream",
          "text": [
            "Yarıçapı giriniz:  5\n",
            "Dairemizin alanı:  78.5\n"
          ],
          "name": "stdout"
        }
      ]
    },
    {
      "cell_type": "code",
      "metadata": {
        "colab": {
          "base_uri": "https://localhost:8080/"
        },
        "id": "jFYuiO6GIcvv",
        "outputId": "82bb2a3a-e8b9-47c1-9f79-efff7c397c61"
      },
      "source": [
        "# Hipotenüs bulma olayı-1\n",
        "\n",
        "a = 3  \n",
        "a **= 2\n",
        "b = 4\n",
        "b **=2\n",
        "print('c =', (a +b)**0.5) # Karekökü alma olayı var burada"
      ],
      "execution_count": null,
      "outputs": [
        {
          "output_type": "stream",
          "text": [
            "c = 5.0\n"
          ],
          "name": "stdout"
        }
      ]
    },
    {
      "cell_type": "code",
      "metadata": {
        "colab": {
          "base_uri": "https://localhost:8080/"
        },
        "id": "hkVKQcNKKs2-",
        "outputId": "bcf2d9db-36e4-42f4-aaa7-fbcfac352e8d"
      },
      "source": [
        "# Hipotenüs bulma olayı-2 \n",
        "\n",
        "a = 3\n",
        "b = 4\n",
        "hipotenüs = ((a**2 + b**2)**0.5)\n",
        "print(hipotenüs)"
      ],
      "execution_count": null,
      "outputs": [
        {
          "output_type": "stream",
          "text": [
            "5.0\n"
          ],
          "name": "stdout"
        }
      ]
    },
    {
      "cell_type": "code",
      "metadata": {
        "colab": {
          "base_uri": "https://localhost:8080/"
        },
        "id": "1CUcot3NxGkM",
        "outputId": "210df377-5c2b-468e-8983-5980ad656179"
      },
      "source": [
        "a = 3.12\n",
        "print(type(a))\n",
        "print(a)\n",
        "b = int(a)\n",
        "print(type(b))\n",
        "print(b)"
      ],
      "execution_count": null,
      "outputs": [
        {
          "output_type": "stream",
          "text": [
            "<class 'float'>\n",
            "3.12\n",
            "<class 'int'>\n",
            "3\n"
          ],
          "name": "stdout"
        }
      ]
    },
    {
      "cell_type": "code",
      "metadata": {
        "colab": {
          "base_uri": "https://localhost:8080/"
        },
        "id": "ZSaRFGC1ye8N",
        "outputId": "686bdb0b-7959-4932-c19e-db6a09a46fe7"
      },
      "source": [
        "b = \"😃\"\n",
        "print(b) #Bu şekilde emojileri de value olarak \"\" içerisinde bir string gibi tanımlayabilmekteyiz. (Aslında herşey)"
      ],
      "execution_count": null,
      "outputs": [
        {
          "output_type": "stream",
          "text": [
            "😃\n"
          ],
          "name": "stdout"
        }
      ]
    },
    {
      "cell_type": "code",
      "metadata": {
        "colab": {
          "base_uri": "https://localhost:8080/"
        },
        "id": "L5J8yiGFxvxV",
        "outputId": "62cb9674-8dcf-428f-af06-795a6026bf67"
      },
      "source": [
        "b = \"11\"\n",
        "type(b)"
      ],
      "execution_count": null,
      "outputs": [
        {
          "output_type": "execute_result",
          "data": {
            "text/plain": [
              "str"
            ]
          },
          "metadata": {
            "tags": []
          },
          "execution_count": 52
        }
      ]
    },
    {
      "cell_type": "code",
      "metadata": {
        "colab": {
          "base_uri": "https://localhost:8080/"
        },
        "id": "UvF8m-iKx_oo",
        "outputId": "90d6bd59-c52f-403d-90d1-b3f69929cf72"
      },
      "source": [
        "b = \"11\"\n",
        "type(b)\n",
        "\n",
        "c = int(b)\n",
        "type(c)"
      ],
      "execution_count": null,
      "outputs": [
        {
          "output_type": "execute_result",
          "data": {
            "text/plain": [
              "int"
            ]
          },
          "metadata": {
            "tags": []
          },
          "execution_count": 50
        }
      ]
    },
    {
      "cell_type": "code",
      "metadata": {
        "id": "4bZsqswI0T-5"
      },
      "source": [
        ""
      ],
      "execution_count": null,
      "outputs": []
    },
    {
      "cell_type": "code",
      "metadata": {
        "colab": {
          "base_uri": "https://localhost:8080/"
        },
        "id": "i7VvKLDN0OkH",
        "outputId": "b0b07691-2fd7-44cf-a699-c54a016591eb"
      },
      "source": [
        "3 + int(\"3\")"
      ],
      "execution_count": null,
      "outputs": [
        {
          "output_type": "execute_result",
          "data": {
            "text/plain": [
              "6"
            ]
          },
          "metadata": {
            "tags": []
          },
          "execution_count": 56
        }
      ]
    },
    {
      "cell_type": "code",
      "metadata": {
        "colab": {
          "base_uri": "https://localhost:8080/",
          "height": 35
        },
        "id": "NHxLtgPn0kst",
        "outputId": "dc33d525-9a2f-4f97-af21-ef3d3fdbf9df"
      },
      "source": [
        "str(\"3\") + str (\"3\")"
      ],
      "execution_count": null,
      "outputs": [
        {
          "output_type": "execute_result",
          "data": {
            "application/vnd.google.colaboratory.intrinsic+json": {
              "type": "string"
            },
            "text/plain": [
              "'33'"
            ]
          },
          "metadata": {
            "tags": []
          },
          "execution_count": 57
        }
      ]
    },
    {
      "cell_type": "code",
      "metadata": {
        "colab": {
          "base_uri": "https://localhost:8080/",
          "height": 35
        },
        "id": "wHQbA5qW0sql",
        "outputId": "2f82dd62-3fad-49f5-f481-a0878153d436"
      },
      "source": [
        "str(3)+\"3\""
      ],
      "execution_count": null,
      "outputs": [
        {
          "output_type": "execute_result",
          "data": {
            "application/vnd.google.colaboratory.intrinsic+json": {
              "type": "string"
            },
            "text/plain": [
              "'33'"
            ]
          },
          "metadata": {
            "tags": []
          },
          "execution_count": 58
        }
      ]
    },
    {
      "cell_type": "code",
      "metadata": {
        "colab": {
          "base_uri": "https://localhost:8080/"
        },
        "id": "ge9ikfpN0y8K",
        "outputId": "41c6fe20-d471-437e-c540-bb557495ab06"
      },
      "source": [
        "print(\"3\"+\"3\")"
      ],
      "execution_count": null,
      "outputs": [
        {
          "output_type": "stream",
          "text": [
            "33\n"
          ],
          "name": "stdout"
        }
      ]
    },
    {
      "cell_type": "code",
      "metadata": {
        "colab": {
          "base_uri": "https://localhost:8080/"
        },
        "id": "vZNyxeMc50C6",
        "outputId": "da01f3b7-3e98-408f-827c-2e1dc88a03d7"
      },
      "source": [
        "number_int = 123\n",
        "number_flt = 1.23\n",
        "\n",
        "number_new = number_int + number_flt\n",
        "\n",
        "print(\"Data type of number_int:\", type(number_int))\n",
        "print(\"Data type of number_flt:\", type(number_flt))\n",
        "\n",
        "print(\"Value of number_new:\", number_new)\n",
        "print(\"Data type of number_new:\", type(number_new))"
      ],
      "execution_count": null,
      "outputs": [
        {
          "output_type": "stream",
          "text": [
            "Data type of number_int: <class 'int'>\n",
            "Data type of number_flt: <class 'float'>\n",
            "Value of number_new: 124.23\n",
            "Data type of number_new: <class 'float'>\n"
          ],
          "name": "stdout"
        }
      ]
    },
    {
      "cell_type": "code",
      "metadata": {
        "colab": {
          "base_uri": "https://localhost:8080/",
          "height": 231
        },
        "id": "kPDXwrt85hAq",
        "outputId": "e9a145ba-a5b5-4e9a-e748-25d060844f78"
      },
      "source": [
        "number_int = 123\n",
        "number_str = \"456\"\n",
        "\n",
        "print(\"Data type of number_int:\", type(number_int))\n",
        "print(\"Data type of number_str:\", type(number_str))\n",
        "\n",
        "print(number_int + number_str)  # Burada string ile integer ı toplamak istenildiği için hata veriyor"
      ],
      "execution_count": null,
      "outputs": [
        {
          "output_type": "stream",
          "text": [
            "Data type of number_int: <class 'int'>\n",
            "Data type of number_str: <class 'str'>\n"
          ],
          "name": "stdout"
        },
        {
          "output_type": "error",
          "ename": "TypeError",
          "evalue": "ignored",
          "traceback": [
            "\u001b[0;31m---------------------------------------------------------------------------\u001b[0m",
            "\u001b[0;31mTypeError\u001b[0m                                 Traceback (most recent call last)",
            "\u001b[0;32m<ipython-input-62-010b5986d78b>\u001b[0m in \u001b[0;36m<module>\u001b[0;34m()\u001b[0m\n\u001b[1;32m      5\u001b[0m \u001b[0mprint\u001b[0m\u001b[0;34m(\u001b[0m\u001b[0;34m\"Data type of number_str:\"\u001b[0m\u001b[0;34m,\u001b[0m \u001b[0mtype\u001b[0m\u001b[0;34m(\u001b[0m\u001b[0mnumber_str\u001b[0m\u001b[0;34m)\u001b[0m\u001b[0;34m)\u001b[0m\u001b[0;34m\u001b[0m\u001b[0;34m\u001b[0m\u001b[0m\n\u001b[1;32m      6\u001b[0m \u001b[0;34m\u001b[0m\u001b[0m\n\u001b[0;32m----> 7\u001b[0;31m \u001b[0mprint\u001b[0m\u001b[0;34m(\u001b[0m\u001b[0mnumber_int\u001b[0m \u001b[0;34m+\u001b[0m \u001b[0mnumber_str\u001b[0m\u001b[0;34m)\u001b[0m\u001b[0;34m\u001b[0m\u001b[0;34m\u001b[0m\u001b[0m\n\u001b[0m",
            "\u001b[0;31mTypeError\u001b[0m: unsupported operand type(s) for +: 'int' and 'str'"
          ]
        }
      ]
    },
    {
      "cell_type": "code",
      "metadata": {
        "colab": {
          "base_uri": "https://localhost:8080/"
        },
        "id": "_ultEnmG3dj2",
        "outputId": "7fc3242c-b44c-4366-d200-8dbdcbd29c37"
      },
      "source": [
        "number_int = 123\n",
        "number_str = \"456\"\n",
        "\n",
        "print(\"Data type of number_int:\", type(number_int))\n",
        "print(\"Data type of number_str before Type Casting:\", type(number_str))\n",
        "\n",
        "number_str = int(number_str)\n",
        "print(\"Data type of number_str after Type Casting:\", type(number_str))\n",
        "\n",
        "number_sum = number_int + number_str\n",
        "print(\"Sum of number_int and number_str:\", number_sum)\n",
        "print(\"Data type of number_str before Type Casting:\", type(number_str))\n"
      ],
      "execution_count": null,
      "outputs": [
        {
          "output_type": "stream",
          "text": [
            "Data type of number_int: <class 'int'>\n",
            "Data type of number_str before Type Casting: <class 'str'>\n",
            "Data type of number_str after Type Casting: <class 'int'>\n",
            "Sum of number_int and number_str: 579\n",
            "Data type of number_str before Type Casting: <class 'int'>\n"
          ],
          "name": "stdout"
        }
      ]
    },
    {
      "cell_type": "code",
      "metadata": {
        "id": "qceS6GH-5iUO"
      },
      "source": [
        ""
      ],
      "execution_count": null,
      "outputs": []
    }
  ]
}